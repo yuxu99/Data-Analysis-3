{
 "cells": [
  {
   "cell_type": "markdown",
   "id": "8d4896a7",
   "metadata": {},
   "source": [
    "# Prediction with Machine Learning for Economists - Assignment 3\n",
    "\n",
    "## - *Predictions Part*"
   ]
  },
  {
   "cell_type": "markdown",
   "id": "eed51278",
   "metadata": {},
   "source": [
    "Done by: Yu Xu\n",
    "    \n",
    "Date: 10 March 2023"
   ]
  },
  {
   "cell_type": "code",
   "execution_count": 1,
   "id": "cdba2db4",
   "metadata": {},
   "outputs": [],
   "source": [
    "import os\n",
    "import sys\n",
    "import warnings\n",
    "\n",
    "import matplotlib.pyplot as plt\n",
    "import numpy as np\n",
    "import pandas as pd\n",
    "import patsy\n",
    "import sklearn.metrics as metrics\n",
    "import statsmodels.formula.api as smf\n",
    "from plotnine import *\n",
    "from sklearn.ensemble import RandomForestClassifier\n",
    "from sklearn.linear_model import (\n",
    "    LinearRegression,\n",
    "    LogisticRegression,\n",
    "    LogisticRegressionCV,\n",
    ")\n",
    "from sklearn.metrics import (\n",
    "    auc,\n",
    "    brier_score_loss,\n",
    "    confusion_matrix,\n",
    "    mean_squared_error,\n",
    "    roc_auc_score,\n",
    "    roc_curve,\n",
    ")\n",
    "from sklearn.model_selection import GridSearchCV, KFold, train_test_split\n",
    "from sklearn.preprocessing import StandardScaler\n",
    "from statsmodels.tools.eval_measures import rmse\n",
    "\n",
    "warnings.filterwarnings(\"ignore\")"
   ]
  },
  {
   "cell_type": "code",
   "execution_count": 2,
   "id": "30d4caac",
   "metadata": {},
   "outputs": [],
   "source": [
    "# Import the prewritten helper functions\n",
    "from py_helper_functions import *"
   ]
  },
  {
   "cell_type": "code",
   "execution_count": 3,
   "id": "dd6b2b34",
   "metadata": {},
   "outputs": [],
   "source": [
    "# Define helper functions (maybe those are overlapping with the above steps)\n",
    "def regression_results(y_true, y_pred):\n",
    "\n",
    "    # Regression metrics\n",
    "    explained_variance = metrics.explained_variance_score(y_true, y_pred)\n",
    "    mean_absolute_error = metrics.mean_absolute_error(y_true, y_pred)\n",
    "    mse = metrics.mean_squared_error(y_true, y_pred)\n",
    "    median_absolute_error = metrics.median_absolute_error(y_true, y_pred)\n",
    "    r2 = metrics.r2_score(y_true, y_pred)\n",
    "\n",
    "    print(\"explained_variance: \", round(explained_variance, 4))\n",
    "    print(\"r2: \", round(r2, 4))\n",
    "    print(\"MAE: \", round(mean_absolute_error, 4))\n",
    "    print(\"MSE: \", round(mse, 4))\n",
    "    print(\"RMSE: \", round(np.sqrt(mse), 4))\n",
    "\n",
    "\n",
    "def coef_matrix(X, model):\n",
    "\n",
    "    coef_matrix = pd.concat(\n",
    "        [pd.DataFrame(X.columns), pd.DataFrame(np.transpose(model.coef_))], axis=1\n",
    "    )\n",
    "    coef_matrix.columns = [\"variable\", \"coefficient\"]\n",
    "    coef_matrix = coef_matrix.append(\n",
    "        {\"variable\": \"Intercept\", \"coefficient\": model.intercept_},\n",
    "        ignore_index=True,\n",
    "    )\n",
    "    return coef_matrix\n",
    "\n",
    "\n",
    "def cv_summary(lambdas, C_values, model):\n",
    "    d = {\n",
    "        \"lambdas\": lambdas,\n",
    "        \"C_values\": C_values,\n",
    "        \"mean_cv_score\": model.scores_[1].mean(axis=0),\n",
    "    }\n",
    "    return pd.DataFrame(data=d)\n",
    "\n",
    "\n",
    "def create_roc_plot(y_true, y_pred):\n",
    "    fpr, tpr, thresholds = roc_curve(y_true, y_pred)\n",
    "    all_coords = pd.DataFrame({\"fpr\": fpr, \"tpr\": tpr, \"thresholds\": thresholds})\n",
    "\n",
    "    plot = (\n",
    "        ggplot(all_coords, aes(x=\"fpr\", y=\"tpr\"))\n",
    "        + geom_line(color=color[0], size=0.7)\n",
    "        + geom_area(position=\"identity\", fill=\"mediumaquamarine\", alpha=0.3)\n",
    "        + xlab(\"False Positive Rate (1-Specifity)\")\n",
    "        + ylab(\"True Positive Rate (Sensitivity)\")\n",
    "        + geom_abline(intercept=0, slope=1, linetype=\"dotted\", color=\"black\")\n",
    "        + scale_y_continuous(limits=(0, 1), breaks=seq(0, 1, 0.1), expand=(0, 0.01))\n",
    "        + scale_x_continuous(limits=(0, 1), breaks=seq(0, 1, 0.1), expand=(0.01, 0))\n",
    "        + theme_bw()\n",
    "    )\n",
    "    return plot\n",
    "\n",
    "\n",
    "def sigmoid_array(x):\n",
    "    return 1 / (1 + np.exp(-x))\n",
    "\n",
    "\n",
    "def generate_fold_prediction(model, X, fold, param_index):\n",
    "    fold_coef = model.coefs_paths_[1][fold, param_index, :]\n",
    "    return sigmoid_array(\n",
    "        np.dot(X, np.transpose(fold_coef)[:-1]) + np.transpose(fold_coef)[-1]\n",
    "    )\n",
    "\n",
    "\n",
    "def create_loss_plot(all_coords, optimal_threshold, curr_exp_loss):\n",
    "    all_coords_copy = all_coords.copy()\n",
    "    all_coords_copy[\"loss\"] = (\n",
    "        all_coords_copy.false_pos * FP + all_coords_copy.false_neg * FN\n",
    "    ) / all_coords_copy.n\n",
    "\n",
    "    t = optimal_threshold\n",
    "    l = curr_exp_loss\n",
    "\n",
    "    plot = (\n",
    "        ggplot(all_coords_copy, aes(x=\"thresholds\", y=\"loss\"))\n",
    "        + geom_line(color=color[0], size=0.7)\n",
    "        + scale_x_continuous(breaks=seq(0, 1.1, by=0.1))\n",
    "        + coord_cartesian(xlim=(0, 1))\n",
    "        + geom_vline(xintercept=t, color=color[0])\n",
    "        + annotate(\n",
    "            geom=\"text\",\n",
    "            x=t - 0.01,\n",
    "            y=max(all_coords_copy.loss) - 0.4,\n",
    "            label=\"best threshold: \" + str(round(t, 2)),\n",
    "            colour=color[1],\n",
    "            angle=90,\n",
    "            size=7,\n",
    "        )\n",
    "        + annotate(geom=\"text\", x=t + 0.06, y=l, label=str(round(l, 2)), size=7)\n",
    "        + theme_bw()\n",
    "    )\n",
    "    return plot\n",
    "\n",
    "\n",
    "def create_roc_plot_with_optimal(all_coords, optimal_threshold):\n",
    "    all_coords_copy = all_coords.copy()\n",
    "    all_coords_copy[\"sp\"] = 1 - all_coords_copy.true_neg / all_coords_copy.neg\n",
    "    all_coords_copy[\"se\"] = all_coords_copy.true_pos / all_coords_copy.pos\n",
    "\n",
    "    best_coords = all_coords_copy[all_coords_copy.thresholds == optimal_threshold]\n",
    "    sp = best_coords.sp.values[0]\n",
    "    se = best_coords.se.values[0]\n",
    "\n",
    "    plot = (\n",
    "        ggplot(all_coords_copy, aes(x=\"sp\", y=\"se\"))\n",
    "        + geom_line(color=color[0], size=0.7)\n",
    "        + scale_y_continuous(breaks=seq(0, 1.1, by=0.1))\n",
    "        + scale_x_continuous(breaks=seq(0, 1.1, by=0.1))\n",
    "        + geom_point(data=pd.DataFrame({\"sp\": [sp], \"se\": [se]}))\n",
    "        + annotate(\n",
    "            geom=\"text\",\n",
    "            x=sp,\n",
    "            y=se + 0.03,\n",
    "            label=str(round(sp, 2)) + \", \" + str(round(se, 2)),\n",
    "            size=7,\n",
    "        )\n",
    "        + geom_area(position=\"identity\", fill=\"mediumaquamarine\", alpha=0.3)\n",
    "        + xlab(\"False Positive Rate (1-Specifity)\")\n",
    "        + ylab(\"True Positive Rate (Sensitivity)\")\n",
    "        + geom_abline(intercept=0, slope=1, linetype=\"dotted\", color=\"black\")\n",
    "        + theme_bw()\n",
    "    )\n",
    "    return plot"
   ]
  },
  {
   "cell_type": "markdown",
   "id": "8e7409e2",
   "metadata": {},
   "source": [
    "## Import Data"
   ]
  },
  {
   "cell_type": "code",
   "execution_count": 4,
   "id": "8f47b4f4",
   "metadata": {},
   "outputs": [],
   "source": [
    "data = pd.read_csv(\"bisnode_firms_clean.csv\")"
   ]
  },
  {
   "cell_type": "code",
   "execution_count": 5,
   "id": "e9763931",
   "metadata": {},
   "outputs": [
    {
     "data": {
      "text/html": [
       "<div>\n",
       "<style scoped>\n",
       "    .dataframe tbody tr th:only-of-type {\n",
       "        vertical-align: middle;\n",
       "    }\n",
       "\n",
       "    .dataframe tbody tr th {\n",
       "        vertical-align: top;\n",
       "    }\n",
       "\n",
       "    .dataframe thead th {\n",
       "        text-align: right;\n",
       "    }\n",
       "</style>\n",
       "<table border=\"1\" class=\"dataframe\">\n",
       "  <thead>\n",
       "    <tr style=\"text-align: right;\">\n",
       "      <th></th>\n",
       "      <th>year</th>\n",
       "      <th>comp_id</th>\n",
       "      <th>amort</th>\n",
       "      <th>curr_assets</th>\n",
       "      <th>curr_liab</th>\n",
       "      <th>extra_exp</th>\n",
       "      <th>extra_inc</th>\n",
       "      <th>extra_profit_loss</th>\n",
       "      <th>fixed_assets</th>\n",
       "      <th>inc_bef_tax</th>\n",
       "      <th>...</th>\n",
       "      <th>flag_miss_labor_avg</th>\n",
       "      <th>sales_mil_log_sq</th>\n",
       "      <th>flag_low_d1_sales_mil_log</th>\n",
       "      <th>flag_high_d1_sales_mil_log</th>\n",
       "      <th>d1_sales_mil_log_mod</th>\n",
       "      <th>d1_sales_mil_log_mod_sq</th>\n",
       "      <th>flag_low_d1_profit_loss_year_pl</th>\n",
       "      <th>flag_high_d1_profit_loss_year_pl</th>\n",
       "      <th>d1_profit_loss_year_pl_mod</th>\n",
       "      <th>d1_profit_loss_year_pl_mod_sq</th>\n",
       "    </tr>\n",
       "  </thead>\n",
       "  <tbody>\n",
       "    <tr>\n",
       "      <th>count</th>\n",
       "      <td>112654.000000</td>\n",
       "      <td>1.126540e+05</td>\n",
       "      <td>1.126540e+05</td>\n",
       "      <td>1.126540e+05</td>\n",
       "      <td>1.126540e+05</td>\n",
       "      <td>1.126540e+05</td>\n",
       "      <td>1.126540e+05</td>\n",
       "      <td>1.126540e+05</td>\n",
       "      <td>1.126540e+05</td>\n",
       "      <td>1.126540e+05</td>\n",
       "      <td>...</td>\n",
       "      <td>112654.000000</td>\n",
       "      <td>1.126540e+05</td>\n",
       "      <td>112654.000000</td>\n",
       "      <td>112654.000000</td>\n",
       "      <td>112654.000000</td>\n",
       "      <td>112654.000000</td>\n",
       "      <td>112654.000000</td>\n",
       "      <td>112654.000000</td>\n",
       "      <td>112654.000000</td>\n",
       "      <td>112654.000000</td>\n",
       "    </tr>\n",
       "    <tr>\n",
       "      <th>mean</th>\n",
       "      <td>2012.559323</td>\n",
       "      <td>1.535828e+11</td>\n",
       "      <td>9.522180e+03</td>\n",
       "      <td>1.065178e+05</td>\n",
       "      <td>8.946648e+04</td>\n",
       "      <td>6.902384e+02</td>\n",
       "      <td>2.073077e+03</td>\n",
       "      <td>1.386387e+03</td>\n",
       "      <td>1.525665e+05</td>\n",
       "      <td>8.231012e+03</td>\n",
       "      <td>...</td>\n",
       "      <td>0.178724</td>\n",
       "      <td>1.172621e+01</td>\n",
       "      <td>0.037957</td>\n",
       "      <td>0.023541</td>\n",
       "      <td>-0.009815</td>\n",
       "      <td>0.289983</td>\n",
       "      <td>0.001749</td>\n",
       "      <td>0.004820</td>\n",
       "      <td>0.031339</td>\n",
       "      <td>0.127334</td>\n",
       "    </tr>\n",
       "    <tr>\n",
       "      <th>std</th>\n",
       "      <td>1.696953</td>\n",
       "      <td>1.379245e+11</td>\n",
       "      <td>4.679814e+04</td>\n",
       "      <td>7.657776e+05</td>\n",
       "      <td>6.261187e+05</td>\n",
       "      <td>2.512458e+04</td>\n",
       "      <td>5.804347e+04</td>\n",
       "      <td>6.001428e+04</td>\n",
       "      <td>1.262282e+06</td>\n",
       "      <td>1.736672e+05</td>\n",
       "      <td>...</td>\n",
       "      <td>0.383123</td>\n",
       "      <td>1.023194e+01</td>\n",
       "      <td>0.191093</td>\n",
       "      <td>0.151615</td>\n",
       "      <td>0.538414</td>\n",
       "      <td>0.603133</td>\n",
       "      <td>0.041781</td>\n",
       "      <td>0.069259</td>\n",
       "      <td>0.355461</td>\n",
       "      <td>0.329753</td>\n",
       "    </tr>\n",
       "    <tr>\n",
       "      <th>min</th>\n",
       "      <td>2010.000000</td>\n",
       "      <td>1.001034e+06</td>\n",
       "      <td>-5.780000e+04</td>\n",
       "      <td>0.000000e+00</td>\n",
       "      <td>-8.759259e+03</td>\n",
       "      <td>-1.335852e+05</td>\n",
       "      <td>-2.550000e+04</td>\n",
       "      <td>-5.514540e+06</td>\n",
       "      <td>0.000000e+00</td>\n",
       "      <td>-1.835527e+07</td>\n",
       "      <td>...</td>\n",
       "      <td>0.000000</td>\n",
       "      <td>3.087363e-09</td>\n",
       "      <td>0.000000</td>\n",
       "      <td>0.000000</td>\n",
       "      <td>-1.500000</td>\n",
       "      <td>0.000000</td>\n",
       "      <td>0.000000</td>\n",
       "      <td>0.000000</td>\n",
       "      <td>-1.500000</td>\n",
       "      <td>0.000000</td>\n",
       "    </tr>\n",
       "    <tr>\n",
       "      <th>25%</th>\n",
       "      <td>2011.000000</td>\n",
       "      <td>2.880282e+10</td>\n",
       "      <td>1.740741e+02</td>\n",
       "      <td>3.781481e+03</td>\n",
       "      <td>3.648148e+03</td>\n",
       "      <td>0.000000e+00</td>\n",
       "      <td>0.000000e+00</td>\n",
       "      <td>0.000000e+00</td>\n",
       "      <td>3.851852e+02</td>\n",
       "      <td>-5.170371e+03</td>\n",
       "      <td>...</td>\n",
       "      <td>0.000000</td>\n",
       "      <td>3.719215e+00</td>\n",
       "      <td>0.000000</td>\n",
       "      <td>0.000000</td>\n",
       "      <td>-0.153142</td>\n",
       "      <td>0.001253</td>\n",
       "      <td>0.000000</td>\n",
       "      <td>0.000000</td>\n",
       "      <td>-0.057792</td>\n",
       "      <td>0.000137</td>\n",
       "    </tr>\n",
       "    <tr>\n",
       "      <th>50%</th>\n",
       "      <td>2013.000000</td>\n",
       "      <td>1.147486e+11</td>\n",
       "      <td>1.037037e+03</td>\n",
       "      <td>1.275741e+04</td>\n",
       "      <td>1.492963e+04</td>\n",
       "      <td>0.000000e+00</td>\n",
       "      <td>0.000000e+00</td>\n",
       "      <td>0.000000e+00</td>\n",
       "      <td>5.485185e+03</td>\n",
       "      <td>4.962963e+02</td>\n",
       "      <td>...</td>\n",
       "      <td>0.000000</td>\n",
       "      <td>9.224881e+00</td>\n",
       "      <td>0.000000</td>\n",
       "      <td>0.000000</td>\n",
       "      <td>0.000000</td>\n",
       "      <td>0.027703</td>\n",
       "      <td>0.000000</td>\n",
       "      <td>0.000000</td>\n",
       "      <td>0.000000</td>\n",
       "      <td>0.005075</td>\n",
       "    </tr>\n",
       "    <tr>\n",
       "      <th>75%</th>\n",
       "      <td>2014.000000</td>\n",
       "      <td>2.576586e+11</td>\n",
       "      <td>4.500000e+03</td>\n",
       "      <td>4.415741e+04</td>\n",
       "      <td>4.985185e+04</td>\n",
       "      <td>0.000000e+00</td>\n",
       "      <td>0.000000e+00</td>\n",
       "      <td>0.000000e+00</td>\n",
       "      <td>4.420648e+04</td>\n",
       "      <td>5.396296e+03</td>\n",
       "      <td>...</td>\n",
       "      <td>0.000000</td>\n",
       "      <td>1.674730e+01</td>\n",
       "      <td>0.000000</td>\n",
       "      <td>0.000000</td>\n",
       "      <td>0.177639</td>\n",
       "      <td>0.192798</td>\n",
       "      <td>0.000000</td>\n",
       "      <td>0.000000</td>\n",
       "      <td>0.086440</td>\n",
       "      <td>0.059717</td>\n",
       "    </tr>\n",
       "    <tr>\n",
       "      <th>max</th>\n",
       "      <td>2015.000000</td>\n",
       "      <td>4.641050e+11</td>\n",
       "      <td>3.570863e+06</td>\n",
       "      <td>1.411015e+08</td>\n",
       "      <td>1.376625e+08</td>\n",
       "      <td>5.514540e+06</td>\n",
       "      <td>1.197874e+07</td>\n",
       "      <td>1.197874e+07</td>\n",
       "      <td>1.594445e+08</td>\n",
       "      <td>2.943638e+07</td>\n",
       "      <td>...</td>\n",
       "      <td>1.000000</td>\n",
       "      <td>4.771708e+01</td>\n",
       "      <td>1.000000</td>\n",
       "      <td>1.000000</td>\n",
       "      <td>1.500000</td>\n",
       "      <td>2.250000</td>\n",
       "      <td>1.000000</td>\n",
       "      <td>1.000000</td>\n",
       "      <td>1.500000</td>\n",
       "      <td>2.250000</td>\n",
       "    </tr>\n",
       "  </tbody>\n",
       "</table>\n",
       "<p>8 rows × 110 columns</p>\n",
       "</div>"
      ],
      "text/plain": [
       "                year       comp_id         amort   curr_assets     curr_liab  \\\n",
       "count  112654.000000  1.126540e+05  1.126540e+05  1.126540e+05  1.126540e+05   \n",
       "mean     2012.559323  1.535828e+11  9.522180e+03  1.065178e+05  8.946648e+04   \n",
       "std         1.696953  1.379245e+11  4.679814e+04  7.657776e+05  6.261187e+05   \n",
       "min      2010.000000  1.001034e+06 -5.780000e+04  0.000000e+00 -8.759259e+03   \n",
       "25%      2011.000000  2.880282e+10  1.740741e+02  3.781481e+03  3.648148e+03   \n",
       "50%      2013.000000  1.147486e+11  1.037037e+03  1.275741e+04  1.492963e+04   \n",
       "75%      2014.000000  2.576586e+11  4.500000e+03  4.415741e+04  4.985185e+04   \n",
       "max      2015.000000  4.641050e+11  3.570863e+06  1.411015e+08  1.376625e+08   \n",
       "\n",
       "          extra_exp     extra_inc  extra_profit_loss  fixed_assets  \\\n",
       "count  1.126540e+05  1.126540e+05       1.126540e+05  1.126540e+05   \n",
       "mean   6.902384e+02  2.073077e+03       1.386387e+03  1.525665e+05   \n",
       "std    2.512458e+04  5.804347e+04       6.001428e+04  1.262282e+06   \n",
       "min   -1.335852e+05 -2.550000e+04      -5.514540e+06  0.000000e+00   \n",
       "25%    0.000000e+00  0.000000e+00       0.000000e+00  3.851852e+02   \n",
       "50%    0.000000e+00  0.000000e+00       0.000000e+00  5.485185e+03   \n",
       "75%    0.000000e+00  0.000000e+00       0.000000e+00  4.420648e+04   \n",
       "max    5.514540e+06  1.197874e+07       1.197874e+07  1.594445e+08   \n",
       "\n",
       "        inc_bef_tax  ...  flag_miss_labor_avg  sales_mil_log_sq  \\\n",
       "count  1.126540e+05  ...        112654.000000      1.126540e+05   \n",
       "mean   8.231012e+03  ...             0.178724      1.172621e+01   \n",
       "std    1.736672e+05  ...             0.383123      1.023194e+01   \n",
       "min   -1.835527e+07  ...             0.000000      3.087363e-09   \n",
       "25%   -5.170371e+03  ...             0.000000      3.719215e+00   \n",
       "50%    4.962963e+02  ...             0.000000      9.224881e+00   \n",
       "75%    5.396296e+03  ...             0.000000      1.674730e+01   \n",
       "max    2.943638e+07  ...             1.000000      4.771708e+01   \n",
       "\n",
       "       flag_low_d1_sales_mil_log  flag_high_d1_sales_mil_log  \\\n",
       "count              112654.000000               112654.000000   \n",
       "mean                    0.037957                    0.023541   \n",
       "std                     0.191093                    0.151615   \n",
       "min                     0.000000                    0.000000   \n",
       "25%                     0.000000                    0.000000   \n",
       "50%                     0.000000                    0.000000   \n",
       "75%                     0.000000                    0.000000   \n",
       "max                     1.000000                    1.000000   \n",
       "\n",
       "       d1_sales_mil_log_mod  d1_sales_mil_log_mod_sq  \\\n",
       "count         112654.000000            112654.000000   \n",
       "mean              -0.009815                 0.289983   \n",
       "std                0.538414                 0.603133   \n",
       "min               -1.500000                 0.000000   \n",
       "25%               -0.153142                 0.001253   \n",
       "50%                0.000000                 0.027703   \n",
       "75%                0.177639                 0.192798   \n",
       "max                1.500000                 2.250000   \n",
       "\n",
       "       flag_low_d1_profit_loss_year_pl  flag_high_d1_profit_loss_year_pl  \\\n",
       "count                    112654.000000                     112654.000000   \n",
       "mean                          0.001749                          0.004820   \n",
       "std                           0.041781                          0.069259   \n",
       "min                           0.000000                          0.000000   \n",
       "25%                           0.000000                          0.000000   \n",
       "50%                           0.000000                          0.000000   \n",
       "75%                           0.000000                          0.000000   \n",
       "max                           1.000000                          1.000000   \n",
       "\n",
       "       d1_profit_loss_year_pl_mod  d1_profit_loss_year_pl_mod_sq  \n",
       "count               112654.000000                  112654.000000  \n",
       "mean                     0.031339                       0.127334  \n",
       "std                      0.355461                       0.329753  \n",
       "min                     -1.500000                       0.000000  \n",
       "25%                     -0.057792                       0.000137  \n",
       "50%                      0.000000                       0.005075  \n",
       "75%                      0.086440                       0.059717  \n",
       "max                      1.500000                       2.250000  \n",
       "\n",
       "[8 rows x 110 columns]"
      ]
     },
     "execution_count": 5,
     "metadata": {},
     "output_type": "execute_result"
    }
   ],
   "source": [
    "data.describe()"
   ]
  },
  {
   "cell_type": "markdown",
   "id": "5f09ced6",
   "metadata": {},
   "source": [
    "## Models Building"
   ]
  },
  {
   "cell_type": "markdown",
   "id": "f23c59b0",
   "metadata": {},
   "source": [
    "### Define variable sets"
   ]
  },
  {
   "cell_type": "markdown",
   "id": "729f6e92",
   "metadata": {},
   "source": [
    "Main firm variables (raw varibales)"
   ]
  },
  {
   "cell_type": "code",
   "execution_count": 6,
   "id": "31fbaf97",
   "metadata": {},
   "outputs": [],
   "source": [
    "rawvars = [\n",
    "    \"curr_assets\",\n",
    "    \"curr_liab\",\n",
    "    \"extra_exp\",\n",
    "    \"extra_inc\",\n",
    "    \"extra_profit_loss\",\n",
    "    \"fixed_assets\",\n",
    "    \"inc_bef_tax\",\n",
    "    \"intang_assets\",\n",
    "    \"inventories\",\n",
    "    \"liq_assets\",\n",
    "    \"material_exp\",\n",
    "    \"personnel_exp\",\n",
    "    \"profit_loss_year\",\n",
    "    \"share_eq\",\n",
    "    \"subscribed_cap\",\n",
    "]"
   ]
  },
  {
   "cell_type": "markdown",
   "id": "8a40fee2",
   "metadata": {},
   "source": [
    "Further financial variables"
   ]
  },
  {
   "cell_type": "code",
   "execution_count": 7,
   "id": "b3ce64eb",
   "metadata": {},
   "outputs": [],
   "source": [
    "qualityvars = [\"balsheet_flag\", \"balsheet_length\", \"balsheet_notfullyear\"]\n",
    "engvar = [\n",
    "    \"total_assets_bs\",\n",
    "    \"fixed_assets_bs\",\n",
    "    \"liq_assets_bs\",\n",
    "    \"curr_assets_bs\",\n",
    "    \"share_eq_bs\",\n",
    "    \"subscribed_cap_bs\",\n",
    "    \"intang_assets_bs\",\n",
    "    \"extra_exp_pl\",\n",
    "    \"extra_inc_pl\",\n",
    "    \"extra_profit_loss_pl\",\n",
    "    \"inc_bef_tax_pl\",\n",
    "    \"inventories_pl\",\n",
    "    \"material_exp_pl\",\n",
    "    \"profit_loss_year_pl\",\n",
    "    \"personnel_exp_pl\",\n",
    "]\n",
    "engvar2 = [\n",
    "    \"extra_profit_loss_pl_quad\",\n",
    "    \"inc_bef_tax_pl_quad\",\n",
    "    \"profit_loss_year_pl_quad\",\n",
    "    \"share_eq_bs_quad\",\n",
    "]"
   ]
  },
  {
   "cell_type": "markdown",
   "id": "0edfbe5d",
   "metadata": {},
   "source": [
    "Flag variables"
   ]
  },
  {
   "cell_type": "code",
   "execution_count": 8,
   "id": "27c839f8",
   "metadata": {},
   "outputs": [],
   "source": [
    "engvar3 = []\n",
    "for col in data.columns:\n",
    "    if (\n",
    "        col.endswith(\"flag_low\")\n",
    "        or col.endswith(\"flag_high\")\n",
    "        or col.endswith(\"flag_error\")\n",
    "        or col.endswith(\"flag_zero\")\n",
    "    ):\n",
    "        engvar3.append(col)"
   ]
  },
  {
   "cell_type": "markdown",
   "id": "396efcf4",
   "metadata": {},
   "source": [
    "Growth variables"
   ]
  },
  {
   "cell_type": "code",
   "execution_count": 9,
   "id": "5cf538a6",
   "metadata": {},
   "outputs": [],
   "source": [
    "d1 = [\n",
    "    \"d1_profit_loss_year_pl_mod\",\n",
    "    \"d1_profit_loss_year_pl_mod_sq\",\n",
    "    \"flag_low_d1_profit_loss_year_pl\",\n",
    "    \"flag_high_d1_profit_loss_year_pl\",\n",
    "]"
   ]
  },
  {
   "cell_type": "markdown",
   "id": "3cfc792f",
   "metadata": {},
   "source": [
    "Human capital related variables"
   ]
  },
  {
   "cell_type": "code",
   "execution_count": 10,
   "id": "ae989ff4",
   "metadata": {},
   "outputs": [],
   "source": [
    "hr = [\n",
    "    \"female\",\n",
    "    \"ceo_age\",\n",
    "    \"flag_high_ceo_age\",\n",
    "    \"flag_low_ceo_age\",\n",
    "    \"flag_miss_ceo_age\",\n",
    "    \"ceo_count\",\n",
    "    \"labor_avg_mod\",\n",
    "    \"flag_miss_labor_avg\",\n",
    "    \"foreign_management\",\n",
    "]"
   ]
  },
  {
   "cell_type": "markdown",
   "id": "565707d5",
   "metadata": {},
   "source": [
    "Firms history related variables"
   ]
  },
  {
   "cell_type": "code",
   "execution_count": 11,
   "id": "efc74655",
   "metadata": {},
   "outputs": [],
   "source": [
    "firm = [\"age\", \"age2\", \"new\", \"C(ind2_cat)\", \"C(m_region_loc)\", \"C(urban_m)\", \"C(year_m)\"]"
   ]
  },
  {
   "cell_type": "markdown",
   "id": "1c76937c",
   "metadata": {},
   "source": [
    "Interactions for logit, LASSO"
   ]
  },
  {
   "cell_type": "code",
   "execution_count": 12,
   "id": "b6d34e38",
   "metadata": {},
   "outputs": [],
   "source": [
    "interactions1 = [\n",
    "    \"C(ind2_cat)*age\",\n",
    "    \"C(ind2_cat)*age2\",\n",
    "    \"C(ind2_cat)*ceo_age\",\n",
    "    \"C(ind2_cat)*foreign_management\",\n",
    "    \"C(ind2_cat)*female\",\n",
    "    \"C(ind2_cat)*C(urban_m)\",\n",
    "    \"C(ind2_cat)*labor_avg_mod\",\n",
    "]\n",
    "interactions2 = [\n",
    "    \"profit_loss_year_pl*age\",\n",
    "    \"profit_loss_year_pl*female\",\n",
    "    \"profit_loss_year_pl*foreign_management\",\n",
    "]"
   ]
  },
  {
   "cell_type": "markdown",
   "id": "96b87805",
   "metadata": {},
   "source": [
    "## Models Setup"
   ]
  },
  {
   "cell_type": "markdown",
   "id": "3ab989eb",
   "metadata": {},
   "source": [
    "1. Simple logit models"
   ]
  },
  {
   "cell_type": "code",
   "execution_count": 13,
   "id": "ef1e1a64",
   "metadata": {},
   "outputs": [],
   "source": [
    "M1 = [\n",
    "    \"profit_loss_year_pl\",\n",
    "    \"C(ind2_cat)\",\n",
    "]\n",
    "M2 = [\n",
    "    \"profit_loss_year_pl\",\n",
    "    \"fixed_assets_bs\",\n",
    "    \"share_eq_bs\",\n",
    "    \"curr_liab_bs \",\n",
    "    \"curr_liab_bs_flag_high \",\n",
    "    \"curr_liab_bs_flag_error\",\n",
    "    \"age\",\n",
    "    \"foreign_management\",\n",
    "    \"C(ind2_cat)\",\n",
    "]\n",
    "M3 = firm + engvar + d1\n",
    "M4 = (\n",
    "    firm\n",
    "    + engvar\n",
    "    + engvar2\n",
    "    + engvar3\n",
    "    + d1\n",
    "    + hr\n",
    "    + qualityvars\n",
    ")\n",
    "M5 = (\n",
    "    firm\n",
    "    + engvar\n",
    "    + engvar2\n",
    "    + engvar3\n",
    "    + d1\n",
    "    + hr\n",
    "    + qualityvars\n",
    "    + interactions1\n",
    "    + interactions2\n",
    ")"
   ]
  },
  {
   "cell_type": "markdown",
   "id": "a31188a8",
   "metadata": {},
   "source": [
    "2. logit + LASSO"
   ]
  },
  {
   "cell_type": "code",
   "execution_count": 14,
   "id": "3c37edbb",
   "metadata": {},
   "outputs": [],
   "source": [
    "logit_lasso_vars = (\n",
    "    engvar\n",
    "    + engvar2\n",
    "    + engvar3\n",
    "    + d1\n",
    "    + hr\n",
    "    + firm\n",
    "    + qualityvars\n",
    "    + interactions1\n",
    "    + interactions2\n",
    ")"
   ]
  },
  {
   "cell_type": "markdown",
   "id": "7f6a2941",
   "metadata": {},
   "source": [
    "3. CART and RF (no interactions and no modified features)"
   ]
  },
  {
   "cell_type": "code",
   "execution_count": 15,
   "id": "81544a6a",
   "metadata": {},
   "outputs": [],
   "source": [
    "rfvars = rawvars + hr + firm + qualityvars"
   ]
  },
  {
   "cell_type": "markdown",
   "id": "2e4479df",
   "metadata": {},
   "source": [
    "## Models Predictions"
   ]
  },
  {
   "cell_type": "markdown",
   "id": "e43d23ed",
   "metadata": {},
   "source": [
    "### 1. Separate train and holdout data"
   ]
  },
  {
   "cell_type": "code",
   "execution_count": 16,
   "id": "3add4f59",
   "metadata": {},
   "outputs": [],
   "source": [
    "data_train, data_holdout = train_test_split(data, train_size=0.8, random_state=42)"
   ]
  },
  {
   "cell_type": "code",
   "execution_count": 17,
   "id": "e53983a4",
   "metadata": {},
   "outputs": [
    {
     "name": "stdout",
     "output_type": "stream",
     "text": [
      "Total\n",
      "0    0.676887\n",
      "1    0.323113\n",
      "Name: fast_growth, dtype: float64\n",
      "Train\n",
      "0    0.676875\n",
      "1    0.323125\n",
      "Name: fast_growth, dtype: float64\n",
      "Holdout\n",
      "0    0.676934\n",
      "1    0.323066\n",
      "Name: fast_growth, dtype: float64\n"
     ]
    }
   ],
   "source": [
    "print(\"Total\")\n",
    "print(data[\"fast_growth\"].value_counts(normalize=True))\n",
    "print(\"Train\")\n",
    "print(data_train[\"fast_growth\"].value_counts(normalize=True))\n",
    "print(\"Holdout\")\n",
    "print(data_holdout[\"fast_growth\"].value_counts(normalize=True))"
   ]
  },
  {
   "cell_type": "markdown",
   "id": "7540c611",
   "metadata": {},
   "source": [
    "### 2. Predict probabilities with logit and Lasso with CV\n",
    "\n",
    "Specify 5 fold cross-validation method"
   ]
  },
  {
   "cell_type": "code",
   "execution_count": 18,
   "id": "3c6e18af",
   "metadata": {},
   "outputs": [],
   "source": [
    "k = KFold(n_splits=5, shuffle=True, random_state=42)"
   ]
  },
  {
   "cell_type": "markdown",
   "id": "dd32c389",
   "metadata": {},
   "source": [
    "***a) cross validate logit models***"
   ]
  },
  {
   "cell_type": "markdown",
   "id": "d7bbd38f",
   "metadata": {},
   "source": [
    "Set up X-vars"
   ]
  },
  {
   "cell_type": "code",
   "execution_count": 19,
   "id": "73dbfd95",
   "metadata": {},
   "outputs": [],
   "source": [
    "logit_model_vars = [M1, M2, M3, M4, M5]"
   ]
  },
  {
   "cell_type": "markdown",
   "id": "93b565d9",
   "metadata": {},
   "source": [
    "Set up Logit model object\n",
    "\n",
    "No regularisation needed so setting the paremeter to very high value"
   ]
  },
  {
   "cell_type": "code",
   "execution_count": 20,
   "id": "eb597828",
   "metadata": {},
   "outputs": [],
   "source": [
    "C_value_logit = [1e20]"
   ]
  },
  {
   "cell_type": "code",
   "execution_count": 21,
   "id": "8d3d43de",
   "metadata": {},
   "outputs": [],
   "source": [
    "logit_models = dict()\n",
    "CV_RMSE_folds = dict()\n",
    "\n",
    "for i, model_vars in enumerate(logit_model_vars):\n",
    "\n",
    "    model_equation = \"fast_growth~\" + \"+\".join(model_vars)\n",
    "    y_train, X_train = patsy.dmatrices(model_equation, data_train)\n",
    "\n",
    "    LRCV_brier = LogisticRegressionCV(\n",
    "        Cs=C_value_logit,\n",
    "        cv=k,\n",
    "        refit=True,\n",
    "        scoring=\"neg_brier_score\",\n",
    "        solver=\"newton-cg\",\n",
    "        tol=1e-7,\n",
    "        random_state=42,\n",
    "    )\n",
    "\n",
    "    logit_models[\"M\" + str(i + 1)] = LRCV_brier.fit(X_train, y_train)\n",
    "\n",
    "    # Calculate RMSE on test for each fold\n",
    "    CV_RMSE_folds[\"M\" + str(i + 1)] = np.sqrt(\n",
    "        -1 * logit_models[\"M\" + str(i + 1)].scores_[1].ravel()\n",
    "    )"
   ]
  },
  {
   "cell_type": "code",
   "execution_count": 22,
   "id": "6afaa5d7",
   "metadata": {},
   "outputs": [
    {
     "data": {
      "text/html": [
       "<div>\n",
       "<style scoped>\n",
       "    .dataframe tbody tr th:only-of-type {\n",
       "        vertical-align: middle;\n",
       "    }\n",
       "\n",
       "    .dataframe tbody tr th {\n",
       "        vertical-align: top;\n",
       "    }\n",
       "\n",
       "    .dataframe thead th {\n",
       "        text-align: right;\n",
       "    }\n",
       "</style>\n",
       "<table border=\"1\" class=\"dataframe\">\n",
       "  <thead>\n",
       "    <tr style=\"text-align: right;\">\n",
       "      <th></th>\n",
       "      <th>M1</th>\n",
       "      <th>M2</th>\n",
       "      <th>M3</th>\n",
       "      <th>M4</th>\n",
       "      <th>M5</th>\n",
       "    </tr>\n",
       "  </thead>\n",
       "  <tbody>\n",
       "    <tr>\n",
       "      <th>0</th>\n",
       "      <td>0.461470</td>\n",
       "      <td>0.460013</td>\n",
       "      <td>0.428654</td>\n",
       "      <td>0.428550</td>\n",
       "      <td>0.426438</td>\n",
       "    </tr>\n",
       "    <tr>\n",
       "      <th>1</th>\n",
       "      <td>0.460920</td>\n",
       "      <td>0.459791</td>\n",
       "      <td>0.425748</td>\n",
       "      <td>0.430150</td>\n",
       "      <td>0.425970</td>\n",
       "    </tr>\n",
       "    <tr>\n",
       "      <th>2</th>\n",
       "      <td>0.460404</td>\n",
       "      <td>0.459428</td>\n",
       "      <td>0.425690</td>\n",
       "      <td>0.425333</td>\n",
       "      <td>0.424104</td>\n",
       "    </tr>\n",
       "    <tr>\n",
       "      <th>3</th>\n",
       "      <td>0.458947</td>\n",
       "      <td>0.457780</td>\n",
       "      <td>0.423631</td>\n",
       "      <td>0.425801</td>\n",
       "      <td>0.422958</td>\n",
       "    </tr>\n",
       "    <tr>\n",
       "      <th>4</th>\n",
       "      <td>0.461629</td>\n",
       "      <td>0.460089</td>\n",
       "      <td>0.426028</td>\n",
       "      <td>0.429865</td>\n",
       "      <td>0.424632</td>\n",
       "    </tr>\n",
       "  </tbody>\n",
       "</table>\n",
       "</div>"
      ],
      "text/plain": [
       "         M1        M2        M3        M4        M5\n",
       "0  0.461470  0.460013  0.428654  0.428550  0.426438\n",
       "1  0.460920  0.459791  0.425748  0.430150  0.425970\n",
       "2  0.460404  0.459428  0.425690  0.425333  0.424104\n",
       "3  0.458947  0.457780  0.423631  0.425801  0.422958\n",
       "4  0.461629  0.460089  0.426028  0.429865  0.424632"
      ]
     },
     "execution_count": 22,
     "metadata": {},
     "output_type": "execute_result"
    }
   ],
   "source": [
    "pd.DataFrame(CV_RMSE_folds)"
   ]
  },
  {
   "cell_type": "markdown",
   "id": "6c5ff24d",
   "metadata": {},
   "source": [
    "***b) Logit + LASSO***"
   ]
  },
  {
   "cell_type": "code",
   "execution_count": 23,
   "id": "0a5bb684",
   "metadata": {},
   "outputs": [],
   "source": [
    "model_equation = \"fast_growth~\" + \"+\".join(logit_lasso_vars)\n",
    "y_train, X_train = patsy.dmatrices(model_equation, data_train)"
   ]
  },
  {
   "cell_type": "markdown",
   "id": "c11f2a6b",
   "metadata": {},
   "source": [
    "Normalise X vars for LASSO"
   ]
  },
  {
   "cell_type": "code",
   "execution_count": 24,
   "id": "d15795f7",
   "metadata": {},
   "outputs": [],
   "source": [
    "normalized_logitvars = pd.DataFrame(\n",
    "    StandardScaler().fit_transform(X_train),\n",
    "    columns=X_train.design_info.column_names,\n",
    ")"
   ]
  },
  {
   "cell_type": "markdown",
   "id": "b6574bcf",
   "metadata": {},
   "source": [
    "Set regularization parameters"
   ]
  },
  {
   "cell_type": "code",
   "execution_count": 25,
   "id": "6ef56cb1",
   "metadata": {},
   "outputs": [],
   "source": [
    "lambdas = list(10 ** np.arange(-1, -4.01, -1 / 3))\n",
    "n_obs = normalized_logitvars.shape[0] * 4 / 5\n",
    "C_values = [\n",
    "    1 / (l * n_obs) for l in lambdas\n",
    "]  # Cs are the inverse of regularization strength"
   ]
  },
  {
   "cell_type": "markdown",
   "id": "95921def",
   "metadata": {},
   "source": [
    "Initialize and fit Logit Lasso"
   ]
  },
  {
   "cell_type": "code",
   "execution_count": 26,
   "id": "eab85015",
   "metadata": {},
   "outputs": [],
   "source": [
    "logLasso_brier = LogisticRegressionCV(\n",
    "    Cs=C_values,\n",
    "    penalty=\"l1\",\n",
    "    cv=k,\n",
    "    refit=True,\n",
    "    scoring=\"neg_brier_score\",\n",
    "    solver=\"liblinear\",\n",
    "    random_state=42,\n",
    ")\n",
    "\n",
    "logit_models[\"LASSO\"] = logLasso_brier.fit(normalized_logitvars, y_train)"
   ]
  },
  {
   "cell_type": "markdown",
   "id": "947eb51e",
   "metadata": {},
   "source": [
    "See CV-fold RMSE-s (negative brier score)"
   ]
  },
  {
   "cell_type": "code",
   "execution_count": 27,
   "id": "f04766d7",
   "metadata": {},
   "outputs": [
    {
     "data": {
      "text/html": [
       "<div>\n",
       "<style scoped>\n",
       "    .dataframe tbody tr th:only-of-type {\n",
       "        vertical-align: middle;\n",
       "    }\n",
       "\n",
       "    .dataframe tbody tr th {\n",
       "        vertical-align: top;\n",
       "    }\n",
       "\n",
       "    .dataframe thead th {\n",
       "        text-align: right;\n",
       "    }\n",
       "</style>\n",
       "<table border=\"1\" class=\"dataframe\">\n",
       "  <thead>\n",
       "    <tr style=\"text-align: right;\">\n",
       "      <th></th>\n",
       "      <th>lambdas</th>\n",
       "      <th>C_values</th>\n",
       "      <th>mean_cv_score</th>\n",
       "    </tr>\n",
       "  </thead>\n",
       "  <tbody>\n",
       "    <tr>\n",
       "      <th>0</th>\n",
       "      <td>0.100000</td>\n",
       "      <td>0.000139</td>\n",
       "      <td>0.467643</td>\n",
       "    </tr>\n",
       "    <tr>\n",
       "      <th>1</th>\n",
       "      <td>0.046416</td>\n",
       "      <td>0.000299</td>\n",
       "      <td>0.445423</td>\n",
       "    </tr>\n",
       "    <tr>\n",
       "      <th>2</th>\n",
       "      <td>0.021544</td>\n",
       "      <td>0.000644</td>\n",
       "      <td>0.435932</td>\n",
       "    </tr>\n",
       "    <tr>\n",
       "      <th>3</th>\n",
       "      <td>0.010000</td>\n",
       "      <td>0.001387</td>\n",
       "      <td>0.428799</td>\n",
       "    </tr>\n",
       "    <tr>\n",
       "      <th>4</th>\n",
       "      <td>0.004642</td>\n",
       "      <td>0.002988</td>\n",
       "      <td>0.425798</td>\n",
       "    </tr>\n",
       "    <tr>\n",
       "      <th>5</th>\n",
       "      <td>0.002154</td>\n",
       "      <td>0.006438</td>\n",
       "      <td>0.424404</td>\n",
       "    </tr>\n",
       "    <tr>\n",
       "      <th>6</th>\n",
       "      <td>0.001000</td>\n",
       "      <td>0.013870</td>\n",
       "      <td>0.423629</td>\n",
       "    </tr>\n",
       "    <tr>\n",
       "      <th>7</th>\n",
       "      <td>0.000464</td>\n",
       "      <td>0.029882</td>\n",
       "      <td>0.423329</td>\n",
       "    </tr>\n",
       "    <tr>\n",
       "      <th>8</th>\n",
       "      <td>0.000215</td>\n",
       "      <td>0.064379</td>\n",
       "      <td>0.423229</td>\n",
       "    </tr>\n",
       "    <tr>\n",
       "      <th>9</th>\n",
       "      <td>0.000100</td>\n",
       "      <td>0.138699</td>\n",
       "      <td>0.423189</td>\n",
       "    </tr>\n",
       "  </tbody>\n",
       "</table>\n",
       "</div>"
      ],
      "text/plain": [
       "    lambdas  C_values  mean_cv_score\n",
       "0  0.100000  0.000139       0.467643\n",
       "1  0.046416  0.000299       0.445423\n",
       "2  0.021544  0.000644       0.435932\n",
       "3  0.010000  0.001387       0.428799\n",
       "4  0.004642  0.002988       0.425798\n",
       "5  0.002154  0.006438       0.424404\n",
       "6  0.001000  0.013870       0.423629\n",
       "7  0.000464  0.029882       0.423329\n",
       "8  0.000215  0.064379       0.423229\n",
       "9  0.000100  0.138699       0.423189"
      ]
     },
     "execution_count": 27,
     "metadata": {},
     "output_type": "execute_result"
    }
   ],
   "source": [
    "cv_summary_lasso = cv_summary(lambdas, C_values, logit_models[\"LASSO\"])\n",
    "cv_summary_lasso[\"mean_cv_score\"] = np.sqrt(cv_summary_lasso[\"mean_cv_score\"] * -1)\n",
    "cv_summary_lasso"
   ]
  },
  {
   "cell_type": "markdown",
   "id": "43f54a43",
   "metadata": {},
   "source": [
    "Save best lambda's index for later use"
   ]
  },
  {
   "cell_type": "code",
   "execution_count": 28,
   "id": "3d877b3c",
   "metadata": {},
   "outputs": [],
   "source": [
    "best_lambda_i = cv_summary_lasso[\"mean_cv_score\"].idxmin()"
   ]
  },
  {
   "cell_type": "markdown",
   "id": "1c06beb9",
   "metadata": {},
   "source": [
    "Extract CV test RMSE for the Lasso with best lambda"
   ]
  },
  {
   "cell_type": "code",
   "execution_count": 29,
   "id": "e7234def",
   "metadata": {},
   "outputs": [],
   "source": [
    "CV_RMSE_folds[\"LASSO\"] = np.sqrt(\n",
    "    -1 * logit_models[\"LASSO\"].scores_[1][:, best_lambda_i]\n",
    ")"
   ]
  },
  {
   "cell_type": "markdown",
   "id": "4e52dfd7",
   "metadata": {},
   "source": [
    "Extract variables used in Lasso with best lambda"
   ]
  },
  {
   "cell_type": "code",
   "execution_count": 30,
   "id": "bfbb533a",
   "metadata": {
    "scrolled": false
   },
   "outputs": [
    {
     "name": "stdout",
     "output_type": "stream",
     "text": [
      "Best Lasso Variables: [array(['Intercept', 'C(ind2_cat)[T.27.0]', 'C(ind2_cat)[T.28.0]',\n",
      "       'C(ind2_cat)[T.29.0]', 'C(ind2_cat)[T.30.0]',\n",
      "       'C(ind2_cat)[T.33.0]', 'C(ind2_cat)[T.55.0]',\n",
      "       'C(ind2_cat)[T.56.0]', 'C(m_region_loc)[T.East]',\n",
      "       'C(m_region_loc)[T.West]', 'C(urban_m)[T.2.0]',\n",
      "       'C(urban_m)[T.3.0]', 'C(year_m)[T.2011]', 'C(year_m)[T.2012]',\n",
      "       'C(year_m)[T.2013]', 'C(year_m)[T.2014]', 'C(year_m)[T.2015]',\n",
      "       'C(ind2_cat)[T.27.0]:C(urban_m)[T.2.0]',\n",
      "       'C(ind2_cat)[T.28.0]:C(urban_m)[T.2.0]',\n",
      "       'C(ind2_cat)[T.29.0]:C(urban_m)[T.2.0]',\n",
      "       'C(ind2_cat)[T.30.0]:C(urban_m)[T.2.0]',\n",
      "       'C(ind2_cat)[T.33.0]:C(urban_m)[T.2.0]',\n",
      "       'C(ind2_cat)[T.55.0]:C(urban_m)[T.2.0]',\n",
      "       'C(ind2_cat)[T.56.0]:C(urban_m)[T.2.0]',\n",
      "       'C(ind2_cat)[T.27.0]:C(urban_m)[T.3.0]',\n",
      "       'C(ind2_cat)[T.28.0]:C(urban_m)[T.3.0]',\n",
      "       'C(ind2_cat)[T.29.0]:C(urban_m)[T.3.0]',\n",
      "       'C(ind2_cat)[T.30.0]:C(urban_m)[T.3.0]',\n",
      "       'C(ind2_cat)[T.33.0]:C(urban_m)[T.3.0]',\n",
      "       'C(ind2_cat)[T.55.0]:C(urban_m)[T.3.0]',\n",
      "       'C(ind2_cat)[T.56.0]:C(urban_m)[T.3.0]', 'total_assets_bs',\n",
      "       'fixed_assets_bs', 'liq_assets_bs', 'curr_assets_bs',\n",
      "       'share_eq_bs', 'subscribed_cap_bs', 'intang_assets_bs',\n",
      "       'extra_exp_pl', 'extra_inc_pl', 'extra_profit_loss_pl',\n",
      "       'inc_bef_tax_pl', 'inventories_pl', 'material_exp_pl',\n",
      "       'profit_loss_year_pl', 'personnel_exp_pl',\n",
      "       'extra_profit_loss_pl_quad', 'inc_bef_tax_pl_quad',\n",
      "       'profit_loss_year_pl_quad', 'share_eq_bs_quad',\n",
      "       'extra_exp_pl_flag_high', 'extra_inc_pl_flag_high',\n",
      "       'inventories_pl_flag_high', 'material_exp_pl_flag_high',\n",
      "       'personnel_exp_pl_flag_high', 'curr_liab_bs_flag_high',\n",
      "       'liq_assets_bs_flag_high', 'subscribed_cap_bs_flag_high',\n",
      "       'extra_exp_pl_flag_error', 'extra_inc_pl_flag_error',\n",
      "       'inventories_pl_flag_error', 'material_exp_pl_flag_error',\n",
      "       'personnel_exp_pl_flag_error', 'curr_liab_bs_flag_error',\n",
      "       'liq_assets_bs_flag_error', 'subscribed_cap_bs_flag_error',\n",
      "       'extra_profit_loss_pl_flag_low', 'inc_bef_tax_pl_flag_low',\n",
      "       'profit_loss_year_pl_flag_low', 'share_eq_bs_flag_low',\n",
      "       'extra_profit_loss_pl_flag_high', 'inc_bef_tax_pl_flag_high',\n",
      "       'profit_loss_year_pl_flag_high', 'share_eq_bs_flag_high',\n",
      "       'extra_profit_loss_pl_flag_zero', 'inc_bef_tax_pl_flag_zero',\n",
      "       'profit_loss_year_pl_flag_zero', 'share_eq_bs_flag_zero',\n",
      "       'd1_profit_loss_year_pl_mod', 'd1_profit_loss_year_pl_mod_sq',\n",
      "       'flag_low_d1_profit_loss_year_pl',\n",
      "       'flag_high_d1_profit_loss_year_pl', 'female',\n",
      "       'C(ind2_cat)[T.27.0]:female', 'C(ind2_cat)[T.28.0]:female',\n",
      "       'C(ind2_cat)[T.29.0]:female', 'C(ind2_cat)[T.30.0]:female',\n",
      "       'C(ind2_cat)[T.33.0]:female', 'C(ind2_cat)[T.55.0]:female',\n",
      "       'C(ind2_cat)[T.56.0]:female', 'ceo_age',\n",
      "       'C(ind2_cat)[T.27.0]:ceo_age', 'C(ind2_cat)[T.28.0]:ceo_age',\n",
      "       'C(ind2_cat)[T.29.0]:ceo_age', 'C(ind2_cat)[T.30.0]:ceo_age',\n",
      "       'C(ind2_cat)[T.33.0]:ceo_age', 'C(ind2_cat)[T.55.0]:ceo_age',\n",
      "       'C(ind2_cat)[T.56.0]:ceo_age', 'flag_high_ceo_age',\n",
      "       'flag_low_ceo_age', 'flag_miss_ceo_age', 'ceo_count',\n",
      "       'labor_avg_mod', 'C(ind2_cat)[T.27.0]:labor_avg_mod',\n",
      "       'C(ind2_cat)[T.28.0]:labor_avg_mod',\n",
      "       'C(ind2_cat)[T.29.0]:labor_avg_mod',\n",
      "       'C(ind2_cat)[T.30.0]:labor_avg_mod',\n",
      "       'C(ind2_cat)[T.33.0]:labor_avg_mod',\n",
      "       'C(ind2_cat)[T.55.0]:labor_avg_mod',\n",
      "       'C(ind2_cat)[T.56.0]:labor_avg_mod', 'flag_miss_labor_avg',\n",
      "       'foreign_management', 'C(ind2_cat)[T.27.0]:foreign_management',\n",
      "       'C(ind2_cat)[T.28.0]:foreign_management',\n",
      "       'C(ind2_cat)[T.29.0]:foreign_management',\n",
      "       'C(ind2_cat)[T.30.0]:foreign_management',\n",
      "       'C(ind2_cat)[T.33.0]:foreign_management',\n",
      "       'C(ind2_cat)[T.55.0]:foreign_management',\n",
      "       'C(ind2_cat)[T.56.0]:foreign_management', 'age',\n",
      "       'C(ind2_cat)[T.27.0]:age', 'C(ind2_cat)[T.28.0]:age',\n",
      "       'C(ind2_cat)[T.29.0]:age', 'C(ind2_cat)[T.30.0]:age',\n",
      "       'C(ind2_cat)[T.33.0]:age', 'C(ind2_cat)[T.55.0]:age',\n",
      "       'C(ind2_cat)[T.56.0]:age', 'age2', 'C(ind2_cat)[T.27.0]:age2',\n",
      "       'C(ind2_cat)[T.28.0]:age2', 'C(ind2_cat)[T.29.0]:age2',\n",
      "       'C(ind2_cat)[T.30.0]:age2', 'C(ind2_cat)[T.33.0]:age2',\n",
      "       'C(ind2_cat)[T.55.0]:age2', 'C(ind2_cat)[T.56.0]:age2', 'new',\n",
      "       'balsheet_flag', 'balsheet_length', 'balsheet_notfullyear',\n",
      "       'profit_loss_year_pl:age', 'profit_loss_year_pl:female',\n",
      "       'profit_loss_year_pl:foreign_management'], dtype=object)]\n"
     ]
    }
   ],
   "source": [
    "best_lasso_coef = logit_models[\"LASSO\"].coef_[0, best_lambda_i]\n",
    "best_lasso_vars = normalized_logitvars.columns[best_lasso_coef != 0]\n",
    "print(\"Best Lasso Variables:\", list(best_lasso_vars))"
   ]
  },
  {
   "cell_type": "markdown",
   "id": "31dfed38",
   "metadata": {},
   "source": [
    "### 3. AUC, Calibration Curve, Confusion Matrix, ROC"
   ]
  },
  {
   "cell_type": "markdown",
   "id": "764b0fff",
   "metadata": {},
   "source": [
    "***a) Calculate AUC for folds***"
   ]
  },
  {
   "cell_type": "markdown",
   "id": "5fe50ae2",
   "metadata": {},
   "source": [
    "First, for logits"
   ]
  },
  {
   "cell_type": "code",
   "execution_count": 31,
   "id": "5c14e038",
   "metadata": {},
   "outputs": [],
   "source": [
    "CV_AUC_folds = dict()\n",
    "for i, model_vars in enumerate(logit_model_vars):\n",
    "\n",
    "    model_equation = \"fast_growth~\" + \"+\".join(model_vars)\n",
    "    y_train, X_train = patsy.dmatrices(model_equation, data_train)\n",
    "\n",
    "    LRCV_auc = LogisticRegressionCV(\n",
    "        Cs=C_value_logit,\n",
    "        cv=k,\n",
    "        refit=True,\n",
    "        scoring=\"roc_auc\",\n",
    "        solver=\"newton-cg\",\n",
    "        tol=1e-7,\n",
    "        random_state=42,\n",
    "    )\n",
    "\n",
    "    logit_models[\"M\" + str(i + 1)] = LRCV_auc.fit(X_train, y_train)\n",
    "\n",
    "    # Calculate AUC on test for each fold\n",
    "    CV_AUC_folds[\"M\" + str(i + 1)] = logit_models[\"M\" + str(i + 1)].scores_[1].ravel()"
   ]
  },
  {
   "cell_type": "markdown",
   "id": "8742d420",
   "metadata": {},
   "source": [
    "For LASSO"
   ]
  },
  {
   "cell_type": "code",
   "execution_count": 32,
   "id": "acd45adf",
   "metadata": {},
   "outputs": [],
   "source": [
    "logLasso_auc = LogisticRegressionCV(\n",
    "    Cs=C_values,\n",
    "    penalty=\"l1\",\n",
    "    cv=k,\n",
    "    refit=True,\n",
    "    scoring=\"roc_auc\",\n",
    "    solver=\"liblinear\",\n",
    "    random_state=42,\n",
    ")\n",
    "logLasso_auc_fitted = logLasso_auc.fit(normalized_logitvars, y_train)\n",
    "\n",
    "CV_AUC_folds[\"LASSO\"] = logLasso_auc_fitted.scores_[1][\n",
    "    :, cv_summary_lasso[\"mean_cv_score\"].idxmin()\n",
    "]"
   ]
  },
  {
   "cell_type": "markdown",
   "id": "8ec6dc36",
   "metadata": {},
   "source": [
    "Put a summary frame together"
   ]
  },
  {
   "cell_type": "code",
   "execution_count": 33,
   "id": "eae45052",
   "metadata": {},
   "outputs": [],
   "source": [
    "model_fits = pd.DataFrame(logit_models, index=[\"Model fit\"]).T\n",
    "\n",
    "summary = (\n",
    "    model_fits[\"Model fit\"]\n",
    "    .apply(lambda x: x.n_features_in_)\n",
    "    .to_frame(name=\"Number of Coefficients\")\n",
    ")\n",
    "\n",
    "summary.loc[\"LASSO\", \"Number of Coefficients\"] = len(\n",
    "    [i for i in model_fits.loc[\"LASSO\"].values[0].coef_[0] if i != 0]\n",
    ")\n",
    "\n",
    "summary[\"CV RMSE\"] = pd.DataFrame(CV_RMSE_folds).T.mean(axis=1)\n",
    "summary[\"CV AUC\"] = pd.DataFrame(CV_AUC_folds).T.mean(axis=1)"
   ]
  },
  {
   "cell_type": "code",
   "execution_count": 34,
   "id": "d6865347",
   "metadata": {},
   "outputs": [
    {
     "data": {
      "text/plain": [
       "124"
      ]
     },
     "execution_count": 34,
     "metadata": {},
     "output_type": "execute_result"
    }
   ],
   "source": [
    "sum(x != 0 for x in model_fits.loc[\"LASSO\"].values[0].coef_[0].tolist())"
   ]
  },
  {
   "cell_type": "code",
   "execution_count": 35,
   "id": "f2823950",
   "metadata": {},
   "outputs": [
    {
     "data": {
      "text/plain": [
       "124"
      ]
     },
     "execution_count": 35,
     "metadata": {},
     "output_type": "execute_result"
    }
   ],
   "source": [
    "len(\n",
    "    [i for i in model_fits.loc[\"LASSO\"].values[0].coef_[0] if i != 0]\n",
    ")"
   ]
  },
  {
   "cell_type": "code",
   "execution_count": 36,
   "id": "c7ff464f",
   "metadata": {},
   "outputs": [
    {
     "data": {
      "text/html": [
       "<div>\n",
       "<style scoped>\n",
       "    .dataframe tbody tr th:only-of-type {\n",
       "        vertical-align: middle;\n",
       "    }\n",
       "\n",
       "    .dataframe tbody tr th {\n",
       "        vertical-align: top;\n",
       "    }\n",
       "\n",
       "    .dataframe thead th {\n",
       "        text-align: right;\n",
       "    }\n",
       "</style>\n",
       "<table border=\"1\" class=\"dataframe\">\n",
       "  <thead>\n",
       "    <tr style=\"text-align: right;\">\n",
       "      <th></th>\n",
       "      <th>Number of Coefficients</th>\n",
       "      <th>CV RMSE</th>\n",
       "      <th>CV AUC</th>\n",
       "    </tr>\n",
       "  </thead>\n",
       "  <tbody>\n",
       "    <tr>\n",
       "      <th>M1</th>\n",
       "      <td>9</td>\n",
       "      <td>0.460674</td>\n",
       "      <td>0.613843</td>\n",
       "    </tr>\n",
       "    <tr>\n",
       "      <th>M2</th>\n",
       "      <td>16</td>\n",
       "      <td>0.459420</td>\n",
       "      <td>0.621715</td>\n",
       "    </tr>\n",
       "    <tr>\n",
       "      <th>M3</th>\n",
       "      <td>39</td>\n",
       "      <td>0.425950</td>\n",
       "      <td>0.756894</td>\n",
       "    </tr>\n",
       "    <tr>\n",
       "      <th>M4</th>\n",
       "      <td>83</td>\n",
       "      <td>0.427940</td>\n",
       "      <td>0.752939</td>\n",
       "    </tr>\n",
       "    <tr>\n",
       "      <th>M5</th>\n",
       "      <td>142</td>\n",
       "      <td>0.424820</td>\n",
       "      <td>0.759597</td>\n",
       "    </tr>\n",
       "    <tr>\n",
       "      <th>LASSO</th>\n",
       "      <td>124</td>\n",
       "      <td>0.423188</td>\n",
       "      <td>0.764132</td>\n",
       "    </tr>\n",
       "  </tbody>\n",
       "</table>\n",
       "</div>"
      ],
      "text/plain": [
       "       Number of Coefficients   CV RMSE    CV AUC\n",
       "M1                          9  0.460674  0.613843\n",
       "M2                         16  0.459420  0.621715\n",
       "M3                         39  0.425950  0.756894\n",
       "M4                         83  0.427940  0.752939\n",
       "M5                        142  0.424820  0.759597\n",
       "LASSO                     124  0.423188  0.764132"
      ]
     },
     "execution_count": 36,
     "metadata": {},
     "output_type": "execute_result"
    }
   ],
   "source": [
    "summary"
   ]
  },
  {
   "cell_type": "markdown",
   "id": "f650e097",
   "metadata": {},
   "source": [
    "### 4. Take the best model and estimate RMSE on hold out sample"
   ]
  },
  {
   "cell_type": "code",
   "execution_count": 37,
   "id": "e338802e",
   "metadata": {},
   "outputs": [],
   "source": [
    "best_logit = logit_models[\"M5\"]\n",
    "model_equation = \"fast_growth~\" + \"+\".join(M5)\n",
    "_, X_holdout = patsy.dmatrices(model_equation, data_holdout)"
   ]
  },
  {
   "cell_type": "code",
   "execution_count": 38,
   "id": "d26b2450",
   "metadata": {},
   "outputs": [
    {
     "data": {
      "text/plain": [
       "0.424"
      ]
     },
     "execution_count": 38,
     "metadata": {},
     "output_type": "execute_result"
    }
   ],
   "source": [
    "data_holdout[\"best_logit_pred_proba\"] = best_logit.predict_proba(X_holdout)[:, 1]\n",
    "\n",
    "round(rmse(data_holdout[\"best_logit_pred_proba\"], data_holdout[\"fast_growth\"]), 3)"
   ]
  },
  {
   "cell_type": "markdown",
   "id": "795c0289",
   "metadata": {},
   "source": [
    "***a) Calibration curve***"
   ]
  },
  {
   "cell_type": "code",
   "execution_count": 39,
   "id": "1e1b0084",
   "metadata": {},
   "outputs": [
    {
     "data": {
      "image/png": "[encoded data removed]",
      "text/plain": [
       "<Figure size 432x288 with 1 Axes>"
      ]
     },
     "metadata": {},
     "output_type": "display_data"
    },
    {
     "data": {
      "text/plain": [
       "<ggplot: (8787536694390)>"
      ]
     },
     "execution_count": 39,
     "metadata": {},
     "output_type": "execute_result"
    }
   ],
   "source": [
    "create_calibration_plot(\n",
    "    data_holdout,\n",
    "    file_name=\"ch17-figure-1-logit-m5-calibration\",\n",
    "    prob_var=\"best_logit_pred_proba\",\n",
    "    actual_var=\"fast_growth\",\n",
    "    y_lab=\"Actual event probability\",\n",
    "    n_bins=10,\n",
    "    breaks=None,\n",
    ")"
   ]
  },
  {
   "cell_type": "markdown",
   "id": "8da063b7",
   "metadata": {},
   "source": [
    "***b) Confusion table with different thresholds***\n",
    "\n",
    "The threshold 0.5 is used to convert probabilities to binary classes"
   ]
  },
  {
   "cell_type": "code",
   "execution_count": 40,
   "id": "b6da7b75",
   "metadata": {},
   "outputs": [
    {
     "name": "stdout",
     "output_type": "stream",
     "text": [
      "0.0  (low growth):  18321\n",
      "1.0  (fast grwoth):  4210\n"
     ]
    }
   ],
   "source": [
    "logit_class_prediction = best_logit.predict(X_holdout)\n",
    "\n",
    "values, counts = np.unique(logit_class_prediction.tolist(), return_counts=True)\n",
    "print(values[0], \" (low growth): \", counts[0])\n",
    "print(values[1], \" (fast grwoth): \", counts[1])"
   ]
  },
  {
   "cell_type": "markdown",
   "id": "9538223c",
   "metadata": {},
   "source": [
    "Confusion matrix: summarize different type of errors and successfully predicted cases\n",
    "\n",
    "positive = \"yes\": explicitly specify the positive case"
   ]
  },
  {
   "cell_type": "code",
   "execution_count": 41,
   "id": "763ef4b2",
   "metadata": {},
   "outputs": [
    {
     "data": {
      "text/html": [
       "<div>\n",
       "<style scoped>\n",
       "    .dataframe tbody tr th:only-of-type {\n",
       "        vertical-align: middle;\n",
       "    }\n",
       "\n",
       "    .dataframe tbody tr th {\n",
       "        vertical-align: top;\n",
       "    }\n",
       "\n",
       "    .dataframe thead th {\n",
       "        text-align: right;\n",
       "    }\n",
       "</style>\n",
       "<table border=\"1\" class=\"dataframe\">\n",
       "  <thead>\n",
       "    <tr style=\"text-align: right;\">\n",
       "      <th></th>\n",
       "      <th>Predicted low growth</th>\n",
       "      <th>Predicted fast growth</th>\n",
       "    </tr>\n",
       "  </thead>\n",
       "  <tbody>\n",
       "    <tr>\n",
       "      <th>Actul low growth</th>\n",
       "      <td>13572</td>\n",
       "      <td>1680</td>\n",
       "    </tr>\n",
       "    <tr>\n",
       "      <th>Actual fast growth</th>\n",
       "      <td>4749</td>\n",
       "      <td>2530</td>\n",
       "    </tr>\n",
       "  </tbody>\n",
       "</table>\n",
       "</div>"
      ],
      "text/plain": [
       "                    Predicted low growth  Predicted fast growth\n",
       "Actul low growth                   13572                   1680\n",
       "Actual fast growth                  4749                   2530"
      ]
     },
     "execution_count": 41,
     "metadata": {},
     "output_type": "execute_result"
    }
   ],
   "source": [
    "cm_object1 = confusion_matrix(\n",
    "    data_holdout[\"fast_growth\"], logit_class_prediction, labels=[0, 1]\n",
    ")\n",
    "cm1 = pd.DataFrame(\n",
    "    cm_object1,\n",
    "    index=[\"Actul low growth\", \"Actual fast growth\"],\n",
    "    columns=[\"Predicted low growth\", \"Predicted fast growth\"],\n",
    ")\n",
    "cm1"
   ]
  },
  {
   "cell_type": "code",
   "execution_count": 42,
   "id": "04c8958d",
   "metadata": {},
   "outputs": [
    {
     "data": {
      "text/html": [
       "<div>\n",
       "<style scoped>\n",
       "    .dataframe tbody tr th:only-of-type {\n",
       "        vertical-align: middle;\n",
       "    }\n",
       "\n",
       "    .dataframe tbody tr th {\n",
       "        vertical-align: top;\n",
       "    }\n",
       "\n",
       "    .dataframe thead th {\n",
       "        text-align: right;\n",
       "    }\n",
       "</style>\n",
       "<table border=\"1\" class=\"dataframe\">\n",
       "  <thead>\n",
       "    <tr style=\"text-align: right;\">\n",
       "      <th></th>\n",
       "      <th>Predicted low growth</th>\n",
       "      <th>Predicted fast growth</th>\n",
       "    </tr>\n",
       "  </thead>\n",
       "  <tbody>\n",
       "    <tr>\n",
       "      <th>Actul low growth</th>\n",
       "      <td>13572</td>\n",
       "      <td>1680</td>\n",
       "    </tr>\n",
       "    <tr>\n",
       "      <th>Actual fast growth</th>\n",
       "      <td>4749</td>\n",
       "      <td>2530</td>\n",
       "    </tr>\n",
       "  </tbody>\n",
       "</table>\n",
       "</div>"
      ],
      "text/plain": [
       "                    Predicted low growth  Predicted fast growth\n",
       "Actul low growth                   13572                   1680\n",
       "Actual fast growth                  4749                   2530"
      ]
     },
     "execution_count": 42,
     "metadata": {},
     "output_type": "execute_result"
    }
   ],
   "source": [
    "# we can apply different thresholds\n",
    "\n",
    "# 0.5 same as before\n",
    "holdout_prediction = np.where(data_holdout[\"best_logit_pred_proba\"] < 0.5, 0, 1)\n",
    "cm_object1b = confusion_matrix(\n",
    "    data_holdout[\"fast_growth\"], holdout_prediction, labels=[0, 1]\n",
    ")\n",
    "cm1b = pd.DataFrame(\n",
    "    cm_object1b,\n",
    "    index=[\"Actul low growth\", \"Actual fast growth\"],\n",
    "    columns=[\"Predicted low growth\", \"Predicted fast growth\"],\n",
    ")\n",
    "cm1b"
   ]
  },
  {
   "cell_type": "markdown",
   "id": "9ee59a48",
   "metadata": {},
   "source": [
    "A sensible choice: mean of predicted probabilities"
   ]
  },
  {
   "cell_type": "code",
   "execution_count": 43,
   "id": "63475de6",
   "metadata": {},
   "outputs": [
    {
     "data": {
      "text/plain": [
       "0.323"
      ]
     },
     "execution_count": 43,
     "metadata": {},
     "output_type": "execute_result"
    }
   ],
   "source": [
    "mean_predicted_default_prob = np.mean(data_holdout[\"best_logit_pred_proba\"])\n",
    "round(mean_predicted_default_prob, 3)"
   ]
  },
  {
   "cell_type": "code",
   "execution_count": 44,
   "id": "e62f6341",
   "metadata": {},
   "outputs": [
    {
     "data": {
      "text/html": [
       "<div>\n",
       "<style scoped>\n",
       "    .dataframe tbody tr th:only-of-type {\n",
       "        vertical-align: middle;\n",
       "    }\n",
       "\n",
       "    .dataframe tbody tr th {\n",
       "        vertical-align: top;\n",
       "    }\n",
       "\n",
       "    .dataframe thead th {\n",
       "        text-align: right;\n",
       "    }\n",
       "</style>\n",
       "<table border=\"1\" class=\"dataframe\">\n",
       "  <thead>\n",
       "    <tr style=\"text-align: right;\">\n",
       "      <th></th>\n",
       "      <th>Predicted low growth</th>\n",
       "      <th>Predicted fast growth</th>\n",
       "    </tr>\n",
       "  </thead>\n",
       "  <tbody>\n",
       "    <tr>\n",
       "      <th>Actul low growth</th>\n",
       "      <td>8560</td>\n",
       "      <td>6692</td>\n",
       "    </tr>\n",
       "    <tr>\n",
       "      <th>Actual fast growth</th>\n",
       "      <td>1360</td>\n",
       "      <td>5919</td>\n",
       "    </tr>\n",
       "  </tbody>\n",
       "</table>\n",
       "</div>"
      ],
      "text/plain": [
       "                    Predicted low growth  Predicted fast growth\n",
       "Actul low growth                    8560                   6692\n",
       "Actual fast growth                  1360                   5919"
      ]
     },
     "execution_count": 44,
     "metadata": {},
     "output_type": "execute_result"
    }
   ],
   "source": [
    "holdout_prediction = np.where(\n",
    "    data_holdout[\"best_logit_pred_proba\"] < mean_predicted_default_prob, 0, 1\n",
    ")\n",
    "cm_object2 = confusion_matrix(\n",
    "    data_holdout[\"fast_growth\"], holdout_prediction, labels=[0, 1]\n",
    ")\n",
    "cm2 = pd.DataFrame(\n",
    "    cm_object2,\n",
    "    index=[\"Actul low growth\", \"Actual fast growth\"],\n",
    "    columns=[\"Predicted low growth\", \"Predicted fast growth\"],\n",
    ")\n",
    "cm2"
   ]
  },
  {
   "cell_type": "markdown",
   "id": "c5fe9836",
   "metadata": {},
   "source": [
    "***c) Visualize ROC (with thresholds in steps) on holdout***\n",
    "\n",
    "What if we want to compare multiple thresholds?\n",
    "\n",
    "First, discrete ROC (with thresholds in steps) on holdout"
   ]
  },
  {
   "cell_type": "code",
   "execution_count": 45,
   "id": "a62bb9b2",
   "metadata": {},
   "outputs": [],
   "source": [
    "thresholds = np.arange(0.05, 0.76, 0.05)\n",
    "#thresholds = sorted(np.geomspace(0.95, 0.05, num=17)) # set these treshold values to get even points in the plot\n",
    "cm = dict()\n",
    "true_positive_rates = []\n",
    "false_positive_rates = []\n",
    "holdout_prediction = []\n",
    "for thr in thresholds:\n",
    "    holdout_prediction = np.where(data_holdout[\"best_logit_pred_proba\"] < thr, 0, 1)\n",
    "    cm_thr = confusion_matrix(data_holdout[\"fast_growth\"], holdout_prediction, labels=[0, 1])\n",
    "    cm[thr] = cm_thr\n",
    "    tn, fp, fn, tp = cm_thr.ravel()\n",
    "    true_positive_rates.append(tp / (tp + fn))\n",
    "    false_positive_rates.append(fp / (fp + tn))"
   ]
  },
  {
   "cell_type": "code",
   "execution_count": 46,
   "id": "eb56f4c6",
   "metadata": {},
   "outputs": [],
   "source": [
    "tpr_fpr_for_thresholds = pd.DataFrame(\n",
    "    {\n",
    "        \"thresholds\": thresholds,\n",
    "        \"true_positive_rates\": true_positive_rates,\n",
    "        \"false_positive_rates\": false_positive_rates,\n",
    "    }\n",
    ")"
   ]
  },
  {
   "cell_type": "code",
   "execution_count": 47,
   "id": "16a64dd6",
   "metadata": {},
   "outputs": [
    {
     "data": {
      "image/png": "[encoded data removed]",
      "text/plain": [
       "<Figure size 640x480 with 1 Axes>"
      ]
     },
     "metadata": {},
     "output_type": "display_data"
    },
    {
     "data": {
      "text/plain": [
       "<ggplot: (8787704797175)>"
      ]
     },
     "execution_count": 47,
     "metadata": {},
     "output_type": "execute_result"
    }
   ],
   "source": [
    "(\n",
    "    ggplot(\n",
    "        tpr_fpr_for_thresholds,\n",
    "        aes(x=\"false_positive_rates\", y=\"true_positive_rates\", color=\"thresholds\"),\n",
    "    )\n",
    "    + labs(\n",
    "        x=\"False positive rate (1 - Specificity)\", y=\"True positive rate (Sensitivity)\"\n",
    "    )\n",
    "    + geom_point(size=4, alpha=0.8)\n",
    "    + scale_color_continuous(trans=\"reverse\", name=\"threshold\")\n",
    "    + scale_x_continuous(limits=(0, 1), breaks=np.arange(0, 1.01, 0.1))\n",
    "    + scale_y_continuous(limits=(0, 1), breaks=np.arange(0, 1.01, 0.1))\n",
    "    + theme_bw()\n",
    "    + theme(legend_position=\"right\")\n",
    ")"
   ]
  },
  {
   "cell_type": "markdown",
   "id": "85f737e8",
   "metadata": {},
   "source": [
    "Continuous ROC on holdout with best model"
   ]
  },
  {
   "cell_type": "code",
   "execution_count": 48,
   "id": "25149794",
   "metadata": {
    "scrolled": false
   },
   "outputs": [
    {
     "data": {
      "image/png": "[encoded data removed]",
      "text/plain": [
       "<Figure size 640x480 with 1 Axes>"
      ]
     },
     "metadata": {},
     "output_type": "display_data"
    },
    {
     "data": {
      "text/plain": [
       "<ggplot: (8787536765648)>"
      ]
     },
     "execution_count": 48,
     "metadata": {},
     "output_type": "execute_result"
    }
   ],
   "source": [
    "create_roc_plot(data_holdout[\"fast_growth\"], data_holdout[\"best_logit_pred_proba\"])"
   ]
  },
  {
   "cell_type": "markdown",
   "id": "cfab8a17",
   "metadata": {},
   "source": [
    "### 5. Loss Function"
   ]
  },
  {
   "cell_type": "markdown",
   "id": "2c8d58dd",
   "metadata": {},
   "source": [
    "Introduce loss function\n",
    "\n",
    "Relative cost of of a false negative classification (as compared with a false positive classification)"
   ]
  },
  {
   "cell_type": "code",
   "execution_count": 49,
   "id": "983b4d31",
   "metadata": {},
   "outputs": [],
   "source": [
    "FP = 1\n",
    "FN = 2\n",
    "cost = FN / FP"
   ]
  },
  {
   "cell_type": "markdown",
   "id": "7702f157",
   "metadata": {},
   "source": [
    "The prevalence, or the proportion of cases in the population (n.cases/(n.controls+n.cases))"
   ]
  },
  {
   "cell_type": "code",
   "execution_count": 50,
   "id": "d26494ed",
   "metadata": {},
   "outputs": [],
   "source": [
    "prevelance = y_train.sum() / len(y_train)"
   ]
  },
  {
   "cell_type": "markdown",
   "id": "d5d4b365",
   "metadata": {},
   "source": [
    "Draw ROC Curve and find optimal threshold with loss function \n",
    "\n",
    "The optimal cut-off is the threshold that maximizes the distance to the identity (diagonal) line\n",
    "\n",
    "Iterate through:\n",
    " 1. models\n",
    " 2. Folds"
   ]
  },
  {
   "cell_type": "code",
   "execution_count": 51,
   "id": "7a6f5ff5",
   "metadata": {},
   "outputs": [],
   "source": [
    "best_thresholds_cv = dict()\n",
    "expected_loss_cv = dict()\n",
    "fold5_threshold = dict()\n",
    "fold5_expected_loss = dict()\n",
    "fold5_all_coords = dict()\n",
    "\n",
    "for i, model_name in enumerate(logit_models):\n",
    "    best_thresholds = []\n",
    "    expected_loss = []\n",
    "\n",
    "    if model_name != \"LASSO\":\n",
    "        _, X = patsy.dmatrices(\"fast_growth ~\" + \"+\".join(logit_model_vars[i]), data_train)\n",
    "        X = pd.DataFrame(X)\n",
    "        c_index = 0\n",
    "    else:\n",
    "        X = normalized_logitvars\n",
    "        c_index = best_lambda_i\n",
    "    fold = 0\n",
    "    for train_index, test_index in k.split(X):\n",
    "        X_fold = X.iloc[test_index, :]\n",
    "        y_fold = data_train[\"fast_growth\"].iloc[test_index]\n",
    "        pred_fold = generate_fold_prediction(\n",
    "            logit_models[model_name], X_fold, fold, c_index\n",
    "        )\n",
    "        false_pos_rate, true_pos_rate, thresholds = roc_curve(y_fold, pred_fold)\n",
    "        optimal_threshold = sorted(\n",
    "            list(\n",
    "                zip(\n",
    "                    np.abs(\n",
    "                        true_pos_rate\n",
    "                        + (1 - prevelance) / (cost * prevelance) * (1 - false_pos_rate)\n",
    "                    ),\n",
    "                    thresholds,\n",
    "                )\n",
    "            ),\n",
    "            key=lambda i: i[0],\n",
    "            reverse=True,\n",
    "        )[0][1]\n",
    "        best_thresholds.append(optimal_threshold)\n",
    "        threshold_prediction = np.where(pred_fold < optimal_threshold, 0, 1)\n",
    "        tn, fp, fn, tp = confusion_matrix(\n",
    "            y_fold, threshold_prediction, labels=[0, 1]\n",
    "        ).ravel()\n",
    "        curr_exp_loss = (fp * FP + fn * FN) / len(y_fold)\n",
    "        expected_loss.append(curr_exp_loss)\n",
    "        fold = fold + 1\n",
    "\n",
    "    best_thresholds_cv[model_name] = np.mean(best_thresholds)\n",
    "    expected_loss_cv[model_name] = np.mean(expected_loss)\n",
    "\n",
    "    # for fold #5\n",
    "    fold5_threshold[model_name] = optimal_threshold\n",
    "    fold5_expected_loss[model_name] = curr_exp_loss\n",
    "\n",
    "    all_coords = pd.DataFrame(\n",
    "        {\n",
    "            \"false_pos\": false_pos_rate * sum(y_fold == 0),\n",
    "            \"true_pos\": true_pos_rate * sum(y_fold == 1),\n",
    "            \"false_neg\": sum(y_fold == 1) - true_pos_rate * sum(y_fold == 1),\n",
    "            \"true_neg\": sum(y_fold == 0) - false_pos_rate * sum(y_fold == 0),\n",
    "            \"pos\": sum(y_fold == 1),\n",
    "            \"neg\": sum(y_fold == 0),\n",
    "            \"n\": len(y_fold),\n",
    "            \"thresholds\": thresholds,\n",
    "        }\n",
    "    )\n",
    "\n",
    "    fold5_all_coords[model_name] = all_coords"
   ]
  },
  {
   "cell_type": "code",
   "execution_count": 52,
   "id": "8463f35a",
   "metadata": {},
   "outputs": [],
   "source": [
    "summary_with_lossfnc = pd.DataFrame(\n",
    "    best_thresholds_cv.items(), columns=[\"Model\", \"Avg of optimal thresholds\"]\n",
    ")\n",
    "summary_with_lossfnc[\"Threshold for Fold5\"] = fold5_threshold.values()\n",
    "summary_with_lossfnc[\"Avg expected loss\"] = expected_loss_cv.values()\n",
    "summary_with_lossfnc[\"Expected loss for Fold5\"] = fold5_expected_loss.values()"
   ]
  },
  {
   "cell_type": "code",
   "execution_count": 53,
   "id": "1019b439",
   "metadata": {},
   "outputs": [
    {
     "data": {
      "text/html": [
       "<div>\n",
       "<style scoped>\n",
       "    .dataframe tbody tr th:only-of-type {\n",
       "        vertical-align: middle;\n",
       "    }\n",
       "\n",
       "    .dataframe tbody tr th {\n",
       "        vertical-align: top;\n",
       "    }\n",
       "\n",
       "    .dataframe thead th {\n",
       "        text-align: right;\n",
       "    }\n",
       "</style>\n",
       "<table border=\"1\" class=\"dataframe\">\n",
       "  <thead>\n",
       "    <tr style=\"text-align: right;\">\n",
       "      <th></th>\n",
       "      <th>Model</th>\n",
       "      <th>Avg of optimal thresholds</th>\n",
       "      <th>Threshold for Fold5</th>\n",
       "      <th>Avg expected loss</th>\n",
       "      <th>Expected loss for Fold5</th>\n",
       "    </tr>\n",
       "  </thead>\n",
       "  <tbody>\n",
       "    <tr>\n",
       "      <th>0</th>\n",
       "      <td>M1</td>\n",
       "      <td>0.326543</td>\n",
       "      <td>0.324455</td>\n",
       "      <td>0.544156</td>\n",
       "      <td>0.546605</td>\n",
       "    </tr>\n",
       "    <tr>\n",
       "      <th>1</th>\n",
       "      <td>M2</td>\n",
       "      <td>0.314419</td>\n",
       "      <td>0.311073</td>\n",
       "      <td>0.541238</td>\n",
       "      <td>0.539004</td>\n",
       "    </tr>\n",
       "    <tr>\n",
       "      <th>2</th>\n",
       "      <td>M3</td>\n",
       "      <td>0.347091</td>\n",
       "      <td>0.344932</td>\n",
       "      <td>0.412225</td>\n",
       "      <td>0.412284</td>\n",
       "    </tr>\n",
       "    <tr>\n",
       "      <th>3</th>\n",
       "      <td>M4</td>\n",
       "      <td>0.354668</td>\n",
       "      <td>0.347717</td>\n",
       "      <td>0.418073</td>\n",
       "      <td>0.419663</td>\n",
       "    </tr>\n",
       "    <tr>\n",
       "      <th>4</th>\n",
       "      <td>M5</td>\n",
       "      <td>0.350670</td>\n",
       "      <td>0.360313</td>\n",
       "      <td>0.411582</td>\n",
       "      <td>0.409399</td>\n",
       "    </tr>\n",
       "    <tr>\n",
       "      <th>5</th>\n",
       "      <td>LASSO</td>\n",
       "      <td>0.347188</td>\n",
       "      <td>0.333066</td>\n",
       "      <td>0.406056</td>\n",
       "      <td>0.404350</td>\n",
       "    </tr>\n",
       "  </tbody>\n",
       "</table>\n",
       "</div>"
      ],
      "text/plain": [
       "   Model  Avg of optimal thresholds  Threshold for Fold5  Avg expected loss  \\\n",
       "0     M1                   0.326543             0.324455           0.544156   \n",
       "1     M2                   0.314419             0.311073           0.541238   \n",
       "2     M3                   0.347091             0.344932           0.412225   \n",
       "3     M4                   0.354668             0.347717           0.418073   \n",
       "4     M5                   0.350670             0.360313           0.411582   \n",
       "5  LASSO                   0.347188             0.333066           0.406056   \n",
       "\n",
       "   Expected loss for Fold5  \n",
       "0                 0.546605  \n",
       "1                 0.539004  \n",
       "2                 0.412284  \n",
       "3                 0.419663  \n",
       "4                 0.409399  \n",
       "5                 0.404350  "
      ]
     },
     "execution_count": 53,
     "metadata": {},
     "output_type": "execute_result"
    }
   ],
   "source": [
    "summary_with_lossfnc"
   ]
  },
  {
   "cell_type": "code",
   "execution_count": 54,
   "id": "784a3521",
   "metadata": {},
   "outputs": [
    {
     "data": {
      "image/png": "[encoded data removed]",
      "text/plain": [
       "<Figure size 640x480 with 1 Axes>"
      ]
     },
     "metadata": {},
     "output_type": "display_data"
    },
    {
     "data": {
      "text/plain": [
       "<ggplot: (8787671581784)>"
      ]
     },
     "execution_count": 54,
     "metadata": {},
     "output_type": "execute_result"
    }
   ],
   "source": [
    "model_to_plot = \"M5\"  # select model to plot\n",
    "create_loss_plot(\n",
    "    fold5_all_coords[model_to_plot],\n",
    "    fold5_threshold[model_to_plot],\n",
    "    fold5_expected_loss[model_to_plot],\n",
    ")"
   ]
  },
  {
   "cell_type": "markdown",
   "id": "8de4a16f",
   "metadata": {},
   "source": [
    "Create loss plot based on Fold5 in CV"
   ]
  },
  {
   "cell_type": "code",
   "execution_count": 55,
   "id": "447b47c6",
   "metadata": {
    "scrolled": false
   },
   "outputs": [
    {
     "data": {
      "image/png": "[encoded data removed]",
      "text/plain": [
       "<Figure size 640x480 with 1 Axes>"
      ]
     },
     "metadata": {},
     "output_type": "display_data"
    },
    {
     "data": {
      "text/plain": [
       "<ggplot: (8787704795498)>"
      ]
     },
     "execution_count": 55,
     "metadata": {},
     "output_type": "execute_result"
    }
   ],
   "source": [
    "create_roc_plot_with_optimal(\n",
    "    fold5_all_coords[model_to_plot], fold5_threshold[model_to_plot]\n",
    ")"
   ]
  },
  {
   "cell_type": "markdown",
   "id": "07ff3d56",
   "metadata": {},
   "source": [
    "Let's see our chosen model, M5's holdout expected loss"
   ]
  },
  {
   "cell_type": "code",
   "execution_count": 56,
   "id": "94868cac",
   "metadata": {},
   "outputs": [
    {
     "data": {
      "text/plain": [
       "0.413"
      ]
     },
     "execution_count": 56,
     "metadata": {},
     "output_type": "execute_result"
    }
   ],
   "source": [
    "best_logit_optimal_treshold = best_thresholds_cv[\"M5\"]\n",
    "\n",
    "# Get expected loss on holdout\n",
    "holdout_treshold = np.where(\n",
    "    data_holdout[\"best_logit_pred_proba\"] < best_logit_optimal_treshold, 0, 1\n",
    ")\n",
    "tn, fp, fn, tp = confusion_matrix(\n",
    "    data_holdout[\"fast_growth\"], holdout_treshold, labels=[0, 1]\n",
    ").ravel()\n",
    "expected_loss_holdout = (fp * FP + fn * FN) / len(data_holdout[\"fast_growth\"])\n",
    "round(expected_loss_holdout, 3)"
   ]
  },
  {
   "cell_type": "markdown",
   "id": "0f4b3eeb",
   "metadata": {},
   "source": [
    "CM on holdout"
   ]
  },
  {
   "cell_type": "code",
   "execution_count": 57,
   "id": "410cdd47",
   "metadata": {},
   "outputs": [
    {
     "data": {
      "text/html": [
       "<div>\n",
       "<style scoped>\n",
       "    .dataframe tbody tr th:only-of-type {\n",
       "        vertical-align: middle;\n",
       "    }\n",
       "\n",
       "    .dataframe tbody tr th {\n",
       "        vertical-align: top;\n",
       "    }\n",
       "\n",
       "    .dataframe thead th {\n",
       "        text-align: right;\n",
       "    }\n",
       "</style>\n",
       "<table border=\"1\" class=\"dataframe\">\n",
       "  <thead>\n",
       "    <tr style=\"text-align: right;\">\n",
       "      <th></th>\n",
       "      <th>Predicted low growth</th>\n",
       "      <th>Predicted fast growth</th>\n",
       "    </tr>\n",
       "  </thead>\n",
       "  <tbody>\n",
       "    <tr>\n",
       "      <th>Actul low growth</th>\n",
       "      <td>9467</td>\n",
       "      <td>5785</td>\n",
       "    </tr>\n",
       "    <tr>\n",
       "      <th>Actual fast growth</th>\n",
       "      <td>1761</td>\n",
       "      <td>5518</td>\n",
       "    </tr>\n",
       "  </tbody>\n",
       "</table>\n",
       "</div>"
      ],
      "text/plain": [
       "                    Predicted low growth  Predicted fast growth\n",
       "Actul low growth                    9467                   5785\n",
       "Actual fast growth                  1761                   5518"
      ]
     },
     "execution_count": 57,
     "metadata": {},
     "output_type": "execute_result"
    }
   ],
   "source": [
    "cm_object3 = confusion_matrix(data_holdout[\"fast_growth\"], holdout_treshold, labels=[0, 1])\n",
    "cm3 = pd.DataFrame(\n",
    "    cm_object3,\n",
    "    index=[\"Actul low growth\", \"Actual fast growth\"],\n",
    "    columns=[\"Predicted low growth\", \"Predicted fast growth\"],\n",
    ")\n",
    "cm3"
   ]
  },
  {
   "cell_type": "markdown",
   "id": "5ec40307",
   "metadata": {},
   "source": [
    "## Predictions with Random Forest"
   ]
  },
  {
   "cell_type": "code",
   "execution_count": 58,
   "id": "558bacda",
   "metadata": {},
   "outputs": [],
   "source": [
    "y_train, rfvars_train = patsy.dmatrices(\"fast_growth~\" + \"+\".join(rfvars), data_train)\n",
    "y_holdout, rfvars_holdout = patsy.dmatrices(\"fast_growth~\" + \"+\".join(rfvars), data_holdout)"
   ]
  },
  {
   "cell_type": "markdown",
   "id": "5521d61b",
   "metadata": {},
   "source": [
    "### Graph example for decision tree"
   ]
  },
  {
   "cell_type": "code",
   "execution_count": 59,
   "id": "80e9b852",
   "metadata": {},
   "outputs": [
    {
     "data": {
      "text/plain": [
       "<Figure size 640x480 with 0 Axes>"
      ]
     },
     "metadata": {},
     "output_type": "display_data"
    },
    {
     "data": {
      "image/png": "[encoded data removed]",
      "text/plain": [
       "<Figure size 1100x1100 with 1 Axes>"
      ]
     },
     "metadata": {},
     "output_type": "display_data"
    }
   ],
   "source": [
    "from sklearn.tree import DecisionTreeClassifier\n",
    "from sklearn.tree import plot_tree\n",
    "\n",
    "data_for_graph = data_train[[\"profit_loss_year\", \"foreign_management\", \"curr_assets\"]]\n",
    "rf_for_graph = DecisionTreeClassifier(\n",
    "    ccp_alpha=0.0028, min_samples_leaf=100, max_depth=3, random_state=41\n",
    ").fit(data_for_graph, y_train)\n",
    "\n",
    "plt.figure()\n",
    "plt.figure(figsize=(11, 11))\n",
    "plot_tree(\n",
    "    rf_for_graph,\n",
    "    feature_names=data_for_graph.columns,\n",
    "    filled=True,\n",
    "    rounded=True,\n",
    "    proportion=True,\n",
    "    fontsize=10,\n",
    ")\n",
    "plt.title(\"Decision tree\")\n",
    "plt.show()\n",
    "\n"
   ]
  },
  {
   "cell_type": "markdown",
   "id": "f9573d1c",
   "metadata": {},
   "source": [
    "### Probability forest"
   ]
  },
  {
   "cell_type": "markdown",
   "id": "ae9cc9aa",
   "metadata": {},
   "source": [
    "Split by gini, ratio of 1's in each tree, average over trees"
   ]
  },
  {
   "cell_type": "code",
   "execution_count": 60,
   "id": "da7a94e6",
   "metadata": {},
   "outputs": [],
   "source": [
    "grid = {\n",
    "    \"max_features\": [5, 6, 7],\n",
    "    \"criterion\": [\"gini\"],\n",
    "    \"min_samples_split\": [11, 16],\n",
    "} "
   ]
  },
  {
   "cell_type": "markdown",
   "id": "636aa145",
   "metadata": {},
   "source": [
    "5 fold cross validation"
   ]
  },
  {
   "cell_type": "code",
   "execution_count": 61,
   "id": "7396d2e1",
   "metadata": {},
   "outputs": [],
   "source": [
    "prob_forest = RandomForestClassifier(random_state=42, n_estimators=500, oob_score=True)\n",
    "prob_forest_grid = GridSearchCV(\n",
    "    prob_forest,\n",
    "    grid,\n",
    "    cv=k,\n",
    "    refit=\"roc_auc\",\n",
    "    scoring=[\"roc_auc\", \"neg_brier_score\"],\n",
    ")"
   ]
  },
  {
   "cell_type": "code",
   "execution_count": 62,
   "id": "e2bb476e",
   "metadata": {},
   "outputs": [],
   "source": [
    "prob_forest_fit = prob_forest_grid.fit(rfvars_train, y_train)"
   ]
  },
  {
   "cell_type": "markdown",
   "id": "9e9f4171",
   "metadata": {},
   "source": [
    "Create CV summary table"
   ]
  },
  {
   "cell_type": "code",
   "execution_count": 63,
   "id": "c923b94b",
   "metadata": {},
   "outputs": [
    {
     "data": {
      "text/html": [
       "<div>\n",
       "<style scoped>\n",
       "    .dataframe tbody tr th:only-of-type {\n",
       "        vertical-align: middle;\n",
       "    }\n",
       "\n",
       "    .dataframe tbody tr th {\n",
       "        vertical-align: top;\n",
       "    }\n",
       "\n",
       "    .dataframe thead th {\n",
       "        text-align: right;\n",
       "    }\n",
       "</style>\n",
       "<table border=\"1\" class=\"dataframe\">\n",
       "  <thead>\n",
       "    <tr style=\"text-align: right;\">\n",
       "      <th></th>\n",
       "      <th>max_features</th>\n",
       "      <th>min_samples_split</th>\n",
       "      <th>cv_auc</th>\n",
       "      <th>cv_rmse</th>\n",
       "    </tr>\n",
       "  </thead>\n",
       "  <tbody>\n",
       "    <tr>\n",
       "      <th>0</th>\n",
       "      <td>5</td>\n",
       "      <td>11</td>\n",
       "      <td>0.759313</td>\n",
       "      <td>0.423128</td>\n",
       "    </tr>\n",
       "    <tr>\n",
       "      <th>1</th>\n",
       "      <td>5</td>\n",
       "      <td>16</td>\n",
       "      <td>0.759925</td>\n",
       "      <td>0.422956</td>\n",
       "    </tr>\n",
       "    <tr>\n",
       "      <th>2</th>\n",
       "      <td>6</td>\n",
       "      <td>11</td>\n",
       "      <td>0.759221</td>\n",
       "      <td>0.422944</td>\n",
       "    </tr>\n",
       "    <tr>\n",
       "      <th>3</th>\n",
       "      <td>6</td>\n",
       "      <td>16</td>\n",
       "      <td>0.759503</td>\n",
       "      <td>0.422886</td>\n",
       "    </tr>\n",
       "    <tr>\n",
       "      <th>4</th>\n",
       "      <td>7</td>\n",
       "      <td>11</td>\n",
       "      <td>0.759352</td>\n",
       "      <td>0.422811</td>\n",
       "    </tr>\n",
       "    <tr>\n",
       "      <th>5</th>\n",
       "      <td>7</td>\n",
       "      <td>16</td>\n",
       "      <td>0.759512</td>\n",
       "      <td>0.422768</td>\n",
       "    </tr>\n",
       "  </tbody>\n",
       "</table>\n",
       "</div>"
      ],
      "text/plain": [
       "  max_features min_samples_split    cv_auc   cv_rmse\n",
       "0            5                11  0.759313  0.423128\n",
       "1            5                16  0.759925  0.422956\n",
       "2            6                11  0.759221  0.422944\n",
       "3            6                16  0.759503  0.422886\n",
       "4            7                11  0.759352  0.422811\n",
       "5            7                16  0.759512  0.422768"
      ]
     },
     "execution_count": 63,
     "metadata": {},
     "output_type": "execute_result"
    }
   ],
   "source": [
    "prob_forest_cv_results = pd.DataFrame(\n",
    "    {\n",
    "        \"max_features\": prob_forest_fit.cv_results_[\"param_max_features\"],\n",
    "        \"min_samples_split\": prob_forest_fit.cv_results_[\"param_min_samples_split\"],\n",
    "        \"cv_auc\": prob_forest_fit.cv_results_[\"mean_test_roc_auc\"],\n",
    "        \"cv_rmse\": np.sqrt(\n",
    "            prob_forest_fit.cv_results_[\"mean_test_neg_brier_score\"] * -1\n",
    "        ),\n",
    "    }\n",
    ")\n",
    "\n",
    "prob_forest_cv_results"
   ]
  },
  {
   "cell_type": "markdown",
   "id": "48920d8e",
   "metadata": {},
   "source": [
    "Obtain optimal parameter values"
   ]
  },
  {
   "cell_type": "code",
   "execution_count": 64,
   "id": "f07acf5f",
   "metadata": {},
   "outputs": [
    {
     "data": {
      "text/plain": [
       "{'criterion': 'gini', 'max_features': 5, 'min_samples_split': 16}"
      ]
     },
     "execution_count": 64,
     "metadata": {},
     "output_type": "execute_result"
    }
   ],
   "source": [
    "best_mtry = prob_forest_fit.best_params_[\"max_features\"]\n",
    "best_min_node_size = prob_forest_fit.best_params_[\"min_samples_split\"]\n",
    "prob_forest_fit.best_params_"
   ]
  },
  {
   "cell_type": "markdown",
   "id": "2c21cda0",
   "metadata": {},
   "source": [
    "Get average (ie over the folds) RMSE and AUC"
   ]
  },
  {
   "cell_type": "code",
   "execution_count": 65,
   "id": "3066ae74",
   "metadata": {},
   "outputs": [],
   "source": [
    "prob_forest_best_results = prob_forest_cv_results[\n",
    "    (prob_forest_cv_results.max_features == best_mtry)\n",
    "    & (prob_forest_cv_results.min_samples_split == best_min_node_size)\n",
    "]\n",
    "prob_forest_best_results_index = prob_forest_best_results.index.values[0]"
   ]
  },
  {
   "cell_type": "code",
   "execution_count": 66,
   "id": "780a9ba6",
   "metadata": {},
   "outputs": [
    {
     "data": {
      "text/html": [
       "<div>\n",
       "<style scoped>\n",
       "    .dataframe tbody tr th:only-of-type {\n",
       "        vertical-align: middle;\n",
       "    }\n",
       "\n",
       "    .dataframe tbody tr th {\n",
       "        vertical-align: top;\n",
       "    }\n",
       "\n",
       "    .dataframe thead th {\n",
       "        text-align: right;\n",
       "    }\n",
       "</style>\n",
       "<table border=\"1\" class=\"dataframe\">\n",
       "  <thead>\n",
       "    <tr style=\"text-align: right;\">\n",
       "      <th></th>\n",
       "      <th>Number of Coefficients</th>\n",
       "      <th>CV RMSE</th>\n",
       "      <th>CV AUC</th>\n",
       "    </tr>\n",
       "  </thead>\n",
       "  <tbody>\n",
       "    <tr>\n",
       "      <th>M1</th>\n",
       "      <td>9.0</td>\n",
       "      <td>0.460674</td>\n",
       "      <td>0.613843</td>\n",
       "    </tr>\n",
       "    <tr>\n",
       "      <th>M2</th>\n",
       "      <td>16.0</td>\n",
       "      <td>0.459420</td>\n",
       "      <td>0.621715</td>\n",
       "    </tr>\n",
       "    <tr>\n",
       "      <th>M3</th>\n",
       "      <td>39.0</td>\n",
       "      <td>0.425950</td>\n",
       "      <td>0.756894</td>\n",
       "    </tr>\n",
       "    <tr>\n",
       "      <th>M4</th>\n",
       "      <td>83.0</td>\n",
       "      <td>0.427940</td>\n",
       "      <td>0.752939</td>\n",
       "    </tr>\n",
       "    <tr>\n",
       "      <th>M5</th>\n",
       "      <td>142.0</td>\n",
       "      <td>0.424820</td>\n",
       "      <td>0.759597</td>\n",
       "    </tr>\n",
       "    <tr>\n",
       "      <th>LASSO</th>\n",
       "      <td>124.0</td>\n",
       "      <td>0.423188</td>\n",
       "      <td>0.764132</td>\n",
       "    </tr>\n",
       "    <tr>\n",
       "      <th>RF</th>\n",
       "      <td>n.a.</td>\n",
       "      <td>0.422956</td>\n",
       "      <td>0.759925</td>\n",
       "    </tr>\n",
       "  </tbody>\n",
       "</table>\n",
       "</div>"
      ],
      "text/plain": [
       "      Number of Coefficients   CV RMSE    CV AUC\n",
       "M1                       9.0  0.460674  0.613843\n",
       "M2                      16.0  0.459420  0.621715\n",
       "M3                      39.0  0.425950  0.756894\n",
       "M4                      83.0  0.427940  0.752939\n",
       "M5                     142.0  0.424820  0.759597\n",
       "LASSO                  124.0  0.423188  0.764132\n",
       "RF                      n.a.  0.422956  0.759925"
      ]
     },
     "execution_count": 66,
     "metadata": {},
     "output_type": "execute_result"
    }
   ],
   "source": [
    "summary.loc[\"RF\", \"Number of Coefficients\"] = \"n.a.\"\n",
    "summary.loc[\"RF\", \"CV RMSE\"] = prob_forest_best_results[\"cv_rmse\"].values[0]\n",
    "summary.loc[\"RF\", \"CV AUC\"] = prob_forest_best_results[\"cv_auc\"].values[0]\n",
    "summary"
   ]
  },
  {
   "cell_type": "markdown",
   "id": "2f2dc562",
   "metadata": {},
   "source": [
    "Extract fold level RMSE and AUC"
   ]
  },
  {
   "cell_type": "code",
   "execution_count": 67,
   "id": "da5ef2e0",
   "metadata": {},
   "outputs": [],
   "source": [
    "CV_RMSE_folds[\"RF\"] = np.sqrt(\n",
    "    pd.DataFrame(prob_forest_fit.cv_results_)\n",
    "    .filter(like=\"_test_neg_brier_score\")\n",
    "    .loc[lambda x: x[\"rank_test_neg_brier_score\"] == 1]\n",
    "    .filter(like=\"split\")\n",
    "    .values[0]\n",
    "    * -1\n",
    ")\n",
    "CV_AUC_folds[\"RF\"] = (\n",
    "    pd.DataFrame(prob_forest_fit.cv_results_)\n",
    "    .filter(like=\"_test_roc_auc\")\n",
    "    .loc[lambda x: x[\"rank_test_roc_auc\"] == 1]\n",
    "    .filter(like=\"split\")\n",
    "    .values[0]\n",
    ")"
   ]
  },
  {
   "cell_type": "code",
   "execution_count": 68,
   "id": "767cf920",
   "metadata": {},
   "outputs": [
    {
     "data": {
      "text/html": [
       "<div>\n",
       "<style scoped>\n",
       "    .dataframe tbody tr th:only-of-type {\n",
       "        vertical-align: middle;\n",
       "    }\n",
       "\n",
       "    .dataframe tbody tr th {\n",
       "        vertical-align: top;\n",
       "    }\n",
       "\n",
       "    .dataframe thead th {\n",
       "        text-align: right;\n",
       "    }\n",
       "</style>\n",
       "<table border=\"1\" class=\"dataframe\">\n",
       "  <thead>\n",
       "    <tr style=\"text-align: right;\">\n",
       "      <th></th>\n",
       "      <th>M1</th>\n",
       "      <th>M2</th>\n",
       "      <th>M3</th>\n",
       "      <th>M4</th>\n",
       "      <th>M5</th>\n",
       "      <th>LASSO</th>\n",
       "      <th>RF</th>\n",
       "    </tr>\n",
       "  </thead>\n",
       "  <tbody>\n",
       "    <tr>\n",
       "      <th>0</th>\n",
       "      <td>0.461470</td>\n",
       "      <td>0.460013</td>\n",
       "      <td>0.428654</td>\n",
       "      <td>0.428550</td>\n",
       "      <td>0.426438</td>\n",
       "      <td>0.424751</td>\n",
       "      <td>0.424511</td>\n",
       "    </tr>\n",
       "    <tr>\n",
       "      <th>1</th>\n",
       "      <td>0.460920</td>\n",
       "      <td>0.459791</td>\n",
       "      <td>0.425748</td>\n",
       "      <td>0.430150</td>\n",
       "      <td>0.425970</td>\n",
       "      <td>0.423301</td>\n",
       "      <td>0.423488</td>\n",
       "    </tr>\n",
       "    <tr>\n",
       "      <th>2</th>\n",
       "      <td>0.460404</td>\n",
       "      <td>0.459428</td>\n",
       "      <td>0.425690</td>\n",
       "      <td>0.425333</td>\n",
       "      <td>0.424104</td>\n",
       "      <td>0.423299</td>\n",
       "      <td>0.421458</td>\n",
       "    </tr>\n",
       "    <tr>\n",
       "      <th>3</th>\n",
       "      <td>0.458947</td>\n",
       "      <td>0.457780</td>\n",
       "      <td>0.423631</td>\n",
       "      <td>0.425801</td>\n",
       "      <td>0.422958</td>\n",
       "      <td>0.421435</td>\n",
       "      <td>0.421074</td>\n",
       "    </tr>\n",
       "    <tr>\n",
       "      <th>4</th>\n",
       "      <td>0.461629</td>\n",
       "      <td>0.460089</td>\n",
       "      <td>0.426028</td>\n",
       "      <td>0.429865</td>\n",
       "      <td>0.424632</td>\n",
       "      <td>0.423152</td>\n",
       "      <td>0.423300</td>\n",
       "    </tr>\n",
       "  </tbody>\n",
       "</table>\n",
       "</div>"
      ],
      "text/plain": [
       "         M1        M2        M3        M4        M5     LASSO        RF\n",
       "0  0.461470  0.460013  0.428654  0.428550  0.426438  0.424751  0.424511\n",
       "1  0.460920  0.459791  0.425748  0.430150  0.425970  0.423301  0.423488\n",
       "2  0.460404  0.459428  0.425690  0.425333  0.424104  0.423299  0.421458\n",
       "3  0.458947  0.457780  0.423631  0.425801  0.422958  0.421435  0.421074\n",
       "4  0.461629  0.460089  0.426028  0.429865  0.424632  0.423152  0.423300"
      ]
     },
     "execution_count": 68,
     "metadata": {},
     "output_type": "execute_result"
    }
   ],
   "source": [
    "pd.DataFrame(CV_RMSE_folds)"
   ]
  },
  {
   "cell_type": "code",
   "execution_count": 69,
   "id": "d850d211",
   "metadata": {},
   "outputs": [
    {
     "data": {
      "text/html": [
       "<div>\n",
       "<style scoped>\n",
       "    .dataframe tbody tr th:only-of-type {\n",
       "        vertical-align: middle;\n",
       "    }\n",
       "\n",
       "    .dataframe tbody tr th {\n",
       "        vertical-align: top;\n",
       "    }\n",
       "\n",
       "    .dataframe thead th {\n",
       "        text-align: right;\n",
       "    }\n",
       "</style>\n",
       "<table border=\"1\" class=\"dataframe\">\n",
       "  <thead>\n",
       "    <tr style=\"text-align: right;\">\n",
       "      <th></th>\n",
       "      <th>M1</th>\n",
       "      <th>M2</th>\n",
       "      <th>M3</th>\n",
       "      <th>M4</th>\n",
       "      <th>M5</th>\n",
       "      <th>LASSO</th>\n",
       "      <th>RF</th>\n",
       "    </tr>\n",
       "  </thead>\n",
       "  <tbody>\n",
       "    <tr>\n",
       "      <th>0</th>\n",
       "      <td>0.613108</td>\n",
       "      <td>0.622561</td>\n",
       "      <td>0.749787</td>\n",
       "      <td>0.751323</td>\n",
       "      <td>0.755098</td>\n",
       "      <td>0.759533</td>\n",
       "      <td>0.754790</td>\n",
       "    </tr>\n",
       "    <tr>\n",
       "      <th>1</th>\n",
       "      <td>0.608639</td>\n",
       "      <td>0.615537</td>\n",
       "      <td>0.756278</td>\n",
       "      <td>0.744721</td>\n",
       "      <td>0.755567</td>\n",
       "      <td>0.763282</td>\n",
       "      <td>0.755233</td>\n",
       "    </tr>\n",
       "    <tr>\n",
       "      <th>2</th>\n",
       "      <td>0.616205</td>\n",
       "      <td>0.621698</td>\n",
       "      <td>0.757925</td>\n",
       "      <td>0.759755</td>\n",
       "      <td>0.761568</td>\n",
       "      <td>0.764309</td>\n",
       "      <td>0.765356</td>\n",
       "    </tr>\n",
       "    <tr>\n",
       "      <th>3</th>\n",
       "      <td>0.621129</td>\n",
       "      <td>0.627135</td>\n",
       "      <td>0.763061</td>\n",
       "      <td>0.758284</td>\n",
       "      <td>0.764106</td>\n",
       "      <td>0.767640</td>\n",
       "      <td>0.764526</td>\n",
       "    </tr>\n",
       "    <tr>\n",
       "      <th>4</th>\n",
       "      <td>0.610134</td>\n",
       "      <td>0.621644</td>\n",
       "      <td>0.757416</td>\n",
       "      <td>0.750611</td>\n",
       "      <td>0.761646</td>\n",
       "      <td>0.765896</td>\n",
       "      <td>0.759719</td>\n",
       "    </tr>\n",
       "  </tbody>\n",
       "</table>\n",
       "</div>"
      ],
      "text/plain": [
       "         M1        M2        M3        M4        M5     LASSO        RF\n",
       "0  0.613108  0.622561  0.749787  0.751323  0.755098  0.759533  0.754790\n",
       "1  0.608639  0.615537  0.756278  0.744721  0.755567  0.763282  0.755233\n",
       "2  0.616205  0.621698  0.757925  0.759755  0.761568  0.764309  0.765356\n",
       "3  0.621129  0.627135  0.763061  0.758284  0.764106  0.767640  0.764526\n",
       "4  0.610134  0.621644  0.757416  0.750611  0.761646  0.765896  0.759719"
      ]
     },
     "execution_count": 69,
     "metadata": {},
     "output_type": "execute_result"
    }
   ],
   "source": [
    "pd.DataFrame(CV_AUC_folds)"
   ]
  },
  {
   "cell_type": "markdown",
   "id": "05418dfd",
   "metadata": {},
   "source": [
    "Now use loss function and search for best thresholds and expected loss over folds "
   ]
  },
  {
   "cell_type": "code",
   "execution_count": 70,
   "id": "c4c06e9f",
   "metadata": {},
   "outputs": [],
   "source": [
    "best_thresholds = list()\n",
    "expected_loss = list()\n",
    "rfvars_train = pd.DataFrame(rfvars_train)\n",
    "\n",
    "fold = 0\n",
    "for train_index, test_index in k.split(rfvars_train):\n",
    "    X_fold = rfvars_train.iloc[test_index, :]\n",
    "    y_fold = data_train[\"fast_growth\"].iloc[test_index]\n",
    "\n",
    "    X_fold_train = rfvars_train.iloc[train_index, :]\n",
    "    y_fold_train = data_train[\"fast_growth\"].iloc[train_index]\n",
    "\n",
    "    prob_forest_best = RandomForestClassifier(\n",
    "        random_state=42,\n",
    "        n_estimators=500,\n",
    "        oob_score=True,\n",
    "        criterion=\"gini\",\n",
    "        max_features=best_mtry,\n",
    "        min_samples_split=best_min_node_size,\n",
    "    )\n",
    "    prob_forest_best_fold = prob_forest_best.fit(X_fold_train, y_fold_train)\n",
    "    pred_fold = prob_forest_best_fold.predict_proba(X_fold)[:, 1]\n",
    "\n",
    "    false_pos_rate, true_pos_rate, threshold = roc_curve(y_fold, pred_fold)\n",
    "    best_threshold = sorted(\n",
    "        list(\n",
    "            zip(\n",
    "                np.abs(\n",
    "                    true_pos_rate\n",
    "                    + (1 - prevelance) / (cost * prevelance) * (1 - false_pos_rate)\n",
    "                ),\n",
    "                threshold,\n",
    "            )\n",
    "        ),\n",
    "        key=lambda x: x[0],\n",
    "        reverse=True,\n",
    "    )[0][1]\n",
    "    best_thresholds.append(best_threshold)\n",
    "    threshold_prediction = np.where(pred_fold < best_threshold, 0, 1)\n",
    "    tn, fp, fn, tp = confusion_matrix(\n",
    "        y_fold, threshold_prediction, labels=[0, 1]\n",
    "    ).ravel()\n",
    "    curr_exp_loss = (fp * FP + fn * FN) / len(y_fold)\n",
    "    expected_loss.append(curr_exp_loss)\n",
    "\n",
    "fold5_threshold_rf = best_threshold\n",
    "fold5_expected_loss_rf = curr_exp_loss\n",
    "\n",
    "all_coords_rf = pd.DataFrame(\n",
    "    {\n",
    "        \"false_pos\": false_pos_rate * sum(y_fold == 0),\n",
    "        \"true_pos\": true_pos_rate * sum(y_fold == 1),\n",
    "        \"false_neg\": sum(y_fold == 1) - true_pos_rate * sum(y_fold == 1),\n",
    "        \"true_neg\": sum(y_fold == 0) - false_pos_rate * sum(y_fold == 0),\n",
    "        \"pos\": sum(y_fold == 1),\n",
    "        \"neg\": sum(y_fold == 0),\n",
    "        \"n\": len(y_fold),\n",
    "        \"thresholds\": threshold,\n",
    "    }\n",
    ")\n",
    "\n"
   ]
  },
  {
   "cell_type": "code",
   "execution_count": 71,
   "id": "ea60794f",
   "metadata": {},
   "outputs": [],
   "source": [
    "expected_loss_cv[\"RF\"] = np.mean(expected_loss)\n",
    "best_thresholds_cv[\"RF\"] = np.mean(best_thresholds)"
   ]
  },
  {
   "cell_type": "code",
   "execution_count": 72,
   "id": "023f7057",
   "metadata": {},
   "outputs": [
    {
     "data": {
      "text/html": [
       "<div>\n",
       "<style scoped>\n",
       "    .dataframe tbody tr th:only-of-type {\n",
       "        vertical-align: middle;\n",
       "    }\n",
       "\n",
       "    .dataframe tbody tr th {\n",
       "        vertical-align: top;\n",
       "    }\n",
       "\n",
       "    .dataframe thead th {\n",
       "        text-align: right;\n",
       "    }\n",
       "</style>\n",
       "<table border=\"1\" class=\"dataframe\">\n",
       "  <thead>\n",
       "    <tr style=\"text-align: right;\">\n",
       "      <th></th>\n",
       "      <th>CV RMSE</th>\n",
       "      <th>CV AUC</th>\n",
       "      <th>Avg of optimal thresholds</th>\n",
       "      <th>Threshold for Fold5</th>\n",
       "      <th>Avg expected loss</th>\n",
       "      <th>Expected loss for Fold5</th>\n",
       "    </tr>\n",
       "  </thead>\n",
       "  <tbody>\n",
       "    <tr>\n",
       "      <th>0</th>\n",
       "      <td>0.423</td>\n",
       "      <td>0.76</td>\n",
       "      <td>0.363</td>\n",
       "      <td>0.364</td>\n",
       "      <td>0.419</td>\n",
       "      <td>0.416</td>\n",
       "    </tr>\n",
       "  </tbody>\n",
       "</table>\n",
       "</div>"
      ],
      "text/plain": [
       "   CV RMSE  CV AUC  Avg of optimal thresholds  Threshold for Fold5  \\\n",
       "0    0.423    0.76                      0.363                0.364   \n",
       "\n",
       "   Avg expected loss  Expected loss for Fold5  \n",
       "0              0.419                    0.416  "
      ]
     },
     "execution_count": 72,
     "metadata": {},
     "output_type": "execute_result"
    }
   ],
   "source": [
    "rf_summary = pd.DataFrame(\n",
    "    {\n",
    "        \"CV RMSE\": [round(prob_forest_best_results[\"cv_rmse\"].values[0], 3)],\n",
    "        \"CV AUC\": [round(prob_forest_best_results[\"cv_auc\"].values[0], 3)],\n",
    "        \"Avg of optimal thresholds\": [round(best_thresholds_cv[\"RF\"], 3)],\n",
    "        \"Threshold for Fold5\": [round(best_threshold, 3)],\n",
    "        \"Avg expected loss\": [round(expected_loss_cv[\"RF\"], 3)],\n",
    "        \"Expected loss for Fold5\": [round(curr_exp_loss, 3)],\n",
    "    }\n",
    ")\n",
    "\n",
    "rf_summary"
   ]
  },
  {
   "cell_type": "markdown",
   "id": "319a590b",
   "metadata": {},
   "source": [
    "Create plots based on Fold5 in CV "
   ]
  },
  {
   "cell_type": "code",
   "execution_count": 73,
   "id": "e70c44a4",
   "metadata": {},
   "outputs": [
    {
     "data": {
      "image/png": "[encoded data removed]",
      "text/plain": [
       "<Figure size 640x480 with 1 Axes>"
      ]
     },
     "metadata": {},
     "output_type": "display_data"
    },
    {
     "data": {
      "text/plain": [
       "<ggplot: (8787537545343)>"
      ]
     },
     "execution_count": 73,
     "metadata": {},
     "output_type": "execute_result"
    }
   ],
   "source": [
    "create_loss_plot(all_coords_rf, fold5_threshold_rf, fold5_expected_loss_rf)"
   ]
  },
  {
   "cell_type": "code",
   "execution_count": 74,
   "id": "eeb6402a",
   "metadata": {},
   "outputs": [
    {
     "data": {
      "image/png": "[encoded data removed]",
      "text/plain": [
       "<Figure size 640x480 with 1 Axes>"
      ]
     },
     "metadata": {},
     "output_type": "display_data"
    },
    {
     "data": {
      "text/plain": [
       "<ggplot: (8787460045282)>"
      ]
     },
     "execution_count": 74,
     "metadata": {},
     "output_type": "execute_result"
    }
   ],
   "source": [
    "create_roc_plot_with_optimal(all_coords_rf, fold5_threshold_rf)"
   ]
  },
  {
   "cell_type": "markdown",
   "id": "f03144a4",
   "metadata": {},
   "source": [
    "Take model to holdout and estimate RMSE, AUC and expected loss "
   ]
  },
  {
   "cell_type": "code",
   "execution_count": 75,
   "id": "15e4a8c5",
   "metadata": {},
   "outputs": [
    {
     "data": {
      "text/plain": [
       "0.423"
      ]
     },
     "execution_count": 75,
     "metadata": {},
     "output_type": "execute_result"
    }
   ],
   "source": [
    "prob_forest_fit_best = prob_forest_fit.best_estimator_\n",
    "rf_predicted_probabilities_holdout = prob_forest_fit_best.predict_proba(rfvars_holdout)[\n",
    "    :, 1\n",
    "]\n",
    "rmse_rf = np.sqrt(mean_squared_error(y_holdout, rf_predicted_probabilities_holdout))\n",
    "round(rmse_rf, 3)"
   ]
  },
  {
   "cell_type": "markdown",
   "id": "0f1d5726",
   "metadata": {},
   "source": [
    "ROC AUC  on holdout"
   ]
  },
  {
   "cell_type": "code",
   "execution_count": 76,
   "id": "04c34d4e",
   "metadata": {},
   "outputs": [
    {
     "data": {
      "text/plain": [
       "0.76"
      ]
     },
     "execution_count": 76,
     "metadata": {},
     "output_type": "execute_result"
    }
   ],
   "source": [
    "auc_rf = roc_auc_score(y_holdout, rf_predicted_probabilities_holdout)\n",
    "round(auc_rf, 3)"
   ]
  },
  {
   "cell_type": "markdown",
   "id": "51e6aea3",
   "metadata": {},
   "source": [
    " Get expected loss on holdout"
   ]
  },
  {
   "cell_type": "code",
   "execution_count": 77,
   "id": "b64d8053",
   "metadata": {},
   "outputs": [
    {
     "data": {
      "text/plain": [
       "0.421"
      ]
     },
     "execution_count": 77,
     "metadata": {},
     "output_type": "execute_result"
    }
   ],
   "source": [
    "holdout_treshold = np.where(\n",
    "    rf_predicted_probabilities_holdout < best_thresholds_cv[\"RF\"], 0, 1\n",
    ")\n",
    "tn, fp, fn, tp = confusion_matrix(y_holdout, holdout_treshold, labels=[0, 1]).ravel()\n",
    "expected_loss_holdout = (fp * FP + fn * FN) / len(y_holdout)\n",
    "round(expected_loss_holdout, 3)"
   ]
  }
 ],
 "metadata": {
  "kernelspec": {
   "display_name": "Python 3 (ipykernel)",
   "language": "python",
   "name": "python3"
  },
  "language_info": {
   "codemirror_mode": {
    "name": "ipython",
    "version": 3
   },
   "file_extension": ".py",
   "mimetype": "text/x-python",
   "name": "python",
   "nbconvert_exporter": "python",
   "pygments_lexer": "ipython3",
   "version": "3.9.7"
  }
 },
 "nbformat": 4,
 "nbformat_minor": 5
}
