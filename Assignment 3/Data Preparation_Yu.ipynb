{
 "cells": [
  {
   "cell_type": "markdown",
   "id": "13be267d",
   "metadata": {},
   "source": [
    "# Prediction with Machine Learning for Economists - Assignment 3\n",
    "\n",
    "## - *Data Preparation Part*"
   ]
  },
  {
   "cell_type": "markdown",
   "id": "e656faf1",
   "metadata": {},
   "source": [
    "Done by: Yu Xu\n",
    "    \n",
    "Date: 10 March 2023"
   ]
  },
  {
   "cell_type": "code",
   "execution_count": 1,
   "id": "2a460316",
   "metadata": {},
   "outputs": [],
   "source": [
    "import os\n",
    "import sys\n",
    "import warnings\n",
    "\n",
    "import numpy as np\n",
    "import pandas as pd\n",
    "import statsmodels.formula.api as smf\n",
    "from plotnine import *\n",
    "\n",
    "warnings.filterwarnings(\"ignore\")"
   ]
  },
  {
   "cell_type": "code",
   "execution_count": 2,
   "id": "9c6f5c9e",
   "metadata": {},
   "outputs": [],
   "source": [
    "# Import the prewritten helper functions\n",
    "from py_helper_functions import *"
   ]
  },
  {
   "cell_type": "markdown",
   "id": "a3059d2b",
   "metadata": {},
   "source": [
    "## Import Data"
   ]
  },
  {
   "cell_type": "code",
   "execution_count": 3,
   "id": "b74d1768",
   "metadata": {},
   "outputs": [],
   "source": [
    "data = pd.read_csv(\"cs_bisnode_panel.csv\")"
   ]
  },
  {
   "cell_type": "code",
   "execution_count": 4,
   "id": "6d463293",
   "metadata": {},
   "outputs": [
    {
     "name": "stdout",
     "output_type": "stream",
     "text": [
      "comp_id                      0\n",
      "begin                        0\n",
      "end                          0\n",
      "COGS                    269572\n",
      "amort                     8040\n",
      "curr_assets                131\n",
      "curr_liab                  131\n",
      "extra_exp                18529\n",
      "extra_inc                18529\n",
      "extra_profit_loss        17203\n",
      "finished_prod           270344\n",
      "fixed_assets               131\n",
      "inc_bef_tax               7437\n",
      "intang_assets              140\n",
      "inventories                131\n",
      "liq_assets                 131\n",
      "material_exp              8040\n",
      "net_dom_sales           269572\n",
      "net_exp_sales           269572\n",
      "personnel_exp             8040\n",
      "profit_loss_year          9884\n",
      "sales                     7437\n",
      "share_eq                   131\n",
      "subscribed_cap             131\n",
      "tang_assets               1470\n",
      "wages                   269846\n",
      "D                       287829\n",
      "balsheet_flag                0\n",
      "balsheet_length              0\n",
      "balsheet_notfullyear         0\n",
      "year                         0\n",
      "founded_year             56457\n",
      "exit_year               248970\n",
      "ceo_count                56427\n",
      "foreign                  56427\n",
      "female                   56427\n",
      "birth_year              111818\n",
      "inoffice_days            56427\n",
      "gender                   56427\n",
      "origin                   56427\n",
      "nace_main                 1038\n",
      "ind2                      1038\n",
      "ind                       9769\n",
      "urban_m                      0\n",
      "region_m                   840\n",
      "founded_date                51\n",
      "exit_date               231649\n",
      "labor_avg               146532\n",
      "dtype: int64\n"
     ]
    }
   ],
   "source": [
    "# check missing values\n",
    "missing_vals = data.isnull().sum()\n",
    "print(missing_vals)"
   ]
  },
  {
   "cell_type": "code",
   "execution_count": 5,
   "id": "f40a9a52",
   "metadata": {},
   "outputs": [],
   "source": [
    "# drop variables with many NAs\n",
    "data = data.drop(\n",
    "    columns=[\"COGS\", \"finished_prod\", \"net_dom_sales\", \"net_exp_sales\", \"wages\"]\n",
    ")\n",
    "data = data.query(\"year !=2016\")"
   ]
  },
  {
   "cell_type": "markdown",
   "id": "a688e305",
   "metadata": {},
   "source": [
    "## Lable Engineering"
   ]
  },
  {
   "cell_type": "code",
   "execution_count": 6,
   "id": "a8f974a0",
   "metadata": {},
   "outputs": [],
   "source": [
    "# add all missing year and comp_id combinations -\n",
    "# originally missing combinations will have NAs in all other columns\n",
    "data = (\n",
    "    data.set_index([\"year\", \"comp_id\"])\n",
    "    .unstack(fill_value=\"toReplace\")\n",
    "    .stack()\n",
    "    .reset_index()\n",
    ")\n",
    "data = data.replace(\"toReplace\", np.nan)  # only way I could define it as NaN"
   ]
  },
  {
   "cell_type": "code",
   "execution_count": 7,
   "id": "ba81b637",
   "metadata": {},
   "outputs": [],
   "source": [
    "# scale sales by million and make log transformation\n",
    "data[\"sales\"] = np.where(\n",
    "    data[\"sales\"] < 0, 1, data[\"sales\"]\n",
    ")  # has to be outside of assin()\n",
    "data = data.assign(\n",
    "    ln_sales=np.where(\n",
    "        data[\"sales\"] > 0,\n",
    "        np.log(data[\"sales\"]),\n",
    "        (np.where(data[\"sales\"].isna(), np.nan, 0)),\n",
    "    ),  # NaN remain NaN\n",
    "    sales_mil=data[\"sales\"] / 1000000,\n",
    "    sales_mil_log=np.where(\n",
    "        data[\"sales\"] > 0,\n",
    "        np.log(data[\"sales\"] / 1000000),\n",
    "        (np.where(data[\"sales\"].isna(), np.nan, 0)),\n",
    "    ),\n",
    ")"
   ]
  },
  {
   "cell_type": "code",
   "execution_count": 8,
   "id": "8fcc86b0",
   "metadata": {},
   "outputs": [],
   "source": [
    "# define growth rate (log subtraction)\n",
    "data[\"d1_sales_mil_log\"] = data[\"sales_mil_log\"] - data.groupby(\"comp_id\")[\n",
    "    \"sales_mil_log\"\n",
    "].shift(1)"
   ]
  },
  {
   "cell_type": "code",
   "execution_count": 9,
   "id": "8212eaf7",
   "metadata": {},
   "outputs": [],
   "source": [
    "# replace w 0 for new firms + add dummy to capture it\n",
    "data[\"age\"] = np.where(\n",
    "    data[\"year\"] - data[\"founded_year\"] < 0, 0, data[\"year\"] - data[\"founded_year\"]\n",
    ")\n",
    "data[\"new\"] = np.where(\n",
    "    ((data[\"age\"] <= 1) | (data[\"balsheet_notfullyear\"] == 1)),\n",
    "    1,\n",
    "    (np.where(data[\"age\"].isna(), np.nan, 0)),\n",
    ")\n",
    "data[\"d1_sales_mil_log\"] = np.where(\n",
    "    data[\"new\"] == 1, 0, np.where(data[\"new\"].isna(), np.nan, data[\"d1_sales_mil_log\"])\n",
    ")\n",
    "data[\"new\"] = np.where(data[\"d1_sales_mil_log\"].isna(), 1, data[\"new\"])\n",
    "data[\"d1_sales_mil_log\"] = np.where(\n",
    "    data[\"d1_sales_mil_log\"].isna(), 0, data[\"d1_sales_mil_log\"]\n",
    ")"
   ]
  },
  {
   "cell_type": "code",
   "execution_count": 10,
   "id": "36ee17db",
   "metadata": {},
   "outputs": [],
   "source": [
    "# scale profit/loss by sales and generate the first difference\n",
    "data[\"profit_loss_year_pl\"] = data[\"profit_loss_year\"].div(\n",
    "    data[\"sales\"], axis=\"index\"\n",
    ")\n",
    "data[\"profit_loss_year_pl\"] = np.where(\n",
    "    data[\"profit_loss_year_pl\"].isna(), np.nan, np.where((data[\"profit_loss_year_pl\"] < -1), -1, data[\"profit_loss_year_pl\"])\n",
    ")\n",
    "data[\"profit_loss_year_pl\"] = np.where(\n",
    "    data[\"profit_loss_year_pl\"].isna(), np.nan, np.where((data[\"profit_loss_year_pl\"] > 1), 1, data[\"profit_loss_year_pl\"])\n",
    ")\n",
    "data[\"d1_profit_loss_year_pl\"] = data[\"profit_loss_year_pl\"] - data.groupby(\"comp_id\")[\n",
    "    \"profit_loss_year_pl\"\n",
    "].shift(1)\n",
    "data[\"d1_profit_loss_year_pl\"] = np.where(\n",
    "    data[\"d1_profit_loss_year_pl\"].isna(), 0, data[\"d1_profit_loss_year_pl\"]\n",
    ")"
   ]
  },
  {
   "cell_type": "code",
   "execution_count": 11,
   "id": "68fcbb5f",
   "metadata": {},
   "outputs": [],
   "source": [
    "# Keep data from 2010 to 2015\n",
    "data = data.query(\"2010 <= year <= 2015\")"
   ]
  },
  {
   "cell_type": "code",
   "execution_count": 12,
   "id": "678a6ad7",
   "metadata": {},
   "outputs": [
    {
     "data": {
      "text/plain": [
       "count    278472.000000\n",
       "mean          0.042740\n",
       "std           1.063275\n",
       "min         -13.815511\n",
       "25%           0.000000\n",
       "50%           0.000000\n",
       "75%           0.000000\n",
       "max          14.634809\n",
       "Name: d1_sales_mil_log, dtype: float64"
      ]
     },
     "execution_count": 12,
     "metadata": {},
     "output_type": "execute_result"
    }
   ],
   "source": [
    "data[\"d1_sales_mil_log\"].describe()"
   ]
  },
  {
   "cell_type": "code",
   "execution_count": 13,
   "id": "046d9fa8",
   "metadata": {},
   "outputs": [],
   "source": [
    "# generate fast_growth; if sales growth rate is larger than the average sales growth rate plus\n",
    "# the standard devidation, then the firm is fast growing \n",
    "data[\"fast_growth\"] = ((data[\"d1_sales_mil_log\"] > 0.1)   #((data[\"d1_sales_mil_log\"].mean()) + 1/2 * (data[\"d1_sales_mil_log\"].std()))) \n",
    "                       & (False == data[\"d1_sales_mil_log\"].isna())).astype(int)"
   ]
  },
  {
   "cell_type": "code",
   "execution_count": 14,
   "id": "b6c1d450",
   "metadata": {},
   "outputs": [
    {
     "data": {
      "text/plain": [
       "0    234899\n",
       "1     43573\n",
       "Name: fast_growth, dtype: int64"
      ]
     },
     "execution_count": 14,
     "metadata": {},
     "output_type": "execute_result"
    }
   ],
   "source": [
    "data[\"fast_growth\"].value_counts()"
   ]
  },
  {
   "cell_type": "markdown",
   "id": "42279ec5",
   "metadata": {},
   "source": [
    "## Sample Design"
   ]
  },
  {
   "cell_type": "markdown",
   "id": "846b3304",
   "metadata": {},
   "source": [
    "I have already kept data from 2010 to 2015 in the previous part."
   ]
  },
  {
   "cell_type": "code",
   "execution_count": 15,
   "id": "01ade4d0",
   "metadata": {},
   "outputs": [],
   "source": [
    "# look at firms below 10m euro revenues and above 1000 euros\n",
    "data = data.query(\"sales_mil<=10 & sales_mil>=0.001\")"
   ]
  },
  {
   "cell_type": "code",
   "execution_count": 16,
   "id": "11655ec1",
   "metadata": {},
   "outputs": [
    {
     "data": {
      "text/plain": [
       "0    90514\n",
       "1    37841\n",
       "Name: fast_growth, dtype: int64"
      ]
     },
     "execution_count": 16,
     "metadata": {},
     "output_type": "execute_result"
    }
   ],
   "source": [
    "data[\"fast_growth\"].value_counts()"
   ]
  },
  {
   "cell_type": "code",
   "execution_count": 17,
   "id": "76800068",
   "metadata": {},
   "outputs": [
    {
     "data": {
      "text/plain": [
       "count    128355.000000\n",
       "mean          0.294815\n",
       "std           0.455961\n",
       "min           0.000000\n",
       "25%           0.000000\n",
       "50%           0.000000\n",
       "75%           1.000000\n",
       "max           1.000000\n",
       "Name: fast_growth, dtype: float64"
      ]
     },
     "execution_count": 17,
     "metadata": {},
     "output_type": "execute_result"
    }
   ],
   "source": [
    "data[\"fast_growth\"].describe()"
   ]
  },
  {
   "cell_type": "markdown",
   "id": "e208ded4",
   "metadata": {},
   "source": [
    "## Feature Engineering"
   ]
  },
  {
   "cell_type": "code",
   "execution_count": 18,
   "id": "2025b673",
   "metadata": {},
   "outputs": [],
   "source": [
    "# generate year category variable\n",
    "data[\"year_m\"] = data[\"year\"].astype(\"category\")"
   ]
  },
  {
   "cell_type": "code",
   "execution_count": 19,
   "id": "790ddd0c",
   "metadata": {},
   "outputs": [],
   "source": [
    "# change some industry category codes\n",
    "data[\"ind2_cat\"] = data[\"ind2\"].copy()\n",
    "data[\"ind2_cat\"] = np.where(data[\"ind2\"] > 56, 60, data[\"ind2_cat\"])\n",
    "data[\"ind2_cat\"] = np.where(data[\"ind2\"] < 26, 20, data[\"ind2_cat\"])\n",
    "data[\"ind2_cat\"] = np.where(\n",
    "    (data[\"ind2\"] < 55) & (data[\"ind2\"] > 35), 40, data[\"ind2_cat\"]\n",
    ")\n",
    "data[\"ind2_cat\"] = np.where(data[\"ind2\"] == 31, 30, data[\"ind2_cat\"])\n",
    "data[\"ind2_cat\"] = np.where(data[\"ind2\"].isna(), 99, data[\"ind2_cat\"])"
   ]
  },
  {
   "cell_type": "code",
   "execution_count": 20,
   "id": "ecaf258d",
   "metadata": {},
   "outputs": [
    {
     "data": {
      "text/plain": [
       "ind2_cat\n",
       "20.0      310\n",
       "26.0     6428\n",
       "27.0     3898\n",
       "28.0    11606\n",
       "29.0     1703\n",
       "30.0     1017\n",
       "32.0      829\n",
       "33.0    11371\n",
       "35.0        2\n",
       "40.0     1250\n",
       "55.0    13637\n",
       "56.0    74806\n",
       "60.0     1460\n",
       "99.0       38\n",
       "Name: comp_id, dtype: int64"
      ]
     },
     "execution_count": 20,
     "metadata": {},
     "output_type": "execute_result"
    }
   ],
   "source": [
    "data.groupby(\"ind2_cat\").count()[\"comp_id\"]"
   ]
  },
  {
   "cell_type": "code",
   "execution_count": 21,
   "id": "6c8c753a",
   "metadata": {},
   "outputs": [],
   "source": [
    "# Firm characteristics\n",
    "data[\"age2\"] = data[\"age\"] ** 2\n",
    "data[\"foreign_management\"] = np.where(\n",
    "    data[\"foreign\"] >= 0.5, 1, np.where(data[\"foreign\"].isna(), np.nan, 0)\n",
    ")\n",
    "data[\"gender_m\"] = data[\"gender\"].astype(\"category\")\n",
    "data[\"m_region_loc\"] = data[\"region_m\"].astype(\"category\")"
   ]
  },
  {
   "cell_type": "code",
   "execution_count": 22,
   "id": "ae2ee043",
   "metadata": {},
   "outputs": [
    {
     "data": {
      "text/plain": [
       "flag_asset_problem\n",
       "0.0    128260\n",
       "1.0        65\n",
       "Name: comp_id, dtype: int64"
      ]
     },
     "execution_count": 22,
     "metadata": {},
     "output_type": "execute_result"
    }
   ],
   "source": [
    "###########################################################\n",
    "# look at more financial variables, create ratios\n",
    "###########################################################\n",
    "\n",
    "# assets can't be negative. Change them to 0 and add a flag.\n",
    "data[\"flag_asset_problem\"] = np.where(\n",
    "    (\n",
    "        (data[\"intang_assets\"] < 0)\n",
    "        | (data[\"curr_assets\"] < 0)\n",
    "        | (data[\"fixed_assets\"] < 0)\n",
    "    ),\n",
    "    1,\n",
    "    0,\n",
    ")\n",
    "data[\"flag_asset_problem\"] = np.where(\n",
    "    (\n",
    "        (data[\"intang_assets\"].isna())\n",
    "        | (data[\"curr_assets\"].isna())\n",
    "        | (data[\"fixed_assets\"].isna())\n",
    "    ),\n",
    "    np.nan,\n",
    "    data[\"flag_asset_problem\"],\n",
    ")\n",
    "data.groupby(\"flag_asset_problem\").count()[\"comp_id\"]"
   ]
  },
  {
   "cell_type": "code",
   "execution_count": 23,
   "id": "ba8a315e",
   "metadata": {},
   "outputs": [],
   "source": [
    "data[\"intang_assets\"] = np.where(data[\"intang_assets\"] < 0, 0, data[\"intang_assets\"])\n",
    "data[\"curr_assets\"] = np.where(data[\"curr_assets\"] < 0, 0, data[\"curr_assets\"])\n",
    "data[\"fixed_assets\"] = np.where(data[\"fixed_assets\"] < 0, 0, data[\"fixed_assets\"])"
   ]
  },
  {
   "cell_type": "code",
   "execution_count": 24,
   "id": "bcf7ef60",
   "metadata": {},
   "outputs": [
    {
     "data": {
      "text/plain": [
       "count    1.283250e+05\n",
       "mean     2.715624e+05\n",
       "std      1.875274e+06\n",
       "min      0.000000e+00\n",
       "25%      7.577778e+03\n",
       "50%      2.635556e+04\n",
       "75%      1.037222e+05\n",
       "max      3.190691e+08\n",
       "Name: total_assets_bs, dtype: float64"
      ]
     },
     "execution_count": 24,
     "metadata": {},
     "output_type": "execute_result"
    }
   ],
   "source": [
    "# generate total assets\n",
    "data[\"total_assets_bs\"] = (\n",
    "    data[\"intang_assets\"] + data[\"curr_assets\"] + data[\"fixed_assets\"]\n",
    ")\n",
    "data[\"total_assets_bs\"].describe()"
   ]
  },
  {
   "cell_type": "code",
   "execution_count": 25,
   "id": "7cf31e81",
   "metadata": {},
   "outputs": [],
   "source": [
    "# deal with financial varaiables\n",
    "pl_names = [\n",
    "    \"extra_exp\",\n",
    "    \"extra_inc\",\n",
    "    \"extra_profit_loss\",\n",
    "    \"inc_bef_tax\",\n",
    "    \"inventories\",\n",
    "    \"material_exp\",\n",
    "    \"profit_loss_year\",\n",
    "    \"personnel_exp\",\n",
    "]\n",
    "bs_names = [\n",
    "    \"intang_assets\",\n",
    "    \"curr_liab\",\n",
    "    \"fixed_assets\",\n",
    "    \"liq_assets\",\n",
    "    \"curr_assets\",\n",
    "    \"share_eq\",\n",
    "    \"subscribed_cap\",\n",
    "    \"tang_assets\",\n",
    "]"
   ]
  },
  {
   "cell_type": "code",
   "execution_count": 26,
   "id": "563f04ac",
   "metadata": {},
   "outputs": [],
   "source": [
    "# divide all pl_names elements by sales and create new column for it\n",
    "data[[col + \"_pl\" for col in pl_names]] = data[pl_names].div(\n",
    "    data[\"sales\"], axis=\"index\"\n",
    ")"
   ]
  },
  {
   "cell_type": "code",
   "execution_count": 27,
   "id": "230ff9c8",
   "metadata": {},
   "outputs": [],
   "source": [
    "# divide all bs_names elements by total_assets_bs and create new column for it\n",
    "data[[col + \"_bs\" for col in bs_names]] = (\n",
    "    data[bs_names]\n",
    "    .div(data[\"total_assets_bs\"], axis=\"index\")\n",
    "    .replace((np.inf, -np.inf, np.nan), (0, 0, 0))\n",
    ")\n",
    "# get Nan values where total_assets_bs is NaN\n",
    "for col in bs_names:\n",
    "    data[col + \"_bs\"] = np.where(\n",
    "        data[\"total_assets_bs\"].isna(), np.nan, data[col + \"_bs\"]\n",
    "    )"
   ]
  },
  {
   "cell_type": "code",
   "execution_count": 28,
   "id": "bfda8179",
   "metadata": {},
   "outputs": [],
   "source": [
    "########################################################################\n",
    "# creating flags, and winsorizing tails\n",
    "########################################################################\n",
    "\n",
    "# Variables that represent accounting items that cannot be negative (e.g. materials)\n",
    "zero = [\n",
    "    \"extra_exp_pl\",\n",
    "    \"extra_inc_pl\",\n",
    "    \"inventories_pl\",\n",
    "    \"material_exp_pl\",\n",
    "    \"personnel_exp_pl\",\n",
    "    \"curr_liab_bs\",\n",
    "    \"fixed_assets_bs\",\n",
    "    \"liq_assets_bs\",\n",
    "    \"curr_assets_bs\",\n",
    "    \"subscribed_cap_bs\",\n",
    "    \"intang_assets_bs\",\n",
    "]\n",
    "\n",
    "data[[col + \"_flag_high\" for col in zero]] = np.where(\n",
    "    data[zero].isna(), np.nan, (data[zero] > 1).astype(int)\n",
    ")\n",
    "data[[col for col in zero]] = np.where(\n",
    "    data[zero].isna(), np.nan, np.where(data[zero] > 1, 1, data[zero])\n",
    ")\n",
    "data[[col + \"_flag_error\" for col in zero]] = np.where(\n",
    "    data[zero].isna(), np.nan, (data[zero] < 0).astype(int)\n",
    ")\n",
    "data[[col for col in zero]] = np.where(\n",
    "    data[zero].isna(), np.nan, np.where(data[zero] < 0, 0, data[zero])\n",
    ")"
   ]
  },
  {
   "cell_type": "code",
   "execution_count": 29,
   "id": "c2530fc4",
   "metadata": {},
   "outputs": [],
   "source": [
    "# for vars that could be any, but are mostly between -1 and 1\n",
    "anyof = [\"extra_profit_loss_pl\", \"inc_bef_tax_pl\", \"profit_loss_year_pl\", \"share_eq_bs\"]\n",
    "\n",
    "data[[col + \"_flag_low\" for col in anyof]] = np.where(\n",
    "    data[anyof].isna(), np.nan, (data[anyof] < -1).astype(int)\n",
    ")\n",
    "data[[col for col in anyof]] = np.where(\n",
    "    data[anyof].isna(), np.nan, np.where((data[anyof] < -1), -1, data[anyof])\n",
    ")\n",
    "data[[col + \"_flag_high\" for col in anyof]] = np.where(\n",
    "    data[anyof].isna(), np.nan, (data[anyof] > 1).astype(int)\n",
    ")\n",
    "data[[col for col in anyof]] = np.where(\n",
    "    data[anyof].isna(), np.nan, np.where((data[anyof] > 1), 1, data[anyof])\n",
    ")\n",
    "data[[col + \"_flag_zero\" for col in anyof]] = np.where(\n",
    "    data[anyof].isna(), np.nan, (data[anyof] == 0).astype(int)\n",
    ")\n",
    "data[[col + \"_quad\" for col in anyof]] = np.where(\n",
    "    data[anyof].isna(), np.nan, data[anyof] ** 2\n",
    ")"
   ]
  },
  {
   "cell_type": "code",
   "execution_count": 30,
   "id": "cf3855a7",
   "metadata": {},
   "outputs": [],
   "source": [
    "# dropping flags with no variation\n",
    "flag_columns = [col for col in data.columns if \"flag\" in col]\n",
    "data = data.drop(\n",
    "    data[flag_columns].std()[(data[flag_columns].std() == 0)].index, axis=1\n",
    ")"
   ]
  },
  {
   "cell_type": "code",
   "execution_count": 31,
   "id": "76c035a0",
   "metadata": {},
   "outputs": [],
   "source": [
    "########################################################################\n",
    "# additional\n",
    "# including some imputation\n",
    "########################################################################\n",
    "\n",
    "# CEO age\n",
    "data[\"ceo_age\"] = data[\"year\"] - data[\"birth_year\"]\n",
    "data = data.assign(\n",
    "    flag_low_ceo_age=(data[\"ceo_age\"] < 25).astype(int),\n",
    "    flag_high_ceo_age=(data[\"ceo_age\"] > 75).astype(int),\n",
    "    flag_miss_ceo_age=(data[\"ceo_age\"].isna()).astype(int),\n",
    ")\n",
    "\n",
    "\n",
    "data[\"ceo_age\"] = np.where(data[\"ceo_age\"] < 25, 25, data[\"ceo_age\"])\n",
    "data[\"ceo_age\"] = np.where(data[\"ceo_age\"] > 75, 75, data[\"ceo_age\"])\n",
    "data[\"ceo_age\"] = np.where(\n",
    "    data[\"ceo_age\"].isna(), data[\"ceo_age\"].mean(), data[\"ceo_age\"]\n",
    ")\n",
    "data[\"ceo_young\"] = (data[\"ceo_age\"] < 40).astype(int)"
   ]
  },
  {
   "cell_type": "code",
   "execution_count": 32,
   "id": "ee29d60d",
   "metadata": {},
   "outputs": [],
   "source": [
    "# number emp, very noisy measure\n",
    "data[\"labor_avg_mod\"] = np.where(\n",
    "    data[\"labor_avg\"].isna(), data[\"labor_avg\"].mean(), data[\"labor_avg\"]\n",
    ")\n",
    "data[\"flag_miss_labor_avg\"] = (data[\"labor_avg\"].isna()).astype(int)"
   ]
  },
  {
   "cell_type": "code",
   "execution_count": 33,
   "id": "70a90455",
   "metadata": {},
   "outputs": [
    {
     "data": {
      "text/plain": [
       "count    104401.000000\n",
       "mean          0.666376\n",
       "std           1.712817\n",
       "min           0.000000\n",
       "25%           0.111111\n",
       "50%           0.250000\n",
       "75%           0.568182\n",
       "max          64.583336\n",
       "Name: labor_avg, dtype: float64"
      ]
     },
     "execution_count": 33,
     "metadata": {},
     "output_type": "execute_result"
    }
   ],
   "source": [
    "data[\"labor_avg\"].describe()"
   ]
  },
  {
   "cell_type": "code",
   "execution_count": 34,
   "id": "0fee38ec",
   "metadata": {},
   "outputs": [
    {
     "data": {
      "text/plain": [
       "count    128355.000000\n",
       "mean          0.666376\n",
       "std           1.544744\n",
       "min           0.000000\n",
       "25%           0.151515\n",
       "50%           0.340278\n",
       "75%           0.666376\n",
       "max          64.583336\n",
       "Name: labor_avg_mod, dtype: float64"
      ]
     },
     "execution_count": 34,
     "metadata": {},
     "output_type": "execute_result"
    }
   ],
   "source": [
    "data[\"labor_avg_mod\"].describe()"
   ]
  },
  {
   "cell_type": "code",
   "execution_count": 35,
   "id": "affd0137",
   "metadata": {},
   "outputs": [],
   "source": [
    "data = data.drop([\"labor_avg\"], axis=1)"
   ]
  },
  {
   "cell_type": "code",
   "execution_count": 36,
   "id": "47eb2ab4",
   "metadata": {},
   "outputs": [],
   "source": [
    "# create category type variables\n",
    "data[\"urban_m\"] = data[\"urban_m\"].astype(\"category\")\n",
    "data[\"ind2_cat\"] = data[\"ind2_cat\"].astype(\"category\")\n",
    "data[\"fast_growth_f\"] = data[\"fast_growth\"].astype(\"category\")\n",
    "data[\"fast_growth_f\"] = data[\"fast_growth_f\"].cat.rename_categories([\"low growth\", \"fast growth\"])"
   ]
  },
  {
   "cell_type": "code",
   "execution_count": 37,
   "id": "a5bbfef7",
   "metadata": {},
   "outputs": [],
   "source": [
    "########################################################################\n",
    "# sales\n",
    "########################################################################\n",
    "data[\"sales_mil_log_sq\"] = data[\"sales_mil_log\"] ** 2"
   ]
  },
  {
   "cell_type": "markdown",
   "id": "8542222c",
   "metadata": {},
   "source": [
    "There is a slightly inverted U-shaped relationship between sales_mil_log and fast_growth, with fast_growth increasing with sales_mil_log at the beginning and then decreasing after reaching a certain level, which is consistent with the regression results. This is because when sales_mil_log is large to a certain degree, the increase rate decreases because of the large base."
   ]
  },
  {
   "cell_type": "code",
   "execution_count": 39,
   "id": "ab699b83",
   "metadata": {},
   "outputs": [
    {
     "data": {
      "image/png": "[encoded data removed]",
      "text/plain": [
       "<Figure size 640x480 with 1 Axes>"
      ]
     },
     "metadata": {},
     "output_type": "display_data"
    },
    {
     "data": {
      "text/plain": [
       "<ggplot: (8794193998957)>"
      ]
     },
     "execution_count": 39,
     "metadata": {},
     "output_type": "execute_result"
    }
   ],
   "source": [
    "(\n",
    "    ggplot(data, aes(x=\"sales_mil_log\", y=\"fast_growth\"))\n",
    "    + geom_point(color=color[0])\n",
    "    + geom_smooth(method=\"lm\", formula=\"y ~ x + I(x**2)\", color=color[1], se=False)\n",
    "    + geom_smooth(method=\"loess\", color=color[2], se=False, size=1.5, span=0.9)\n",
    "    + labs(x=\"sales_mil_log\", y=\"fast_growth\")\n",
    "    + theme_bw()\n",
    ")"
   ]
  },
  {
   "cell_type": "code",
   "execution_count": 40,
   "id": "74320e79",
   "metadata": {
    "scrolled": false
   },
   "outputs": [
    {
     "name": "stdout",
     "output_type": "stream",
     "text": [
      "                            OLS Regression Results                            \n",
      "==============================================================================\n",
      "Dep. Variable:            fast_growth   R-squared:                       0.034\n",
      "Model:                            OLS   Adj. R-squared:                  0.034\n",
      "Method:                 Least Squares   F-statistic:                     2252.\n",
      "Date:                Fri, 10 Mar 2023   Prob (F-statistic):               0.00\n",
      "Time:                        22:23:30   Log-Likelihood:                -79110.\n",
      "No. Observations:              128355   AIC:                         1.582e+05\n",
      "Df Residuals:                  128352   BIC:                         1.583e+05\n",
      "Df Model:                           2                                         \n",
      "Covariance Type:            nonrobust                                         \n",
      "====================================================================================\n",
      "                       coef    std err          t      P>|t|      [0.025      0.975]\n",
      "------------------------------------------------------------------------------------\n",
      "Intercept            0.4281      0.003    146.233      0.000       0.422       0.434\n",
      "sales_mil_log        0.0332      0.002     17.870      0.000       0.030       0.037\n",
      "sales_mil_log_sq    -0.0028      0.000     -9.082      0.000      -0.003      -0.002\n",
      "==============================================================================\n",
      "Omnibus:                    73305.033   Durbin-Watson:                   1.974\n",
      "Prob(Omnibus):                  0.000   Jarque-Bera (JB):            22157.761\n",
      "Skew:                           0.849   Prob(JB):                         0.00\n",
      "Kurtosis:                       1.878   Cond. No.                         42.8\n",
      "==============================================================================\n",
      "\n",
      "Notes:\n",
      "[1] Standard Errors assume that the covariance matrix of the errors is correctly specified.\n"
     ]
    }
   ],
   "source": [
    "# Linear regressions\n",
    "ols_s = smf.ols(\"fast_growth ~ sales_mil_log + sales_mil_log_sq\", data=data).fit()\n",
    "print(ols_s.summary())"
   ]
  },
  {
   "cell_type": "markdown",
   "id": "c30fca32",
   "metadata": {},
   "source": [
    "There are very similar patterns for the profit & loss change (d1_profit_loss_year_pl) and sales chage with fast_growth, which indicates the profit & loss change is a very important variable for predictions (I created the target variable based on the sales change, so I don't include it into predictions)."
   ]
  },
  {
   "cell_type": "code",
   "execution_count": 41,
   "id": "1909be95",
   "metadata": {},
   "outputs": [
    {
     "data": {
      "image/png": "[encoded data removed]",
      "text/plain": [
       "<Figure size 640x480 with 1 Axes>"
      ]
     },
     "metadata": {},
     "output_type": "display_data"
    },
    {
     "data": {
      "text/plain": [
       "<ggplot: (8794006493522)>"
      ]
     },
     "execution_count": 41,
     "metadata": {},
     "output_type": "execute_result"
    }
   ],
   "source": [
    "########################################################################\n",
    "# Profit and loss change & sales change\n",
    "########################################################################\n",
    "\n",
    "# lowess\n",
    "(\n",
    "    ggplot(data, aes(x=\"d1_profit_loss_year_pl\", y=\"fast_growth\"))\n",
    "    + geom_point(color=color[1])\n",
    "    + geom_smooth(method=\"loess\", color=color[0], se=False, size=1.5, span=0.9)\n",
    "    + labs(x=\"Change of profit and loss\", y=\"fast_growth\")\n",
    "    + scale_x_continuous()\n",
    "    + theme_bw()\n",
    ")\n"
   ]
  },
  {
   "cell_type": "code",
   "execution_count": 42,
   "id": "1e996f59",
   "metadata": {},
   "outputs": [
    {
     "data": {
      "image/png": "[encoded data removed]",
      "text/plain": [
       "<Figure size 640x480 with 1 Axes>"
      ]
     },
     "metadata": {},
     "output_type": "display_data"
    },
    {
     "data": {
      "text/plain": [
       "<ggplot: (8794010882347)>"
      ]
     },
     "execution_count": 42,
     "metadata": {},
     "output_type": "execute_result"
    }
   ],
   "source": [
    "(\n",
    "    ggplot(data, aes(x=\"d1_sales_mil_log\", y=\"fast_growth\"))\n",
    "    + geom_point(color=color[1])\n",
    "    + geom_smooth(method=\"loess\", color=color[0], se=False, size=1.5, span=0.9)\n",
    "    + labs(x=\"Growth rate (Diff of ln sales)\", y=\"fast_growth\")\n",
    "    + scale_x_continuous(limits=(-6, 10), breaks=seq(-5, 10, by=5))\n",
    "    + theme_bw()\n",
    ")"
   ]
  },
  {
   "cell_type": "code",
   "execution_count": 43,
   "id": "5af1f5e2",
   "metadata": {},
   "outputs": [],
   "source": [
    "# generate variables ---------------------------------------------------\n",
    "\n",
    "data[\"flag_low_d1_sales_mil_log\"] = np.where(data[\"d1_sales_mil_log\"] < -1.5, 1, 0)\n",
    "data[\"flag_high_d1_sales_mil_log\"] = np.where(data[\"d1_sales_mil_log\"] > 1.5, 1, 0)\n",
    "data[\"d1_sales_mil_log_mod\"] = np.where(\n",
    "    data[\"d1_sales_mil_log\"] < -1.5,\n",
    "    -1.5,\n",
    "    np.where(data[\"d1_sales_mil_log\"] > 1.5, 1.5, data[\"d1_sales_mil_log\"]),\n",
    ")\n",
    "data[\"d1_sales_mil_log_mod_sq\"] = data[\"d1_sales_mil_log_mod\"] ** 2"
   ]
  },
  {
   "cell_type": "code",
   "execution_count": 44,
   "id": "a4d933a1",
   "metadata": {},
   "outputs": [],
   "source": [
    "data[\"flag_low_d1_profit_loss_year_pl\"] = np.where(data[\"d1_profit_loss_year_pl\"] < -1.5, 1, 0)\n",
    "data[\"flag_high_d1_profit_loss_year_pl\"] = np.where(data[\"d1_profit_loss_year_pl\"] > 1.5, 1, 0)\n",
    "data[\"d1_profit_loss_year_pl_mod\"] = np.where(\n",
    "    data[\"d1_profit_loss_year_pl\"] < -1.5,\n",
    "    -1.5,\n",
    "    np.where(data[\"d1_profit_loss_year_pl\"] > 1.5, 1.5, data[\"d1_profit_loss_year_pl\"]),\n",
    ")\n",
    "data[\"d1_profit_loss_year_pl_mod_sq\"] = data[\"d1_profit_loss_year_pl_mod\"] ** 2"
   ]
  },
  {
   "cell_type": "code",
   "execution_count": 45,
   "id": "72815b5d",
   "metadata": {},
   "outputs": [],
   "source": [
    "# no more imputation, drop obs if key vars missing\n",
    "data = data.dropna(subset=[\"liq_assets_bs\", \"foreign\", \"ind\"])"
   ]
  },
  {
   "cell_type": "code",
   "execution_count": 46,
   "id": "48919945",
   "metadata": {},
   "outputs": [
    {
     "data": {
      "image/png": "[encoded data removed]",
      "text/plain": [
       "<Figure size 640x480 with 1 Axes>"
      ]
     },
     "metadata": {},
     "output_type": "display_data"
    },
    {
     "data": {
      "text/plain": [
       "<ggplot: (8794176009114)>"
      ]
     },
     "execution_count": 46,
     "metadata": {},
     "output_type": "execute_result"
    }
   ],
   "source": [
    "(\n",
    "    ggplot(data, aes(x=\"d1_sales_mil_log\", y=\"d1_sales_mil_log_mod\"))\n",
    "    + geom_point(size=0.1, color=color[1])\n",
    "    + labs(\n",
    "        x=\"Growth rate (Diff of ln sales) (original)\",\n",
    "        y=\"Growth rate (Diff of ln sales) (winsorized)\",\n",
    "    )\n",
    "    + scale_x_continuous(limits=(-5, 5), breaks=seq(-5, 5, by=1))\n",
    "    + scale_y_continuous(limits=(-3, 3), breaks=seq(-3, 3, by=1))\n",
    "    + theme_bw()\n",
    ")"
   ]
  },
  {
   "cell_type": "code",
   "execution_count": 47,
   "id": "d17144d8",
   "metadata": {},
   "outputs": [
    {
     "data": {
      "image/png": "[encoded data removed]",
      "text/plain": [
       "<Figure size 640x480 with 1 Axes>"
      ]
     },
     "metadata": {},
     "output_type": "display_data"
    },
    {
     "data": {
      "text/plain": [
       "<ggplot: (8794058311075)>"
      ]
     },
     "execution_count": 47,
     "metadata": {},
     "output_type": "execute_result"
    }
   ],
   "source": [
    "(\n",
    "    ggplot(data, aes(x=\"d1_profit_loss_year_pl\", y=\"d1_profit_loss_year_pl_mod\"))\n",
    "    + geom_point(size=0.1, color=color[1])\n",
    "    + labs(\n",
    "        x=\"Change of profit and loss (original)\",\n",
    "        y=\"Change of profit and loss (winsorized)\",\n",
    "    )\n",
    "    + scale_x_continuous()\n",
    "    + scale_y_continuous(limits=(-3, 3), breaks=seq(-3, 3, by=1))\n",
    "    + theme_bw()\n",
    ")"
   ]
  },
  {
   "cell_type": "code",
   "execution_count": 48,
   "id": "5a923065",
   "metadata": {},
   "outputs": [
    {
     "name": "stdout",
     "output_type": "stream",
     "text": [
      "year                                  0\n",
      "comp_id                               0\n",
      "begin                                 0\n",
      "end                                   0\n",
      "amort                               183\n",
      "                                   ... \n",
      "d1_sales_mil_log_mod_sq               0\n",
      "flag_low_d1_profit_loss_year_pl       0\n",
      "flag_high_d1_profit_loss_year_pl      0\n",
      "d1_profit_loss_year_pl_mod            0\n",
      "d1_profit_loss_year_pl_mod_sq         0\n",
      "Length: 123, dtype: int64\n"
     ]
    }
   ],
   "source": [
    "# Check which columns have missing values\n",
    "null_cols = data.isnull().sum()\n",
    "print(null_cols)"
   ]
  },
  {
   "cell_type": "code",
   "execution_count": 49,
   "id": "320fa6b7",
   "metadata": {},
   "outputs": [
    {
     "name": "stdout",
     "output_type": "stream",
     "text": [
      "['amort', 'extra_exp', 'extra_inc', 'extra_profit_loss', 'material_exp', 'personnel_exp', 'profit_loss_year', 'D', 'founded_year', 'exit_year', 'birth_year', 'region_m', 'founded_date', 'exit_date', 'age', 'profit_loss_year_pl', 'age2', 'm_region_loc', 'extra_exp_pl', 'extra_inc_pl', 'extra_profit_loss_pl', 'material_exp_pl', 'personnel_exp_pl', 'extra_exp_pl_flag_high', 'extra_inc_pl_flag_high', 'material_exp_pl_flag_high', 'personnel_exp_pl_flag_high', 'extra_exp_pl_flag_error', 'extra_inc_pl_flag_error', 'material_exp_pl_flag_error', 'personnel_exp_pl_flag_error', 'extra_profit_loss_pl_flag_low', 'profit_loss_year_pl_flag_low', 'extra_profit_loss_pl_flag_high', 'profit_loss_year_pl_flag_high', 'extra_profit_loss_pl_flag_zero', 'profit_loss_year_pl_flag_zero', 'extra_profit_loss_pl_quad', 'profit_loss_year_pl_quad']\n"
     ]
    }
   ],
   "source": [
    "# Find columns with missing values\n",
    "missing_cols = null_cols[null_cols > 0].index.tolist()\n",
    "print(missing_cols)"
   ]
  },
  {
   "cell_type": "code",
   "execution_count": 50,
   "id": "35bdcfa5",
   "metadata": {},
   "outputs": [
    {
     "data": {
      "text/plain": [
       "amort                                183\n",
       "extra_exp                              4\n",
       "extra_inc                              4\n",
       "extra_profit_loss                      5\n",
       "material_exp                         183\n",
       "personnel_exp                        183\n",
       "profit_loss_year                       4\n",
       "D                                 113152\n",
       "founded_year                           6\n",
       "exit_year                         102622\n",
       "birth_year                         15694\n",
       "region_m                             308\n",
       "founded_date                           6\n",
       "exit_date                         102622\n",
       "age                                    6\n",
       "profit_loss_year_pl                    4\n",
       "age2                                   6\n",
       "m_region_loc                         308\n",
       "extra_exp_pl                           4\n",
       "extra_inc_pl                           4\n",
       "extra_profit_loss_pl                   5\n",
       "material_exp_pl                      183\n",
       "personnel_exp_pl                     183\n",
       "extra_exp_pl_flag_high                 4\n",
       "extra_inc_pl_flag_high                 4\n",
       "material_exp_pl_flag_high            183\n",
       "personnel_exp_pl_flag_high           183\n",
       "extra_exp_pl_flag_error                4\n",
       "extra_inc_pl_flag_error                4\n",
       "material_exp_pl_flag_error           183\n",
       "personnel_exp_pl_flag_error          183\n",
       "extra_profit_loss_pl_flag_low          5\n",
       "profit_loss_year_pl_flag_low           4\n",
       "extra_profit_loss_pl_flag_high         5\n",
       "profit_loss_year_pl_flag_high          4\n",
       "extra_profit_loss_pl_flag_zero         5\n",
       "profit_loss_year_pl_flag_zero          4\n",
       "extra_profit_loss_pl_quad              5\n",
       "profit_loss_year_pl_quad               4\n",
       "dtype: int64"
      ]
     },
     "execution_count": 50,
     "metadata": {},
     "output_type": "execute_result"
    }
   ],
   "source": [
    "data[missing_cols].isnull().sum()"
   ]
  },
  {
   "cell_type": "code",
   "execution_count": 51,
   "id": "48d6a344",
   "metadata": {},
   "outputs": [],
   "source": [
    "data = data.drop(\n",
    "    columns=[\"D\", \"exit_year\", \"birth_year\", \"exit_date\"]\n",
    ")"
   ]
  },
  {
   "cell_type": "code",
   "execution_count": 52,
   "id": "58068c26",
   "metadata": {},
   "outputs": [],
   "source": [
    "data = data.dropna()"
   ]
  },
  {
   "cell_type": "code",
   "execution_count": 53,
   "id": "20986940",
   "metadata": {},
   "outputs": [
    {
     "data": {
      "text/plain": [
       "0    76254\n",
       "1    36400\n",
       "Name: fast_growth, dtype: int64"
      ]
     },
     "execution_count": 53,
     "metadata": {},
     "output_type": "execute_result"
    }
   ],
   "source": [
    "data[\"fast_growth\"].value_counts()"
   ]
  },
  {
   "cell_type": "code",
   "execution_count": 54,
   "id": "943b02d9",
   "metadata": {},
   "outputs": [],
   "source": [
    "data.to_csv(\"bisnode_firms_clean.csv\", index=False)"
   ]
  }
 ],
 "metadata": {
  "kernelspec": {
   "display_name": "Python 3 (ipykernel)",
   "language": "python",
   "name": "python3"
  },
  "language_info": {
   "codemirror_mode": {
    "name": "ipython",
    "version": 3
   },
   "file_extension": ".py",
   "mimetype": "text/x-python",
   "name": "python",
   "nbconvert_exporter": "python",
   "pygments_lexer": "ipython3",
   "version": "3.9.7"
  }
 },
 "nbformat": 4,
 "nbformat_minor": 5
}
