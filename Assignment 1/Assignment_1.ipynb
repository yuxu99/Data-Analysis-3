{
 "cells": [
  {
   "cell_type": "markdown",
   "id": "21707829",
   "metadata": {},
   "source": [
    "# Prediction with Machine Learning for Economists - Assignment 1"
   ]
  },
  {
   "cell_type": "markdown",
   "id": "7d6c3ab3",
   "metadata": {},
   "source": [
    "Done by: Yu Xu\n",
    "    \n",
    "Date: 20 January 2023"
   ]
  },
  {
   "cell_type": "markdown",
   "id": "d6c8b960",
   "metadata": {},
   "source": [
    "## Using the cps-earnings dataset"
   ]
  },
  {
   "cell_type": "code",
   "execution_count": 1,
   "id": "eafa92e9",
   "metadata": {},
   "outputs": [],
   "source": [
    "import os\n",
    "import sys\n",
    "import warnings\n",
    "\n",
    "import numpy as np\n",
    "import pandas as pd\n",
    "import statsmodels.formula.api as smf\n",
    "from mizani.formatters import percent_format\n",
    "from plotnine import *\n",
    "from stargazer import stargazer\n",
    "from statsmodels.tools.eval_measures import mse, rmse\n",
    "from sklearn.model_selection import KFold\n",
    "import matplotlib.pyplot as plt\n",
    "\n",
    "warnings.filterwarnings(\"ignore\")"
   ]
  },
  {
   "cell_type": "code",
   "execution_count": 2,
   "id": "ceedd157",
   "metadata": {},
   "outputs": [],
   "source": [
    "df = pd.read_csv(\"morg-2014-emp.csv\", header=0, sep=',')"
   ]
  },
  {
   "cell_type": "markdown",
   "id": "35f96bb9",
   "metadata": {},
   "source": [
    "## Select occupation"
   ]
  },
  {
   "cell_type": "code",
   "execution_count": 3,
   "id": "cb70f263",
   "metadata": {},
   "outputs": [],
   "source": [
    "# select occupation of Financial managers\n",
    "df = df[df[\"occ2012\"] == 120]"
   ]
  },
  {
   "cell_type": "code",
   "execution_count": 4,
   "id": "c9126c2b",
   "metadata": {},
   "outputs": [],
   "source": [
    "df[\"female\"] = (df[\"sex\"] == 2)\n",
    "df[\"w\"] = df[\"earnwke\"] / df[\"uhours\"]\n",
    "df[\"agesq\"] = np.power(df[\"age\"], 2)\n",
    "df[\"agecu\"] = np.power(df[\"age\"], 3)\n",
    "df[\"agequ\"] = np.power(df[\"age\"], 4)"
   ]
  },
  {
   "cell_type": "code",
   "execution_count": 5,
   "id": "ad19ee07",
   "metadata": {},
   "outputs": [
    {
     "data": {
      "text/html": [
       "<div>\n",
       "<style scoped>\n",
       "    .dataframe tbody tr th:only-of-type {\n",
       "        vertical-align: middle;\n",
       "    }\n",
       "\n",
       "    .dataframe tbody tr th {\n",
       "        vertical-align: top;\n",
       "    }\n",
       "\n",
       "    .dataframe thead th {\n",
       "        text-align: right;\n",
       "    }\n",
       "</style>\n",
       "<table border=\"1\" class=\"dataframe\">\n",
       "  <thead>\n",
       "    <tr style=\"text-align: right;\">\n",
       "      <th></th>\n",
       "      <th>Unnamed: 0</th>\n",
       "      <th>hhid</th>\n",
       "      <th>weight</th>\n",
       "      <th>earnwke</th>\n",
       "      <th>uhours</th>\n",
       "      <th>grade92</th>\n",
       "      <th>race</th>\n",
       "      <th>ethnic</th>\n",
       "      <th>age</th>\n",
       "      <th>sex</th>\n",
       "      <th>marital</th>\n",
       "      <th>ownchild</th>\n",
       "      <th>chldpres</th>\n",
       "      <th>occ2012</th>\n",
       "      <th>w</th>\n",
       "      <th>agesq</th>\n",
       "      <th>agecu</th>\n",
       "      <th>agequ</th>\n",
       "    </tr>\n",
       "  </thead>\n",
       "  <tbody>\n",
       "    <tr>\n",
       "      <th>count</th>\n",
       "      <td>1401.000000</td>\n",
       "      <td>1.401000e+03</td>\n",
       "      <td>1401.000000</td>\n",
       "      <td>1401.000000</td>\n",
       "      <td>1401.000000</td>\n",
       "      <td>1401.000000</td>\n",
       "      <td>1401.000000</td>\n",
       "      <td>129.000000</td>\n",
       "      <td>1401.000000</td>\n",
       "      <td>1401.000000</td>\n",
       "      <td>1401.000000</td>\n",
       "      <td>1401.000000</td>\n",
       "      <td>1401.000000</td>\n",
       "      <td>1401.0</td>\n",
       "      <td>1401.000000</td>\n",
       "      <td>1401.000000</td>\n",
       "      <td>1401.000000</td>\n",
       "      <td>1.401000e+03</td>\n",
       "    </tr>\n",
       "    <tr>\n",
       "      <th>mean</th>\n",
       "      <td>155081.858672</td>\n",
       "      <td>4.310620e+14</td>\n",
       "      <td>2338.850700</td>\n",
       "      <td>1449.602984</td>\n",
       "      <td>43.483226</td>\n",
       "      <td>42.094932</td>\n",
       "      <td>1.329051</td>\n",
       "      <td>3.038760</td>\n",
       "      <td>43.750892</td>\n",
       "      <td>1.566024</td>\n",
       "      <td>2.687366</td>\n",
       "      <td>0.746610</td>\n",
       "      <td>2.078515</td>\n",
       "      <td>120.0</td>\n",
       "      <td>33.088933</td>\n",
       "      <td>2034.213419</td>\n",
       "      <td>99378.329051</td>\n",
       "      <td>5.049173e+06</td>\n",
       "    </tr>\n",
       "    <tr>\n",
       "      <th>std</th>\n",
       "      <td>90117.632860</td>\n",
       "      <td>3.159658e+14</td>\n",
       "      <td>1274.784592</td>\n",
       "      <td>744.818125</td>\n",
       "      <td>7.433892</td>\n",
       "      <td>1.818236</td>\n",
       "      <td>1.079453</td>\n",
       "      <td>2.596281</td>\n",
       "      <td>10.961689</td>\n",
       "      <td>0.495799</td>\n",
       "      <td>2.481513</td>\n",
       "      <td>1.025756</td>\n",
       "      <td>3.208623</td>\n",
       "      <td>0.0</td>\n",
       "      <td>16.047050</td>\n",
       "      <td>954.882104</td>\n",
       "      <td>65807.868036</td>\n",
       "      <td>4.213125e+06</td>\n",
       "    </tr>\n",
       "    <tr>\n",
       "      <th>min</th>\n",
       "      <td>32.000000</td>\n",
       "      <td>2.370603e+10</td>\n",
       "      <td>203.934000</td>\n",
       "      <td>0.030000</td>\n",
       "      <td>10.000000</td>\n",
       "      <td>34.000000</td>\n",
       "      <td>1.000000</td>\n",
       "      <td>1.000000</td>\n",
       "      <td>17.000000</td>\n",
       "      <td>1.000000</td>\n",
       "      <td>1.000000</td>\n",
       "      <td>0.000000</td>\n",
       "      <td>0.000000</td>\n",
       "      <td>120.0</td>\n",
       "      <td>0.000600</td>\n",
       "      <td>289.000000</td>\n",
       "      <td>4913.000000</td>\n",
       "      <td>8.352100e+04</td>\n",
       "    </tr>\n",
       "    <tr>\n",
       "      <th>25%</th>\n",
       "      <td>75489.000000</td>\n",
       "      <td>1.204641e+14</td>\n",
       "      <td>1209.166500</td>\n",
       "      <td>865.000000</td>\n",
       "      <td>40.000000</td>\n",
       "      <td>40.000000</td>\n",
       "      <td>1.000000</td>\n",
       "      <td>1.000000</td>\n",
       "      <td>35.000000</td>\n",
       "      <td>1.000000</td>\n",
       "      <td>1.000000</td>\n",
       "      <td>0.000000</td>\n",
       "      <td>0.000000</td>\n",
       "      <td>120.0</td>\n",
       "      <td>20.200000</td>\n",
       "      <td>1225.000000</td>\n",
       "      <td>42875.000000</td>\n",
       "      <td>1.500625e+06</td>\n",
       "    </tr>\n",
       "    <tr>\n",
       "      <th>50%</th>\n",
       "      <td>153045.000000</td>\n",
       "      <td>4.016130e+14</td>\n",
       "      <td>2708.352700</td>\n",
       "      <td>1259.610000</td>\n",
       "      <td>40.000000</td>\n",
       "      <td>43.000000</td>\n",
       "      <td>1.000000</td>\n",
       "      <td>2.000000</td>\n",
       "      <td>44.000000</td>\n",
       "      <td>2.000000</td>\n",
       "      <td>1.000000</td>\n",
       "      <td>0.000000</td>\n",
       "      <td>0.000000</td>\n",
       "      <td>120.0</td>\n",
       "      <td>29.914444</td>\n",
       "      <td>1936.000000</td>\n",
       "      <td>85184.000000</td>\n",
       "      <td>3.748096e+06</td>\n",
       "    </tr>\n",
       "    <tr>\n",
       "      <th>75%</th>\n",
       "      <td>232694.000000</td>\n",
       "      <td>7.059046e+14</td>\n",
       "      <td>3284.917400</td>\n",
       "      <td>1923.070000</td>\n",
       "      <td>45.000000</td>\n",
       "      <td>43.000000</td>\n",
       "      <td>1.000000</td>\n",
       "      <td>6.000000</td>\n",
       "      <td>53.000000</td>\n",
       "      <td>2.000000</td>\n",
       "      <td>5.000000</td>\n",
       "      <td>1.000000</td>\n",
       "      <td>3.000000</td>\n",
       "      <td>120.0</td>\n",
       "      <td>43.269000</td>\n",
       "      <td>2809.000000</td>\n",
       "      <td>148877.000000</td>\n",
       "      <td>7.890481e+06</td>\n",
       "    </tr>\n",
       "    <tr>\n",
       "      <th>max</th>\n",
       "      <td>316936.000000</td>\n",
       "      <td>9.987995e+14</td>\n",
       "      <td>8930.343700</td>\n",
       "      <td>2884.610000</td>\n",
       "      <td>80.000000</td>\n",
       "      <td>46.000000</td>\n",
       "      <td>19.000000</td>\n",
       "      <td>8.000000</td>\n",
       "      <td>64.000000</td>\n",
       "      <td>2.000000</td>\n",
       "      <td>7.000000</td>\n",
       "      <td>5.000000</td>\n",
       "      <td>14.000000</td>\n",
       "      <td>120.0</td>\n",
       "      <td>115.384400</td>\n",
       "      <td>4096.000000</td>\n",
       "      <td>262144.000000</td>\n",
       "      <td>1.677722e+07</td>\n",
       "    </tr>\n",
       "  </tbody>\n",
       "</table>\n",
       "</div>"
      ],
      "text/plain": [
       "          Unnamed: 0          hhid       weight      earnwke       uhours  \\\n",
       "count    1401.000000  1.401000e+03  1401.000000  1401.000000  1401.000000   \n",
       "mean   155081.858672  4.310620e+14  2338.850700  1449.602984    43.483226   \n",
       "std     90117.632860  3.159658e+14  1274.784592   744.818125     7.433892   \n",
       "min        32.000000  2.370603e+10   203.934000     0.030000    10.000000   \n",
       "25%     75489.000000  1.204641e+14  1209.166500   865.000000    40.000000   \n",
       "50%    153045.000000  4.016130e+14  2708.352700  1259.610000    40.000000   \n",
       "75%    232694.000000  7.059046e+14  3284.917400  1923.070000    45.000000   \n",
       "max    316936.000000  9.987995e+14  8930.343700  2884.610000    80.000000   \n",
       "\n",
       "           grade92         race      ethnic          age          sex  \\\n",
       "count  1401.000000  1401.000000  129.000000  1401.000000  1401.000000   \n",
       "mean     42.094932     1.329051    3.038760    43.750892     1.566024   \n",
       "std       1.818236     1.079453    2.596281    10.961689     0.495799   \n",
       "min      34.000000     1.000000    1.000000    17.000000     1.000000   \n",
       "25%      40.000000     1.000000    1.000000    35.000000     1.000000   \n",
       "50%      43.000000     1.000000    2.000000    44.000000     2.000000   \n",
       "75%      43.000000     1.000000    6.000000    53.000000     2.000000   \n",
       "max      46.000000    19.000000    8.000000    64.000000     2.000000   \n",
       "\n",
       "           marital     ownchild     chldpres  occ2012            w  \\\n",
       "count  1401.000000  1401.000000  1401.000000   1401.0  1401.000000   \n",
       "mean      2.687366     0.746610     2.078515    120.0    33.088933   \n",
       "std       2.481513     1.025756     3.208623      0.0    16.047050   \n",
       "min       1.000000     0.000000     0.000000    120.0     0.000600   \n",
       "25%       1.000000     0.000000     0.000000    120.0    20.200000   \n",
       "50%       1.000000     0.000000     0.000000    120.0    29.914444   \n",
       "75%       5.000000     1.000000     3.000000    120.0    43.269000   \n",
       "max       7.000000     5.000000    14.000000    120.0   115.384400   \n",
       "\n",
       "             agesq          agecu         agequ  \n",
       "count  1401.000000    1401.000000  1.401000e+03  \n",
       "mean   2034.213419   99378.329051  5.049173e+06  \n",
       "std     954.882104   65807.868036  4.213125e+06  \n",
       "min     289.000000    4913.000000  8.352100e+04  \n",
       "25%    1225.000000   42875.000000  1.500625e+06  \n",
       "50%    1936.000000   85184.000000  3.748096e+06  \n",
       "75%    2809.000000  148877.000000  7.890481e+06  \n",
       "max    4096.000000  262144.000000  1.677722e+07  "
      ]
     },
     "execution_count": 5,
     "metadata": {},
     "output_type": "execute_result"
    }
   ],
   "source": [
    "# data summary\n",
    "df.describe()"
   ]
  },
  {
   "cell_type": "code",
   "execution_count": 6,
   "id": "6d51a6eb",
   "metadata": {},
   "outputs": [
    {
     "data": {
      "text/plain": [
       "Unnamed: 0       0\n",
       "hhid             0\n",
       "intmonth         0\n",
       "stfips           0\n",
       "weight           0\n",
       "earnwke          0\n",
       "uhours           0\n",
       "grade92          0\n",
       "race             0\n",
       "ethnic        1272\n",
       "age              0\n",
       "sex              0\n",
       "marital          0\n",
       "ownchild         0\n",
       "chldpres         0\n",
       "prcitshp         0\n",
       "state            0\n",
       "ind02            0\n",
       "occ2012          0\n",
       "class            0\n",
       "unionmme         0\n",
       "unioncov        36\n",
       "lfsr94           0\n",
       "female           0\n",
       "w                0\n",
       "agesq            0\n",
       "agecu            0\n",
       "agequ            0\n",
       "dtype: int64"
      ]
     },
     "execution_count": 6,
     "metadata": {},
     "output_type": "execute_result"
    }
   ],
   "source": [
    "# check missing values\n",
    "df.isna().sum()"
   ]
  },
  {
   "cell_type": "markdown",
   "id": "b6cda352",
   "metadata": {},
   "source": [
    "## Regression analysis"
   ]
  },
  {
   "cell_type": "code",
   "execution_count": 7,
   "id": "a758f68c",
   "metadata": {},
   "outputs": [],
   "source": [
    "# Linear regressions\n",
    "\n",
    "# Model 1: Linear regression\n",
    "model1 = \"w ~ female + age + female*age\"\n",
    "\n",
    "# Models 2-5: Multiple linear regressions\n",
    "\n",
    "model2 = \"w ~ female + age + female*age + agesq + race + prcitshp\"\n",
    "model3 = \"w ~ female + age + female*age + agesq + race + prcitshp + ownchild + marital + grade92 + female*grade92\"\n",
    "model4 = \"w ~ female + age + female*age + agesq + race + prcitshp + stfips + ownchild + marital + grade92 + female*grade92 + agecu + agequ + female*agecu + female*agequ\"\n",
    "\n",
    "\n",
    "model_equations = [model1, model2, model3, model4]"
   ]
  },
  {
   "cell_type": "code",
   "execution_count": 8,
   "id": "709aa4ed",
   "metadata": {},
   "outputs": [],
   "source": [
    "# OLS Regressions\n",
    "regs = []\n",
    "for equation in model_equations:\n",
    "    regs.append(smf.ols(equation, df).fit(cov_type=\"HC1\"))"
   ]
  },
  {
   "cell_type": "code",
   "execution_count": 9,
   "id": "51865bee",
   "metadata": {
    "scrolled": false
   },
   "outputs": [
    {
     "data": {
      "text/html": [
       "<table style=\"text-align:center\"><tr><td colspan=\"5\" style=\"border-bottom: 1px solid black\"></td></tr><tr><td style=\"text-align:left\"></td><td colspan=\"4\"><em>Dependent variable:w</em></td></tr><tr><td style=\"text-align:left\"></td><tr><td style=\"text-align:left\"></td><td>(1)</td><td>(2)</td><td>(3)</td><td>(4)</td></tr><tr><td colspan=\"5\" style=\"border-bottom: 1px solid black\"></td></tr><tr><td style=\"text-align:left\">Intercept</td><td>14.738<sup>***</sup></td><td>-19.926<sup>***</sup></td><td>-129.242<sup>***</sup></td><td>-114.902<sup>*</sup></td></tr><tr><td style=\"text-align:left\"></td><td>(2.440)</td><td>(6.064)</td><td>(16.298)</td><td>(59.336)</td></tr><tr><td style=\"text-align:left\">age</td><td>0.545<sup>***</sup></td><td>2.387<sup>***</sup></td><td>1.736<sup>***</sup></td><td>0.147<sup></sup></td></tr><tr><td style=\"text-align:left\"></td><td>(0.055)</td><td>(0.265)</td><td>(0.281)</td><td>(5.868)</td></tr><tr><td style=\"text-align:left\">agecu</td><td></td><td></td><td></td><td>-0.002<sup></sup></td></tr><tr><td style=\"text-align:left\"></td><td></td><td></td><td></td><td>(0.004)</td></tr><tr><td style=\"text-align:left\">agequ</td><td></td><td></td><td></td><td>0.000<sup></sup></td></tr><tr><td style=\"text-align:left\"></td><td></td><td></td><td></td><td>(0.000)</td></tr><tr><td style=\"text-align:left\">agesq</td><td></td><td>-0.021<sup>***</sup></td><td>-0.014<sup>***</sup></td><td>0.075<sup></sup></td></tr><tr><td style=\"text-align:left\"></td><td></td><td>(0.003)</td><td>(0.003)</td><td>(0.221)</td></tr><tr><td style=\"text-align:left\">female[T.True]</td><td>1.405<sup></sup></td><td>2.388<sup></sup></td><td>27.855<sup></sup></td><td>27.185<sup></sup></td></tr><tr><td style=\"text-align:left\"></td><td>(3.125)</td><td>(3.006)</td><td>(18.740)</td><td>(26.493)</td></tr><tr><td style=\"text-align:left\">female[T.True]:age</td><td>-0.252<sup>***</sup></td><td>-0.270<sup>***</sup></td><td>-0.179<sup>***</sup></td><td>-0.032<sup></sup></td></tr><tr><td style=\"text-align:left\"></td><td>(0.070)</td><td>(0.068)</td><td>(0.066)</td><td>(1.021)</td></tr><tr><td style=\"text-align:left\">female[T.True]:agecu</td><td></td><td></td><td></td><td>-0.000<sup></sup></td></tr><tr><td style=\"text-align:left\"></td><td></td><td></td><td></td><td>(0.001)</td></tr><tr><td style=\"text-align:left\">female[T.True]:agequ</td><td></td><td></td><td></td><td>0.000<sup></sup></td></tr><tr><td style=\"text-align:left\"></td><td></td><td></td><td></td><td>(0.000)</td></tr><tr><td style=\"text-align:left\">female[T.True]:grade92</td><td></td><td></td><td>-0.642<sup></sup></td><td>-0.612<sup></sup></td></tr><tr><td style=\"text-align:left\"></td><td></td><td></td><td>(0.445)</td><td>(0.447)</td></tr><tr><td style=\"text-align:left\">grade92</td><td></td><td></td><td>2.864<sup>***</sup></td><td>2.750<sup>***</sup></td></tr><tr><td style=\"text-align:left\"></td><td></td><td></td><td>(0.370)</td><td>(0.369)</td></tr><tr><td style=\"text-align:left\">marital</td><td></td><td></td><td>-0.303<sup>*</sup></td><td>-0.356<sup>**</sup></td></tr><tr><td style=\"text-align:left\"></td><td></td><td></td><td>(0.168)</td><td>(0.169)</td></tr><tr><td style=\"text-align:left\">ownchild</td><td></td><td></td><td>0.581<sup></sup></td><td>0.549<sup></sup></td></tr><tr><td style=\"text-align:left\"></td><td></td><td></td><td>(0.434)</td><td>(0.435)</td></tr><tr><td style=\"text-align:left\">prcitshp[T.Foreign Born, US Cit By Naturalization]</td><td></td><td>-0.721<sup></sup></td><td>0.660<sup></sup></td><td>0.570<sup></sup></td></tr><tr><td style=\"text-align:left\"></td><td></td><td>(2.947)</td><td>(2.863)</td><td>(2.880)</td></tr><tr><td style=\"text-align:left\">prcitshp[T.Native, Born Abroad Of US Parent(s)]</td><td></td><td>-0.573<sup></sup></td><td>0.620<sup></sup></td><td>0.882<sup></sup></td></tr><tr><td style=\"text-align:left\"></td><td></td><td>(4.327)</td><td>(4.250)</td><td>(4.395)</td></tr><tr><td style=\"text-align:left\">prcitshp[T.Native, Born In US]</td><td></td><td>-3.301<sup></sup></td><td>-1.015<sup></sup></td><td>-0.051<sup></sup></td></tr><tr><td style=\"text-align:left\"></td><td></td><td>(2.548)</td><td>(2.511)</td><td>(2.528)</td></tr><tr><td style=\"text-align:left\">prcitshp[T.Native, Born in PR or US Outlying Area]</td><td></td><td>-1.868<sup></sup></td><td>0.128<sup></sup></td><td>0.207<sup></sup></td></tr><tr><td style=\"text-align:left\"></td><td></td><td>(5.906)</td><td>(5.551)</td><td>(5.586)</td></tr><tr><td style=\"text-align:left\">race</td><td></td><td>-0.126<sup></sup></td><td>0.040<sup></sup></td><td>-0.198<sup></sup></td></tr><tr><td style=\"text-align:left\"></td><td></td><td>(0.360)</td><td>(0.356)</td><td>(0.388)</td></tr><tr><td style=\"text-align:left\">stfips[T.AL]</td><td></td><td></td><td></td><td>-9.135<sup>*</sup></td></tr><tr><td style=\"text-align:left\"></td><td></td><td></td><td></td><td>(5.307)</td></tr><tr><td style=\"text-align:left\">stfips[T.AR]</td><td></td><td></td><td></td><td>-13.705<sup>***</sup></td></tr><tr><td style=\"text-align:left\"></td><td></td><td></td><td></td><td>(4.691)</td></tr><tr><td style=\"text-align:left\">stfips[T.AZ]</td><td></td><td></td><td></td><td>-6.987<sup></sup></td></tr><tr><td style=\"text-align:left\"></td><td></td><td></td><td></td><td>(4.981)</td></tr><tr><td style=\"text-align:left\">stfips[T.CA]</td><td></td><td></td><td></td><td>-2.480<sup></sup></td></tr><tr><td style=\"text-align:left\"></td><td></td><td></td><td></td><td>(4.391)</td></tr><tr><td style=\"text-align:left\">stfips[T.CO]</td><td></td><td></td><td></td><td>-4.627<sup></sup></td></tr><tr><td style=\"text-align:left\"></td><td></td><td></td><td></td><td>(4.996)</td></tr><tr><td style=\"text-align:left\">stfips[T.CT]</td><td></td><td></td><td></td><td>-0.955<sup></sup></td></tr><tr><td style=\"text-align:left\"></td><td></td><td></td><td></td><td>(4.930)</td></tr><tr><td style=\"text-align:left\">stfips[T.DC]</td><td></td><td></td><td></td><td>1.158<sup></sup></td></tr><tr><td style=\"text-align:left\"></td><td></td><td></td><td></td><td>(4.642)</td></tr><tr><td style=\"text-align:left\">stfips[T.DE]</td><td></td><td></td><td></td><td>-3.851<sup></sup></td></tr><tr><td style=\"text-align:left\"></td><td></td><td></td><td></td><td>(4.734)</td></tr><tr><td style=\"text-align:left\">stfips[T.FL]</td><td></td><td></td><td></td><td>-3.082<sup></sup></td></tr><tr><td style=\"text-align:left\"></td><td></td><td></td><td></td><td>(4.481)</td></tr><tr><td style=\"text-align:left\">stfips[T.GA]</td><td></td><td></td><td></td><td>-7.658<sup></sup></td></tr><tr><td style=\"text-align:left\"></td><td></td><td></td><td></td><td>(4.785)</td></tr><tr><td style=\"text-align:left\">stfips[T.HI]</td><td></td><td></td><td></td><td>-0.536<sup></sup></td></tr><tr><td style=\"text-align:left\"></td><td></td><td></td><td></td><td>(6.268)</td></tr><tr><td style=\"text-align:left\">stfips[T.IA]</td><td></td><td></td><td></td><td>-6.221<sup></sup></td></tr><tr><td style=\"text-align:left\"></td><td></td><td></td><td></td><td>(5.126)</td></tr><tr><td style=\"text-align:left\">stfips[T.ID]</td><td></td><td></td><td></td><td>-8.465<sup>*</sup></td></tr><tr><td style=\"text-align:left\"></td><td></td><td></td><td></td><td>(4.687)</td></tr><tr><td style=\"text-align:left\">stfips[T.IL]</td><td></td><td></td><td></td><td>-5.900<sup></sup></td></tr><tr><td style=\"text-align:left\"></td><td></td><td></td><td></td><td>(4.741)</td></tr><tr><td style=\"text-align:left\">stfips[T.IN]</td><td></td><td></td><td></td><td>-3.314<sup></sup></td></tr><tr><td style=\"text-align:left\"></td><td></td><td></td><td></td><td>(6.324)</td></tr><tr><td style=\"text-align:left\">stfips[T.KS]</td><td></td><td></td><td></td><td>-7.677<sup></sup></td></tr><tr><td style=\"text-align:left\"></td><td></td><td></td><td></td><td>(4.796)</td></tr><tr><td style=\"text-align:left\">stfips[T.KY]</td><td></td><td></td><td></td><td>-10.340<sup>**</sup></td></tr><tr><td style=\"text-align:left\"></td><td></td><td></td><td></td><td>(4.917)</td></tr><tr><td style=\"text-align:left\">stfips[T.LA]</td><td></td><td></td><td></td><td>6.419<sup></sup></td></tr><tr><td style=\"text-align:left\"></td><td></td><td></td><td></td><td>(7.131)</td></tr><tr><td style=\"text-align:left\">stfips[T.MA]</td><td></td><td></td><td></td><td>-2.777<sup></sup></td></tr><tr><td style=\"text-align:left\"></td><td></td><td></td><td></td><td>(4.805)</td></tr><tr><td style=\"text-align:left\">stfips[T.MD]</td><td></td><td></td><td></td><td>-0.892<sup></sup></td></tr><tr><td style=\"text-align:left\"></td><td></td><td></td><td></td><td>(4.868)</td></tr><tr><td style=\"text-align:left\">stfips[T.ME]</td><td></td><td></td><td></td><td>-11.067<sup>**</sup></td></tr><tr><td style=\"text-align:left\"></td><td></td><td></td><td></td><td>(4.432)</td></tr><tr><td style=\"text-align:left\">stfips[T.MI]</td><td></td><td></td><td></td><td>-5.074<sup></sup></td></tr><tr><td style=\"text-align:left\"></td><td></td><td></td><td></td><td>(4.673)</td></tr><tr><td style=\"text-align:left\">stfips[T.MN]</td><td></td><td></td><td></td><td>-4.807<sup></sup></td></tr><tr><td style=\"text-align:left\"></td><td></td><td></td><td></td><td>(4.778)</td></tr><tr><td style=\"text-align:left\">stfips[T.MO]</td><td></td><td></td><td></td><td>-1.907<sup></sup></td></tr><tr><td style=\"text-align:left\"></td><td></td><td></td><td></td><td>(5.677)</td></tr><tr><td style=\"text-align:left\">stfips[T.MS]</td><td></td><td></td><td></td><td>-5.297<sup></sup></td></tr><tr><td style=\"text-align:left\"></td><td></td><td></td><td></td><td>(4.731)</td></tr><tr><td style=\"text-align:left\">stfips[T.MT]</td><td></td><td></td><td></td><td>-12.359<sup>**</sup></td></tr><tr><td style=\"text-align:left\"></td><td></td><td></td><td></td><td>(5.007)</td></tr><tr><td style=\"text-align:left\">stfips[T.NC]</td><td></td><td></td><td></td><td>-6.865<sup></sup></td></tr><tr><td style=\"text-align:left\"></td><td></td><td></td><td></td><td>(5.317)</td></tr><tr><td style=\"text-align:left\">stfips[T.ND]</td><td></td><td></td><td></td><td>-7.526<sup></sup></td></tr><tr><td style=\"text-align:left\"></td><td></td><td></td><td></td><td>(6.326)</td></tr><tr><td style=\"text-align:left\">stfips[T.NE]</td><td></td><td></td><td></td><td>-1.911<sup></sup></td></tr><tr><td style=\"text-align:left\"></td><td></td><td></td><td></td><td>(6.504)</td></tr><tr><td style=\"text-align:left\">stfips[T.NH]</td><td></td><td></td><td></td><td>-5.606<sup></sup></td></tr><tr><td style=\"text-align:left\"></td><td></td><td></td><td></td><td>(4.971)</td></tr><tr><td style=\"text-align:left\">stfips[T.NJ]</td><td></td><td></td><td></td><td>1.272<sup></sup></td></tr><tr><td style=\"text-align:left\"></td><td></td><td></td><td></td><td>(4.922)</td></tr><tr><td style=\"text-align:left\">stfips[T.NM]</td><td></td><td></td><td></td><td>-7.601<sup></sup></td></tr><tr><td style=\"text-align:left\"></td><td></td><td></td><td></td><td>(5.917)</td></tr><tr><td style=\"text-align:left\">stfips[T.NV]</td><td></td><td></td><td></td><td>-5.053<sup></sup></td></tr><tr><td style=\"text-align:left\"></td><td></td><td></td><td></td><td>(4.898)</td></tr><tr><td style=\"text-align:left\">stfips[T.NY]</td><td></td><td></td><td></td><td>-2.064<sup></sup></td></tr><tr><td style=\"text-align:left\"></td><td></td><td></td><td></td><td>(4.645)</td></tr><tr><td style=\"text-align:left\">stfips[T.OH]</td><td></td><td></td><td></td><td>-3.577<sup></sup></td></tr><tr><td style=\"text-align:left\"></td><td></td><td></td><td></td><td>(4.713)</td></tr><tr><td style=\"text-align:left\">stfips[T.OK]</td><td></td><td></td><td></td><td>-2.842<sup></sup></td></tr><tr><td style=\"text-align:left\"></td><td></td><td></td><td></td><td>(6.002)</td></tr><tr><td style=\"text-align:left\">stfips[T.OR]</td><td></td><td></td><td></td><td>-3.084<sup></sup></td></tr><tr><td style=\"text-align:left\"></td><td></td><td></td><td></td><td>(4.862)</td></tr><tr><td style=\"text-align:left\">stfips[T.PA]</td><td></td><td></td><td></td><td>-4.375<sup></sup></td></tr><tr><td style=\"text-align:left\"></td><td></td><td></td><td></td><td>(4.913)</td></tr><tr><td style=\"text-align:left\">stfips[T.RI]</td><td></td><td></td><td></td><td>-3.157<sup></sup></td></tr><tr><td style=\"text-align:left\"></td><td></td><td></td><td></td><td>(4.976)</td></tr><tr><td style=\"text-align:left\">stfips[T.SC]</td><td></td><td></td><td></td><td>-1.384<sup></sup></td></tr><tr><td style=\"text-align:left\"></td><td></td><td></td><td></td><td>(5.073)</td></tr><tr><td style=\"text-align:left\">stfips[T.SD]</td><td></td><td></td><td></td><td>-12.839<sup>***</sup></td></tr><tr><td style=\"text-align:left\"></td><td></td><td></td><td></td><td>(4.893)</td></tr><tr><td style=\"text-align:left\">stfips[T.TN]</td><td></td><td></td><td></td><td>-2.090<sup></sup></td></tr><tr><td style=\"text-align:left\"></td><td></td><td></td><td></td><td>(5.399)</td></tr><tr><td style=\"text-align:left\">stfips[T.TX]</td><td></td><td></td><td></td><td>-4.128<sup></sup></td></tr><tr><td style=\"text-align:left\"></td><td></td><td></td><td></td><td>(4.378)</td></tr><tr><td style=\"text-align:left\">stfips[T.UT]</td><td></td><td></td><td></td><td>-5.733<sup></sup></td></tr><tr><td style=\"text-align:left\"></td><td></td><td></td><td></td><td>(5.297)</td></tr><tr><td style=\"text-align:left\">stfips[T.VA]</td><td></td><td></td><td></td><td>-4.937<sup></sup></td></tr><tr><td style=\"text-align:left\"></td><td></td><td></td><td></td><td>(4.955)</td></tr><tr><td style=\"text-align:left\">stfips[T.VT]</td><td></td><td></td><td></td><td>-4.641<sup></sup></td></tr><tr><td style=\"text-align:left\"></td><td></td><td></td><td></td><td>(4.984)</td></tr><tr><td style=\"text-align:left\">stfips[T.WA]</td><td></td><td></td><td></td><td>0.875<sup></sup></td></tr><tr><td style=\"text-align:left\"></td><td></td><td></td><td></td><td>(4.828)</td></tr><tr><td style=\"text-align:left\">stfips[T.WI]</td><td></td><td></td><td></td><td>-5.712<sup></sup></td></tr><tr><td style=\"text-align:left\"></td><td></td><td></td><td></td><td>(5.276)</td></tr><tr><td style=\"text-align:left\">stfips[T.WV]</td><td></td><td></td><td></td><td>-10.605<sup>**</sup></td></tr><tr><td style=\"text-align:left\"></td><td></td><td></td><td></td><td>(5.193)</td></tr><tr><td style=\"text-align:left\">stfips[T.WY]</td><td></td><td></td><td></td><td>-11.761<sup>**</sup></td></tr><tr><td style=\"text-align:left\"></td><td></td><td></td><td></td><td>(4.785)</td></tr><td colspan=\"5\" style=\"border-bottom: 1px solid black\"></td></tr><tr><td style=\"text-align: left\">Observations</td><td>1,401</td><td>1,401</td><td>1,401</td><td>1,401</td></tr><tr><td style=\"text-align: left\">R<sup>2</sup></td><td>0.165</td><td>0.193</td><td>0.268</td><td>0.312</td></tr><tr><td style=\"text-align: left\">Adjusted R<sup>2</sup></td><td>0.163</td><td>0.188</td><td>0.262</td><td>0.278</td></tr><tr><td style=\"text-align: left\">Residual Std. Error</td><td>14.677 (df=1397)</td><td>14.461 (df=1391)</td><td>13.790 (df=1387)</td><td>13.639 (df=1333)</td></tr><tr><td style=\"text-align: left\">F Statistic</td><td>94.198<sup>***</sup> (df=3; 1397)</td><td>44.655<sup>***</sup> (df=9; 1391)</td><td>48.832<sup>***</sup> (df=13; 1387)</td><td>8.474<sup>***</sup> (df=67; 1333)</td></tr><tr><td colspan=\"5\" style=\"border-bottom: 1px solid black\"></td></tr><tr><td style=\"text-align: left\">Note:</td>\n",
       " <td colspan=\"4\" style=\"text-align: right\">\n",
       "  <sup>*</sup>p&lt;0.1;\n",
       "  <sup>**</sup>p&lt;0.05;\n",
       "  <sup>***</sup>p&lt;0.01\n",
       " </td></tr></table>"
      ],
      "text/plain": [
       "<stargazer.stargazer.Stargazer at 0x7fd3500cdc70>"
      ]
     },
     "execution_count": 9,
     "metadata": {},
     "output_type": "execute_result"
    }
   ],
   "source": [
    "stargazer.Stargazer(regs)"
   ]
  },
  {
   "cell_type": "code",
   "execution_count": 10,
   "id": "07b6b0a9",
   "metadata": {},
   "outputs": [
    {
     "data": {
      "text/plain": [
       "[11527.782, 11523.725, 11415.479, 11720.32]"
      ]
     },
     "execution_count": 10,
     "metadata": {},
     "output_type": "execute_result"
    }
   ],
   "source": [
    "# BIC of models in the full sample\n",
    "BICs = []\n",
    "for reg in regs:\n",
    "    BICs.append(reg.bic)\n",
    "BICs = [float('{:.3f}'.format(i)) for i in BICs]\n",
    "BICs"
   ]
  },
  {
   "cell_type": "code",
   "execution_count": 11,
   "id": "856034ab",
   "metadata": {},
   "outputs": [
    {
     "data": {
      "text/plain": [
       "[14.656, 14.409, 13.721, 13.304]"
      ]
     },
     "execution_count": 11,
     "metadata": {},
     "output_type": "execute_result"
    }
   ],
   "source": [
    "# RMSE of models in the full sample\n",
    "w_real = df[\"w\"].values.tolist()\n",
    "RMSEs = []\n",
    "for reg in regs:\n",
    "    w_pred = reg.predict()\n",
    "    RMSEs.append(rmse(w_real, w_pred))\n",
    "RMSEs = [float('{:.3f}'.format(i)) for i in RMSEs]\n",
    "RMSEs"
   ]
  },
  {
   "cell_type": "markdown",
   "id": "e6eb7c8a",
   "metadata": {},
   "source": [
    "## Cross validation"
   ]
  },
  {
   "cell_type": "code",
   "execution_count": 12,
   "id": "824c058c",
   "metadata": {},
   "outputs": [],
   "source": [
    "from sklearn.model_selection import KFold\n",
    "\n",
    "def ols_crossvalidator(formula: str, data: pd.DataFrame, n_folds=5, average_rmse=True):\n",
    "\n",
    "\n",
    "    # Get dependent variable\n",
    "\n",
    "    y = formula.split(\"~\")[0].strip()\n",
    "\n",
    "    # Get statistics on the whole work data\n",
    "\n",
    "    model = smf.ols(formula, data=data).fit()\n",
    "\n",
    "    rsquared = model.rsquared\n",
    "   \n",
    "    n_coefficients = (\n",
    "        model.df_model + 1\n",
    "    )\n",
    "    bic = model.bic\n",
    "    rmse_alldata = rmse(model.predict(), data[y])\n",
    "\n",
    "    # Calculating test and train RMSE-s for each fold\n",
    "\n",
    "    k = KFold(n_splits=n_folds, shuffle=False, random_state=None)\n",
    "\n",
    "    rmse_train = []\n",
    "    rmse_test = []\n",
    "\n",
    "    for train_index, test_index in k.split(data):\n",
    "\n",
    "        data_train, data_test = data.iloc[train_index, :], data.iloc[test_index, :]\n",
    "\n",
    "        model = smf.ols(formula, data=data_train).fit()\n",
    "\n",
    "        rmse_train.append(rmse(data_train[y], model.predict(data_train)))\n",
    "        rmse_test.append(rmse(data_test[y], model.predict(data_test)))\n",
    "\n",
    "    if average_rmse:\n",
    "        rmse_train = np.mean(rmse_train)\n",
    "        rmse_test = np.mean(rmse_test)\n",
    "\n",
    "    return {\n",
    "        \"RMSE\": rmse_alldata,\n",
    "        \"R-squared\": rsquared,\n",
    "        \"BIC\": bic,\n",
    "        \"Coefficients\": n_coefficients,\n",
    "        \"Training RMSE\": rmse_train,\n",
    "        \"Test RMSE\": rmse_test,\n",
    "    }"
   ]
  },
  {
   "cell_type": "code",
   "execution_count": 13,
   "id": "0275b43f",
   "metadata": {},
   "outputs": [],
   "source": [
    "n_fold = 4"
   ]
  },
  {
   "cell_type": "code",
   "execution_count": 14,
   "id": "1aab5bf7",
   "metadata": {},
   "outputs": [],
   "source": [
    "cv_list = []\n",
    "for equation in model_equations:\n",
    "    cv_list.append(ols_crossvalidator(equation, df, n_fold, average_rmse=False))"
   ]
  },
  {
   "cell_type": "code",
   "execution_count": 15,
   "id": "6e06b3bc",
   "metadata": {},
   "outputs": [
    {
     "data": {
      "text/html": [
       "<div>\n",
       "<style scoped>\n",
       "    .dataframe tbody tr th:only-of-type {\n",
       "        vertical-align: middle;\n",
       "    }\n",
       "\n",
       "    .dataframe tbody tr th {\n",
       "        vertical-align: top;\n",
       "    }\n",
       "\n",
       "    .dataframe thead th {\n",
       "        text-align: right;\n",
       "    }\n",
       "</style>\n",
       "<table border=\"1\" class=\"dataframe\">\n",
       "  <thead>\n",
       "    <tr style=\"text-align: right;\">\n",
       "      <th></th>\n",
       "      <th>Coefficients</th>\n",
       "      <th>R-squared</th>\n",
       "      <th>RMSE</th>\n",
       "      <th>BIC</th>\n",
       "    </tr>\n",
       "    <tr>\n",
       "      <th>Model</th>\n",
       "      <th></th>\n",
       "      <th></th>\n",
       "      <th></th>\n",
       "      <th></th>\n",
       "    </tr>\n",
       "  </thead>\n",
       "  <tbody>\n",
       "    <tr>\n",
       "      <th>Model 1</th>\n",
       "      <td>4</td>\n",
       "      <td>0.165</td>\n",
       "      <td>14.656</td>\n",
       "      <td>11527</td>\n",
       "    </tr>\n",
       "    <tr>\n",
       "      <th>Model 2</th>\n",
       "      <td>10</td>\n",
       "      <td>0.193</td>\n",
       "      <td>14.409</td>\n",
       "      <td>11523</td>\n",
       "    </tr>\n",
       "    <tr>\n",
       "      <th>Model 3</th>\n",
       "      <td>14</td>\n",
       "      <td>0.268</td>\n",
       "      <td>13.721</td>\n",
       "      <td>11415</td>\n",
       "    </tr>\n",
       "    <tr>\n",
       "      <th>Model 4</th>\n",
       "      <td>68</td>\n",
       "      <td>0.312</td>\n",
       "      <td>13.304</td>\n",
       "      <td>11720</td>\n",
       "    </tr>\n",
       "  </tbody>\n",
       "</table>\n",
       "</div>"
      ],
      "text/plain": [
       "         Coefficients  R-squared    RMSE    BIC\n",
       "Model                                          \n",
       "Model 1             4      0.165  14.656  11527\n",
       "Model 2            10      0.193  14.409  11523\n",
       "Model 3            14      0.268  13.721  11415\n",
       "Model 4            68      0.312  13.304  11720"
      ]
     },
     "execution_count": 15,
     "metadata": {},
     "output_type": "execute_result"
    }
   ],
   "source": [
    "# 4 Models in the full sample\n",
    "(\n",
    "    pd.DataFrame(cv_list)\n",
    "    .round(3)\n",
    "    .assign(\n",
    "        RMSE=lambda x: x[\"RMSE\"],\n",
    "        BIC=lambda x: x[\"BIC\"].astype(int),\n",
    "        Coefficients=lambda x: x[\"Coefficients\"].astype(int),\n",
    "        Model=[\"Model \" + str(i + 1) for i in range(len(model_equations))],\n",
    "    )\n",
    "    .filter([\"Model\", \"Coefficients\", \"R-squared\", \"RMSE\", \"BIC\"])\n",
    "    .set_index(\"Model\")\n",
    ")"
   ]
  },
  {
   "cell_type": "code",
   "execution_count": 16,
   "id": "517087eb",
   "metadata": {},
   "outputs": [
    {
     "data": {
      "text/html": [
       "<div>\n",
       "<style scoped>\n",
       "    .dataframe tbody tr th:only-of-type {\n",
       "        vertical-align: middle;\n",
       "    }\n",
       "\n",
       "    .dataframe tbody tr th {\n",
       "        vertical-align: top;\n",
       "    }\n",
       "\n",
       "    .dataframe thead th {\n",
       "        text-align: right;\n",
       "    }\n",
       "</style>\n",
       "<table border=\"1\" class=\"dataframe\">\n",
       "  <thead>\n",
       "    <tr style=\"text-align: right;\">\n",
       "      <th></th>\n",
       "      <th>Model 1</th>\n",
       "      <th>Model 2</th>\n",
       "      <th>Model 3</th>\n",
       "      <th>Model 4</th>\n",
       "    </tr>\n",
       "  </thead>\n",
       "  <tbody>\n",
       "    <tr>\n",
       "      <th>Fold1</th>\n",
       "      <td>14.124399</td>\n",
       "      <td>14.120394</td>\n",
       "      <td>13.183893</td>\n",
       "      <td>13.422764</td>\n",
       "    </tr>\n",
       "    <tr>\n",
       "      <th>Fold2</th>\n",
       "      <td>15.325463</td>\n",
       "      <td>14.945678</td>\n",
       "      <td>14.412445</td>\n",
       "      <td>14.869869</td>\n",
       "    </tr>\n",
       "    <tr>\n",
       "      <th>Fold3</th>\n",
       "      <td>15.157370</td>\n",
       "      <td>14.896576</td>\n",
       "      <td>14.154719</td>\n",
       "      <td>14.420794</td>\n",
       "    </tr>\n",
       "    <tr>\n",
       "      <th>Fold4</th>\n",
       "      <td>14.160569</td>\n",
       "      <td>14.067561</td>\n",
       "      <td>13.820361</td>\n",
       "      <td>13.766321</td>\n",
       "    </tr>\n",
       "    <tr>\n",
       "      <th>Average</th>\n",
       "      <td>14.691950</td>\n",
       "      <td>14.507552</td>\n",
       "      <td>13.892855</td>\n",
       "      <td>14.119937</td>\n",
       "    </tr>\n",
       "  </tbody>\n",
       "</table>\n",
       "</div>"
      ],
      "text/plain": [
       "           Model 1    Model 2    Model 3    Model 4\n",
       "Fold1    14.124399  14.120394  13.183893  13.422764\n",
       "Fold2    15.325463  14.945678  14.412445  14.869869\n",
       "Fold3    15.157370  14.896576  14.154719  14.420794\n",
       "Fold4    14.160569  14.067561  13.820361  13.766321\n",
       "Average  14.691950  14.507552  13.892855  14.119937"
      ]
     },
     "execution_count": 16,
     "metadata": {},
     "output_type": "execute_result"
    }
   ],
   "source": [
    "# Cross-validated RMSE \n",
    "Test_RMSE = pd.DataFrame(\n",
    "    [cv[\"Test RMSE\"] for cv in cv_list],\n",
    "    index=[\"Model \" + str(i + 1) for i in range(len(cv_list))],\n",
    "    columns=[\"Fold\" + str(i + 1) for i in range(len(cv_list[0][\"Test RMSE\"]))],\n",
    ").assign(Average=lambda x: x.mean(axis=1)).T\n",
    "Test_RMSE"
   ]
  },
  {
   "cell_type": "markdown",
   "id": "94d8d6e4",
   "metadata": {},
   "source": [
    "## Model complexity and performance"
   ]
  },
  {
   "cell_type": "code",
   "execution_count": 17,
   "id": "944b58ee",
   "metadata": {
    "scrolled": true
   },
   "outputs": [
    {
     "data": {
      "text/html": [
       "<div>\n",
       "<style scoped>\n",
       "    .dataframe tbody tr th:only-of-type {\n",
       "        vertical-align: middle;\n",
       "    }\n",
       "\n",
       "    .dataframe tbody tr th {\n",
       "        vertical-align: top;\n",
       "    }\n",
       "\n",
       "    .dataframe thead th {\n",
       "        text-align: right;\n",
       "    }\n",
       "</style>\n",
       "<table border=\"1\" class=\"dataframe\">\n",
       "  <thead>\n",
       "    <tr style=\"text-align: right;\">\n",
       "      <th></th>\n",
       "      <th>Model 1</th>\n",
       "      <th>Model 2</th>\n",
       "      <th>Model 3</th>\n",
       "      <th>Model 4</th>\n",
       "    </tr>\n",
       "  </thead>\n",
       "  <tbody>\n",
       "    <tr>\n",
       "      <th>Fold1</th>\n",
       "      <td>14.834680</td>\n",
       "      <td>14.528466</td>\n",
       "      <td>13.939877</td>\n",
       "      <td>13.421008</td>\n",
       "    </tr>\n",
       "    <tr>\n",
       "      <th>Fold2</th>\n",
       "      <td>14.437831</td>\n",
       "      <td>14.249590</td>\n",
       "      <td>13.529616</td>\n",
       "      <td>12.964870</td>\n",
       "    </tr>\n",
       "    <tr>\n",
       "      <th>Fold3</th>\n",
       "      <td>14.501662</td>\n",
       "      <td>14.266391</td>\n",
       "      <td>13.592809</td>\n",
       "      <td>13.099945</td>\n",
       "    </tr>\n",
       "    <tr>\n",
       "      <th>Fold4</th>\n",
       "      <td>14.819124</td>\n",
       "      <td>14.532381</td>\n",
       "      <td>13.715785</td>\n",
       "      <td>13.264407</td>\n",
       "    </tr>\n",
       "    <tr>\n",
       "      <th>Average</th>\n",
       "      <td>14.648324</td>\n",
       "      <td>14.394207</td>\n",
       "      <td>13.694521</td>\n",
       "      <td>13.187557</td>\n",
       "    </tr>\n",
       "  </tbody>\n",
       "</table>\n",
       "</div>"
      ],
      "text/plain": [
       "           Model 1    Model 2    Model 3    Model 4\n",
       "Fold1    14.834680  14.528466  13.939877  13.421008\n",
       "Fold2    14.437831  14.249590  13.529616  12.964870\n",
       "Fold3    14.501662  14.266391  13.592809  13.099945\n",
       "Fold4    14.819124  14.532381  13.715785  13.264407\n",
       "Average  14.648324  14.394207  13.694521  13.187557"
      ]
     },
     "execution_count": 17,
     "metadata": {},
     "output_type": "execute_result"
    }
   ],
   "source": [
    "# RMSE in the Training Sample\n",
    "Training_RMSE = pd.DataFrame(\n",
    "    [cv[\"Training RMSE\"] for cv in cv_list],\n",
    "    index=[\"Model \" + str(i + 1) for i in range(len(cv_list))],\n",
    "    columns=[\"Fold\" + str(i + 1) for i in range(len(cv_list[0][\"Training RMSE\"]))],\n",
    ").assign(Average=lambda x: x.mean(axis=1)).T\n",
    "Training_RMSE"
   ]
  },
  {
   "cell_type": "code",
   "execution_count": 18,
   "id": "7e7cdfcc",
   "metadata": {},
   "outputs": [],
   "source": [
    "Average_Training_RMSE = Training_RMSE[4:].values.flatten().tolist()\n",
    "Average_Test_RMSE = Test_RMSE[4:].values.flatten().tolist()\n",
    "x = [\"Model 1\", \"Model 2\", \"Model 3\", \"Model 4\"]"
   ]
  },
  {
   "cell_type": "code",
   "execution_count": 19,
   "id": "98b317d4",
   "metadata": {},
   "outputs": [
    {
     "data": {
      "image/png": "[encoded data removed]",
      "text/plain": [
       "<Figure size 432x288 with 1 Axes>"
      ]
     },
     "metadata": {
      "needs_background": "light"
     },
     "output_type": "display_data"
    }
   ],
   "source": [
    "plt.plot(x, Average_Training_RMSE, 'ro--', marker='s', linestyle='solid', label=\"Training RMSE\")\n",
    "plt.plot(x, Average_Test_RMSE, color='green', marker='s', linestyle='solid', label=\"Test RMSE\")\n",
    "plt.xlabel('Complexity of Models')\n",
    "plt.ylabel('Model RMSE')\n",
    "\n",
    "plt.legend() # add legend\n",
    "\n",
    "plt.title('Model Complexity and Performance'); # add title"
   ]
  }
 ],
 "metadata": {
  "kernelspec": {
   "display_name": "Python 3 (ipykernel)",
   "language": "python",
   "name": "python3"
  },
  "language_info": {
   "codemirror_mode": {
    "name": "ipython",
    "version": 3
   },
   "file_extension": ".py",
   "mimetype": "text/x-python",
   "name": "python",
   "nbconvert_exporter": "python",
   "pygments_lexer": "ipython3",
   "version": "3.9.7"
  }
 },
 "nbformat": 4,
 "nbformat_minor": 5
}
