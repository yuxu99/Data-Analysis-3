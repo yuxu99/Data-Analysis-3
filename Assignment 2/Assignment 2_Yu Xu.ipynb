{
 "cells": [
  {
   "cell_type": "markdown",
   "id": "c36cfff5",
   "metadata": {},
   "source": [
    "# Prediction with Machine Learning for Economists - Assignment 2"
   ]
  },
  {
   "cell_type": "markdown",
   "id": "75baac65",
   "metadata": {},
   "source": [
    "Done by: Yu Xu\n",
    "    \n",
    "Date: 09 February 2023"
   ]
  },
  {
   "cell_type": "code",
   "execution_count": 1,
   "id": "b8a53f30",
   "metadata": {},
   "outputs": [],
   "source": [
    "import pandas as pd\n",
    "import numpy as np\n",
    "import os\n",
    "import re\n",
    "from pathlib import Path\n",
    "import sys\n",
    "import math\n",
    "from patsy import dmatrices\n",
    "from datetime import datetime\n",
    "from sklearn.model_selection import train_test_split\n",
    "from mizani.formatters import percent_format\n",
    "from plotnine import *\n",
    "import matplotlib.pyplot as plt\n",
    "import warnings\n",
    "\n",
    "warnings.filterwarnings(\"ignore\")\n",
    "\n",
    "from sklearn.ensemble import RandomForestRegressor\n",
    "from sklearn.model_selection import GridSearchCV\n",
    "from sklearn.model_selection import RandomizedSearchCV\n",
    "from sklearn.impute import SimpleImputer\n",
    "from sklearn.inspection import permutation_importance\n",
    "from sklearn.inspection import plot_partial_dependence\n",
    "from sklearn.inspection import partial_dependence\n",
    "from sklearn.compose import ColumnTransformer\n",
    "from sklearn.pipeline import Pipeline\n",
    "from sklearn.preprocessing import OneHotEncoder\n",
    "from sklearn.metrics import mean_squared_error\n",
    "from sklearn.linear_model import LinearRegression\n",
    "from sklearn.linear_model import ElasticNet\n",
    "from sklearn.tree import DecisionTreeRegressor\n",
    "from sklearn.ensemble import GradientBoostingRegressor"
   ]
  },
  {
   "cell_type": "markdown",
   "id": "ee53f561",
   "metadata": {},
   "source": [
    "## Part 1: Clean Raw Data"
   ]
  },
  {
   "cell_type": "markdown",
   "id": "af7f7f51",
   "metadata": {},
   "source": [
    "### Import and clean raw data"
   ]
  },
  {
   "cell_type": "code",
   "execution_count": 2,
   "id": "98762f2b",
   "metadata": {},
   "outputs": [],
   "source": [
    "data = pd.read_csv(\"listings.csv\", delimiter=\",\", dtype=\"unicode\")"
   ]
  },
  {
   "cell_type": "markdown",
   "id": "b410f4c7",
   "metadata": {},
   "source": [
    "### Chose small and mid-size apartments hosting 2-6 guests"
   ]
  },
  {
   "cell_type": "code",
   "execution_count": 3,
   "id": "c153ba1e",
   "metadata": {
    "scrolled": false
   },
   "outputs": [],
   "source": [
    "data[\"accommodates\"] = data[\"accommodates\"].astype(int)\n",
    "data = data[(data['accommodates'] <= 6) & (data['accommodates'] >= 2)]"
   ]
  },
  {
   "cell_type": "code",
   "execution_count": 4,
   "id": "c575ab02",
   "metadata": {},
   "outputs": [],
   "source": [
    "data = data[data['room_type'] == 'Entire home/apt']"
   ]
  },
  {
   "cell_type": "code",
   "execution_count": 5,
   "id": "a9dad4be",
   "metadata": {},
   "outputs": [],
   "source": [
    "data = data.loc[lambda x: x['property_type'].isin(['Entire rental unit',\n",
    "                                                   'Entire condominium (condo)',\n",
    "                                                   'Entire loft',\n",
    "                                                   'Entire serviced apartment'])]"
   ]
  },
  {
   "cell_type": "code",
   "execution_count": 6,
   "id": "670918fb",
   "metadata": {},
   "outputs": [
    {
     "data": {
      "text/plain": [
       "Entire rental unit            6984\n",
       "Entire loft                   1519\n",
       "Entire condominium (condo)    1510\n",
       "Entire serviced apartment     1281\n",
       "Name: property_type, dtype: int64"
      ]
     },
     "execution_count": 6,
     "metadata": {},
     "output_type": "execute_result"
    }
   ],
   "source": [
    "data[\"property_type\"].value_counts()"
   ]
  },
  {
   "cell_type": "markdown",
   "id": "e30ee820",
   "metadata": {},
   "source": [
    "### Data processing"
   ]
  },
  {
   "cell_type": "code",
   "execution_count": 7,
   "id": "12b7ab1a",
   "metadata": {},
   "outputs": [],
   "source": [
    "# drop some useless variables\n",
    "drops = [\n",
    "    \"host_thumbnail_url\",\n",
    "    \"host_picture_url\",\n",
    "    \"listing_url\",\n",
    "    \"picture_url\",\n",
    "    \"host_url\",\n",
    "    \"last_scraped\",\n",
    "    \"description\",\n",
    "    \"neighborhood_overview\",\n",
    "    \"host_about\",\n",
    "    \"host_response_time\",\n",
    "    \"name\",\n",
    "    \"host_location\",\n",
    "]\n",
    "data.drop(columns=drops, inplace=True)"
   ]
  },
  {
   "cell_type": "code",
   "execution_count": 8,
   "id": "b95a26be",
   "metadata": {},
   "outputs": [],
   "source": [
    "# drop broken lines - where id is not a character of numbers\n",
    "data.id = pd.to_numeric(data.id, errors=\"coerce\")\n",
    "data = data[data.id.notna()]"
   ]
  },
  {
   "cell_type": "code",
   "execution_count": 9,
   "id": "33448c20",
   "metadata": {},
   "outputs": [],
   "source": [
    "# formatting columns\n",
    "for perc in [\"host_response_rate\", \"host_acceptance_rate\"]:\n",
    "    data[perc] = pd.to_numeric(data[perc], errors=\"coerce\")"
   ]
  },
  {
   "cell_type": "code",
   "execution_count": 10,
   "id": "585153a1",
   "metadata": {},
   "outputs": [],
   "source": [
    "# format binary variables\n",
    "for binary in [\n",
    "    \"host_is_superhost\",\n",
    "    \"host_has_profile_pic\",\n",
    "    \"host_identity_verified\",\n",
    "    \"instant_bookable\",\n",
    "]:\n",
    "    data[binary] = data[binary].map({\"t\": True, \"f\": False})"
   ]
  },
  {
   "cell_type": "markdown",
   "id": "d531bd88",
   "metadata": {},
   "source": [
    "Deal with **amenities** variable and generate corresponding dummy variables."
   ]
  },
  {
   "cell_type": "code",
   "execution_count": 11,
   "id": "892b1231",
   "metadata": {},
   "outputs": [],
   "source": [
    "data[\"amenities\"] = data[\"amenities\"].str.strip(\"[]\").str.replace('\"', \"\").str.replace(' ','').str.split(\",\")"
   ]
  },
  {
   "cell_type": "code",
   "execution_count": 12,
   "id": "e86349e0",
   "metadata": {},
   "outputs": [],
   "source": [
    "def filter_amenities(amenities_list):\n",
    "    return [amenity for amenity in amenities_list if \"\\\\\" not in amenity]\n",
    "\n",
    "data[\"amenities\"] = data[\"amenities\"].apply(filter_amenities)"
   ]
  },
  {
   "cell_type": "markdown",
   "id": "e63b1837",
   "metadata": {},
   "source": [
    "Keep the top 70 amenities in terms of quantity to avoid being affected by extreme values of some amenities."
   ]
  },
  {
   "cell_type": "code",
   "execution_count": 13,
   "id": "b0d1fe94",
   "metadata": {},
   "outputs": [
    {
     "data": {
      "text/html": [
       "<div>\n",
       "<style scoped>\n",
       "    .dataframe tbody tr th:only-of-type {\n",
       "        vertical-align: middle;\n",
       "    }\n",
       "\n",
       "    .dataframe tbody tr th {\n",
       "        vertical-align: top;\n",
       "    }\n",
       "\n",
       "    .dataframe thead th {\n",
       "        text-align: right;\n",
       "    }\n",
       "</style>\n",
       "<table border=\"1\" class=\"dataframe\">\n",
       "  <thead>\n",
       "    <tr style=\"text-align: right;\">\n",
       "      <th></th>\n",
       "      <th>amenity</th>\n",
       "      <th>count</th>\n",
       "    </tr>\n",
       "  </thead>\n",
       "  <tbody>\n",
       "    <tr>\n",
       "      <th>2</th>\n",
       "      <td>Airconditioning</td>\n",
       "      <td>11052</td>\n",
       "    </tr>\n",
       "    <tr>\n",
       "      <th>109</th>\n",
       "      <td>Longtermstaysallowed</td>\n",
       "      <td>11000</td>\n",
       "    </tr>\n",
       "    <tr>\n",
       "      <th>183</th>\n",
       "      <td>Wifi</td>\n",
       "      <td>10905</td>\n",
       "    </tr>\n",
       "    <tr>\n",
       "      <th>88</th>\n",
       "      <td>Hairdryer</td>\n",
       "      <td>10185</td>\n",
       "    </tr>\n",
       "    <tr>\n",
       "      <th>181</th>\n",
       "      <td>Washer</td>\n",
       "      <td>10093</td>\n",
       "    </tr>\n",
       "    <tr>\n",
       "      <th>...</th>\n",
       "      <td>...</td>\n",
       "      <td>...</td>\n",
       "    </tr>\n",
       "    <tr>\n",
       "      <th>58</th>\n",
       "      <td>Dishwasher</td>\n",
       "      <td>331</td>\n",
       "    </tr>\n",
       "    <tr>\n",
       "      <th>12</th>\n",
       "      <td>Bathtub</td>\n",
       "      <td>316</td>\n",
       "    </tr>\n",
       "    <tr>\n",
       "      <th>182</th>\n",
       "      <td>Waterfront</td>\n",
       "      <td>305</td>\n",
       "    </tr>\n",
       "    <tr>\n",
       "      <th>179</th>\n",
       "      <td>Tablecornerguards</td>\n",
       "      <td>257</td>\n",
       "    </tr>\n",
       "    <tr>\n",
       "      <th>120</th>\n",
       "      <td>Outletcovers</td>\n",
       "      <td>200</td>\n",
       "    </tr>\n",
       "  </tbody>\n",
       "</table>\n",
       "<p>70 rows × 2 columns</p>\n",
       "</div>"
      ],
      "text/plain": [
       "                  amenity  count\n",
       "2         Airconditioning  11052\n",
       "109  Longtermstaysallowed  11000\n",
       "183                  Wifi  10905\n",
       "88              Hairdryer  10185\n",
       "181                Washer  10093\n",
       "..                    ...    ...\n",
       "58             Dishwasher    331\n",
       "12                Bathtub    316\n",
       "182            Waterfront    305\n",
       "179     Tablecornerguards    257\n",
       "120          Outletcovers    200\n",
       "\n",
       "[70 rows x 2 columns]"
      ]
     },
     "execution_count": 13,
     "metadata": {},
     "output_type": "execute_result"
    }
   ],
   "source": [
    "amenities_data = data[\"amenities\"].apply(pd.Series).stack().reset_index(level=1, drop=True).to_frame(\"amenity\")\n",
    "amenities_data[\"count\"] = 1\n",
    "amenities_data = amenities_data.groupby(\"amenity\").sum().reset_index()\n",
    "amenities_data = amenities_data.sort_values(\"count\", ascending=False)\n",
    "top_70_amenities = amenities_data[:70]\n",
    "top_70_amenities"
   ]
  },
  {
   "cell_type": "code",
   "execution_count": 14,
   "id": "9fef3ab1",
   "metadata": {},
   "outputs": [
    {
     "data": {
      "text/html": [
       "<div>\n",
       "<style scoped>\n",
       "    .dataframe tbody tr th:only-of-type {\n",
       "        vertical-align: middle;\n",
       "    }\n",
       "\n",
       "    .dataframe tbody tr th {\n",
       "        vertical-align: top;\n",
       "    }\n",
       "\n",
       "    .dataframe thead th {\n",
       "        text-align: right;\n",
       "    }\n",
       "</style>\n",
       "<table border=\"1\" class=\"dataframe\">\n",
       "  <thead>\n",
       "    <tr style=\"text-align: right;\">\n",
       "      <th></th>\n",
       "      <th>Airconditioning</th>\n",
       "      <th>Longtermstaysallowed</th>\n",
       "      <th>Wifi</th>\n",
       "      <th>Hairdryer</th>\n",
       "      <th>Washer</th>\n",
       "      <th>Shampoo</th>\n",
       "      <th>Essentials</th>\n",
       "      <th>Hangers</th>\n",
       "      <th>Hotwater</th>\n",
       "      <th>Kitchen</th>\n",
       "      <th>...</th>\n",
       "      <th>Indoorfireplace</th>\n",
       "      <th>Coffeemaker</th>\n",
       "      <th>Pool</th>\n",
       "      <th>Singlelevelhome</th>\n",
       "      <th>Hostgreetsyou</th>\n",
       "      <th>Dishwasher</th>\n",
       "      <th>Bathtub</th>\n",
       "      <th>Waterfront</th>\n",
       "      <th>Tablecornerguards</th>\n",
       "      <th>Outletcovers</th>\n",
       "    </tr>\n",
       "  </thead>\n",
       "  <tbody>\n",
       "    <tr>\n",
       "      <th>1</th>\n",
       "      <td>1</td>\n",
       "      <td>1</td>\n",
       "      <td>1</td>\n",
       "      <td>1</td>\n",
       "      <td>1</td>\n",
       "      <td>1</td>\n",
       "      <td>1</td>\n",
       "      <td>1</td>\n",
       "      <td>1</td>\n",
       "      <td>1</td>\n",
       "      <td>...</td>\n",
       "      <td>0</td>\n",
       "      <td>0</td>\n",
       "      <td>0</td>\n",
       "      <td>0</td>\n",
       "      <td>0</td>\n",
       "      <td>0</td>\n",
       "      <td>0</td>\n",
       "      <td>0</td>\n",
       "      <td>0</td>\n",
       "      <td>0</td>\n",
       "    </tr>\n",
       "    <tr>\n",
       "      <th>2</th>\n",
       "      <td>1</td>\n",
       "      <td>1</td>\n",
       "      <td>1</td>\n",
       "      <td>1</td>\n",
       "      <td>1</td>\n",
       "      <td>1</td>\n",
       "      <td>1</td>\n",
       "      <td>1</td>\n",
       "      <td>1</td>\n",
       "      <td>1</td>\n",
       "      <td>...</td>\n",
       "      <td>0</td>\n",
       "      <td>1</td>\n",
       "      <td>0</td>\n",
       "      <td>0</td>\n",
       "      <td>0</td>\n",
       "      <td>0</td>\n",
       "      <td>0</td>\n",
       "      <td>0</td>\n",
       "      <td>0</td>\n",
       "      <td>0</td>\n",
       "    </tr>\n",
       "    <tr>\n",
       "      <th>5</th>\n",
       "      <td>1</td>\n",
       "      <td>0</td>\n",
       "      <td>1</td>\n",
       "      <td>1</td>\n",
       "      <td>1</td>\n",
       "      <td>0</td>\n",
       "      <td>0</td>\n",
       "      <td>0</td>\n",
       "      <td>0</td>\n",
       "      <td>0</td>\n",
       "      <td>...</td>\n",
       "      <td>0</td>\n",
       "      <td>0</td>\n",
       "      <td>0</td>\n",
       "      <td>0</td>\n",
       "      <td>0</td>\n",
       "      <td>0</td>\n",
       "      <td>0</td>\n",
       "      <td>0</td>\n",
       "      <td>0</td>\n",
       "      <td>0</td>\n",
       "    </tr>\n",
       "    <tr>\n",
       "      <th>6</th>\n",
       "      <td>1</td>\n",
       "      <td>1</td>\n",
       "      <td>1</td>\n",
       "      <td>1</td>\n",
       "      <td>1</td>\n",
       "      <td>1</td>\n",
       "      <td>1</td>\n",
       "      <td>1</td>\n",
       "      <td>1</td>\n",
       "      <td>1</td>\n",
       "      <td>...</td>\n",
       "      <td>0</td>\n",
       "      <td>0</td>\n",
       "      <td>0</td>\n",
       "      <td>0</td>\n",
       "      <td>0</td>\n",
       "      <td>0</td>\n",
       "      <td>0</td>\n",
       "      <td>0</td>\n",
       "      <td>0</td>\n",
       "      <td>0</td>\n",
       "    </tr>\n",
       "    <tr>\n",
       "      <th>10</th>\n",
       "      <td>1</td>\n",
       "      <td>1</td>\n",
       "      <td>1</td>\n",
       "      <td>1</td>\n",
       "      <td>1</td>\n",
       "      <td>1</td>\n",
       "      <td>1</td>\n",
       "      <td>1</td>\n",
       "      <td>0</td>\n",
       "      <td>0</td>\n",
       "      <td>...</td>\n",
       "      <td>0</td>\n",
       "      <td>0</td>\n",
       "      <td>0</td>\n",
       "      <td>0</td>\n",
       "      <td>0</td>\n",
       "      <td>0</td>\n",
       "      <td>0</td>\n",
       "      <td>0</td>\n",
       "      <td>0</td>\n",
       "      <td>0</td>\n",
       "    </tr>\n",
       "    <tr>\n",
       "      <th>...</th>\n",
       "      <td>...</td>\n",
       "      <td>...</td>\n",
       "      <td>...</td>\n",
       "      <td>...</td>\n",
       "      <td>...</td>\n",
       "      <td>...</td>\n",
       "      <td>...</td>\n",
       "      <td>...</td>\n",
       "      <td>...</td>\n",
       "      <td>...</td>\n",
       "      <td>...</td>\n",
       "      <td>...</td>\n",
       "      <td>...</td>\n",
       "      <td>...</td>\n",
       "      <td>...</td>\n",
       "      <td>...</td>\n",
       "      <td>...</td>\n",
       "      <td>...</td>\n",
       "      <td>...</td>\n",
       "      <td>...</td>\n",
       "      <td>...</td>\n",
       "    </tr>\n",
       "    <tr>\n",
       "      <th>29417</th>\n",
       "      <td>1</td>\n",
       "      <td>1</td>\n",
       "      <td>1</td>\n",
       "      <td>1</td>\n",
       "      <td>1</td>\n",
       "      <td>1</td>\n",
       "      <td>1</td>\n",
       "      <td>1</td>\n",
       "      <td>0</td>\n",
       "      <td>0</td>\n",
       "      <td>...</td>\n",
       "      <td>0</td>\n",
       "      <td>0</td>\n",
       "      <td>0</td>\n",
       "      <td>0</td>\n",
       "      <td>0</td>\n",
       "      <td>1</td>\n",
       "      <td>0</td>\n",
       "      <td>0</td>\n",
       "      <td>0</td>\n",
       "      <td>0</td>\n",
       "    </tr>\n",
       "    <tr>\n",
       "      <th>29418</th>\n",
       "      <td>1</td>\n",
       "      <td>1</td>\n",
       "      <td>1</td>\n",
       "      <td>1</td>\n",
       "      <td>1</td>\n",
       "      <td>1</td>\n",
       "      <td>1</td>\n",
       "      <td>1</td>\n",
       "      <td>1</td>\n",
       "      <td>0</td>\n",
       "      <td>...</td>\n",
       "      <td>0</td>\n",
       "      <td>0</td>\n",
       "      <td>0</td>\n",
       "      <td>0</td>\n",
       "      <td>0</td>\n",
       "      <td>0</td>\n",
       "      <td>0</td>\n",
       "      <td>0</td>\n",
       "      <td>0</td>\n",
       "      <td>0</td>\n",
       "    </tr>\n",
       "    <tr>\n",
       "      <th>29419</th>\n",
       "      <td>1</td>\n",
       "      <td>1</td>\n",
       "      <td>1</td>\n",
       "      <td>0</td>\n",
       "      <td>1</td>\n",
       "      <td>0</td>\n",
       "      <td>0</td>\n",
       "      <td>0</td>\n",
       "      <td>1</td>\n",
       "      <td>0</td>\n",
       "      <td>...</td>\n",
       "      <td>0</td>\n",
       "      <td>0</td>\n",
       "      <td>0</td>\n",
       "      <td>0</td>\n",
       "      <td>0</td>\n",
       "      <td>0</td>\n",
       "      <td>0</td>\n",
       "      <td>0</td>\n",
       "      <td>0</td>\n",
       "      <td>0</td>\n",
       "    </tr>\n",
       "    <tr>\n",
       "      <th>29420</th>\n",
       "      <td>1</td>\n",
       "      <td>1</td>\n",
       "      <td>1</td>\n",
       "      <td>1</td>\n",
       "      <td>1</td>\n",
       "      <td>1</td>\n",
       "      <td>1</td>\n",
       "      <td>1</td>\n",
       "      <td>0</td>\n",
       "      <td>1</td>\n",
       "      <td>...</td>\n",
       "      <td>0</td>\n",
       "      <td>0</td>\n",
       "      <td>0</td>\n",
       "      <td>0</td>\n",
       "      <td>0</td>\n",
       "      <td>0</td>\n",
       "      <td>0</td>\n",
       "      <td>0</td>\n",
       "      <td>0</td>\n",
       "      <td>0</td>\n",
       "    </tr>\n",
       "    <tr>\n",
       "      <th>29421</th>\n",
       "      <td>1</td>\n",
       "      <td>1</td>\n",
       "      <td>1</td>\n",
       "      <td>1</td>\n",
       "      <td>1</td>\n",
       "      <td>1</td>\n",
       "      <td>1</td>\n",
       "      <td>0</td>\n",
       "      <td>0</td>\n",
       "      <td>1</td>\n",
       "      <td>...</td>\n",
       "      <td>0</td>\n",
       "      <td>0</td>\n",
       "      <td>0</td>\n",
       "      <td>0</td>\n",
       "      <td>0</td>\n",
       "      <td>0</td>\n",
       "      <td>0</td>\n",
       "      <td>0</td>\n",
       "      <td>0</td>\n",
       "      <td>0</td>\n",
       "    </tr>\n",
       "  </tbody>\n",
       "</table>\n",
       "<p>11294 rows × 70 columns</p>\n",
       "</div>"
      ],
      "text/plain": [
       "       Airconditioning  Longtermstaysallowed  Wifi  Hairdryer  Washer  \\\n",
       "1                    1                     1     1          1       1   \n",
       "2                    1                     1     1          1       1   \n",
       "5                    1                     0     1          1       1   \n",
       "6                    1                     1     1          1       1   \n",
       "10                   1                     1     1          1       1   \n",
       "...                ...                   ...   ...        ...     ...   \n",
       "29417                1                     1     1          1       1   \n",
       "29418                1                     1     1          1       1   \n",
       "29419                1                     1     1          0       1   \n",
       "29420                1                     1     1          1       1   \n",
       "29421                1                     1     1          1       1   \n",
       "\n",
       "       Shampoo  Essentials  Hangers  Hotwater  Kitchen  ...  Indoorfireplace  \\\n",
       "1            1           1        1         1        1  ...                0   \n",
       "2            1           1        1         1        1  ...                0   \n",
       "5            0           0        0         0        0  ...                0   \n",
       "6            1           1        1         1        1  ...                0   \n",
       "10           1           1        1         0        0  ...                0   \n",
       "...        ...         ...      ...       ...      ...  ...              ...   \n",
       "29417        1           1        1         0        0  ...                0   \n",
       "29418        1           1        1         1        0  ...                0   \n",
       "29419        0           0        0         1        0  ...                0   \n",
       "29420        1           1        1         0        1  ...                0   \n",
       "29421        1           1        0         0        1  ...                0   \n",
       "\n",
       "       Coffeemaker  Pool  Singlelevelhome  Hostgreetsyou  Dishwasher  Bathtub  \\\n",
       "1                0     0                0              0           0        0   \n",
       "2                1     0                0              0           0        0   \n",
       "5                0     0                0              0           0        0   \n",
       "6                0     0                0              0           0        0   \n",
       "10               0     0                0              0           0        0   \n",
       "...            ...   ...              ...            ...         ...      ...   \n",
       "29417            0     0                0              0           1        0   \n",
       "29418            0     0                0              0           0        0   \n",
       "29419            0     0                0              0           0        0   \n",
       "29420            0     0                0              0           0        0   \n",
       "29421            0     0                0              0           0        0   \n",
       "\n",
       "       Waterfront  Tablecornerguards  Outletcovers  \n",
       "1               0                  0             0  \n",
       "2               0                  0             0  \n",
       "5               0                  0             0  \n",
       "6               0                  0             0  \n",
       "10              0                  0             0  \n",
       "...           ...                ...           ...  \n",
       "29417           0                  0             0  \n",
       "29418           0                  0             0  \n",
       "29419           0                  0             0  \n",
       "29420           0                  0             0  \n",
       "29421           0                  0             0  \n",
       "\n",
       "[11294 rows x 70 columns]"
      ]
     },
     "execution_count": 14,
     "metadata": {},
     "output_type": "execute_result"
    }
   ],
   "source": [
    "# generate 70 dummy variables for amenities and corporate them into the main dataset\n",
    "top_70_amenities_list = list(top_70_amenities[\"amenity\"])\n",
    "\n",
    "def get_amenities(row):\n",
    "    amenities = {}\n",
    "    for amenity in top_70_amenities_list:\n",
    "        amenities[amenity] = 1 if amenity in row[\"amenities\"] else 0\n",
    "    return pd.Series(amenities)\n",
    "\n",
    "amenities_data = data.apply(get_amenities, axis=1)\n",
    "amenities_data"
   ]
  },
  {
   "cell_type": "code",
   "execution_count": 15,
   "id": "d2695b27",
   "metadata": {},
   "outputs": [],
   "source": [
    "data = pd.concat([data, amenities_data], axis=1)"
   ]
  },
  {
   "cell_type": "code",
   "execution_count": 16,
   "id": "dab61cca",
   "metadata": {
    "scrolled": false
   },
   "outputs": [
    {
     "data": {
      "text/html": [
       "<div>\n",
       "<style scoped>\n",
       "    .dataframe tbody tr th:only-of-type {\n",
       "        vertical-align: middle;\n",
       "    }\n",
       "\n",
       "    .dataframe tbody tr th {\n",
       "        vertical-align: top;\n",
       "    }\n",
       "\n",
       "    .dataframe thead th {\n",
       "        text-align: right;\n",
       "    }\n",
       "</style>\n",
       "<table border=\"1\" class=\"dataframe\">\n",
       "  <thead>\n",
       "    <tr style=\"text-align: right;\">\n",
       "      <th></th>\n",
       "      <th>id</th>\n",
       "      <th>scrape_id</th>\n",
       "      <th>host_id</th>\n",
       "      <th>host_name</th>\n",
       "      <th>host_since</th>\n",
       "      <th>host_response_rate</th>\n",
       "      <th>host_acceptance_rate</th>\n",
       "      <th>host_is_superhost</th>\n",
       "      <th>host_neighbourhood</th>\n",
       "      <th>host_listings_count</th>\n",
       "      <th>...</th>\n",
       "      <th>Indoorfireplace</th>\n",
       "      <th>Coffeemaker</th>\n",
       "      <th>Pool</th>\n",
       "      <th>Singlelevelhome</th>\n",
       "      <th>Hostgreetsyou</th>\n",
       "      <th>Dishwasher</th>\n",
       "      <th>Bathtub</th>\n",
       "      <th>Waterfront</th>\n",
       "      <th>Tablecornerguards</th>\n",
       "      <th>Outletcovers</th>\n",
       "    </tr>\n",
       "  </thead>\n",
       "  <tbody>\n",
       "    <tr>\n",
       "      <th>1</th>\n",
       "      <td>34330858</td>\n",
       "      <td>20220326120824</td>\n",
       "      <td>259183941</td>\n",
       "      <td>建华</td>\n",
       "      <td>2019-05-01</td>\n",
       "      <td>NaN</td>\n",
       "      <td>NaN</td>\n",
       "      <td>True</td>\n",
       "      <td>Jiading</td>\n",
       "      <td>2</td>\n",
       "      <td>...</td>\n",
       "      <td>0</td>\n",
       "      <td>0</td>\n",
       "      <td>0</td>\n",
       "      <td>0</td>\n",
       "      <td>0</td>\n",
       "      <td>0</td>\n",
       "      <td>0</td>\n",
       "      <td>0</td>\n",
       "      <td>0</td>\n",
       "      <td>0</td>\n",
       "    </tr>\n",
       "    <tr>\n",
       "      <th>2</th>\n",
       "      <td>24963</td>\n",
       "      <td>20220326120824</td>\n",
       "      <td>98203</td>\n",
       "      <td>Jia</td>\n",
       "      <td>2010-03-24</td>\n",
       "      <td>NaN</td>\n",
       "      <td>NaN</td>\n",
       "      <td>True</td>\n",
       "      <td>Conservatory</td>\n",
       "      <td>2</td>\n",
       "      <td>...</td>\n",
       "      <td>0</td>\n",
       "      <td>1</td>\n",
       "      <td>0</td>\n",
       "      <td>0</td>\n",
       "      <td>0</td>\n",
       "      <td>0</td>\n",
       "      <td>0</td>\n",
       "      <td>0</td>\n",
       "      <td>0</td>\n",
       "      <td>0</td>\n",
       "    </tr>\n",
       "    <tr>\n",
       "      <th>5</th>\n",
       "      <td>479517</td>\n",
       "      <td>20220326120824</td>\n",
       "      <td>681552</td>\n",
       "      <td>Leon</td>\n",
       "      <td>2011-06-09</td>\n",
       "      <td>NaN</td>\n",
       "      <td>NaN</td>\n",
       "      <td>True</td>\n",
       "      <td>Putuo</td>\n",
       "      <td>4</td>\n",
       "      <td>...</td>\n",
       "      <td>0</td>\n",
       "      <td>0</td>\n",
       "      <td>0</td>\n",
       "      <td>0</td>\n",
       "      <td>0</td>\n",
       "      <td>0</td>\n",
       "      <td>0</td>\n",
       "      <td>0</td>\n",
       "      <td>0</td>\n",
       "      <td>0</td>\n",
       "    </tr>\n",
       "    <tr>\n",
       "      <th>6</th>\n",
       "      <td>479530</td>\n",
       "      <td>20220326120824</td>\n",
       "      <td>681552</td>\n",
       "      <td>Leon</td>\n",
       "      <td>2011-06-09</td>\n",
       "      <td>NaN</td>\n",
       "      <td>NaN</td>\n",
       "      <td>True</td>\n",
       "      <td>Putuo</td>\n",
       "      <td>4</td>\n",
       "      <td>...</td>\n",
       "      <td>0</td>\n",
       "      <td>0</td>\n",
       "      <td>0</td>\n",
       "      <td>0</td>\n",
       "      <td>0</td>\n",
       "      <td>0</td>\n",
       "      <td>0</td>\n",
       "      <td>0</td>\n",
       "      <td>0</td>\n",
       "      <td>0</td>\n",
       "    </tr>\n",
       "    <tr>\n",
       "      <th>10</th>\n",
       "      <td>20614648</td>\n",
       "      <td>20220326120824</td>\n",
       "      <td>25383210</td>\n",
       "      <td>列飞</td>\n",
       "      <td>2014-12-30</td>\n",
       "      <td>NaN</td>\n",
       "      <td>NaN</td>\n",
       "      <td>True</td>\n",
       "      <td>Jiading</td>\n",
       "      <td>11</td>\n",
       "      <td>...</td>\n",
       "      <td>0</td>\n",
       "      <td>0</td>\n",
       "      <td>0</td>\n",
       "      <td>0</td>\n",
       "      <td>0</td>\n",
       "      <td>0</td>\n",
       "      <td>0</td>\n",
       "      <td>0</td>\n",
       "      <td>0</td>\n",
       "      <td>0</td>\n",
       "    </tr>\n",
       "    <tr>\n",
       "      <th>...</th>\n",
       "      <td>...</td>\n",
       "      <td>...</td>\n",
       "      <td>...</td>\n",
       "      <td>...</td>\n",
       "      <td>...</td>\n",
       "      <td>...</td>\n",
       "      <td>...</td>\n",
       "      <td>...</td>\n",
       "      <td>...</td>\n",
       "      <td>...</td>\n",
       "      <td>...</td>\n",
       "      <td>...</td>\n",
       "      <td>...</td>\n",
       "      <td>...</td>\n",
       "      <td>...</td>\n",
       "      <td>...</td>\n",
       "      <td>...</td>\n",
       "      <td>...</td>\n",
       "      <td>...</td>\n",
       "      <td>...</td>\n",
       "      <td>...</td>\n",
       "    </tr>\n",
       "    <tr>\n",
       "      <th>29417</th>\n",
       "      <td>54310450</td>\n",
       "      <td>20220326120824</td>\n",
       "      <td>224456459</td>\n",
       "      <td>周</td>\n",
       "      <td>2018-11-06</td>\n",
       "      <td>NaN</td>\n",
       "      <td>NaN</td>\n",
       "      <td>False</td>\n",
       "      <td>Jiading</td>\n",
       "      <td>13</td>\n",
       "      <td>...</td>\n",
       "      <td>0</td>\n",
       "      <td>0</td>\n",
       "      <td>0</td>\n",
       "      <td>0</td>\n",
       "      <td>0</td>\n",
       "      <td>1</td>\n",
       "      <td>0</td>\n",
       "      <td>0</td>\n",
       "      <td>0</td>\n",
       "      <td>0</td>\n",
       "    </tr>\n",
       "    <tr>\n",
       "      <th>29418</th>\n",
       "      <td>49472335</td>\n",
       "      <td>20220326120824</td>\n",
       "      <td>345507383</td>\n",
       "      <td>认证手机用户2637</td>\n",
       "      <td>2020-05-06</td>\n",
       "      <td>NaN</td>\n",
       "      <td>NaN</td>\n",
       "      <td>False</td>\n",
       "      <td>NaN</td>\n",
       "      <td>0</td>\n",
       "      <td>...</td>\n",
       "      <td>0</td>\n",
       "      <td>0</td>\n",
       "      <td>0</td>\n",
       "      <td>0</td>\n",
       "      <td>0</td>\n",
       "      <td>0</td>\n",
       "      <td>0</td>\n",
       "      <td>0</td>\n",
       "      <td>0</td>\n",
       "      <td>0</td>\n",
       "    </tr>\n",
       "    <tr>\n",
       "      <th>29419</th>\n",
       "      <td>46587231</td>\n",
       "      <td>20220326120824</td>\n",
       "      <td>374618280</td>\n",
       "      <td>山里</td>\n",
       "      <td>2020-11-06</td>\n",
       "      <td>NaN</td>\n",
       "      <td>NaN</td>\n",
       "      <td>False</td>\n",
       "      <td>NaN</td>\n",
       "      <td>3</td>\n",
       "      <td>...</td>\n",
       "      <td>0</td>\n",
       "      <td>0</td>\n",
       "      <td>0</td>\n",
       "      <td>0</td>\n",
       "      <td>0</td>\n",
       "      <td>0</td>\n",
       "      <td>0</td>\n",
       "      <td>0</td>\n",
       "      <td>0</td>\n",
       "      <td>0</td>\n",
       "    </tr>\n",
       "    <tr>\n",
       "      <th>29420</th>\n",
       "      <td>16329141</td>\n",
       "      <td>20220326120824</td>\n",
       "      <td>76569399</td>\n",
       "      <td>一朵小宿</td>\n",
       "      <td>2016-06-08</td>\n",
       "      <td>NaN</td>\n",
       "      <td>NaN</td>\n",
       "      <td>False</td>\n",
       "      <td>Jiading</td>\n",
       "      <td>7</td>\n",
       "      <td>...</td>\n",
       "      <td>0</td>\n",
       "      <td>0</td>\n",
       "      <td>0</td>\n",
       "      <td>0</td>\n",
       "      <td>0</td>\n",
       "      <td>0</td>\n",
       "      <td>0</td>\n",
       "      <td>0</td>\n",
       "      <td>0</td>\n",
       "      <td>0</td>\n",
       "    </tr>\n",
       "    <tr>\n",
       "      <th>29421</th>\n",
       "      <td>37403610</td>\n",
       "      <td>20220326120824</td>\n",
       "      <td>79150947</td>\n",
       "      <td>Ruby</td>\n",
       "      <td>2016-06-21</td>\n",
       "      <td>NaN</td>\n",
       "      <td>NaN</td>\n",
       "      <td>False</td>\n",
       "      <td>Phra Khanong</td>\n",
       "      <td>9</td>\n",
       "      <td>...</td>\n",
       "      <td>0</td>\n",
       "      <td>0</td>\n",
       "      <td>0</td>\n",
       "      <td>0</td>\n",
       "      <td>0</td>\n",
       "      <td>0</td>\n",
       "      <td>0</td>\n",
       "      <td>0</td>\n",
       "      <td>0</td>\n",
       "      <td>0</td>\n",
       "    </tr>\n",
       "  </tbody>\n",
       "</table>\n",
       "<p>11294 rows × 132 columns</p>\n",
       "</div>"
      ],
      "text/plain": [
       "             id       scrape_id    host_id   host_name  host_since  \\\n",
       "1      34330858  20220326120824  259183941          建华  2019-05-01   \n",
       "2         24963  20220326120824      98203         Jia  2010-03-24   \n",
       "5        479517  20220326120824     681552        Leon  2011-06-09   \n",
       "6        479530  20220326120824     681552        Leon  2011-06-09   \n",
       "10     20614648  20220326120824   25383210          列飞  2014-12-30   \n",
       "...         ...             ...        ...         ...         ...   \n",
       "29417  54310450  20220326120824  224456459           周  2018-11-06   \n",
       "29418  49472335  20220326120824  345507383  认证手机用户2637  2020-05-06   \n",
       "29419  46587231  20220326120824  374618280          山里  2020-11-06   \n",
       "29420  16329141  20220326120824   76569399        一朵小宿  2016-06-08   \n",
       "29421  37403610  20220326120824   79150947        Ruby  2016-06-21   \n",
       "\n",
       "       host_response_rate  host_acceptance_rate host_is_superhost  \\\n",
       "1                     NaN                   NaN              True   \n",
       "2                     NaN                   NaN              True   \n",
       "5                     NaN                   NaN              True   \n",
       "6                     NaN                   NaN              True   \n",
       "10                    NaN                   NaN              True   \n",
       "...                   ...                   ...               ...   \n",
       "29417                 NaN                   NaN             False   \n",
       "29418                 NaN                   NaN             False   \n",
       "29419                 NaN                   NaN             False   \n",
       "29420                 NaN                   NaN             False   \n",
       "29421                 NaN                   NaN             False   \n",
       "\n",
       "      host_neighbourhood host_listings_count  ... Indoorfireplace Coffeemaker  \\\n",
       "1                Jiading                   2  ...               0           0   \n",
       "2           Conservatory                   2  ...               0           1   \n",
       "5                  Putuo                   4  ...               0           0   \n",
       "6                  Putuo                   4  ...               0           0   \n",
       "10               Jiading                  11  ...               0           0   \n",
       "...                  ...                 ...  ...             ...         ...   \n",
       "29417            Jiading                  13  ...               0           0   \n",
       "29418                NaN                   0  ...               0           0   \n",
       "29419                NaN                   3  ...               0           0   \n",
       "29420            Jiading                   7  ...               0           0   \n",
       "29421      Phra Khanong                    9  ...               0           0   \n",
       "\n",
       "      Pool Singlelevelhome Hostgreetsyou Dishwasher Bathtub Waterfront  \\\n",
       "1        0               0             0          0       0          0   \n",
       "2        0               0             0          0       0          0   \n",
       "5        0               0             0          0       0          0   \n",
       "6        0               0             0          0       0          0   \n",
       "10       0               0             0          0       0          0   \n",
       "...    ...             ...           ...        ...     ...        ...   \n",
       "29417    0               0             0          1       0          0   \n",
       "29418    0               0             0          0       0          0   \n",
       "29419    0               0             0          0       0          0   \n",
       "29420    0               0             0          0       0          0   \n",
       "29421    0               0             0          0       0          0   \n",
       "\n",
       "      Tablecornerguards Outletcovers  \n",
       "1                     0            0  \n",
       "2                     0            0  \n",
       "5                     0            0  \n",
       "6                     0            0  \n",
       "10                    0            0  \n",
       "...                 ...          ...  \n",
       "29417                 0            0  \n",
       "29418                 0            0  \n",
       "29419                 0            0  \n",
       "29420                 0            0  \n",
       "29421                 0            0  \n",
       "\n",
       "[11294 rows x 132 columns]"
      ]
     },
     "execution_count": 16,
     "metadata": {},
     "output_type": "execute_result"
    }
   ],
   "source": [
    "data"
   ]
  },
  {
   "cell_type": "markdown",
   "id": "f053b3b5",
   "metadata": {},
   "source": [
    "Deal with **bathrooms** variable: extract the number in the **bathrooms_text** into **bathrooms**."
   ]
  },
  {
   "cell_type": "code",
   "execution_count": 17,
   "id": "402522c0",
   "metadata": {},
   "outputs": [],
   "source": [
    "def extract_bathrooms(row):\n",
    "    bathroom_text = row[\"bathrooms_text\"]\n",
    "    if type(bathroom_text) == float:\n",
    "        return bathroom_text\n",
    "    elif bathroom_text == \"Half-bath\":\n",
    "        return 0.5\n",
    "    else:\n",
    "        try:\n",
    "            return float(bathroom_text.split(\" \")[0])\n",
    "        except ValueError:\n",
    "            # handle cases where the value is not a number\n",
    "            return None\n",
    "\n",
    "data[\"bathrooms\"] = data.apply(extract_bathrooms, axis=1)"
   ]
  },
  {
   "cell_type": "code",
   "execution_count": 18,
   "id": "7426db5a",
   "metadata": {},
   "outputs": [],
   "source": [
    "# write csv\n",
    "data.to_csv(\"airbnb_shanghai_cleaned.csv\", index=False)"
   ]
  },
  {
   "cell_type": "markdown",
   "id": "b878d144",
   "metadata": {},
   "source": [
    "## Part 2: Data Processing for Analysis"
   ]
  },
  {
   "cell_type": "markdown",
   "id": "5846e286",
   "metadata": {},
   "source": [
    "### Import clean data"
   ]
  },
  {
   "cell_type": "code",
   "execution_count": 19,
   "id": "3c9b0b47",
   "metadata": {},
   "outputs": [],
   "source": [
    "data = pd.read_csv(\"airbnb_shanghai_cleaned.csv\", delimiter=\",\", dtype=\"unicode\")"
   ]
  },
  {
   "cell_type": "markdown",
   "id": "8f4877e6",
   "metadata": {},
   "source": [
    "### Create categorical variables"
   ]
  },
  {
   "cell_type": "code",
   "execution_count": 20,
   "id": "af55cd86",
   "metadata": {},
   "outputs": [],
   "source": [
    "# property_type\n",
    "data[\"f_property_type\"] = data[\"property_type\"].astype(\"category\")"
   ]
  },
  {
   "cell_type": "code",
   "execution_count": 21,
   "id": "78029946",
   "metadata": {},
   "outputs": [],
   "source": [
    "# neighbourhood_cleansed\n",
    "data[\"f_neighbourhood_cleansed\"] = data[\"neighbourhood_cleansed\"].astype(\"category\")"
   ]
  },
  {
   "cell_type": "markdown",
   "id": "33636451",
   "metadata": {},
   "source": [
    "### Create numerical variables"
   ]
  },
  {
   "cell_type": "code",
   "execution_count": 22,
   "id": "b6cfb030",
   "metadata": {},
   "outputs": [],
   "source": [
    "# add new numeric columns from certain columns\n",
    "\n",
    "numericals = [\n",
    "    \"accommodates\",\n",
    "    \"bathrooms\",\n",
    "    \"review_scores_rating\",\n",
    "    \"number_of_reviews\",\n",
    "    \"reviews_per_month\",\n",
    "    \"minimum_nights\",\n",
    "    \"beds\",\n",
    "]\n",
    "\n",
    "for col in numericals:\n",
    "    data[\"n_\" + col] = pd.to_numeric(data[col], errors=\"coerce\")"
   ]
  },
  {
   "cell_type": "code",
   "execution_count": 23,
   "id": "f7adbd00",
   "metadata": {},
   "outputs": [],
   "source": [
    "# create days since first review\n",
    "\n",
    "data[\"n_days_since\"] = (\n",
    "    data.calendar_last_scraped.apply(lambda x: datetime.strptime(x, \"%Y-%m-%d\"))\n",
    "    - data.first_review.fillna(\"1950-01-01\").apply(\n",
    "        lambda x: datetime.strptime(x, \"%Y-%m-%d\")\n",
    "    )\n",
    ").dt.days\n",
    "\n",
    "data[\"n_days_since\"] = np.where(data.first_review.isnull(), np.nan, data.n_days_since)"
   ]
  },
  {
   "cell_type": "code",
   "execution_count": 24,
   "id": "84ab0ada",
   "metadata": {},
   "outputs": [],
   "source": [
    "# create dummy variables\n",
    "dummies = data.columns[62:132]\n",
    "\n",
    "for col in dummies:\n",
    "    data[\"d_\" + (re.sub(\"/|\\s|-\", \"\", col)).replace(\"(s)\", \"s\").lower()] = data[col]"
   ]
  },
  {
   "cell_type": "code",
   "execution_count": 25,
   "id": "04df4127",
   "metadata": {},
   "outputs": [],
   "source": [
    "# keep columns if contain d_, n_,f_, p_, usd_ and some others\n",
    "data = pd.concat(\n",
    "    [\n",
    "        data.filter(\n",
    "            regex=\"^d_.*|^n_.*|^f_.*|^p_.*|^usd_.*\",\n",
    "        ),\n",
    "        data[\n",
    "            [\n",
    "                \"price\",\n",
    "                \"id\",\n",
    "                \"neighbourhood_cleansed\",\n",
    "                \"property_type\",\n",
    "            ]\n",
    "        ],\n",
    "    ],\n",
    "    axis=1,\n",
    ")"
   ]
  },
  {
   "cell_type": "code",
   "execution_count": 26,
   "id": "93ea79af",
   "metadata": {},
   "outputs": [],
   "source": [
    "# price\n",
    "data[\"price\"] = data[\"price\"].str.replace(\"$\", \"\").str.replace(\",\", \"\").astype(float)"
   ]
  },
  {
   "cell_type": "markdown",
   "id": "ac62f2b3",
   "metadata": {},
   "source": [
    "### Create more variables"
   ]
  },
  {
   "cell_type": "code",
   "execution_count": 27,
   "id": "77224cf5",
   "metadata": {},
   "outputs": [],
   "source": [
    "# Squares and further values to create\n",
    "data = data.assign(\n",
    "    n_accommodates2=lambda x: x[\"n_accommodates\"] ** 2,\n",
    "    ln_accommodates=lambda x: np.log(x[\"n_accommodates\"]),\n",
    "    ln_accommodates2=lambda x: np.log(x[\"n_accommodates\"]) ** 2,\n",
    "    ln_beds=lambda x: np.log(x[\"n_beds\"]),\n",
    "    ln_number_of_reviews=lambda x: np.log(x[\"n_number_of_reviews\"] + 1),\n",
    ")"
   ]
  },
  {
   "cell_type": "code",
   "execution_count": 28,
   "id": "5d005cb8",
   "metadata": {},
   "outputs": [
    {
     "data": {
      "text/plain": [
       "0        138\n",
       "1      10323\n",
       "2        824\n",
       "NaN        9\n",
       "dtype: int64"
      ]
     },
     "execution_count": 28,
     "metadata": {},
     "output_type": "execute_result"
    }
   ],
   "source": [
    "# Pool accomodations with 0,1,2,15 bathrooms\n",
    "bins = pd.IntervalIndex.from_tuples([(0, 1), (1, 2), (2, 15)], closed=\"left\")\n",
    "f_bath = pd.cut(data[\"n_bathrooms\"].to_list(), bins, labels=[\"0\", \"1\", \"2\"])\n",
    "f_bath.categories = [0, 1, 2]\n",
    "data[\"f_bathroom\"] = f_bath\n",
    "\n",
    "f_bath.value_counts(dropna=False)"
   ]
  },
  {
   "cell_type": "code",
   "execution_count": 29,
   "id": "1c510802",
   "metadata": {},
   "outputs": [
    {
     "data": {
      "text/plain": [
       "1      6308\n",
       "0      4118\n",
       "2       867\n",
       "NaN       1\n",
       "Name: f_number_of_reviews, dtype: int64"
      ]
     },
     "execution_count": 29,
     "metadata": {},
     "output_type": "execute_result"
    }
   ],
   "source": [
    "# Pool num of reviews to 3 categories: none, 1-51 and >51\n",
    "bins = pd.IntervalIndex.from_tuples(\n",
    "    [(0, 1), (1, 51), (51, max(data.n_number_of_reviews))], closed=\"left\"\n",
    ")\n",
    "fnor = pd.cut(data[\"n_number_of_reviews\"].to_list(), bins, labels=[\"0\", \"1\", \"2\"])\n",
    "fnor.categories = [0, 1, 2]\n",
    "data[\"f_number_of_reviews\"] = fnor\n",
    "data[\"f_number_of_reviews\"].value_counts(dropna=False)"
   ]
  },
  {
   "cell_type": "code",
   "execution_count": 30,
   "id": "950ff63e",
   "metadata": {},
   "outputs": [
    {
     "data": {
      "text/plain": [
       "1      8714\n",
       "3      2128\n",
       "2       451\n",
       "NaN       1\n",
       "Name: f_minimum_nights, dtype: int64"
      ]
     },
     "execution_count": 30,
     "metadata": {},
     "output_type": "execute_result"
    }
   ],
   "source": [
    "# Pool and categorize the number of minimum nights: 1,2,3, 3+\n",
    "bins = pd.IntervalIndex.from_tuples(\n",
    "    [(1, 2), (2, 3), (3, max(data.n_minimum_nights))], closed=\"left\"\n",
    ")\n",
    "f_min_n = pd.cut(data[\"n_minimum_nights\"].to_list(), bins, labels=[\"1\", \"2\", \"3\"])\n",
    "f_min_n.categories = [1, 2, 3]\n",
    "data[\"f_minimum_nights\"] = f_min_n\n",
    "data[\"f_minimum_nights\"].value_counts(dropna=False)"
   ]
  },
  {
   "cell_type": "markdown",
   "id": "2aafc1c0",
   "metadata": {},
   "source": [
    "### Dealing with missing values"
   ]
  },
  {
   "cell_type": "code",
   "execution_count": 31,
   "id": "7a5c133b",
   "metadata": {},
   "outputs": [],
   "source": [
    "# Change Infinite values with NaNs\n",
    "data = data.replace([np.inf, -np.inf], np.nan)"
   ]
  },
  {
   "cell_type": "code",
   "execution_count": 32,
   "id": "de588efe",
   "metadata": {
    "scrolled": true
   },
   "outputs": [
    {
     "data": {
      "text/plain": [
       "n_bathrooms                  8\n",
       "n_review_scores_rating    4118\n",
       "n_reviews_per_month       4118\n",
       "n_beds                      89\n",
       "n_days_since              4118\n",
       "ln_beds                     89\n",
       "f_bathroom                   9\n",
       "f_number_of_reviews          1\n",
       "f_minimum_nights             1\n",
       "dtype: int64"
      ]
     },
     "execution_count": 32,
     "metadata": {},
     "output_type": "execute_result"
    }
   ],
   "source": [
    "# where do we have missing variables now?\n",
    "to_filter = data.isna().sum()\n",
    "to_filter[to_filter > 0]"
   ]
  },
  {
   "cell_type": "code",
   "execution_count": 33,
   "id": "3cd26bf3",
   "metadata": {},
   "outputs": [],
   "source": [
    "# 1. drop if no target\n",
    "data = data.loc[lambda x: x.price.notnull()]"
   ]
  },
  {
   "cell_type": "code",
   "execution_count": 34,
   "id": "e9dc0e7a",
   "metadata": {},
   "outputs": [],
   "source": [
    "# 2. imput when few, not that important\n",
    "data = data.assign(\n",
    "    n_bathrooms=lambda x: x[\"n_bathrooms\"].fillna(np.median(x[\"n_bathrooms\"].dropna())),\n",
    "    n_beds=lambda x: np.where(x[\"n_beds\"].isnull(), x[\"n_accommodates\"], x[\"n_beds\"]),\n",
    "    f_bathroom=lambda x: x[\"f_bathroom\"].fillna(1),\n",
    "    f_minimum_nights=lambda x: x[\"f_minimum_nights\"].fillna(1),\n",
    "    f_number_of_reviews=lambda x: x[\"f_number_of_reviews\"].fillna(1),\n",
    "    ln_beds=lambda x: x[\"ln_beds\"].fillna(0),\n",
    ")"
   ]
  },
  {
   "cell_type": "code",
   "execution_count": 35,
   "id": "e67eb47f",
   "metadata": {},
   "outputs": [
    {
     "data": {
      "text/plain": [
       "n_review_scores_rating    4118\n",
       "n_reviews_per_month       4118\n",
       "n_days_since              4118\n",
       "dtype: int64"
      ]
     },
     "execution_count": 35,
     "metadata": {},
     "output_type": "execute_result"
    }
   ],
   "source": [
    "to_filter = data.isna().sum()\n",
    "to_filter[to_filter > 0]"
   ]
  },
  {
   "cell_type": "code",
   "execution_count": 36,
   "id": "cb83b4fe",
   "metadata": {},
   "outputs": [],
   "source": [
    "# 3. Replace missing variables re reviews with zero, when no review + add flags\n",
    "data = data.assign(\n",
    "    flag_days_since=np.multiply(data.n_days_since.isna(), 1),\n",
    "    n_days_since=data.n_days_since.fillna(np.median(data.n_days_since.dropna())),\n",
    "    flag_review_scores_rating=np.multiply(data.n_review_scores_rating.isna(), 1),\n",
    "    n_review_scores_rating=data.n_review_scores_rating.fillna(\n",
    "        np.median(data.n_review_scores_rating.dropna())\n",
    "    ),\n",
    "    flag_reviews_per_month=np.multiply(data.n_reviews_per_month.isna(), 1),\n",
    "    n_reviews_per_month=data.n_reviews_per_month.fillna(\n",
    "        np.median(data.n_reviews_per_month.dropna())\n",
    "    ),\n",
    "    flag_n_number_of_reviews=np.multiply(data.n_number_of_reviews.isna(), 1),\n",
    ")"
   ]
  },
  {
   "cell_type": "code",
   "execution_count": 37,
   "id": "72145da5",
   "metadata": {
    "scrolled": true
   },
   "outputs": [
    {
     "data": {
      "text/plain": [
       "0    7176\n",
       "1    4118\n",
       "Name: flag_days_since, dtype: int64"
      ]
     },
     "execution_count": 37,
     "metadata": {},
     "output_type": "execute_result"
    }
   ],
   "source": [
    "data.flag_days_since.value_counts()"
   ]
  },
  {
   "cell_type": "code",
   "execution_count": 38,
   "id": "aa000f10",
   "metadata": {},
   "outputs": [],
   "source": [
    "# redo features\n",
    "# Create variables, measuring the time since: squared, cubic, logs\n",
    "data = data.assign(\n",
    "    ln_days_since=lambda x: np.log(x[\"n_days_since\"] + 1),\n",
    "    ln_days_since2=lambda x: np.log(x[\"n_days_since\"] + 1) ** 2,\n",
    "    ln_days_since3=lambda x: np.log(x[\"n_days_since\"] + 1) ** 3,\n",
    "    n_days_since2=lambda x: x[\"n_days_since\"] ** 2,\n",
    "    n_days_since3=lambda x: x[\"n_days_since\"] ** 3,\n",
    "    ln_review_scores_rating=lambda x: np.log(x[\"n_review_scores_rating\"]),\n",
    ")"
   ]
  },
  {
   "cell_type": "code",
   "execution_count": 39,
   "id": "34140744",
   "metadata": {},
   "outputs": [],
   "source": [
    "data.ln_days_since = data[\"ln_days_since\"].fillna(0)\n",
    "data.ln_days_since2 = data[\"ln_days_since2\"].fillna(0)\n",
    "data.ln_days_since3 = data[\"ln_days_since3\"].fillna(0)"
   ]
  },
  {
   "cell_type": "code",
   "execution_count": 40,
   "id": "0161a3eb",
   "metadata": {
    "scrolled": true
   },
   "outputs": [
    {
     "data": {
      "text/plain": [
       "Series([], dtype: int64)"
      ]
     },
     "execution_count": 40,
     "metadata": {},
     "output_type": "execute_result"
    }
   ],
   "source": [
    "to_filter = data.isna().sum()\n",
    "to_filter[to_filter > 0]"
   ]
  },
  {
   "cell_type": "code",
   "execution_count": 41,
   "id": "f836cffb",
   "metadata": {
    "scrolled": true
   },
   "outputs": [
    {
     "data": {
      "text/html": [
       "<div>\n",
       "<style scoped>\n",
       "    .dataframe tbody tr th:only-of-type {\n",
       "        vertical-align: middle;\n",
       "    }\n",
       "\n",
       "    .dataframe tbody tr th {\n",
       "        vertical-align: top;\n",
       "    }\n",
       "\n",
       "    .dataframe thead th {\n",
       "        text-align: right;\n",
       "    }\n",
       "</style>\n",
       "<table border=\"1\" class=\"dataframe\">\n",
       "  <thead>\n",
       "    <tr style=\"text-align: right;\">\n",
       "      <th></th>\n",
       "      <th>n_accommodates</th>\n",
       "      <th>n_bathrooms</th>\n",
       "      <th>n_review_scores_rating</th>\n",
       "      <th>n_number_of_reviews</th>\n",
       "      <th>n_reviews_per_month</th>\n",
       "      <th>n_minimum_nights</th>\n",
       "      <th>n_beds</th>\n",
       "      <th>n_days_since</th>\n",
       "      <th>price</th>\n",
       "      <th>n_accommodates2</th>\n",
       "      <th>...</th>\n",
       "      <th>flag_days_since</th>\n",
       "      <th>flag_review_scores_rating</th>\n",
       "      <th>flag_reviews_per_month</th>\n",
       "      <th>flag_n_number_of_reviews</th>\n",
       "      <th>ln_days_since</th>\n",
       "      <th>ln_days_since2</th>\n",
       "      <th>ln_days_since3</th>\n",
       "      <th>n_days_since2</th>\n",
       "      <th>n_days_since3</th>\n",
       "      <th>ln_review_scores_rating</th>\n",
       "    </tr>\n",
       "  </thead>\n",
       "  <tbody>\n",
       "    <tr>\n",
       "      <th>count</th>\n",
       "      <td>11294.000000</td>\n",
       "      <td>11294.000000</td>\n",
       "      <td>11294.000000</td>\n",
       "      <td>11294.000000</td>\n",
       "      <td>11294.000000</td>\n",
       "      <td>11294.000000</td>\n",
       "      <td>11294.000000</td>\n",
       "      <td>11294.000000</td>\n",
       "      <td>11294.000000</td>\n",
       "      <td>11294.000000</td>\n",
       "      <td>...</td>\n",
       "      <td>11294.000000</td>\n",
       "      <td>11294.000000</td>\n",
       "      <td>11294.000000</td>\n",
       "      <td>11294.0</td>\n",
       "      <td>11294.000000</td>\n",
       "      <td>11294.000000</td>\n",
       "      <td>11294.000000</td>\n",
       "      <td>1.129400e+04</td>\n",
       "      <td>1.129400e+04</td>\n",
       "      <td>1.129400e+04</td>\n",
       "    </tr>\n",
       "    <tr>\n",
       "      <th>mean</th>\n",
       "      <td>3.014432</td>\n",
       "      <td>1.130069</td>\n",
       "      <td>4.702275</td>\n",
       "      <td>14.215778</td>\n",
       "      <td>0.689430</td>\n",
       "      <td>11.022313</td>\n",
       "      <td>1.615460</td>\n",
       "      <td>734.418806</td>\n",
       "      <td>637.376660</td>\n",
       "      <td>10.783513</td>\n",
       "      <td>...</td>\n",
       "      <td>0.364618</td>\n",
       "      <td>0.364618</td>\n",
       "      <td>0.364618</td>\n",
       "      <td>0.0</td>\n",
       "      <td>6.401748</td>\n",
       "      <td>41.523221</td>\n",
       "      <td>272.078879</td>\n",
       "      <td>7.103635e+05</td>\n",
       "      <td>8.607870e+08</td>\n",
       "      <td>-inf</td>\n",
       "    </tr>\n",
       "    <tr>\n",
       "      <th>std</th>\n",
       "      <td>1.302636</td>\n",
       "      <td>0.366020</td>\n",
       "      <td>0.732087</td>\n",
       "      <td>33.077785</td>\n",
       "      <td>0.839275</td>\n",
       "      <td>42.397413</td>\n",
       "      <td>0.784995</td>\n",
       "      <td>413.530676</td>\n",
       "      <td>2417.310917</td>\n",
       "      <td>9.643902</td>\n",
       "      <td>...</td>\n",
       "      <td>0.481344</td>\n",
       "      <td>0.481344</td>\n",
       "      <td>0.481344</td>\n",
       "      <td>0.0</td>\n",
       "      <td>0.735450</td>\n",
       "      <td>8.572833</td>\n",
       "      <td>77.941535</td>\n",
       "      <td>8.816799e+05</td>\n",
       "      <td>1.998969e+09</td>\n",
       "      <td>NaN</td>\n",
       "    </tr>\n",
       "    <tr>\n",
       "      <th>min</th>\n",
       "      <td>2.000000</td>\n",
       "      <td>0.000000</td>\n",
       "      <td>0.000000</td>\n",
       "      <td>0.000000</td>\n",
       "      <td>0.010000</td>\n",
       "      <td>1.000000</td>\n",
       "      <td>1.000000</td>\n",
       "      <td>4.000000</td>\n",
       "      <td>0.000000</td>\n",
       "      <td>4.000000</td>\n",
       "      <td>...</td>\n",
       "      <td>0.000000</td>\n",
       "      <td>0.000000</td>\n",
       "      <td>0.000000</td>\n",
       "      <td>0.0</td>\n",
       "      <td>1.609438</td>\n",
       "      <td>2.590290</td>\n",
       "      <td>4.168912</td>\n",
       "      <td>1.600000e+01</td>\n",
       "      <td>6.400000e+01</td>\n",
       "      <td>-inf</td>\n",
       "    </tr>\n",
       "    <tr>\n",
       "      <th>25%</th>\n",
       "      <td>2.000000</td>\n",
       "      <td>1.000000</td>\n",
       "      <td>4.800000</td>\n",
       "      <td>0.000000</td>\n",
       "      <td>0.310000</td>\n",
       "      <td>1.000000</td>\n",
       "      <td>1.000000</td>\n",
       "      <td>537.000000</td>\n",
       "      <td>259.000000</td>\n",
       "      <td>4.000000</td>\n",
       "      <td>...</td>\n",
       "      <td>0.000000</td>\n",
       "      <td>0.000000</td>\n",
       "      <td>0.000000</td>\n",
       "      <td>0.0</td>\n",
       "      <td>6.287859</td>\n",
       "      <td>39.537165</td>\n",
       "      <td>248.604103</td>\n",
       "      <td>2.883690e+05</td>\n",
       "      <td>1.548542e+08</td>\n",
       "      <td>1.568616e+00</td>\n",
       "    </tr>\n",
       "    <tr>\n",
       "      <th>50%</th>\n",
       "      <td>2.000000</td>\n",
       "      <td>1.000000</td>\n",
       "      <td>4.880000</td>\n",
       "      <td>2.000000</td>\n",
       "      <td>0.450000</td>\n",
       "      <td>1.000000</td>\n",
       "      <td>1.000000</td>\n",
       "      <td>680.000000</td>\n",
       "      <td>370.000000</td>\n",
       "      <td>4.000000</td>\n",
       "      <td>...</td>\n",
       "      <td>0.000000</td>\n",
       "      <td>0.000000</td>\n",
       "      <td>0.000000</td>\n",
       "      <td>0.0</td>\n",
       "      <td>6.523562</td>\n",
       "      <td>42.556865</td>\n",
       "      <td>277.622361</td>\n",
       "      <td>4.624000e+05</td>\n",
       "      <td>3.144320e+08</td>\n",
       "      <td>1.585145e+00</td>\n",
       "    </tr>\n",
       "    <tr>\n",
       "      <th>75%</th>\n",
       "      <td>4.000000</td>\n",
       "      <td>1.000000</td>\n",
       "      <td>4.960000</td>\n",
       "      <td>12.000000</td>\n",
       "      <td>0.640000</td>\n",
       "      <td>1.000000</td>\n",
       "      <td>2.000000</td>\n",
       "      <td>900.000000</td>\n",
       "      <td>538.000000</td>\n",
       "      <td>16.000000</td>\n",
       "      <td>...</td>\n",
       "      <td>1.000000</td>\n",
       "      <td>1.000000</td>\n",
       "      <td>1.000000</td>\n",
       "      <td>0.0</td>\n",
       "      <td>6.803505</td>\n",
       "      <td>46.287684</td>\n",
       "      <td>314.918500</td>\n",
       "      <td>8.100000e+05</td>\n",
       "      <td>7.290000e+08</td>\n",
       "      <td>1.601406e+00</td>\n",
       "    </tr>\n",
       "    <tr>\n",
       "      <th>max</th>\n",
       "      <td>6.000000</td>\n",
       "      <td>15.000000</td>\n",
       "      <td>5.000000</td>\n",
       "      <td>453.000000</td>\n",
       "      <td>10.910000</td>\n",
       "      <td>1000.000000</td>\n",
       "      <td>7.000000</td>\n",
       "      <td>4200.000000</td>\n",
       "      <td>75771.000000</td>\n",
       "      <td>36.000000</td>\n",
       "      <td>...</td>\n",
       "      <td>1.000000</td>\n",
       "      <td>1.000000</td>\n",
       "      <td>1.000000</td>\n",
       "      <td>0.0</td>\n",
       "      <td>8.343078</td>\n",
       "      <td>69.606948</td>\n",
       "      <td>580.736191</td>\n",
       "      <td>1.764000e+07</td>\n",
       "      <td>7.408800e+10</td>\n",
       "      <td>1.609438e+00</td>\n",
       "    </tr>\n",
       "  </tbody>\n",
       "</table>\n",
       "<p>8 rows × 24 columns</p>\n",
       "</div>"
      ],
      "text/plain": [
       "       n_accommodates   n_bathrooms  n_review_scores_rating  \\\n",
       "count    11294.000000  11294.000000            11294.000000   \n",
       "mean         3.014432      1.130069                4.702275   \n",
       "std          1.302636      0.366020                0.732087   \n",
       "min          2.000000      0.000000                0.000000   \n",
       "25%          2.000000      1.000000                4.800000   \n",
       "50%          2.000000      1.000000                4.880000   \n",
       "75%          4.000000      1.000000                4.960000   \n",
       "max          6.000000     15.000000                5.000000   \n",
       "\n",
       "       n_number_of_reviews  n_reviews_per_month  n_minimum_nights  \\\n",
       "count         11294.000000         11294.000000      11294.000000   \n",
       "mean             14.215778             0.689430         11.022313   \n",
       "std              33.077785             0.839275         42.397413   \n",
       "min               0.000000             0.010000          1.000000   \n",
       "25%               0.000000             0.310000          1.000000   \n",
       "50%               2.000000             0.450000          1.000000   \n",
       "75%              12.000000             0.640000          1.000000   \n",
       "max             453.000000            10.910000       1000.000000   \n",
       "\n",
       "             n_beds  n_days_since         price  n_accommodates2  ...  \\\n",
       "count  11294.000000  11294.000000  11294.000000     11294.000000  ...   \n",
       "mean       1.615460    734.418806    637.376660        10.783513  ...   \n",
       "std        0.784995    413.530676   2417.310917         9.643902  ...   \n",
       "min        1.000000      4.000000      0.000000         4.000000  ...   \n",
       "25%        1.000000    537.000000    259.000000         4.000000  ...   \n",
       "50%        1.000000    680.000000    370.000000         4.000000  ...   \n",
       "75%        2.000000    900.000000    538.000000        16.000000  ...   \n",
       "max        7.000000   4200.000000  75771.000000        36.000000  ...   \n",
       "\n",
       "       flag_days_since  flag_review_scores_rating  flag_reviews_per_month  \\\n",
       "count     11294.000000               11294.000000            11294.000000   \n",
       "mean          0.364618                   0.364618                0.364618   \n",
       "std           0.481344                   0.481344                0.481344   \n",
       "min           0.000000                   0.000000                0.000000   \n",
       "25%           0.000000                   0.000000                0.000000   \n",
       "50%           0.000000                   0.000000                0.000000   \n",
       "75%           1.000000                   1.000000                1.000000   \n",
       "max           1.000000                   1.000000                1.000000   \n",
       "\n",
       "       flag_n_number_of_reviews  ln_days_since  ln_days_since2  \\\n",
       "count                   11294.0   11294.000000    11294.000000   \n",
       "mean                        0.0       6.401748       41.523221   \n",
       "std                         0.0       0.735450        8.572833   \n",
       "min                         0.0       1.609438        2.590290   \n",
       "25%                         0.0       6.287859       39.537165   \n",
       "50%                         0.0       6.523562       42.556865   \n",
       "75%                         0.0       6.803505       46.287684   \n",
       "max                         0.0       8.343078       69.606948   \n",
       "\n",
       "       ln_days_since3  n_days_since2  n_days_since3  ln_review_scores_rating  \n",
       "count    11294.000000   1.129400e+04   1.129400e+04             1.129400e+04  \n",
       "mean       272.078879   7.103635e+05   8.607870e+08                     -inf  \n",
       "std         77.941535   8.816799e+05   1.998969e+09                      NaN  \n",
       "min          4.168912   1.600000e+01   6.400000e+01                     -inf  \n",
       "25%        248.604103   2.883690e+05   1.548542e+08             1.568616e+00  \n",
       "50%        277.622361   4.624000e+05   3.144320e+08             1.585145e+00  \n",
       "75%        314.918500   8.100000e+05   7.290000e+08             1.601406e+00  \n",
       "max        580.736191   1.764000e+07   7.408800e+10             1.609438e+00  \n",
       "\n",
       "[8 rows x 24 columns]"
      ]
     },
     "execution_count": 41,
     "metadata": {},
     "output_type": "execute_result"
    }
   ],
   "source": [
    "data.describe()"
   ]
  },
  {
   "cell_type": "code",
   "execution_count": 42,
   "id": "54a13ca7",
   "metadata": {},
   "outputs": [],
   "source": [
    "# write csv\n",
    "data.to_csv(\"airbnb_shanghai_workfile_adj.csv\", index=False)"
   ]
  },
  {
   "cell_type": "markdown",
   "id": "f545d895",
   "metadata": {},
   "source": [
    "## Part 3: Models Selection and Comparison"
   ]
  },
  {
   "cell_type": "markdown",
   "id": "05c630ea",
   "metadata": {},
   "source": [
    "### Split train and test data"
   ]
  },
  {
   "cell_type": "markdown",
   "id": "2a17d8fe",
   "metadata": {},
   "source": [
    "- train is where we do it all, including Cross Validation \n",
    "\n",
    "- first pick a smaller than usual training set so that models run faster and check if works\n",
    "- if works, start anew without these two lines"
   ]
  },
  {
   "cell_type": "code",
   "execution_count": 43,
   "id": "683a83a2",
   "metadata": {},
   "outputs": [],
   "source": [
    "data_train, data_holdout = train_test_split( data, train_size=0.7, random_state=42)"
   ]
  },
  {
   "cell_type": "code",
   "execution_count": 44,
   "id": "077fc7ab",
   "metadata": {},
   "outputs": [
    {
     "data": {
      "text/plain": [
       "((7905, 102), (3389, 102))"
      ]
     },
     "execution_count": 44,
     "metadata": {},
     "output_type": "execute_result"
    }
   ],
   "source": [
    "data_train.shape, data_holdout.shape"
   ]
  },
  {
   "cell_type": "markdown",
   "id": "6de40546",
   "metadata": {},
   "source": [
    "### Predictors selection based on domain knowledge"
   ]
  },
  {
   "cell_type": "code",
   "execution_count": 45,
   "id": "a6bc9443",
   "metadata": {},
   "outputs": [],
   "source": [
    "# basic variables inc neighbourhood\n",
    "basic_vars = [\n",
    "    \"n_accommodates\",\n",
    "    \"n_beds\",\n",
    "    \"n_days_since\",\n",
    "    \"f_property_type\",\n",
    "    \"f_bathroom\",\n",
    "    \"f_neighbourhood_cleansed\",\n",
    "]\n",
    "\n",
    "# reviews\n",
    "reviews = [\n",
    "    \"n_number_of_reviews\",\n",
    "    \"flag_n_number_of_reviews\",\n",
    "    \"n_review_scores_rating\",\n",
    "    \"flag_review_scores_rating\",\n",
    "]\n",
    "\n",
    "# dummy variables\n",
    "amenities = [col for col in data if col.startswith(\"d_\")]\n",
    "\n",
    "# interactions for the LASSO\n",
    "# from ch14\n",
    "X1 = [\n",
    "    \"n_accommodates:f_property_type\",\n",
    "    \"d_wifi:f_property_type\",\n",
    "    \"f_property_type:d_freeparkingonpremises\",\n",
    "    \"d_airconditioning:f_property_type\",\n",
    "    \"d_longtermstaysallowed:f_property_type\",\n",
    "    \"d_kitchen:f_property_type\",\n",
    "    \"d_gym:f_property_type\",\n",
    "    \"d_breakfast:f_property_type\",\n",
    "]\n",
    "# with boroughs\n",
    "X2 = [\n",
    "    \"f_property_type:f_neighbourhood_cleansed\",\n",
    "    \"n_number_of_reviews:f_neighbourhood_cleansed\",\n",
    "    \"n_accommodates:f_neighbourhood_cleansed\",\n",
    "]"
   ]
  },
  {
   "cell_type": "code",
   "execution_count": 46,
   "id": "772eceb6",
   "metadata": {},
   "outputs": [],
   "source": [
    "predictors_1 = basic_vars\n",
    "predictors_2 = basic_vars + reviews + amenities\n",
    "predictors_E = basic_vars + reviews + amenities + X1 + X2"
   ]
  },
  {
   "cell_type": "markdown",
   "id": "3777e856",
   "metadata": {},
   "source": [
    "### Models selection"
   ]
  },
  {
   "cell_type": "markdown",
   "id": "97d19121",
   "metadata": {},
   "source": [
    "1. ***OLS with dummies for area***"
   ]
  },
  {
   "cell_type": "code",
   "execution_count": 47,
   "id": "c1318532",
   "metadata": {},
   "outputs": [
    {
     "data": {
      "text/plain": [
       "2316.540192476344"
      ]
     },
     "execution_count": 47,
     "metadata": {},
     "output_type": "execute_result"
    }
   ],
   "source": [
    "y, X = dmatrices(\"price ~ \" + \" + \".join(predictors_2), data_train)\n",
    "\n",
    "ols_model = LinearRegression().fit(X,y)\n",
    "\n",
    "y_hat = ols_model.predict(X)\n",
    "\n",
    "ols_rmse = mean_squared_error(y,y_hat,squared=False)\n",
    "ols_rmse"
   ]
  },
  {
   "cell_type": "code",
   "execution_count": 48,
   "id": "ae9659aa",
   "metadata": {},
   "outputs": [
    {
     "data": {
      "text/html": [
       "<div>\n",
       "<style scoped>\n",
       "    .dataframe tbody tr th:only-of-type {\n",
       "        vertical-align: middle;\n",
       "    }\n",
       "\n",
       "    .dataframe tbody tr th {\n",
       "        vertical-align: top;\n",
       "    }\n",
       "\n",
       "    .dataframe thead th {\n",
       "        text-align: right;\n",
       "    }\n",
       "</style>\n",
       "<table border=\"1\" class=\"dataframe\">\n",
       "  <thead>\n",
       "    <tr style=\"text-align: right;\">\n",
       "      <th></th>\n",
       "      <th>ols_coefficient</th>\n",
       "    </tr>\n",
       "  </thead>\n",
       "  <tbody>\n",
       "    <tr>\n",
       "      <th>Intercept</th>\n",
       "      <td>0.000</td>\n",
       "    </tr>\n",
       "    <tr>\n",
       "      <th>f_property_type[T.Entire loft]</th>\n",
       "      <td>-38.452</td>\n",
       "    </tr>\n",
       "    <tr>\n",
       "      <th>f_property_type[T.Entire rental unit]</th>\n",
       "      <td>40.495</td>\n",
       "    </tr>\n",
       "    <tr>\n",
       "      <th>f_property_type[T.Entire serviced apartment]</th>\n",
       "      <td>56.707</td>\n",
       "    </tr>\n",
       "    <tr>\n",
       "      <th>f_bathroom[T.1]</th>\n",
       "      <td>-190.367</td>\n",
       "    </tr>\n",
       "    <tr>\n",
       "      <th>...</th>\n",
       "      <td>...</td>\n",
       "    </tr>\n",
       "    <tr>\n",
       "      <th>n_days_since</th>\n",
       "      <td>0.134</td>\n",
       "    </tr>\n",
       "    <tr>\n",
       "      <th>n_number_of_reviews</th>\n",
       "      <td>-1.025</td>\n",
       "    </tr>\n",
       "    <tr>\n",
       "      <th>flag_n_number_of_reviews</th>\n",
       "      <td>-0.000</td>\n",
       "    </tr>\n",
       "    <tr>\n",
       "      <th>n_review_scores_rating</th>\n",
       "      <td>44.243</td>\n",
       "    </tr>\n",
       "    <tr>\n",
       "      <th>flag_review_scores_rating</th>\n",
       "      <td>165.313</td>\n",
       "    </tr>\n",
       "  </tbody>\n",
       "</table>\n",
       "<p>98 rows × 1 columns</p>\n",
       "</div>"
      ],
      "text/plain": [
       "                                              ols_coefficient\n",
       "Intercept                                               0.000\n",
       "f_property_type[T.Entire loft]                        -38.452\n",
       "f_property_type[T.Entire rental unit]                  40.495\n",
       "f_property_type[T.Entire serviced apartment]           56.707\n",
       "f_bathroom[T.1]                                      -190.367\n",
       "...                                                       ...\n",
       "n_days_since                                            0.134\n",
       "n_number_of_reviews                                    -1.025\n",
       "flag_n_number_of_reviews                               -0.000\n",
       "n_review_scores_rating                                 44.243\n",
       "flag_review_scores_rating                             165.313\n",
       "\n",
       "[98 rows x 1 columns]"
      ]
     },
     "execution_count": 48,
     "metadata": {},
     "output_type": "execute_result"
    }
   ],
   "source": [
    "ols_model_coeffs_df = pd.DataFrame(\n",
    "    ols_model.coef_.tolist()[0],\n",
    "    index=X.design_info.column_names,\n",
    "    columns=[\"ols_coefficient\"],\n",
    ").assign(ols_coefficient=lambda x: x.ols_coefficient.round(3))\n",
    "ols_model_coeffs_df"
   ]
  },
  {
   "cell_type": "markdown",
   "id": "b462c90f",
   "metadata": {},
   "source": [
    "2.  ***LASSO***"
   ]
  },
  {
   "cell_type": "markdown",
   "id": "21e8cee2",
   "metadata": {},
   "source": [
    "The parameter `l1_ratio7` corresponds to *alpha* in the `glmnet` R package while `alpha` corresponds to the *lambda* parameter in glmnet. Specifically, l1_ratio = 1 is the lasso penalty. "
   ]
  },
  {
   "cell_type": "code",
   "execution_count": 49,
   "id": "8ea88d65",
   "metadata": {},
   "outputs": [],
   "source": [
    "lasso_model =  ElasticNet(l1_ratio = 1,normalize=True,fit_intercept=True)"
   ]
  },
  {
   "cell_type": "code",
   "execution_count": 50,
   "id": "1eb2c405",
   "metadata": {},
   "outputs": [],
   "source": [
    "lasso_model_cv = GridSearchCV(\n",
    "    lasso_model,\n",
    "    {\"alpha\":[i/100 for i in range(1, 50, 1)]},\n",
    "    cv=5,\n",
    "    scoring=\"neg_root_mean_squared_error\",\n",
    "    verbose=3,\n",
    ")"
   ]
  },
  {
   "cell_type": "markdown",
   "id": "9d734e9d",
   "metadata": {},
   "source": [
    "Use extended model with a series of interactions."
   ]
  },
  {
   "cell_type": "code",
   "execution_count": 51,
   "id": "3741a518",
   "metadata": {},
   "outputs": [],
   "source": [
    "y, X = dmatrices(\"price ~ \" + \" + \".join(predictors_E), data_train)"
   ]
  },
  {
   "cell_type": "code",
   "execution_count": 52,
   "id": "63b7c3a9",
   "metadata": {},
   "outputs": [
    {
     "name": "stdout",
     "output_type": "stream",
     "text": [
      "Fitting 5 folds for each of 49 candidates, totalling 245 fits\n",
      "[CV 1/5] END ....................alpha=0.01;, score=-2183.945 total time=   1.2s\n",
      "[CV 2/5] END ....................alpha=0.01;, score=-3304.522 total time=   0.6s\n",
      "[CV 3/5] END ....................alpha=0.01;, score=-2217.945 total time=   0.6s\n",
      "[CV 4/5] END ....................alpha=0.01;, score=-1989.635 total time=   0.8s\n",
      "[CV 5/5] END ....................alpha=0.01;, score=-1963.639 total time=   0.5s\n",
      "[CV 1/5] END ....................alpha=0.02;, score=-2178.590 total time=   0.4s\n",
      "[CV 2/5] END ....................alpha=0.02;, score=-3303.120 total time=   0.6s\n",
      "[CV 3/5] END ....................alpha=0.02;, score=-2217.235 total time=   0.5s\n",
      "[CV 4/5] END ....................alpha=0.02;, score=-1987.104 total time=   0.5s\n",
      "[CV 5/5] END ....................alpha=0.02;, score=-1961.286 total time=   0.3s\n",
      "[CV 1/5] END ....................alpha=0.03;, score=-2174.335 total time=   0.2s\n",
      "[CV 2/5] END ....................alpha=0.03;, score=-3302.092 total time=   0.4s\n",
      "[CV 3/5] END ....................alpha=0.03;, score=-2216.744 total time=   0.3s\n",
      "[CV 4/5] END ....................alpha=0.03;, score=-1985.219 total time=   0.6s\n",
      "[CV 5/5] END ....................alpha=0.03;, score=-1959.909 total time=   0.3s\n",
      "[CV 1/5] END ....................alpha=0.04;, score=-2170.684 total time=   0.2s\n",
      "[CV 2/5] END ....................alpha=0.04;, score=-3301.311 total time=   0.4s\n",
      "[CV 3/5] END ....................alpha=0.04;, score=-2215.586 total time=   0.3s\n",
      "[CV 4/5] END ....................alpha=0.04;, score=-1983.898 total time=   0.5s\n",
      "[CV 5/5] END ....................alpha=0.04;, score=-1957.785 total time=   0.1s\n",
      "[CV 1/5] END ....................alpha=0.05;, score=-2167.561 total time=   0.2s\n",
      "[CV 2/5] END ....................alpha=0.05;, score=-3300.601 total time=   0.3s\n",
      "[CV 3/5] END ....................alpha=0.05;, score=-2214.422 total time=   0.3s\n",
      "[CV 4/5] END ....................alpha=0.05;, score=-1983.184 total time=   0.5s\n",
      "[CV 5/5] END ....................alpha=0.05;, score=-1955.720 total time=   0.1s\n",
      "[CV 1/5] END ....................alpha=0.06;, score=-2164.588 total time=   0.2s\n",
      "[CV 2/5] END ....................alpha=0.06;, score=-3299.946 total time=   0.2s\n",
      "[CV 3/5] END ....................alpha=0.06;, score=-2213.137 total time=   0.2s\n",
      "[CV 4/5] END ....................alpha=0.06;, score=-1982.375 total time=   0.4s\n",
      "[CV 5/5] END ....................alpha=0.06;, score=-1953.859 total time=   0.1s\n",
      "[CV 1/5] END ....................alpha=0.07;, score=-2161.916 total time=   0.1s\n",
      "[CV 2/5] END ....................alpha=0.07;, score=-3299.308 total time=   0.2s\n",
      "[CV 3/5] END ....................alpha=0.07;, score=-2211.839 total time=   0.3s\n",
      "[CV 4/5] END ....................alpha=0.07;, score=-1981.473 total time=   0.4s\n",
      "[CV 5/5] END ....................alpha=0.07;, score=-1952.221 total time=   0.1s\n",
      "[CV 1/5] END ....................alpha=0.08;, score=-2159.930 total time=   0.2s\n",
      "[CV 2/5] END ....................alpha=0.08;, score=-3298.635 total time=   0.1s\n",
      "[CV 3/5] END ....................alpha=0.08;, score=-2210.606 total time=   0.2s\n",
      "[CV 4/5] END ....................alpha=0.08;, score=-1980.535 total time=   0.4s\n",
      "[CV 5/5] END ....................alpha=0.08;, score=-1950.806 total time=   0.1s\n",
      "[CV 1/5] END ....................alpha=0.09;, score=-2158.340 total time=   0.2s\n",
      "[CV 2/5] END ....................alpha=0.09;, score=-3297.989 total time=   0.1s\n",
      "[CV 3/5] END ....................alpha=0.09;, score=-2209.546 total time=   0.2s\n",
      "[CV 4/5] END ....................alpha=0.09;, score=-1979.456 total time=   0.3s\n",
      "[CV 5/5] END ....................alpha=0.09;, score=-1949.586 total time=   0.1s\n",
      "[CV 1/5] END .....................alpha=0.1;, score=-2156.975 total time=   0.2s\n",
      "[CV 2/5] END .....................alpha=0.1;, score=-3297.370 total time=   0.2s\n",
      "[CV 3/5] END .....................alpha=0.1;, score=-2208.683 total time=   0.1s\n",
      "[CV 4/5] END .....................alpha=0.1;, score=-1978.459 total time=   0.3s\n",
      "[CV 5/5] END .....................alpha=0.1;, score=-1948.512 total time=   0.1s\n",
      "[CV 1/5] END ....................alpha=0.11;, score=-2155.916 total time=   0.0s\n",
      "[CV 2/5] END ....................alpha=0.11;, score=-3296.810 total time=   0.1s\n",
      "[CV 3/5] END ....................alpha=0.11;, score=-2207.840 total time=   0.1s\n",
      "[CV 4/5] END ....................alpha=0.11;, score=-1977.418 total time=   0.3s\n",
      "[CV 5/5] END ....................alpha=0.11;, score=-1947.554 total time=   0.1s\n",
      "[CV 1/5] END ....................alpha=0.12;, score=-2155.198 total time=   0.1s\n",
      "[CV 2/5] END ....................alpha=0.12;, score=-3296.337 total time=   0.1s\n",
      "[CV 3/5] END ....................alpha=0.12;, score=-2207.103 total time=   0.1s\n",
      "[CV 4/5] END ....................alpha=0.12;, score=-1976.422 total time=   0.3s\n",
      "[CV 5/5] END ....................alpha=0.12;, score=-1946.660 total time=   0.1s\n",
      "[CV 1/5] END ....................alpha=0.13;, score=-2154.720 total time=   0.0s\n",
      "[CV 2/5] END ....................alpha=0.13;, score=-3295.908 total time=   0.1s\n",
      "[CV 3/5] END ....................alpha=0.13;, score=-2206.430 total time=   0.0s\n",
      "[CV 4/5] END ....................alpha=0.13;, score=-1975.310 total time=   0.3s\n",
      "[CV 5/5] END ....................alpha=0.13;, score=-1945.833 total time=   0.0s\n",
      "[CV 1/5] END ....................alpha=0.14;, score=-2154.308 total time=   0.0s\n",
      "[CV 2/5] END ....................alpha=0.14;, score=-3295.485 total time=   0.0s\n",
      "[CV 3/5] END ....................alpha=0.14;, score=-2205.833 total time=   0.0s\n",
      "[CV 4/5] END ....................alpha=0.14;, score=-1974.169 total time=   0.3s\n",
      "[CV 5/5] END ....................alpha=0.14;, score=-1945.160 total time=   0.0s\n",
      "[CV 1/5] END ....................alpha=0.15;, score=-2153.956 total time=   0.0s\n",
      "[CV 2/5] END ....................alpha=0.15;, score=-3295.100 total time=   0.0s\n",
      "[CV 3/5] END ....................alpha=0.15;, score=-2205.273 total time=   0.0s\n",
      "[CV 4/5] END ....................alpha=0.15;, score=-1973.054 total time=   0.3s\n",
      "[CV 5/5] END ....................alpha=0.15;, score=-1944.613 total time=   0.0s\n",
      "[CV 1/5] END ....................alpha=0.16;, score=-2153.661 total time=   0.0s\n",
      "[CV 2/5] END ....................alpha=0.16;, score=-3294.781 total time=   0.0s\n",
      "[CV 3/5] END ....................alpha=0.16;, score=-2204.711 total time=   0.0s\n",
      "[CV 4/5] END ....................alpha=0.16;, score=-1971.954 total time=   0.2s\n",
      "[CV 5/5] END ....................alpha=0.16;, score=-1944.104 total time=   0.0s\n",
      "[CV 1/5] END ....................alpha=0.17;, score=-2153.466 total time=   0.0s\n",
      "[CV 2/5] END ....................alpha=0.17;, score=-3294.579 total time=   0.0s\n",
      "[CV 3/5] END ....................alpha=0.17;, score=-2204.216 total time=   0.0s\n",
      "[CV 4/5] END ....................alpha=0.17;, score=-1970.836 total time=   0.2s\n",
      "[CV 5/5] END ....................alpha=0.17;, score=-1943.638 total time=   0.0s\n",
      "[CV 1/5] END ....................alpha=0.18;, score=-2153.338 total time=   0.0s\n",
      "[CV 2/5] END ....................alpha=0.18;, score=-3294.378 total time=   0.0s\n",
      "[CV 3/5] END ....................alpha=0.18;, score=-2203.749 total time=   0.0s\n",
      "[CV 4/5] END ....................alpha=0.18;, score=-1969.668 total time=   0.2s\n",
      "[CV 5/5] END ....................alpha=0.18;, score=-1943.293 total time=   0.0s\n",
      "[CV 1/5] END ....................alpha=0.19;, score=-2153.272 total time=   0.0s\n",
      "[CV 2/5] END ....................alpha=0.19;, score=-3294.138 total time=   0.0s\n",
      "[CV 3/5] END ....................alpha=0.19;, score=-2203.293 total time=   0.0s\n",
      "[CV 4/5] END ....................alpha=0.19;, score=-1968.526 total time=   0.2s\n",
      "[CV 5/5] END ....................alpha=0.19;, score=-1942.998 total time=   0.0s\n",
      "[CV 1/5] END .....................alpha=0.2;, score=-2153.226 total time=   0.0s\n",
      "[CV 2/5] END .....................alpha=0.2;, score=-3293.908 total time=   0.0s\n",
      "[CV 3/5] END .....................alpha=0.2;, score=-2202.769 total time=   0.0s\n",
      "[CV 4/5] END .....................alpha=0.2;, score=-1967.414 total time=   0.2s\n",
      "[CV 5/5] END .....................alpha=0.2;, score=-1942.744 total time=   0.0s\n",
      "[CV 1/5] END ....................alpha=0.21;, score=-2153.201 total time=   0.0s\n",
      "[CV 2/5] END ....................alpha=0.21;, score=-3293.710 total time=   0.0s\n",
      "[CV 3/5] END ....................alpha=0.21;, score=-2202.131 total time=   0.0s\n"
     ]
    },
    {
     "name": "stdout",
     "output_type": "stream",
     "text": [
      "[CV 4/5] END ....................alpha=0.21;, score=-1966.316 total time=   0.2s\n",
      "[CV 5/5] END ....................alpha=0.21;, score=-1942.521 total time=   0.0s\n",
      "[CV 1/5] END ....................alpha=0.22;, score=-2153.129 total time=   0.0s\n",
      "[CV 2/5] END ....................alpha=0.22;, score=-3293.532 total time=   0.0s\n",
      "[CV 3/5] END ....................alpha=0.22;, score=-2201.535 total time=   0.0s\n",
      "[CV 4/5] END ....................alpha=0.22;, score=-1965.181 total time=   0.1s\n",
      "[CV 5/5] END ....................alpha=0.22;, score=-1942.332 total time=   0.0s\n",
      "[CV 1/5] END ....................alpha=0.23;, score=-2152.991 total time=   0.0s\n",
      "[CV 2/5] END ....................alpha=0.23;, score=-3293.516 total time=   0.0s\n",
      "[CV 3/5] END ....................alpha=0.23;, score=-2200.967 total time=   0.1s\n",
      "[CV 4/5] END ....................alpha=0.23;, score=-1964.453 total time=   0.1s\n",
      "[CV 5/5] END ....................alpha=0.23;, score=-1942.082 total time=   0.0s\n",
      "[CV 1/5] END ....................alpha=0.24;, score=-2152.863 total time=   0.0s\n",
      "[CV 2/5] END ....................alpha=0.24;, score=-3293.492 total time=   0.0s\n",
      "[CV 3/5] END ....................alpha=0.24;, score=-2200.431 total time=   0.0s\n",
      "[CV 4/5] END ....................alpha=0.24;, score=-1963.872 total time=   0.1s\n",
      "[CV 5/5] END ....................alpha=0.24;, score=-1941.816 total time=   0.0s\n",
      "[CV 1/5] END ....................alpha=0.25;, score=-2152.754 total time=   0.0s\n",
      "[CV 2/5] END ....................alpha=0.25;, score=-3293.454 total time=   0.0s\n",
      "[CV 3/5] END ....................alpha=0.25;, score=-2199.899 total time=   0.0s\n",
      "[CV 4/5] END ....................alpha=0.25;, score=-1963.290 total time=   0.1s\n",
      "[CV 5/5] END ....................alpha=0.25;, score=-1941.500 total time=   0.0s\n",
      "[CV 1/5] END ....................alpha=0.26;, score=-2152.670 total time=   0.0s\n",
      "[CV 2/5] END ....................alpha=0.26;, score=-3293.388 total time=   0.0s\n",
      "[CV 3/5] END ....................alpha=0.26;, score=-2199.351 total time=   0.0s\n",
      "[CV 4/5] END ....................alpha=0.26;, score=-1962.737 total time=   0.1s\n",
      "[CV 5/5] END ....................alpha=0.26;, score=-1941.190 total time=   0.0s\n",
      "[CV 1/5] END ....................alpha=0.27;, score=-2152.560 total time=   0.0s\n",
      "[CV 2/5] END ....................alpha=0.27;, score=-3293.287 total time=   0.0s\n",
      "[CV 3/5] END ....................alpha=0.27;, score=-2198.819 total time=   0.0s\n",
      "[CV 4/5] END ....................alpha=0.27;, score=-1962.186 total time=   0.1s\n",
      "[CV 5/5] END ....................alpha=0.27;, score=-1940.893 total time=   0.0s\n",
      "[CV 1/5] END ....................alpha=0.28;, score=-2152.426 total time=   0.0s\n",
      "[CV 2/5] END ....................alpha=0.28;, score=-3293.208 total time=   0.0s\n",
      "[CV 3/5] END ....................alpha=0.28;, score=-2198.240 total time=   0.0s\n",
      "[CV 4/5] END ....................alpha=0.28;, score=-1961.609 total time=   0.1s\n",
      "[CV 5/5] END ....................alpha=0.28;, score=-1940.610 total time=   0.0s\n",
      "[CV 1/5] END ....................alpha=0.29;, score=-2152.301 total time=   0.0s\n",
      "[CV 2/5] END ....................alpha=0.29;, score=-3293.112 total time=   0.0s\n",
      "[CV 3/5] END ....................alpha=0.29;, score=-2197.675 total time=   0.0s\n",
      "[CV 4/5] END ....................alpha=0.29;, score=-1961.036 total time=   0.1s\n",
      "[CV 5/5] END ....................alpha=0.29;, score=-1940.328 total time=   0.0s\n",
      "[CV 1/5] END .....................alpha=0.3;, score=-2152.208 total time=   0.0s\n",
      "[CV 2/5] END .....................alpha=0.3;, score=-3293.031 total time=   0.0s\n",
      "[CV 3/5] END .....................alpha=0.3;, score=-2197.116 total time=   0.0s\n",
      "[CV 4/5] END .....................alpha=0.3;, score=-1960.498 total time=   0.1s\n",
      "[CV 5/5] END .....................alpha=0.3;, score=-1940.091 total time=   0.0s\n",
      "[CV 1/5] END ....................alpha=0.31;, score=-2152.081 total time=   0.0s\n",
      "[CV 2/5] END ....................alpha=0.31;, score=-3292.961 total time=   0.0s\n",
      "[CV 3/5] END ....................alpha=0.31;, score=-2196.553 total time=   0.0s\n",
      "[CV 4/5] END ....................alpha=0.31;, score=-1959.986 total time=   0.1s\n",
      "[CV 5/5] END ....................alpha=0.31;, score=-1939.861 total time=   0.0s\n",
      "[CV 1/5] END ....................alpha=0.32;, score=-2151.946 total time=   0.0s\n",
      "[CV 2/5] END ....................alpha=0.32;, score=-3292.902 total time=   0.0s\n",
      "[CV 3/5] END ....................alpha=0.32;, score=-2196.001 total time=   0.0s\n",
      "[CV 4/5] END ....................alpha=0.32;, score=-1959.489 total time=   0.1s\n",
      "[CV 5/5] END ....................alpha=0.32;, score=-1939.649 total time=   0.0s\n",
      "[CV 1/5] END ....................alpha=0.33;, score=-2151.827 total time=   0.0s\n",
      "[CV 2/5] END ....................alpha=0.33;, score=-3292.849 total time=   0.0s\n",
      "[CV 3/5] END ....................alpha=0.33;, score=-2195.466 total time=   0.0s\n",
      "[CV 4/5] END ....................alpha=0.33;, score=-1959.008 total time=   0.1s\n",
      "[CV 5/5] END ....................alpha=0.33;, score=-1939.454 total time=   0.0s\n",
      "[CV 1/5] END ....................alpha=0.34;, score=-2151.714 total time=   0.0s\n",
      "[CV 2/5] END ....................alpha=0.34;, score=-3292.800 total time=   0.0s\n",
      "[CV 3/5] END ....................alpha=0.34;, score=-2194.950 total time=   0.0s\n",
      "[CV 4/5] END ....................alpha=0.34;, score=-1958.550 total time=   0.1s\n",
      "[CV 5/5] END ....................alpha=0.34;, score=-1939.277 total time=   0.0s\n",
      "[CV 1/5] END ....................alpha=0.35;, score=-2151.612 total time=   0.0s\n",
      "[CV 2/5] END ....................alpha=0.35;, score=-3292.756 total time=   0.0s\n",
      "[CV 3/5] END ....................alpha=0.35;, score=-2194.450 total time=   0.0s\n",
      "[CV 4/5] END ....................alpha=0.35;, score=-1958.103 total time=   0.1s\n",
      "[CV 5/5] END ....................alpha=0.35;, score=-1939.122 total time=   0.0s\n",
      "[CV 1/5] END ....................alpha=0.36;, score=-2151.524 total time=   0.0s\n",
      "[CV 2/5] END ....................alpha=0.36;, score=-3292.677 total time=   0.0s\n",
      "[CV 3/5] END ....................alpha=0.36;, score=-2193.962 total time=   0.0s\n",
      "[CV 4/5] END ....................alpha=0.36;, score=-1957.662 total time=   0.1s\n",
      "[CV 5/5] END ....................alpha=0.36;, score=-1938.978 total time=   0.0s\n",
      "[CV 1/5] END ....................alpha=0.37;, score=-2151.452 total time=   0.0s\n",
      "[CV 2/5] END ....................alpha=0.37;, score=-3292.596 total time=   0.0s\n",
      "[CV 3/5] END ....................alpha=0.37;, score=-2193.482 total time=   0.0s\n",
      "[CV 4/5] END ....................alpha=0.37;, score=-1957.223 total time=   0.0s\n",
      "[CV 5/5] END ....................alpha=0.37;, score=-1938.829 total time=   0.0s\n",
      "[CV 1/5] END ....................alpha=0.38;, score=-2151.423 total time=   0.0s\n",
      "[CV 2/5] END ....................alpha=0.38;, score=-3292.520 total time=   0.0s\n",
      "[CV 3/5] END ....................alpha=0.38;, score=-2193.032 total time=   0.0s\n",
      "[CV 4/5] END ....................alpha=0.38;, score=-1956.797 total time=   0.0s\n",
      "[CV 5/5] END ....................alpha=0.38;, score=-1938.685 total time=   0.0s\n",
      "[CV 1/5] END ....................alpha=0.39;, score=-2151.383 total time=   0.0s\n",
      "[CV 2/5] END ....................alpha=0.39;, score=-3292.441 total time=   0.0s\n",
      "[CV 3/5] END ....................alpha=0.39;, score=-2192.606 total time=   0.0s\n",
      "[CV 4/5] END ....................alpha=0.39;, score=-1956.384 total time=   0.0s\n",
      "[CV 5/5] END ....................alpha=0.39;, score=-1938.529 total time=   0.0s\n",
      "[CV 1/5] END .....................alpha=0.4;, score=-2151.332 total time=   0.0s\n",
      "[CV 2/5] END .....................alpha=0.4;, score=-3292.363 total time=   0.0s\n",
      "[CV 3/5] END .....................alpha=0.4;, score=-2192.184 total time=   0.0s\n",
      "[CV 4/5] END .....................alpha=0.4;, score=-1955.985 total time=   0.0s\n",
      "[CV 5/5] END .....................alpha=0.4;, score=-1938.373 total time=   0.0s\n",
      "[CV 1/5] END ....................alpha=0.41;, score=-2151.304 total time=   0.0s\n",
      "[CV 2/5] END ....................alpha=0.41;, score=-3292.284 total time=   0.0s\n",
      "[CV 3/5] END ....................alpha=0.41;, score=-2191.761 total time=   0.0s\n",
      "[CV 4/5] END ....................alpha=0.41;, score=-1955.621 total time=   0.0s\n",
      "[CV 5/5] END ....................alpha=0.41;, score=-1938.227 total time=   0.0s\n",
      "[CV 1/5] END ....................alpha=0.42;, score=-2151.317 total time=   0.0s\n",
      "[CV 2/5] END ....................alpha=0.42;, score=-3292.208 total time=   0.0s\n",
      "[CV 3/5] END ....................alpha=0.42;, score=-2191.339 total time=   0.0s\n",
      "[CV 4/5] END ....................alpha=0.42;, score=-1955.321 total time=   0.0s\n",
      "[CV 5/5] END ....................alpha=0.42;, score=-1938.092 total time=   0.0s\n",
      "[CV 1/5] END ....................alpha=0.43;, score=-2151.370 total time=   0.0s\n",
      "[CV 2/5] END ....................alpha=0.43;, score=-3292.136 total time=   0.0s\n"
     ]
    },
    {
     "name": "stdout",
     "output_type": "stream",
     "text": [
      "[CV 3/5] END ....................alpha=0.43;, score=-2190.915 total time=   0.0s\n",
      "[CV 4/5] END ....................alpha=0.43;, score=-1955.054 total time=   0.0s\n",
      "[CV 5/5] END ....................alpha=0.43;, score=-1937.968 total time=   0.0s\n",
      "[CV 1/5] END ....................alpha=0.44;, score=-2151.434 total time=   0.0s\n",
      "[CV 2/5] END ....................alpha=0.44;, score=-3292.075 total time=   0.0s\n",
      "[CV 3/5] END ....................alpha=0.44;, score=-2190.483 total time=   0.0s\n",
      "[CV 4/5] END ....................alpha=0.44;, score=-1954.795 total time=   0.0s\n",
      "[CV 5/5] END ....................alpha=0.44;, score=-1937.851 total time=   0.0s\n",
      "[CV 1/5] END ....................alpha=0.45;, score=-2151.509 total time=   0.0s\n",
      "[CV 2/5] END ....................alpha=0.45;, score=-3292.022 total time=   0.0s\n",
      "[CV 3/5] END ....................alpha=0.45;, score=-2190.062 total time=   0.0s\n",
      "[CV 4/5] END ....................alpha=0.45;, score=-1954.548 total time=   0.0s\n",
      "[CV 5/5] END ....................alpha=0.45;, score=-1937.743 total time=   0.0s\n",
      "[CV 1/5] END ....................alpha=0.46;, score=-2151.601 total time=   0.0s\n",
      "[CV 2/5] END ....................alpha=0.46;, score=-3291.975 total time=   0.0s\n",
      "[CV 3/5] END ....................alpha=0.46;, score=-2189.693 total time=   0.0s\n",
      "[CV 4/5] END ....................alpha=0.46;, score=-1954.325 total time=   0.0s\n",
      "[CV 5/5] END ....................alpha=0.46;, score=-1937.644 total time=   0.0s\n",
      "[CV 1/5] END ....................alpha=0.47;, score=-2151.677 total time=   0.0s\n",
      "[CV 2/5] END ....................alpha=0.47;, score=-3291.913 total time=   0.0s\n",
      "[CV 3/5] END ....................alpha=0.47;, score=-2189.334 total time=   0.0s\n",
      "[CV 4/5] END ....................alpha=0.47;, score=-1954.119 total time=   0.0s\n",
      "[CV 5/5] END ....................alpha=0.47;, score=-1937.557 total time=   0.0s\n",
      "[CV 1/5] END ....................alpha=0.48;, score=-2151.762 total time=   0.0s\n",
      "[CV 2/5] END ....................alpha=0.48;, score=-3291.828 total time=   0.0s\n",
      "[CV 3/5] END ....................alpha=0.48;, score=-2188.984 total time=   0.0s\n",
      "[CV 4/5] END ....................alpha=0.48;, score=-1953.915 total time=   0.0s\n",
      "[CV 5/5] END ....................alpha=0.48;, score=-1937.480 total time=   0.0s\n",
      "[CV 1/5] END ....................alpha=0.49;, score=-2151.856 total time=   0.0s\n",
      "[CV 2/5] END ....................alpha=0.49;, score=-3291.748 total time=   0.0s\n",
      "[CV 3/5] END ....................alpha=0.49;, score=-2188.644 total time=   0.0s\n",
      "[CV 4/5] END ....................alpha=0.49;, score=-1953.731 total time=   0.0s\n",
      "[CV 5/5] END ....................alpha=0.49;, score=-1937.413 total time=   0.0s\n",
      "CPU times: user 2min 29s, sys: 12.3 s, total: 2min 41s\n",
      "Wall time: 25.3 s\n"
     ]
    },
    {
     "data": {
      "text/plain": [
       "GridSearchCV(cv=5, estimator=ElasticNet(l1_ratio=1, normalize=True),\n",
       "             param_grid={'alpha': [0.01, 0.02, 0.03, 0.04, 0.05, 0.06, 0.07,\n",
       "                                   0.08, 0.09, 0.1, 0.11, 0.12, 0.13, 0.14,\n",
       "                                   0.15, 0.16, 0.17, 0.18, 0.19, 0.2, 0.21,\n",
       "                                   0.22, 0.23, 0.24, 0.25, 0.26, 0.27, 0.28,\n",
       "                                   0.29, 0.3, ...]},\n",
       "             scoring='neg_root_mean_squared_error', verbose=3)"
      ]
     },
     "execution_count": 52,
     "metadata": {},
     "output_type": "execute_result"
    }
   ],
   "source": [
    "%%time\n",
    "lasso_model_cv.fit(X, y.ravel())"
   ]
  },
  {
   "cell_type": "code",
   "execution_count": 53,
   "id": "320cc057",
   "metadata": {},
   "outputs": [
    {
     "data": {
      "text/html": [
       "<div>\n",
       "<style scoped>\n",
       "    .dataframe tbody tr th:only-of-type {\n",
       "        vertical-align: middle;\n",
       "    }\n",
       "\n",
       "    .dataframe tbody tr th {\n",
       "        vertical-align: top;\n",
       "    }\n",
       "\n",
       "    .dataframe thead th {\n",
       "        text-align: right;\n",
       "    }\n",
       "</style>\n",
       "<table border=\"1\" class=\"dataframe\">\n",
       "  <thead>\n",
       "    <tr style=\"text-align: right;\">\n",
       "      <th></th>\n",
       "      <th>lasso_coefficient</th>\n",
       "    </tr>\n",
       "  </thead>\n",
       "  <tbody>\n",
       "    <tr>\n",
       "      <th>f_bathroom[T.1]</th>\n",
       "      <td>-189.367</td>\n",
       "    </tr>\n",
       "    <tr>\n",
       "      <th>f_bathroom[T.2]</th>\n",
       "      <td>139.155</td>\n",
       "    </tr>\n",
       "    <tr>\n",
       "      <th>f_neighbourhood_cleansed[T.松江区 / Songjiang District]</th>\n",
       "      <td>-63.578</td>\n",
       "    </tr>\n",
       "    <tr>\n",
       "      <th>f_neighbourhood_cleansed[T.静安区 / Jing'an District]</th>\n",
       "      <td>45.663</td>\n",
       "    </tr>\n",
       "    <tr>\n",
       "      <th>d_essentials[T.1]</th>\n",
       "      <td>-167.814</td>\n",
       "    </tr>\n",
       "    <tr>\n",
       "      <th>d_smokealarm[T.1]</th>\n",
       "      <td>-62.554</td>\n",
       "    </tr>\n",
       "    <tr>\n",
       "      <th>d_fireextinguisher[T.1]</th>\n",
       "      <td>-12.903</td>\n",
       "    </tr>\n",
       "    <tr>\n",
       "      <th>d_heating[T.1]</th>\n",
       "      <td>21.739</td>\n",
       "    </tr>\n",
       "    <tr>\n",
       "      <th>d_paidparkingoffpremises[T.1]</th>\n",
       "      <td>-18.650</td>\n",
       "    </tr>\n",
       "    <tr>\n",
       "      <th>d_showergel[T.1]</th>\n",
       "      <td>-27.129</td>\n",
       "    </tr>\n",
       "    <tr>\n",
       "      <th>d_dryer[T.1]</th>\n",
       "      <td>126.645</td>\n",
       "    </tr>\n",
       "    <tr>\n",
       "      <th>d_bodysoap[T.1]</th>\n",
       "      <td>-33.861</td>\n",
       "    </tr>\n",
       "    <tr>\n",
       "      <th>d_backyard[T.1]</th>\n",
       "      <td>50.112</td>\n",
       "    </tr>\n",
       "    <tr>\n",
       "      <th>d_hottub[T.1]</th>\n",
       "      <td>696.897</td>\n",
       "    </tr>\n",
       "    <tr>\n",
       "      <th>d_breakfast[T.1]</th>\n",
       "      <td>148.531</td>\n",
       "    </tr>\n",
       "    <tr>\n",
       "      <th>d_pool[T.1]</th>\n",
       "      <td>414.474</td>\n",
       "    </tr>\n",
       "    <tr>\n",
       "      <th>d_hostgreetsyou[T.1]</th>\n",
       "      <td>14.554</td>\n",
       "    </tr>\n",
       "    <tr>\n",
       "      <th>f_property_type[T.Entire serviced apartment]:d_freeparkingonpremises[T.1]</th>\n",
       "      <td>160.165</td>\n",
       "    </tr>\n",
       "    <tr>\n",
       "      <th>d_gym[T.1]:f_property_type[T.Entire rental unit]</th>\n",
       "      <td>113.542</td>\n",
       "    </tr>\n",
       "    <tr>\n",
       "      <th>d_gym[T.1]:f_property_type[T.Entire serviced apartment]</th>\n",
       "      <td>20.897</td>\n",
       "    </tr>\n",
       "    <tr>\n",
       "      <th>d_breakfast[T.1]:f_property_type[T.Entire rental unit]</th>\n",
       "      <td>5.106</td>\n",
       "    </tr>\n",
       "    <tr>\n",
       "      <th>f_property_type[T.Entire serviced apartment]:f_neighbourhood_cleansed[T.奉贤区 / Fengxian District]</th>\n",
       "      <td>7481.533</td>\n",
       "    </tr>\n",
       "    <tr>\n",
       "      <th>f_property_type[T.Entire rental unit]:f_neighbourhood_cleansed[T.崇明区 / Chongming District]</th>\n",
       "      <td>80.573</td>\n",
       "    </tr>\n",
       "    <tr>\n",
       "      <th>f_property_type[T.Entire rental unit]:f_neighbourhood_cleansed[T.长宁区 / Changning District]</th>\n",
       "      <td>86.717</td>\n",
       "    </tr>\n",
       "    <tr>\n",
       "      <th>n_accommodates:f_neighbourhood_cleansed[T.长宁区 / Changning District]</th>\n",
       "      <td>3.306</td>\n",
       "    </tr>\n",
       "    <tr>\n",
       "      <th>n_accommodates:f_neighbourhood_cleansed[T.黄浦区 / Huangpu District]</th>\n",
       "      <td>35.419</td>\n",
       "    </tr>\n",
       "    <tr>\n",
       "      <th>n_beds</th>\n",
       "      <td>115.311</td>\n",
       "    </tr>\n",
       "    <tr>\n",
       "      <th>n_days_since</th>\n",
       "      <td>0.004</td>\n",
       "    </tr>\n",
       "    <tr>\n",
       "      <th>flag_review_scores_rating</th>\n",
       "      <td>109.334</td>\n",
       "    </tr>\n",
       "  </tbody>\n",
       "</table>\n",
       "</div>"
      ],
      "text/plain": [
       "                                                    lasso_coefficient\n",
       "f_bathroom[T.1]                                              -189.367\n",
       "f_bathroom[T.2]                                               139.155\n",
       "f_neighbourhood_cleansed[T.松江区 / Songjiang Dist...            -63.578\n",
       "f_neighbourhood_cleansed[T.静安区 / Jing'an District]             45.663\n",
       "d_essentials[T.1]                                            -167.814\n",
       "d_smokealarm[T.1]                                             -62.554\n",
       "d_fireextinguisher[T.1]                                       -12.903\n",
       "d_heating[T.1]                                                 21.739\n",
       "d_paidparkingoffpremises[T.1]                                 -18.650\n",
       "d_showergel[T.1]                                              -27.129\n",
       "d_dryer[T.1]                                                  126.645\n",
       "d_bodysoap[T.1]                                               -33.861\n",
       "d_backyard[T.1]                                                50.112\n",
       "d_hottub[T.1]                                                 696.897\n",
       "d_breakfast[T.1]                                              148.531\n",
       "d_pool[T.1]                                                   414.474\n",
       "d_hostgreetsyou[T.1]                                           14.554\n",
       "f_property_type[T.Entire serviced apartment]:d_...            160.165\n",
       "d_gym[T.1]:f_property_type[T.Entire rental unit]              113.542\n",
       "d_gym[T.1]:f_property_type[T.Entire serviced ap...             20.897\n",
       "d_breakfast[T.1]:f_property_type[T.Entire renta...              5.106\n",
       "f_property_type[T.Entire serviced apartment]:f_...           7481.533\n",
       "f_property_type[T.Entire rental unit]:f_neighbo...             80.573\n",
       "f_property_type[T.Entire rental unit]:f_neighbo...             86.717\n",
       "n_accommodates:f_neighbourhood_cleansed[T.长宁区 /...              3.306\n",
       "n_accommodates:f_neighbourhood_cleansed[T.黄浦区 /...             35.419\n",
       "n_beds                                                        115.311\n",
       "n_days_since                                                    0.004\n",
       "flag_review_scores_rating                                     109.334"
      ]
     },
     "execution_count": 53,
     "metadata": {},
     "output_type": "execute_result"
    }
   ],
   "source": [
    "pd.DataFrame(\n",
    "    lasso_model_cv.best_estimator_.coef_.tolist(),\n",
    "    index=X.design_info.column_names,\n",
    "    columns=[\"lasso_coefficient\"],\n",
    ").assign(lasso_coefficient=lambda x: x.lasso_coefficient.round(3)).loc[\n",
    "    lambda x: x.lasso_coefficient != 0\n",
    "]"
   ]
  },
  {
   "cell_type": "code",
   "execution_count": 54,
   "id": "8791d22a",
   "metadata": {},
   "outputs": [
    {
     "data": {
      "text/plain": [
       "ElasticNet(alpha=0.49, l1_ratio=1, normalize=True)"
      ]
     },
     "execution_count": 54,
     "metadata": {},
     "output_type": "execute_result"
    }
   ],
   "source": [
    "lasso_model_cv.best_estimator_"
   ]
  },
  {
   "cell_type": "code",
   "execution_count": 55,
   "id": "e552efad",
   "metadata": {},
   "outputs": [
    {
     "data": {
      "text/plain": [
       "{'mean_fit_time': array([0.75140014, 0.45141716, 0.36403461, 0.29685383, 0.26428218,\n",
       "        0.22422562, 0.2010232 , 0.19900503, 0.17135992, 0.1801774 ,\n",
       "        0.10357513, 0.09973907, 0.08523736, 0.09364824, 0.09117665,\n",
       "        0.08457108, 0.07762718, 0.07411218, 0.06577187, 0.07097154,\n",
       "        0.07107668, 0.05834541, 0.05758176, 0.05030756, 0.04497089,\n",
       "        0.04293523, 0.04145517, 0.04713774, 0.03667741, 0.03909283,\n",
       "        0.03624959, 0.03494482, 0.04365888, 0.0384891 , 0.0434958 ,\n",
       "        0.03489246, 0.02727017, 0.02640748, 0.0281003 , 0.02428279,\n",
       "        0.02222695, 0.02423544, 0.02851362, 0.02433405, 0.02426887,\n",
       "        0.02298956, 0.02551274, 0.02138896, 0.02752681]),\n",
       " 'std_fit_time': array([0.24709419, 0.11737265, 0.1284744 , 0.14244744, 0.1346318 ,\n",
       "        0.11826131, 0.09533389, 0.11377803, 0.08119591, 0.09031804,\n",
       "        0.08021493, 0.08995429, 0.08241864, 0.10024909, 0.09383736,\n",
       "        0.08095487, 0.07624313, 0.07443461, 0.06498279, 0.06536436,\n",
       "        0.06649588, 0.04518344, 0.04437995, 0.04011819, 0.03187619,\n",
       "        0.02636276, 0.02112066, 0.02748896, 0.01972399, 0.01846336,\n",
       "        0.01530251, 0.01469654, 0.02340081, 0.01337217, 0.00892688,\n",
       "        0.01041403, 0.00941159, 0.00566589, 0.00501321, 0.0038914 ,\n",
       "        0.0023511 , 0.00303015, 0.00705609, 0.00273499, 0.00377341,\n",
       "        0.00316189, 0.00446076, 0.00237602, 0.00368328]),\n",
       " 'mean_score_time': array([0.0006279 , 0.00054612, 0.00053735, 0.00041223, 0.00070901,\n",
       "        0.00053029, 0.00074735, 0.00053658, 0.00068364, 0.00048804,\n",
       "        0.00053105, 0.00050311, 0.00052624, 0.00044966, 0.00052466,\n",
       "        0.00064878, 0.00054817, 0.00043669, 0.00046568, 0.0005528 ,\n",
       "        0.0005537 , 0.00051479, 0.00049343, 0.00068521, 0.00040088,\n",
       "        0.00058026, 0.00058918, 0.00079999, 0.00049481, 0.00048456,\n",
       "        0.00040164, 0.00053039, 0.00054302, 0.00056734, 0.00062542,\n",
       "        0.00048347, 0.00056105, 0.00055175, 0.00063343, 0.00049319,\n",
       "        0.00040417, 0.00037394, 0.00052538, 0.00040832, 0.00044112,\n",
       "        0.00039406, 0.00051694, 0.00039134, 0.00061707]),\n",
       " 'std_score_time': array([1.43398071e-04, 2.05023432e-04, 1.57740110e-04, 1.15223040e-05,\n",
       "        2.44421044e-04, 1.52970252e-04, 2.79258109e-04, 1.98755234e-04,\n",
       "        2.64937763e-04, 6.92230597e-05, 1.46651158e-04, 1.15112421e-04,\n",
       "        2.12425971e-04, 5.08977600e-05, 2.25840499e-04, 1.81006870e-04,\n",
       "        2.57054036e-04, 4.57203542e-05, 1.05835014e-04, 2.00936972e-04,\n",
       "        2.19370156e-04, 2.24812736e-04, 8.50439573e-05, 2.30091742e-04,\n",
       "        3.32207353e-05, 2.27957558e-04, 2.38357031e-04, 2.59471131e-04,\n",
       "        2.12089835e-04, 1.34204088e-04, 1.72537317e-05, 1.35862496e-04,\n",
       "        2.00070757e-04, 2.25421891e-04, 2.37896510e-04, 9.82253759e-05,\n",
       "        2.35888764e-04, 2.25064330e-04, 2.55009837e-04, 2.17538087e-04,\n",
       "        3.43962577e-05, 8.59974195e-06, 1.83814175e-04, 3.25277046e-05,\n",
       "        6.75771629e-05, 5.60440894e-06, 2.54973412e-04, 2.66605280e-05,\n",
       "        2.59403025e-04]),\n",
       " 'param_alpha': masked_array(data=[0.01, 0.02, 0.03, 0.04, 0.05, 0.06, 0.07, 0.08, 0.09,\n",
       "                    0.1, 0.11, 0.12, 0.13, 0.14, 0.15, 0.16, 0.17, 0.18,\n",
       "                    0.19, 0.2, 0.21, 0.22, 0.23, 0.24, 0.25, 0.26, 0.27,\n",
       "                    0.28, 0.29, 0.3, 0.31, 0.32, 0.33, 0.34, 0.35, 0.36,\n",
       "                    0.37, 0.38, 0.39, 0.4, 0.41, 0.42, 0.43, 0.44, 0.45,\n",
       "                    0.46, 0.47, 0.48, 0.49],\n",
       "              mask=[False, False, False, False, False, False, False, False,\n",
       "                    False, False, False, False, False, False, False, False,\n",
       "                    False, False, False, False, False, False, False, False,\n",
       "                    False, False, False, False, False, False, False, False,\n",
       "                    False, False, False, False, False, False, False, False,\n",
       "                    False, False, False, False, False, False, False, False,\n",
       "                    False],\n",
       "        fill_value='?',\n",
       "             dtype=object),\n",
       " 'params': [{'alpha': 0.01},\n",
       "  {'alpha': 0.02},\n",
       "  {'alpha': 0.03},\n",
       "  {'alpha': 0.04},\n",
       "  {'alpha': 0.05},\n",
       "  {'alpha': 0.06},\n",
       "  {'alpha': 0.07},\n",
       "  {'alpha': 0.08},\n",
       "  {'alpha': 0.09},\n",
       "  {'alpha': 0.1},\n",
       "  {'alpha': 0.11},\n",
       "  {'alpha': 0.12},\n",
       "  {'alpha': 0.13},\n",
       "  {'alpha': 0.14},\n",
       "  {'alpha': 0.15},\n",
       "  {'alpha': 0.16},\n",
       "  {'alpha': 0.17},\n",
       "  {'alpha': 0.18},\n",
       "  {'alpha': 0.19},\n",
       "  {'alpha': 0.2},\n",
       "  {'alpha': 0.21},\n",
       "  {'alpha': 0.22},\n",
       "  {'alpha': 0.23},\n",
       "  {'alpha': 0.24},\n",
       "  {'alpha': 0.25},\n",
       "  {'alpha': 0.26},\n",
       "  {'alpha': 0.27},\n",
       "  {'alpha': 0.28},\n",
       "  {'alpha': 0.29},\n",
       "  {'alpha': 0.3},\n",
       "  {'alpha': 0.31},\n",
       "  {'alpha': 0.32},\n",
       "  {'alpha': 0.33},\n",
       "  {'alpha': 0.34},\n",
       "  {'alpha': 0.35},\n",
       "  {'alpha': 0.36},\n",
       "  {'alpha': 0.37},\n",
       "  {'alpha': 0.38},\n",
       "  {'alpha': 0.39},\n",
       "  {'alpha': 0.4},\n",
       "  {'alpha': 0.41},\n",
       "  {'alpha': 0.42},\n",
       "  {'alpha': 0.43},\n",
       "  {'alpha': 0.44},\n",
       "  {'alpha': 0.45},\n",
       "  {'alpha': 0.46},\n",
       "  {'alpha': 0.47},\n",
       "  {'alpha': 0.48},\n",
       "  {'alpha': 0.49}],\n",
       " 'split0_test_score': array([-2183.94450425, -2178.59024701, -2174.33534737, -2170.68438623,\n",
       "        -2167.56077947, -2164.58848808, -2161.91552322, -2159.92957162,\n",
       "        -2158.33965845, -2156.9749663 , -2155.91582179, -2155.19760537,\n",
       "        -2154.71962046, -2154.30773753, -2153.95558491, -2153.66072912,\n",
       "        -2153.46596367, -2153.33783208, -2153.27188495, -2153.22552336,\n",
       "        -2153.20108365, -2153.12858091, -2152.99071921, -2152.86349058,\n",
       "        -2152.75397671, -2152.67008657, -2152.55980557, -2152.42588159,\n",
       "        -2152.30105002, -2152.20803332, -2152.08056781, -2151.94598282,\n",
       "        -2151.82684907, -2151.71441808, -2151.61202873, -2151.52427143,\n",
       "        -2151.45217506, -2151.42320722, -2151.38301541, -2151.33195723,\n",
       "        -2151.30382244, -2151.31732622, -2151.36958043, -2151.43408268,\n",
       "        -2151.50852812, -2151.6010326 , -2151.6774411 , -2151.76150092,\n",
       "        -2151.85593643]),\n",
       " 'split1_test_score': array([-3304.52173296, -3303.12029055, -3302.09153522, -3301.3112757 ,\n",
       "        -3300.6012407 , -3299.94619757, -3299.30802284, -3298.63462276,\n",
       "        -3297.98857559, -3297.37015118, -3296.80972925, -3296.33673253,\n",
       "        -3295.9081888 , -3295.48538049, -3295.09988163, -3294.78095326,\n",
       "        -3294.57939934, -3294.3779155 , -3294.13813316, -3293.90798978,\n",
       "        -3293.70962102, -3293.53207795, -3293.51580483, -3293.49200102,\n",
       "        -3293.45357263, -3293.38843345, -3293.28744292, -3293.20757747,\n",
       "        -3293.11202984, -3293.03147312, -3292.96143674, -3292.90224628,\n",
       "        -3292.84905063, -3292.79961906, -3292.75587541, -3292.67721366,\n",
       "        -3292.5962774 , -3292.5201454 , -3292.44134059, -3292.36312408,\n",
       "        -3292.28446853, -3292.20789444, -3292.13566264, -3292.07462625,\n",
       "        -3292.02231751, -3291.97470342, -3291.9125175 , -3291.8279368 ,\n",
       "        -3291.74796722]),\n",
       " 'split2_test_score': array([-2217.94531618, -2217.23516997, -2216.74418934, -2215.58578314,\n",
       "        -2214.42181291, -2213.13705557, -2211.83884962, -2210.60616618,\n",
       "        -2209.54596069, -2208.6826595 , -2207.84027755, -2207.10254684,\n",
       "        -2206.43017428, -2205.83315249, -2205.27264493, -2204.71136649,\n",
       "        -2204.21591778, -2203.74919849, -2203.29283491, -2202.76894654,\n",
       "        -2202.13073834, -2201.53474702, -2200.96665917, -2200.43104149,\n",
       "        -2199.89939268, -2199.35097553, -2198.81920664, -2198.23957268,\n",
       "        -2197.67493764, -2197.1163587 , -2196.55280158, -2196.00109187,\n",
       "        -2195.46645818, -2194.94988843, -2194.44965228, -2193.96221333,\n",
       "        -2193.48187913, -2193.03186267, -2192.60562992, -2192.18393345,\n",
       "        -2191.76091853, -2191.33864818, -2190.91451253, -2190.48274113,\n",
       "        -2190.06224055, -2189.69305523, -2189.33361521, -2188.98384053,\n",
       "        -2188.64353746]),\n",
       " 'split3_test_score': array([-1989.63535602, -1987.10350372, -1985.21896777, -1983.89835339,\n",
       "        -1983.18438905, -1982.37531969, -1981.47270965, -1980.53548781,\n",
       "        -1979.45648806, -1978.45909265, -1977.41829997, -1976.42214251,\n",
       "        -1975.31023064, -1974.16943011, -1973.0544142 , -1971.95445775,\n",
       "        -1970.83641703, -1969.66779128, -1968.5256428 , -1967.41442999,\n",
       "        -1966.31590032, -1965.18125533, -1964.4533633 , -1963.87228253,\n",
       "        -1963.29044158, -1962.73729095, -1962.18563171, -1961.60878632,\n",
       "        -1961.03632052, -1960.49826039, -1959.9861063 , -1959.48897506,\n",
       "        -1959.00796151, -1958.54994201, -1958.10342373, -1957.66150535,\n",
       "        -1957.22268389, -1956.7973736 , -1956.38427218, -1955.98525246,\n",
       "        -1955.62111426, -1955.32104489, -1955.05433907, -1954.7954207 ,\n",
       "        -1954.54808026, -1954.32517516, -1954.11905789, -1953.91484761,\n",
       "        -1953.73139509]),\n",
       " 'split4_test_score': array([-1963.63923528, -1961.28644496, -1959.90934155, -1957.78502156,\n",
       "        -1955.71981659, -1953.85893593, -1952.22147745, -1950.80585555,\n",
       "        -1949.5858014 , -1948.51224447, -1947.55437513, -1946.65956261,\n",
       "        -1945.83305071, -1945.1600586 , -1944.61285995, -1944.10401691,\n",
       "        -1943.63795751, -1943.29315151, -1942.99849264, -1942.74374694,\n",
       "        -1942.5211803 , -1942.33204064, -1942.08229234, -1941.81596289,\n",
       "        -1941.49999816, -1941.18956802, -1940.89340949, -1940.61038493,\n",
       "        -1940.32832055, -1940.09056289, -1939.86119107, -1939.6492676 ,\n",
       "        -1939.45447537, -1939.27744765, -1939.12168193, -1938.97752313,\n",
       "        -1938.8286641 , -1938.68541173, -1938.52850873, -1938.37285745,\n",
       "        -1938.22732014, -1938.09242829, -1937.96819601, -1937.85145715,\n",
       "        -1937.74297971, -1937.64379853, -1937.55688736, -1937.48017298,\n",
       "        -1937.41250144]),\n",
       " 'mean_test_score': array([-2331.93722894, -2329.46713124, -2327.65987625, -2325.85296401,\n",
       "        -2324.29760774, -2322.78119937, -2321.35131655, -2320.10234078,\n",
       "        -2318.98329684, -2317.99982282, -2317.10770074, -2316.34371797,\n",
       "        -2315.64025298, -2314.99115184, -2314.39907712, -2313.8423047 ,\n",
       "        -2313.34713107, -2312.88517777, -2312.44539769, -2312.01212732,\n",
       "        -2311.57570473, -2311.14174037, -2310.80176777, -2310.4949557 ,\n",
       "        -2310.17947635, -2309.8672709 , -2309.54909927, -2309.2184406 ,\n",
       "        -2308.89053172, -2308.58893768, -2308.2884207 , -2307.99751273,\n",
       "        -2307.72095895, -2307.45826305, -2307.20853242, -2306.96054538,\n",
       "        -2306.71633591, -2306.49160012, -2306.26855337, -2306.04742493,\n",
       "        -2305.83952878, -2305.6554684 , -2305.48845814, -2305.32766558,\n",
       "        -2305.17682923, -2305.04755299, -2304.91990381, -2304.79365977,\n",
       "        -2304.67826753]),\n",
       " 'std_test_score': array([496.71533186, 497.21830078, 497.56084861, 498.02851777,\n",
       "        498.40058657, 498.77409822, 499.11649492, 499.37074339,\n",
       "        499.59327626, 499.77084042, 499.93935747, 500.10020273,\n",
       "        500.26581099, 500.40744287, 500.53626955, 500.67994416,\n",
       "        500.85663337, 501.01705599, 501.14726966, 501.27306982,\n",
       "        501.40868068, 501.55396095, 501.71829259, 501.85982354,\n",
       "        502.00179149, 502.12770389, 502.23824474, 502.36226124,\n",
       "        502.4782159 , 502.58658966, 502.69669109, 502.80637286,\n",
       "        502.91199249, 503.01212645, 503.1084791 , 503.18738706,\n",
       "        503.26442607, 503.33667756, 503.40784796, 503.47761444,\n",
       "        503.53957279, 503.5893334 , 503.63235371, 503.67723284,\n",
       "        503.72164663, 503.75974435, 503.78858291, 503.80602583,\n",
       "        503.82004044]),\n",
       " 'rank_test_score': array([49, 48, 47, 46, 45, 44, 43, 42, 41, 40, 39, 38, 37, 36, 35, 34, 33,\n",
       "        32, 31, 30, 29, 28, 27, 26, 25, 24, 23, 22, 21, 20, 19, 18, 17, 16,\n",
       "        15, 14, 13, 12, 11, 10,  9,  8,  7,  6,  5,  4,  3,  2,  1],\n",
       "       dtype=int32)}"
      ]
     },
     "execution_count": 55,
     "metadata": {},
     "output_type": "execute_result"
    }
   ],
   "source": [
    "lasso_model_cv.cv_results_"
   ]
  },
  {
   "cell_type": "code",
   "execution_count": 56,
   "id": "eaa9c538",
   "metadata": {},
   "outputs": [
    {
     "data": {
      "text/plain": [
       "2304.6782675267254"
      ]
     },
     "execution_count": 56,
     "metadata": {},
     "output_type": "execute_result"
    }
   ],
   "source": [
    "lasso_rmse = pd.DataFrame(lasso_model_cv.cv_results_).loc[\n",
    "    lambda x: x.param_alpha == lasso_model_cv.best_estimator_.alpha\n",
    "].mean_test_score.values[0] * -1\n",
    "lasso_rmse"
   ]
  },
  {
   "cell_type": "markdown",
   "id": "937b2c42",
   "metadata": {},
   "source": [
    "3. ***CART model***"
   ]
  },
  {
   "cell_type": "code",
   "execution_count": 57,
   "id": "e49634ff",
   "metadata": {},
   "outputs": [],
   "source": [
    "y, X = dmatrices(\"price ~ \" + \" + \".join(predictors_2), data_train)"
   ]
  },
  {
   "cell_type": "code",
   "execution_count": 58,
   "id": "dfe02c03",
   "metadata": {},
   "outputs": [],
   "source": [
    "cart_model = DecisionTreeRegressor(random_state=2023)"
   ]
  },
  {
   "cell_type": "code",
   "execution_count": 59,
   "id": "3f31fc82",
   "metadata": {},
   "outputs": [],
   "source": [
    "# Get potential ccp_alpha parameters\n",
    "path = cart_model.cost_complexity_pruning_path(X, y.ravel())\n",
    "ccp_alphas, impurities = path.ccp_alphas, path.impurities"
   ]
  },
  {
   "cell_type": "code",
   "execution_count": 60,
   "id": "f151ea11",
   "metadata": {},
   "outputs": [
    {
     "data": {
      "text/plain": [
       "array([     0.        ,      0.        ,      0.        , ...,\n",
       "        84610.94317121, 142702.26431808, 190130.34797309])"
      ]
     },
     "execution_count": 60,
     "metadata": {},
     "output_type": "execute_result"
    }
   ],
   "source": [
    "ccp_alphas"
   ]
  },
  {
   "cell_type": "code",
   "execution_count": 61,
   "id": "7f16c18c",
   "metadata": {},
   "outputs": [
    {
     "data": {
      "text/plain": [
       "(6102,)"
      ]
     },
     "execution_count": 61,
     "metadata": {},
     "output_type": "execute_result"
    }
   ],
   "source": [
    "ccp_alphas.shape"
   ]
  },
  {
   "cell_type": "markdown",
   "id": "68f20516",
   "metadata": {},
   "source": [
    "Apply random search to select a \"best\" alpha, default is 10 iterations\n",
    "`RandomizedSearchCV` does not calculate all potential alphas, just a random 10-element subset of the many potential alphas."
   ]
  },
  {
   "cell_type": "code",
   "execution_count": 62,
   "id": "98f590ac",
   "metadata": {
    "scrolled": false
   },
   "outputs": [
    {
     "name": "stdout",
     "output_type": "stream",
     "text": [
      "Fitting 5 folds for each of 10 candidates, totalling 50 fits\n",
      "[CV 1/5] END ...ccp_alpha=22.06536443799552;, score=-3006.040 total time=   0.1s\n",
      "[CV 2/5] END ...ccp_alpha=22.06536443799552;, score=-3841.464 total time=   0.1s\n",
      "[CV 3/5] END ...ccp_alpha=22.06536443799552;, score=-2928.164 total time=   0.1s\n",
      "[CV 4/5] END ...ccp_alpha=22.06536443799552;, score=-3107.592 total time=   0.1s\n",
      "[CV 5/5] END ...ccp_alpha=22.06536443799552;, score=-3013.080 total time=   0.1s\n",
      "[CV 1/5] END .ccp_alpha=0.06377819945181515;, score=-3010.179 total time=   0.1s\n",
      "[CV 2/5] END .ccp_alpha=0.06377819945181515;, score=-3845.123 total time=   0.1s\n",
      "[CV 3/5] END .ccp_alpha=0.06377819945181515;, score=-2928.833 total time=   0.1s\n",
      "[CV 4/5] END .ccp_alpha=0.06377819945181515;, score=-3109.240 total time=   0.1s\n",
      "[CV 5/5] END .ccp_alpha=0.06377819945181515;, score=-3014.545 total time=   0.1s\n",
      "[CV 1/5] END .ccp_alpha=0.02530044275774826;, score=-3010.205 total time=   0.1s\n",
      "[CV 2/5] END .ccp_alpha=0.02530044275774826;, score=-3845.239 total time=   0.1s\n",
      "[CV 3/5] END .ccp_alpha=0.02530044275774826;, score=-2928.840 total time=   0.1s\n",
      "[CV 4/5] END .ccp_alpha=0.02530044275774826;, score=-3109.272 total time=   0.1s\n",
      "[CV 5/5] END .ccp_alpha=0.02530044275774826;, score=-3014.569 total time=   0.1s\n",
      "[CV 1/5] END ccp_alpha=0.008433480919249227;, score=-3010.196 total time=   0.1s\n",
      "[CV 2/5] END ccp_alpha=0.008433480919249227;, score=-3845.254 total time=   0.1s\n",
      "[CV 3/5] END ccp_alpha=0.008433480919249227;, score=-2928.833 total time=   0.1s\n",
      "[CV 4/5] END ccp_alpha=0.008433480919249227;, score=-3109.272 total time=   0.1s\n",
      "[CV 5/5] END ccp_alpha=0.008433480919249227;, score=-3014.551 total time=   0.1s\n",
      "[CV 1/5] END .ccp_alpha=0.32943284840818293;, score=-3010.126 total time=   0.1s\n",
      "[CV 2/5] END .ccp_alpha=0.32943284840818293;, score=-3844.980 total time=   0.1s\n",
      "[CV 3/5] END .ccp_alpha=0.32943284840818293;, score=-2928.703 total time=   0.1s\n",
      "[CV 4/5] END .ccp_alpha=0.32943284840818293;, score=-3109.101 total time=   0.1s\n",
      "[CV 5/5] END .ccp_alpha=0.32943284840818293;, score=-3014.779 total time=   0.1s\n",
      "[CV 1/5] END ..ccp_alpha=10.165760067467868;, score=-3007.518 total time=   0.1s\n",
      "[CV 2/5] END ..ccp_alpha=10.165760067467868;, score=-3842.092 total time=   0.1s\n",
      "[CV 3/5] END ..ccp_alpha=10.165760067467868;, score=-2927.730 total time=   0.1s\n",
      "[CV 4/5] END ..ccp_alpha=10.165760067467868;, score=-3109.101 total time=   0.1s\n",
      "[CV 5/5] END ..ccp_alpha=10.165760067467868;, score=-3013.596 total time=   0.1s\n",
      "[CV 1/5] END ccp_alpha=0.042694497153702035;, score=-3010.185 total time=   0.1s\n",
      "[CV 2/5] END ccp_alpha=0.042694497153702035;, score=-3845.145 total time=   0.1s\n",
      "[CV 3/5] END ccp_alpha=0.042694497153702035;, score=-2928.848 total time=   0.1s\n",
      "[CV 4/5] END ccp_alpha=0.042694497153702035;, score=-3109.223 total time=   0.1s\n",
      "[CV 5/5] END ccp_alpha=0.042694497153702035;, score=-3014.564 total time=   0.1s\n",
      "[CV 1/5] END ...ccp_alpha=1.412144212523712;, score=-3009.892 total time=   0.1s\n",
      "[CV 2/5] END ...ccp_alpha=1.412144212523712;, score=-3845.214 total time=   0.1s\n",
      "[CV 3/5] END ...ccp_alpha=1.412144212523712;, score=-2928.755 total time=   0.1s\n",
      "[CV 4/5] END ...ccp_alpha=1.412144212523712;, score=-3109.758 total time=   0.1s\n",
      "[CV 5/5] END ...ccp_alpha=1.412144212523712;, score=-3014.306 total time=   0.1s\n",
      "[CV 1/5] END ..ccp_alpha=18.815456092251438;, score=-3006.371 total time=   0.1s\n",
      "[CV 2/5] END ..ccp_alpha=18.815456092251438;, score=-3841.346 total time=   0.1s\n",
      "[CV 3/5] END ..ccp_alpha=18.815456092251438;, score=-2928.860 total time=   0.1s\n",
      "[CV 4/5] END ..ccp_alpha=18.815456092251438;, score=-3108.285 total time=   0.1s\n",
      "[CV 5/5] END ..ccp_alpha=18.815456092251438;, score=-3013.851 total time=   0.1s\n",
      "[CV 1/5] END .ccp_alpha=0.11157495256166983;, score=-3010.184 total time=   0.1s\n",
      "[CV 2/5] END .ccp_alpha=0.11157495256166983;, score=-3845.052 total time=   0.1s\n",
      "[CV 3/5] END .ccp_alpha=0.11157495256166983;, score=-2928.821 total time=   0.1s\n",
      "[CV 4/5] END .ccp_alpha=0.11157495256166983;, score=-3109.165 total time=   0.1s\n",
      "[CV 5/5] END .ccp_alpha=0.11157495256166983;, score=-3014.516 total time=   0.1s\n",
      "CPU times: user 5.98 s, sys: 22.9 ms, total: 6.01 s\n",
      "Wall time: 6 s\n"
     ]
    },
    {
     "data": {
      "text/plain": [
       "RandomizedSearchCV(cv=5, estimator=DecisionTreeRegressor(random_state=2023),\n",
       "                   param_distributions={'ccp_alpha': array([     0.        ,      0.        ,      0.        , ...,\n",
       "        84610.94317121, 142702.26431808, 190130.34797309])},\n",
       "                   scoring='neg_root_mean_squared_error', verbose=3)"
      ]
     },
     "execution_count": 62,
     "metadata": {},
     "output_type": "execute_result"
    }
   ],
   "source": [
    "%%time\n",
    "\n",
    "cart_model_cv = RandomizedSearchCV(\n",
    "    cart_model,\n",
    "    {\"ccp_alpha\":ccp_alphas},\n",
    "    cv=5,\n",
    "    scoring=\"neg_root_mean_squared_error\",\n",
    "    verbose=3,\n",
    ")\n",
    "cart_model_cv.fit(X,y.ravel())"
   ]
  },
  {
   "cell_type": "code",
   "execution_count": 63,
   "id": "f424e0dd",
   "metadata": {},
   "outputs": [
    {
     "data": {
      "text/plain": [
       "3179.2679025921784"
      ]
     },
     "execution_count": 63,
     "metadata": {},
     "output_type": "execute_result"
    }
   ],
   "source": [
    "cart_rmse = pd.DataFrame(cart_model_cv.cv_results_).loc[\n",
    "    lambda x: x.param_ccp_alpha == cart_model_cv.best_estimator_.ccp_alpha\n",
    "].mean_test_score.values[0] * -1\n",
    "cart_rmse"
   ]
  },
  {
   "cell_type": "markdown",
   "id": "5af08052",
   "metadata": {},
   "source": [
    "4. ***Random Forest***"
   ]
  },
  {
   "cell_type": "markdown",
   "id": "53b9110b",
   "metadata": {},
   "source": [
    "`dmatrices()` constructs two design matrices given a formula_like and data. By convention, the first matrix is the “outcome” or “y” data, and the second is the “predictor” or “x” data."
   ]
  },
  {
   "cell_type": "code",
   "execution_count": 64,
   "id": "aed31b86",
   "metadata": {},
   "outputs": [],
   "source": [
    "y, X = dmatrices(\"price ~ \" + \" + \".join(predictors_2), data_train)"
   ]
  },
  {
   "cell_type": "code",
   "execution_count": 65,
   "id": "69c40c03",
   "metadata": {},
   "outputs": [
    {
     "data": {
      "text/plain": [
       "(7905, 98)"
      ]
     },
     "execution_count": 65,
     "metadata": {},
     "output_type": "execute_result"
    }
   ],
   "source": [
    "X.shape"
   ]
  },
  {
   "cell_type": "code",
   "execution_count": 66,
   "id": "1755e124",
   "metadata": {},
   "outputs": [
    {
     "data": {
      "text/plain": [
       "(7905,)"
      ]
     },
     "execution_count": 66,
     "metadata": {},
     "output_type": "execute_result"
    }
   ],
   "source": [
    "# using ravel() we flatten y to a one-dimensional data object. \n",
    "y.ravel().shape"
   ]
  },
  {
   "cell_type": "code",
   "execution_count": 67,
   "id": "db78d159",
   "metadata": {},
   "outputs": [],
   "source": [
    "rfr = RandomForestRegressor(random_state = 42)"
   ]
  },
  {
   "cell_type": "markdown",
   "id": "d846ca02",
   "metadata": {},
   "source": [
    "A random forest is a meta estimator that fits a number of classifying decision trees on various sub-samples of the dataset and uses averaging to improve the predictive accuracy and control over-fitting.\n",
    "\n",
    "A random forest needs a little tuning, i.e. three parameters: the number of bootstrap samples, the number of variables considered for each split, and the minimum number of observations in the terminal nodes of each tree as a stopping rule. For the number of bootstrap draws, I went with the default option of 500. For the number of variables, one rule of thumb is to pick the square root of the total number of variables, which would be around 10, so we tried 8, 10, and 12. For the minimum number of observations in the terminal nodes, we choose 5, 10, and 15."
   ]
  },
  {
   "cell_type": "code",
   "execution_count": 68,
   "id": "131becc0",
   "metadata": {},
   "outputs": [],
   "source": [
    "tune_grid = {\"max_features\": [6, 8, 10, 12], \"min_samples_leaf\": [5, 10, 15]}"
   ]
  },
  {
   "cell_type": "markdown",
   "id": "9890fc96",
   "metadata": {},
   "source": [
    "`GridsearchCV()` is an exhaustive search over specified parameter values for an estimator."
   ]
  },
  {
   "cell_type": "code",
   "execution_count": 69,
   "id": "bc813807",
   "metadata": {},
   "outputs": [],
   "source": [
    "rf_random = GridSearchCV(\n",
    "    rfr,\n",
    "    tune_grid,\n",
    "    cv=5,\n",
    "    scoring=\"neg_root_mean_squared_error\",\n",
    "    verbose=3,\n",
    ")"
   ]
  },
  {
   "cell_type": "code",
   "execution_count": 70,
   "id": "bfdfe8bf",
   "metadata": {},
   "outputs": [
    {
     "name": "stdout",
     "output_type": "stream",
     "text": [
      "Fitting 5 folds for each of 12 candidates, totalling 60 fits\n",
      "[CV 1/5] END max_features=6, min_samples_leaf=5;, score=-2137.717 total time=   0.3s\n",
      "[CV 2/5] END max_features=6, min_samples_leaf=5;, score=-3268.164 total time=   0.3s\n",
      "[CV 3/5] END max_features=6, min_samples_leaf=5;, score=-2158.913 total time=   0.3s\n",
      "[CV 4/5] END max_features=6, min_samples_leaf=5;, score=-1955.351 total time=   0.3s\n",
      "[CV 5/5] END max_features=6, min_samples_leaf=5;, score=-1874.462 total time=   0.3s\n",
      "[CV 1/5] END max_features=6, min_samples_leaf=10;, score=-2145.107 total time=   0.3s\n",
      "[CV 2/5] END max_features=6, min_samples_leaf=10;, score=-3276.328 total time=   0.3s\n",
      "[CV 3/5] END max_features=6, min_samples_leaf=10;, score=-2160.180 total time=   0.3s\n",
      "[CV 4/5] END max_features=6, min_samples_leaf=10;, score=-1961.522 total time=   0.3s\n",
      "[CV 5/5] END max_features=6, min_samples_leaf=10;, score=-1873.526 total time=   0.3s\n",
      "[CV 1/5] END max_features=6, min_samples_leaf=15;, score=-2142.547 total time=   0.2s\n",
      "[CV 2/5] END max_features=6, min_samples_leaf=15;, score=-3277.360 total time=   0.2s\n",
      "[CV 3/5] END max_features=6, min_samples_leaf=15;, score=-2159.318 total time=   0.2s\n",
      "[CV 4/5] END max_features=6, min_samples_leaf=15;, score=-1950.167 total time=   0.2s\n",
      "[CV 5/5] END max_features=6, min_samples_leaf=15;, score=-1873.703 total time=   0.2s\n",
      "[CV 1/5] END max_features=8, min_samples_leaf=5;, score=-2129.687 total time=   0.4s\n",
      "[CV 2/5] END max_features=8, min_samples_leaf=5;, score=-3270.502 total time=   0.4s\n",
      "[CV 3/5] END max_features=8, min_samples_leaf=5;, score=-2163.172 total time=   0.4s\n",
      "[CV 4/5] END max_features=8, min_samples_leaf=5;, score=-1939.886 total time=   0.4s\n",
      "[CV 5/5] END max_features=8, min_samples_leaf=5;, score=-1865.673 total time=   0.4s\n",
      "[CV 1/5] END max_features=8, min_samples_leaf=10;, score=-2131.419 total time=   0.3s\n",
      "[CV 2/5] END max_features=8, min_samples_leaf=10;, score=-3274.377 total time=   0.3s\n",
      "[CV 3/5] END max_features=8, min_samples_leaf=10;, score=-2161.001 total time=   0.3s\n",
      "[CV 4/5] END max_features=8, min_samples_leaf=10;, score=-1946.101 total time=   0.3s\n",
      "[CV 5/5] END max_features=8, min_samples_leaf=10;, score=-1873.018 total time=   0.3s\n",
      "[CV 1/5] END max_features=8, min_samples_leaf=15;, score=-2138.778 total time=   0.3s\n",
      "[CV 2/5] END max_features=8, min_samples_leaf=15;, score=-3272.776 total time=   0.3s\n",
      "[CV 3/5] END max_features=8, min_samples_leaf=15;, score=-2160.776 total time=   0.3s\n",
      "[CV 4/5] END max_features=8, min_samples_leaf=15;, score=-1945.567 total time=   0.3s\n",
      "[CV 5/5] END max_features=8, min_samples_leaf=15;, score=-1868.242 total time=   0.3s\n",
      "[CV 1/5] END max_features=10, min_samples_leaf=5;, score=-2127.987 total time=   0.4s\n",
      "[CV 2/5] END max_features=10, min_samples_leaf=5;, score=-3270.359 total time=   0.4s\n",
      "[CV 3/5] END max_features=10, min_samples_leaf=5;, score=-2161.302 total time=   0.4s\n",
      "[CV 4/5] END max_features=10, min_samples_leaf=5;, score=-1942.764 total time=   0.4s\n",
      "[CV 5/5] END max_features=10, min_samples_leaf=5;, score=-1872.613 total time=   0.4s\n",
      "[CV 1/5] END max_features=10, min_samples_leaf=10;, score=-2134.045 total time=   0.4s\n",
      "[CV 2/5] END max_features=10, min_samples_leaf=10;, score=-3278.955 total time=   0.4s\n",
      "[CV 3/5] END max_features=10, min_samples_leaf=10;, score=-2158.023 total time=   0.4s\n",
      "[CV 4/5] END max_features=10, min_samples_leaf=10;, score=-1947.391 total time=   0.4s\n",
      "[CV 5/5] END max_features=10, min_samples_leaf=10;, score=-1865.695 total time=   0.4s\n",
      "[CV 1/5] END max_features=10, min_samples_leaf=15;, score=-2138.021 total time=   0.3s\n",
      "[CV 2/5] END max_features=10, min_samples_leaf=15;, score=-3273.224 total time=   0.3s\n",
      "[CV 3/5] END max_features=10, min_samples_leaf=15;, score=-2159.933 total time=   0.4s\n",
      "[CV 4/5] END max_features=10, min_samples_leaf=15;, score=-1948.252 total time=   0.4s\n",
      "[CV 5/5] END max_features=10, min_samples_leaf=15;, score=-1867.533 total time=   0.4s\n",
      "[CV 1/5] END max_features=12, min_samples_leaf=5;, score=-2130.428 total time=   0.6s\n",
      "[CV 2/5] END max_features=12, min_samples_leaf=5;, score=-3265.845 total time=   0.5s\n",
      "[CV 3/5] END max_features=12, min_samples_leaf=5;, score=-2161.241 total time=   0.5s\n",
      "[CV 4/5] END max_features=12, min_samples_leaf=5;, score=-1941.688 total time=   0.5s\n",
      "[CV 5/5] END max_features=12, min_samples_leaf=5;, score=-1874.552 total time=   0.5s\n",
      "[CV 1/5] END max_features=12, min_samples_leaf=10;, score=-2133.155 total time=   0.5s\n",
      "[CV 2/5] END max_features=12, min_samples_leaf=10;, score=-3271.268 total time=   0.4s\n",
      "[CV 3/5] END max_features=12, min_samples_leaf=10;, score=-2159.645 total time=   0.4s\n",
      "[CV 4/5] END max_features=12, min_samples_leaf=10;, score=-1944.321 total time=   0.5s\n",
      "[CV 5/5] END max_features=12, min_samples_leaf=10;, score=-1867.865 total time=   0.5s\n",
      "[CV 1/5] END max_features=12, min_samples_leaf=15;, score=-2135.309 total time=   0.4s\n",
      "[CV 2/5] END max_features=12, min_samples_leaf=15;, score=-3276.005 total time=   0.5s\n",
      "[CV 3/5] END max_features=12, min_samples_leaf=15;, score=-2160.967 total time=   0.4s\n",
      "[CV 4/5] END max_features=12, min_samples_leaf=15;, score=-1953.993 total time=   0.4s\n",
      "[CV 5/5] END max_features=12, min_samples_leaf=15;, score=-1867.772 total time=   0.4s\n",
      "CPU times: user 21.9 s, sys: 121 ms, total: 22 s\n",
      "Wall time: 22 s\n"
     ]
    }
   ],
   "source": [
    "%%time\n",
    "rf_model = rf_random.fit(X, y.ravel())"
   ]
  },
  {
   "cell_type": "code",
   "execution_count": 71,
   "id": "de6f6c04",
   "metadata": {
    "scrolled": true
   },
   "outputs": [
    {
     "data": {
      "text/html": [
       "<div>\n",
       "<style scoped>\n",
       "    .dataframe tbody tr th:only-of-type {\n",
       "        vertical-align: middle;\n",
       "    }\n",
       "\n",
       "    .dataframe tbody tr th {\n",
       "        vertical-align: top;\n",
       "    }\n",
       "\n",
       "    .dataframe thead th {\n",
       "        text-align: right;\n",
       "    }\n",
       "</style>\n",
       "<table border=\"1\" class=\"dataframe\">\n",
       "  <thead>\n",
       "    <tr style=\"text-align: right;\">\n",
       "      <th>min node size</th>\n",
       "      <th>5</th>\n",
       "      <th>10</th>\n",
       "      <th>15</th>\n",
       "    </tr>\n",
       "    <tr>\n",
       "      <th>max features</th>\n",
       "      <th></th>\n",
       "      <th></th>\n",
       "      <th></th>\n",
       "    </tr>\n",
       "  </thead>\n",
       "  <tbody>\n",
       "    <tr>\n",
       "      <th>6</th>\n",
       "      <td>2278.92</td>\n",
       "      <td>2283.33</td>\n",
       "      <td>2280.62</td>\n",
       "    </tr>\n",
       "    <tr>\n",
       "      <th>8</th>\n",
       "      <td>2273.78</td>\n",
       "      <td>2277.18</td>\n",
       "      <td>2277.23</td>\n",
       "    </tr>\n",
       "    <tr>\n",
       "      <th>10</th>\n",
       "      <td>2275.00</td>\n",
       "      <td>2276.82</td>\n",
       "      <td>2277.39</td>\n",
       "    </tr>\n",
       "    <tr>\n",
       "      <th>12</th>\n",
       "      <td>2274.75</td>\n",
       "      <td>2275.25</td>\n",
       "      <td>2278.81</td>\n",
       "    </tr>\n",
       "  </tbody>\n",
       "</table>\n",
       "</div>"
      ],
      "text/plain": [
       "min node size       5        10       15\n",
       "max features                            \n",
       "6              2278.92  2283.33  2280.62\n",
       "8              2273.78  2277.18  2277.23\n",
       "10             2275.00  2276.82  2277.39\n",
       "12             2274.75  2275.25  2278.81"
      ]
     },
     "execution_count": 71,
     "metadata": {},
     "output_type": "execute_result"
    }
   ],
   "source": [
    "df_rf_model_cv_results = pd.DataFrame(rf_model.cv_results_)[[\n",
    "    'param_max_features', 'param_min_samples_leaf', 'mean_test_score']]\n",
    "\n",
    "df_rf_model_cv_results.columns = ['max features', 'min node size', 'RMSE']\n",
    "\n",
    "df_rf_model_cv_results.pivot(\n",
    "    index = 'max features', \n",
    "    columns = 'min node size', \n",
    "    values = 'RMSE').round(2)*-1"
   ]
  },
  {
   "cell_type": "code",
   "execution_count": 72,
   "id": "9cb2076d",
   "metadata": {},
   "outputs": [],
   "source": [
    "rf_model_rmse = rf_model.best_score_ * -1"
   ]
  },
  {
   "cell_type": "markdown",
   "id": "681e8be9",
   "metadata": {},
   "source": [
    "RMSE is the smallest with max_features of 8 and min_samples_leaf of 5."
   ]
  },
  {
   "cell_type": "code",
   "execution_count": 73,
   "id": "7ee6f020",
   "metadata": {},
   "outputs": [
    {
     "data": {
      "text/plain": [
       "{'max_features': 8, 'min_samples_leaf': 5}"
      ]
     },
     "execution_count": 73,
     "metadata": {},
     "output_type": "execute_result"
    }
   ],
   "source": [
    "rf_model.best_params_"
   ]
  },
  {
   "cell_type": "markdown",
   "id": "50c644e6",
   "metadata": {},
   "source": [
    "4. ***GBM***"
   ]
  },
  {
   "cell_type": "code",
   "execution_count": 74,
   "id": "5c817167",
   "metadata": {},
   "outputs": [],
   "source": [
    "gbm = GradientBoostingRegressor(learning_rate=0.1, min_samples_split=20, max_features = 10, n_estimators = 50)\n",
    "\n",
    "tune_grid = {\"n_estimators\": [i for i in range(100, 500, 50)], \"max_depth\": [1, 5, 10]}\n",
    "\n",
    "gbm_model_cv = GridSearchCV(\n",
    "    gbm,\n",
    "    tune_grid,\n",
    "    cv=5,\n",
    "    scoring=\"neg_root_mean_squared_error\",\n",
    "    verbose=10,\n",
    "    n_jobs=-1\n",
    ")"
   ]
  },
  {
   "cell_type": "code",
   "execution_count": 75,
   "id": "5e68242f",
   "metadata": {},
   "outputs": [],
   "source": [
    "categorical_columns = [col for col in predictors_2 if col.startswith(\"f_\")]\n",
    "numerical_columns = [col for col in predictors_2 if col not in categorical_columns]\n",
    "\n",
    "categorical_encoder = OneHotEncoder(handle_unknown=\"ignore\")\n",
    "\n",
    "preprocessing = ColumnTransformer(\n",
    "    [\n",
    "        (\"cat\", categorical_encoder, categorical_columns),\n",
    "        (\"num\", \"passthrough\", numerical_columns),\n",
    "    ]\n",
    ")\n",
    "\n",
    "gbm_pipe = Pipeline(\n",
    "    [(\"preprocess\", preprocessing), (\"regressor\", gbm_model_cv)], verbose=True\n",
    ")"
   ]
  },
  {
   "cell_type": "code",
   "execution_count": 76,
   "id": "4dfc3060",
   "metadata": {},
   "outputs": [
    {
     "name": "stdout",
     "output_type": "stream",
     "text": [
      "[Pipeline] ........ (step 1 of 2) Processing preprocess, total=   0.0s\n",
      "Fitting 5 folds for each of 24 candidates, totalling 120 fits\n",
      "[CV 3/5; 1/24] START max_depth=1, n_estimators=100..............................\n",
      "[CV 3/5; 1/24] END max_depth=1, n_estimators=100;, score=-2168.824 total time=   0.2s\n",
      "[CV 5/5; 2/24] START max_depth=1, n_estimators=150..............................\n",
      "[CV 5/5; 2/24] END max_depth=1, n_estimators=150;, score=-1877.924 total time=   0.2s\n",
      "[CV 1/5; 4/24] START max_depth=1, n_estimators=250..............................\n",
      "[CV 1/5; 4/24] END max_depth=1, n_estimators=250;, score=-2149.255 total time=   0.3s\n",
      "[CV 4/5; 5/24] START max_depth=1, n_estimators=300..............................\n",
      "[CV 4/5; 5/24] END max_depth=1, n_estimators=300;, score=-1959.101 total time=   0.4s\n",
      "[CV 2/5; 7/24] START max_depth=1, n_estimators=400..............................\n",
      "[CV 2/5; 7/24] END max_depth=1, n_estimators=400;, score=-3279.848 total time=   0.6s\n",
      "[CV 5/5; 8/24] START max_depth=1, n_estimators=450..............................\n",
      "[CV 5/5; 8/24] END max_depth=1, n_estimators=450;, score=-1878.646 total time=   0.5s\n",
      "[CV 1/5; 2/24] START max_depth=1, n_estimators=150..............................\n",
      "[CV 1/5; 2/24] END max_depth=1, n_estimators=150;, score=-2149.903 total time=   0.2s\n",
      "[CV 4/5; 3/24] START max_depth=1, n_estimators=200..............................\n",
      "[CV 4/5; 3/24] END max_depth=1, n_estimators=200;, score=-1956.392 total time=   0.2s\n",
      "[CV 2/5; 5/24] START max_depth=1, n_estimators=300..............................\n",
      "[CV 2/5; 5/24] END max_depth=1, n_estimators=300;, score=-3278.851 total time=   0.3s\n",
      "[CV 5/5; 6/24] START max_depth=1, n_estimators=350..............................\n",
      "[CV 5/5; 6/24] END max_depth=1, n_estimators=350;, score=-1878.164 total time=   0.4s\n",
      "[CV 2/5; 8/24] START max_depth=1, n_estimators=450..............................\n",
      "[CV 2/5; 8/24] END max_depth=1, n_estimators=450;, score=-3279.605 total time=   0.5s\n",
      "[CV 4/5; 9/24] START max_depth=5, n_estimators=100..............................\n",
      "[CV 4/5; 9/24] END max_depth=5, n_estimators=100;, score=-2028.133 total time=   0.4s\n",
      "[CV 5/5; 10/24] START max_depth=5, n_estimators=150.............................\n",
      "[CV 5/5; 10/24] END max_depth=5, n_estimators=150;, score=-2022.406 total time=   0.6s\n",
      "[CV 2/5; 2/24] START max_depth=1, n_estimators=150..............................\n",
      "[CV 2/5; 2/24] END max_depth=1, n_estimators=150;, score=-3279.821 total time=   0.2s\n",
      "[CV 2/5; 4/24] START max_depth=1, n_estimators=250..............................\n",
      "[CV 2/5; 4/24] END max_depth=1, n_estimators=250;, score=-3279.105 total time=   0.3s\n",
      "[CV 5/5; 5/24] START max_depth=1, n_estimators=300..............................\n",
      "[CV 5/5; 5/24] END max_depth=1, n_estimators=300;, score=-1878.553 total time=   0.4s\n",
      "[CV 3/5; 7/24] START max_depth=1, n_estimators=400..............................\n",
      "[CV 3/5; 7/24] END max_depth=1, n_estimators=400;, score=-2178.099 total time=   0.6s\n",
      "[CV 1/5; 9/24] START max_depth=5, n_estimators=100..............................\n",
      "[CV 1/5; 9/24] END max_depth=5, n_estimators=100;, score=-2182.611 total time=   0.5s\n",
      "[CV 4/5; 10/24] START max_depth=5, n_estimators=150.............................\n",
      "[CV 4/5; 10/24] END max_depth=5, n_estimators=150;, score=-2082.081 total time=   0.7s\n",
      "[CV 2/5; 1/24] START max_depth=1, n_estimators=100..............................\n",
      "[CV 2/5; 1/24] END max_depth=1, n_estimators=100;, score=-3277.155 total time=   0.2s\n",
      "[CV 4/5; 2/24] START max_depth=1, n_estimators=150..............................\n",
      "[CV 4/5; 2/24] END max_depth=1, n_estimators=150;, score=-1952.682 total time=   0.2s\n",
      "[CV 5/5; 3/24] START max_depth=1, n_estimators=200..............................\n",
      "[CV 5/5; 3/24] END max_depth=1, n_estimators=200;, score=-1876.703 total time=   0.3s\n",
      "[CV 3/5; 5/24] START max_depth=1, n_estimators=300..............................\n",
      "[CV 3/5; 5/24] END max_depth=1, n_estimators=300;, score=-2176.524 total time=   0.4s\n",
      "[CV 1/5; 7/24] START max_depth=1, n_estimators=400..............................\n",
      "[CV 1/5; 7/24] END max_depth=1, n_estimators=400;, score=-2151.385 total time=   0.6s\n",
      "[CV 4/5; 8/24] START max_depth=1, n_estimators=450..............................\n",
      "[CV 4/5; 8/24] END max_depth=1, n_estimators=450;, score=-1962.550 total time=   0.5s\n",
      "[CV 2/5; 10/24] START max_depth=5, n_estimators=150.............................\n",
      "[CV 2/5; 10/24] END max_depth=5, n_estimators=150;, score=-3357.500 total time=   0.6s\n",
      "[CV 4/5; 11/24] START max_depth=5, n_estimators=200.............................\n",
      "[CV 4/5; 11/24] END max_depth=5, n_estimators=200;, score=-1999.990 total time=   0.7s\n",
      "[CV 1/5; 1/24] START max_depth=1, n_estimators=100..............................\n",
      "[CV 1/5; 1/24] END max_depth=1, n_estimators=100;, score=-2150.675 total time=   0.2s\n",
      "[CV 1/5; 3/24] START max_depth=1, n_estimators=200..............................\n",
      "[CV 1/5; 3/24] END max_depth=1, n_estimators=200;, score=-2150.964 total time=   0.3s\n",
      "[CV 4/5; 4/24] START max_depth=1, n_estimators=250..............................\n",
      "[CV 4/5; 4/24] END max_depth=1, n_estimators=250;, score=-1957.242 total time=   0.3s\n",
      "[CV 2/5; 6/24] START max_depth=1, n_estimators=350..............................\n",
      "[CV 2/5; 6/24] END max_depth=1, n_estimators=350;, score=-3278.472 total time=   0.5s\n",
      "[CV 5/5; 7/24] START max_depth=1, n_estimators=400..............................\n",
      "[CV 5/5; 7/24] END max_depth=1, n_estimators=400;, score=-1878.443 total time=   0.6s\n",
      "[CV 3/5; 9/24] START max_depth=5, n_estimators=100..............................\n",
      "[CV 3/5; 9/24] END max_depth=5, n_estimators=100;, score=-2278.247 total time=   0.4s\n",
      "[CV 1/5; 11/24] START max_depth=5, n_estimators=200.............................\n",
      "[CV 1/5; 11/24] END max_depth=5, n_estimators=200;, score=-2209.895 total time=   0.7s\n",
      "[CV 2/5; 12/24] START max_depth=5, n_estimators=250.............................\n",
      "[CV 2/5; 12/24] END max_depth=5, n_estimators=250;, score=-3379.238 total time=   0.9s\n",
      "[CV 4/5; 1/24] START max_depth=1, n_estimators=100..............................\n",
      "[CV 4/5; 1/24] END max_depth=1, n_estimators=100;, score=-1952.763 total time=   0.1s\n",
      "[CV 2/5; 3/24] START max_depth=1, n_estimators=200..............................\n",
      "[CV 2/5; 3/24] END max_depth=1, n_estimators=200;, score=-3277.908 total time=   0.3s\n",
      "[CV 5/5; 4/24] START max_depth=1, n_estimators=250..............................\n",
      "[CV 5/5; 4/24] END max_depth=1, n_estimators=250;, score=-1877.464 total time=   0.3s\n",
      "[CV 3/5; 6/24] START max_depth=1, n_estimators=350..............................\n",
      "[CV 3/5; 6/24] END max_depth=1, n_estimators=350;, score=-2177.636 total time=   0.5s\n",
      "[CV 1/5; 8/24] START max_depth=1, n_estimators=450..............................\n",
      "[CV 1/5; 8/24] END max_depth=1, n_estimators=450;, score=-2151.817 total time=   0.6s\n",
      "[CV 5/5; 9/24] START max_depth=5, n_estimators=100..............................\n",
      "[CV 5/5; 9/24] END max_depth=5, n_estimators=100;, score=-1985.680 total time=   0.6s\n",
      "[CV 2/5; 11/24] START max_depth=5, n_estimators=200.............................\n",
      "[CV 2/5; 11/24] END max_depth=5, n_estimators=200;, score=-3349.966 total time=   0.8s\n",
      "[CV 3/5; 12/24] START max_depth=5, n_estimators=250.............................\n",
      "[CV 3/5; 12/24] END max_depth=5, n_estimators=250;, score=-2362.920 total time=   0.8s\n",
      "[CV 3/5; 2/24] START max_depth=1, n_estimators=150..............................\n",
      "[CV 3/5; 2/24] END max_depth=1, n_estimators=150;, score=-2172.050 total time=   0.2s\n",
      "[CV 3/5; 4/24] START max_depth=1, n_estimators=250..............................\n",
      "[CV 3/5; 4/24] END max_depth=1, n_estimators=250;, score=-2174.830 total time=   0.3s\n",
      "[CV 1/5; 6/24] START max_depth=1, n_estimators=350..............................\n",
      "[CV 1/5; 6/24] END max_depth=1, n_estimators=350;, score=-2150.397 total time=   0.5s\n",
      "[CV 4/5; 7/24] START max_depth=1, n_estimators=400..............................\n",
      "[CV 4/5; 7/24] END max_depth=1, n_estimators=400;, score=-1962.690 total time=   0.6s\n",
      "[CV 2/5; 9/24] START max_depth=5, n_estimators=100..............................\n",
      "[CV 2/5; 9/24] END max_depth=5, n_estimators=100;, score=-3330.577 total time=   0.4s\n",
      "[CV 3/5; 10/24] START max_depth=5, n_estimators=150.............................\n",
      "[CV 3/5; 10/24] END max_depth=5, n_estimators=150;, score=-2279.267 total time=   0.6s\n",
      "[CV 5/5; 11/24] START max_depth=5, n_estimators=200.............................\n",
      "[CV 5/5; 11/24] END max_depth=5, n_estimators=200;, score=-2106.027 total time=   0.8s\n",
      "[CV 1/5; 13/24] START max_depth=5, n_estimators=300.............................\n",
      "[CV 1/5; 13/24] END max_depth=5, n_estimators=300;, score=-2233.942 total time=   1.0s\n"
     ]
    },
    {
     "name": "stdout",
     "output_type": "stream",
     "text": [
      "[CV 5/5; 1/24] START max_depth=1, n_estimators=100..............................\n",
      "[CV 5/5; 1/24] END max_depth=1, n_estimators=100;, score=-1880.941 total time=   0.2s\n",
      "[CV 3/5; 3/24] START max_depth=1, n_estimators=200..............................\n",
      "[CV 3/5; 3/24] END max_depth=1, n_estimators=200;, score=-2174.029 total time=   0.3s\n",
      "[CV 1/5; 5/24] START max_depth=1, n_estimators=300..............................\n",
      "[CV 1/5; 5/24] END max_depth=1, n_estimators=300;, score=-2151.213 total time=   0.4s\n",
      "[CV 4/5; 6/24] START max_depth=1, n_estimators=350..............................\n",
      "[CV 4/5; 6/24] END max_depth=1, n_estimators=350;, score=-1961.181 total time=   0.5s\n",
      "[CV 3/5; 8/24] START max_depth=1, n_estimators=450..............................\n",
      "[CV 3/5; 8/24] END max_depth=1, n_estimators=450;, score=-2178.668 total time=   0.5s\n",
      "[CV 1/5; 10/24] START max_depth=5, n_estimators=150.............................\n",
      "[CV 1/5; 10/24] END max_depth=5, n_estimators=150;, score=-2194.014 total time=   0.6s\n",
      "[CV 3/5; 11/24] START max_depth=5, n_estimators=200.............................\n",
      "[CV 3/5; 11/24] END max_depth=5, n_estimators=200;, score=-2312.964 total time=   0.7s\n",
      "[CV 4/5; 12/24] START max_depth=5, n_estimators=250.............................\n",
      "[CV 4/5; 12/24] END max_depth=5, n_estimators=250;, score=-2058.289 total time=   0.8s\n",
      "[CV 4/5; 13/24] START max_depth=5, n_estimators=300.............................\n",
      "[CV 4/5; 13/24] END max_depth=5, n_estimators=300;, score=-2044.676 total time=   1.0s\n",
      "[CV 3/5; 14/24] START max_depth=5, n_estimators=350.............................\n",
      "[CV 3/5; 14/24] END max_depth=5, n_estimators=350;, score=-2377.019 total time=   1.2s\n",
      "[CV 5/5; 12/24] START max_depth=5, n_estimators=250.............................\n",
      "[CV 5/5; 12/24] END max_depth=5, n_estimators=250;, score=-2076.266 total time=   0.8s\n",
      "[CV 5/5; 14/24] START max_depth=5, n_estimators=350.............................\n",
      "[CV 5/5; 14/24] END max_depth=5, n_estimators=350;, score=-2116.515 total time=   1.2s\n",
      "[CV 4/5; 15/24] START max_depth=5, n_estimators=400.............................\n",
      "[CV 4/5; 15/24] END max_depth=5, n_estimators=400;, score=-2113.975 total time=   1.3s\n",
      "[CV 2/5; 17/24] START max_depth=10, n_estimators=100............................\n",
      "[CV 2/5; 17/24] END max_depth=10, n_estimators=100;, score=-3371.610 total time=   0.7s\n",
      "[CV 5/5; 17/24] START max_depth=10, n_estimators=100............................\n",
      "[CV 5/5; 17/24] END max_depth=10, n_estimators=100;, score=-2142.228 total time=   0.7s\n",
      "[CV 2/5; 19/24] START max_depth=10, n_estimators=200............................\n",
      "[CV 2/5; 19/24] END max_depth=10, n_estimators=200;, score=-3408.238 total time=   1.4s\n",
      "[CV 5/5; 13/24] START max_depth=5, n_estimators=300.............................\n",
      "[CV 5/5; 13/24] END max_depth=5, n_estimators=300;, score=-2067.001 total time=   1.2s\n",
      "[CV 5/5; 15/24] START max_depth=5, n_estimators=400.............................\n",
      "[CV 5/5; 15/24] END max_depth=5, n_estimators=400;, score=-2186.339 total time=   1.4s\n",
      "[CV 3/5; 17/24] START max_depth=10, n_estimators=100............................\n",
      "[CV 3/5; 17/24] END max_depth=10, n_estimators=100;, score=-2317.834 total time=   0.8s\n",
      "[CV 3/5; 18/24] START max_depth=10, n_estimators=150............................\n",
      "[CV 3/5; 18/24] END max_depth=10, n_estimators=150;, score=-2284.058 total time=   1.1s\n",
      "[CV 1/5; 20/24] START max_depth=10, n_estimators=250............................\n",
      "[CV 1/5; 20/24] END max_depth=10, n_estimators=250;, score=-2362.254 total time=   1.6s\n",
      "[CV 4/5; 14/24] START max_depth=5, n_estimators=350.............................\n",
      "[CV 4/5; 14/24] END max_depth=5, n_estimators=350;, score=-2152.312 total time=   1.2s\n",
      "[CV 1/5; 17/24] START max_depth=10, n_estimators=100............................\n",
      "[CV 1/5; 17/24] END max_depth=10, n_estimators=100;, score=-2293.351 total time=   0.7s\n",
      "[CV 4/5; 17/24] START max_depth=10, n_estimators=100............................\n",
      "[CV 4/5; 17/24] END max_depth=10, n_estimators=100;, score=-2041.911 total time=   0.6s\n",
      "[CV 2/5; 18/24] START max_depth=10, n_estimators=150............................\n",
      "[CV 2/5; 18/24] END max_depth=10, n_estimators=150;, score=-3364.158 total time=   1.1s\n",
      "[CV 5/5; 19/24] START max_depth=10, n_estimators=200............................\n",
      "[CV 5/5; 19/24] END max_depth=10, n_estimators=200;, score=-2090.024 total time=   1.3s\n",
      "[CV 2/5; 21/24] START max_depth=10, n_estimators=300............................\n",
      "[CV 2/5; 21/24] END max_depth=10, n_estimators=300;, score=-3387.392 total time=   1.9s\n",
      "[CV 1/5; 14/24] START max_depth=5, n_estimators=350.............................\n",
      "[CV 1/5; 14/24] END max_depth=5, n_estimators=350;, score=-2271.732 total time=   1.4s\n",
      "[CV 2/5; 16/24] START max_depth=5, n_estimators=450.............................\n",
      "[CV 2/5; 16/24] END max_depth=5, n_estimators=450;, score=-3399.059 total time=   1.6s\n",
      "[CV 1/5; 18/24] START max_depth=10, n_estimators=150............................\n",
      "[CV 1/5; 18/24] END max_depth=10, n_estimators=150;, score=-2273.322 total time=   1.1s\n",
      "[CV 3/5; 19/24] START max_depth=10, n_estimators=200............................\n",
      "[CV 3/5; 19/24] END max_depth=10, n_estimators=200;, score=-2361.852 total time=   1.3s\n",
      "[CV 5/5; 20/24] START max_depth=10, n_estimators=250............................\n",
      "[CV 5/5; 20/24] END max_depth=10, n_estimators=250;, score=-2144.120 total time=   1.6s\n",
      "[CV 3/5; 22/24] START max_depth=10, n_estimators=350............................\n",
      "[CV 3/5; 22/24] END max_depth=10, n_estimators=350;, score=-2478.423 total time=   2.1s\n",
      "[CV 2/5; 13/24] START max_depth=5, n_estimators=300.............................\n",
      "[CV 2/5; 13/24] END max_depth=5, n_estimators=300;, score=-3390.031 total time=   1.0s\n",
      "[CV 1/5; 15/24] START max_depth=5, n_estimators=400.............................\n",
      "[CV 1/5; 15/24] END max_depth=5, n_estimators=400;, score=-2240.613 total time=   1.6s\n",
      "[CV 3/5; 16/24] START max_depth=5, n_estimators=450.............................\n",
      "[CV 3/5; 16/24] END max_depth=5, n_estimators=450;, score=-2463.814 total time=   1.8s\n",
      "[CV 4/5; 18/24] START max_depth=10, n_estimators=150............................\n",
      "[CV 4/5; 18/24] END max_depth=10, n_estimators=150;, score=-2181.165 total time=   1.1s\n",
      "[CV 2/5; 20/24] START max_depth=10, n_estimators=250............................\n",
      "[CV 2/5; 20/24] END max_depth=10, n_estimators=250;, score=-3448.053 total time=   1.6s\n",
      "[CV 4/5; 21/24] START max_depth=10, n_estimators=300............................\n",
      "[CV 4/5; 21/24] END max_depth=10, n_estimators=300;, score=-2286.876 total time=   1.9s\n",
      "[CV 5/5; 22/24] START max_depth=10, n_estimators=350............................\n",
      "[CV 5/5; 22/24] END max_depth=10, n_estimators=350;, score=-2230.776 total time=   2.2s\n",
      "[CV 3/5; 13/24] START max_depth=5, n_estimators=300.............................\n",
      "[CV 3/5; 13/24] END max_depth=5, n_estimators=300;, score=-2405.723 total time=   1.0s\n",
      "[CV 3/5; 15/24] START max_depth=5, n_estimators=400.............................\n",
      "[CV 3/5; 15/24] END max_depth=5, n_estimators=400;, score=-2442.054 total time=   1.4s\n",
      "[CV 4/5; 16/24] START max_depth=5, n_estimators=450.............................\n",
      "[CV 4/5; 16/24] END max_depth=5, n_estimators=450;, score=-2124.322 total time=   1.6s\n",
      "[CV 5/5; 18/24] START max_depth=10, n_estimators=150............................\n",
      "[CV 5/5; 18/24] END max_depth=10, n_estimators=150;, score=-2110.452 total time=   1.1s\n",
      "[CV 3/5; 20/24] START max_depth=10, n_estimators=250............................\n",
      "[CV 3/5; 20/24] END max_depth=10, n_estimators=250;, score=-2350.191 total time=   1.6s\n",
      "[CV 5/5; 21/24] START max_depth=10, n_estimators=300............................\n",
      "[CV 5/5; 21/24] END max_depth=10, n_estimators=300;, score=-2199.457 total time=   1.9s\n",
      "[CV 1/5; 23/24] START max_depth=10, n_estimators=400............................\n",
      "[CV 1/5; 23/24] END max_depth=10, n_estimators=400;, score=-2381.918 total time=   2.5s\n",
      "[CV 1/5; 12/24] START max_depth=5, n_estimators=250.............................\n",
      "[CV 1/5; 12/24] END max_depth=5, n_estimators=250;, score=-2226.875 total time=   0.8s\n",
      "[CV 2/5; 14/24] START max_depth=5, n_estimators=350.............................\n",
      "[CV 2/5; 14/24] END max_depth=5, n_estimators=350;, score=-3386.557 total time=   1.2s\n",
      "[CV 2/5; 15/24] START max_depth=5, n_estimators=400.............................\n",
      "[CV 2/5; 15/24] END max_depth=5, n_estimators=400;, score=-3368.847 total time=   1.5s\n",
      "[CV 5/5; 16/24] START max_depth=5, n_estimators=450.............................\n",
      "[CV 5/5; 16/24] END max_depth=5, n_estimators=450;, score=-2186.364 total time=   1.7s\n",
      "[CV 1/5; 19/24] START max_depth=10, n_estimators=200............................\n",
      "[CV 1/5; 19/24] END max_depth=10, n_estimators=200;, score=-2266.044 total time=   1.4s\n",
      "[CV 4/5; 20/24] START max_depth=10, n_estimators=250............................\n",
      "[CV 4/5; 20/24] END max_depth=10, n_estimators=250;, score=-2191.498 total time=   1.7s\n",
      "[CV 1/5; 22/24] START max_depth=10, n_estimators=350............................\n",
      "[CV 1/5; 22/24] END max_depth=10, n_estimators=350;, score=-2306.792 total time=   2.2s\n",
      "[CV 3/5; 23/24] START max_depth=10, n_estimators=400............................\n",
      "[CV 3/5; 23/24] END max_depth=10, n_estimators=400;, score=-2392.656 total time=   2.5s\n"
     ]
    },
    {
     "name": "stdout",
     "output_type": "stream",
     "text": [
      "[CV 1/5; 16/24] START max_depth=5, n_estimators=450.............................\n",
      "[CV 1/5; 16/24] END max_depth=5, n_estimators=450;, score=-2291.383 total time=   1.7s\n",
      "[CV 4/5; 19/24] START max_depth=10, n_estimators=200............................\n",
      "[CV 4/5; 19/24] END max_depth=10, n_estimators=200;, score=-2182.861 total time=   1.4s\n",
      "[CV 1/5; 21/24] START max_depth=10, n_estimators=300............................\n",
      "[CV 1/5; 21/24] END max_depth=10, n_estimators=300;, score=-2391.217 total time=   1.8s\n",
      "[CV 4/5; 22/24] START max_depth=10, n_estimators=350............................\n",
      "[CV 4/5; 22/24] END max_depth=10, n_estimators=350;, score=-2251.729 total time=   2.2s\n",
      "[CV 5/5; 23/24] START max_depth=10, n_estimators=400............................\n",
      "[CV 5/5; 23/24] END max_depth=10, n_estimators=400;, score=-2264.542 total time=   2.4s\n",
      "[Pipeline] ......... (step 2 of 2) Processing regressor, total=  22.7s\n",
      "CPU times: user 3.77 s, sys: 1.15 s, total: 4.93 s\n",
      "Wall time: 22.8 s\n"
     ]
    },
    {
     "data": {
      "text/plain": [
       "Pipeline(steps=[('preprocess',\n",
       "                 ColumnTransformer(transformers=[('cat',\n",
       "                                                  OneHotEncoder(handle_unknown='ignore'),\n",
       "                                                  ['f_property_type',\n",
       "                                                   'f_bathroom',\n",
       "                                                   'f_neighbourhood_cleansed']),\n",
       "                                                 ('num', 'passthrough',\n",
       "                                                  ['n_accommodates', 'n_beds',\n",
       "                                                   'n_days_since',\n",
       "                                                   'n_number_of_reviews',\n",
       "                                                   'flag_n_number_of_reviews',\n",
       "                                                   'n_review_scores_rating',\n",
       "                                                   'flag_review_scores_rating',\n",
       "                                                   'd_airconditioni...\n",
       "                                                   'd_dishesandsilverware',\n",
       "                                                   'd_paidparkingoffpremises',\n",
       "                                                   'd_iron', 'd_hotwaterkettle', ...])])),\n",
       "                ('regressor',\n",
       "                 GridSearchCV(cv=5,\n",
       "                              estimator=GradientBoostingRegressor(max_features=10,\n",
       "                                                                  min_samples_split=20,\n",
       "                                                                  n_estimators=50),\n",
       "                              n_jobs=-1,\n",
       "                              param_grid={'max_depth': [1, 5, 10],\n",
       "                                          'n_estimators': [100, 150, 200, 250,\n",
       "                                                           300, 350, 400,\n",
       "                                                           450]},\n",
       "                              scoring='neg_root_mean_squared_error',\n",
       "                              verbose=10))],\n",
       "         verbose=True)"
      ]
     },
     "execution_count": 76,
     "metadata": {},
     "output_type": "execute_result"
    }
   ],
   "source": [
    "%%time\n",
    "gbm_pipe.fit(data_train[predictors_2],data_train.price)"
   ]
  },
  {
   "cell_type": "code",
   "execution_count": 77,
   "id": "f89a8234",
   "metadata": {
    "scrolled": true
   },
   "outputs": [
    {
     "data": {
      "text/plain": [
       "{'mean_fit_time': array([0.14317975, 0.20234866, 0.25692563, 0.30033684, 0.3781652 ,\n",
       "        0.46410122, 0.57277608, 0.49460859, 0.43547163, 0.61925712,\n",
       "        0.73259826, 0.82053642, 1.00430589, 1.2046216 , 1.43143821,\n",
       "        1.62497964, 0.68553419, 1.05286245, 1.32024703, 1.57955937,\n",
       "        1.83584194, 2.12384686, 2.43503294, 2.15994859]),\n",
       " 'std_fit_time': array([0.00855894, 0.01470547, 0.01440694, 0.02397334, 0.02614114,\n",
       "        0.0382031 , 0.01801946, 0.03459655, 0.06711111, 0.03094433,\n",
       "        0.01867894, 0.02647677, 0.07365749, 0.06771901, 0.10227885,\n",
       "        0.05847717, 0.04000374, 0.01529858, 0.03487051, 0.03516472,\n",
       "        0.03523825, 0.04195031, 0.03090121, 0.18008248]),\n",
       " 'mean_score_time': array([0.01552205, 0.01708131, 0.01296816, 0.01122332, 0.01297631,\n",
       "        0.02212501, 0.01728616, 0.0152164 , 0.01795754, 0.01592555,\n",
       "        0.01743817, 0.01676908, 0.01903381, 0.02728186, 0.03041196,\n",
       "        0.0299953 , 0.01940937, 0.02327433, 0.02676234, 0.03228526,\n",
       "        0.04000564, 0.04286938, 0.04327087, 0.04012189]),\n",
       " 'std_score_time': array([0.00625856, 0.00465501, 0.00279817, 0.00234942, 0.00387731,\n",
       "        0.00975717, 0.00401407, 0.00521561, 0.00644456, 0.00389094,\n",
       "        0.00294362, 0.00099828, 0.0018887 , 0.0052557 , 0.00536381,\n",
       "        0.00381217, 0.00243166, 0.00168387, 0.00300087, 0.00294015,\n",
       "        0.00299183, 0.0023497 , 0.00576512, 0.00156485]),\n",
       " 'param_max_depth': masked_array(data=[1, 1, 1, 1, 1, 1, 1, 1, 5, 5, 5, 5, 5, 5, 5, 5, 10, 10,\n",
       "                    10, 10, 10, 10, 10, 10],\n",
       "              mask=[False, False, False, False, False, False, False, False,\n",
       "                    False, False, False, False, False, False, False, False,\n",
       "                    False, False, False, False, False, False, False, False],\n",
       "        fill_value='?',\n",
       "             dtype=object),\n",
       " 'param_n_estimators': masked_array(data=[100, 150, 200, 250, 300, 350, 400, 450, 100, 150, 200,\n",
       "                    250, 300, 350, 400, 450, 100, 150, 200, 250, 300, 350,\n",
       "                    400, 450],\n",
       "              mask=[False, False, False, False, False, False, False, False,\n",
       "                    False, False, False, False, False, False, False, False,\n",
       "                    False, False, False, False, False, False, False, False],\n",
       "        fill_value='?',\n",
       "             dtype=object),\n",
       " 'params': [{'max_depth': 1, 'n_estimators': 100},\n",
       "  {'max_depth': 1, 'n_estimators': 150},\n",
       "  {'max_depth': 1, 'n_estimators': 200},\n",
       "  {'max_depth': 1, 'n_estimators': 250},\n",
       "  {'max_depth': 1, 'n_estimators': 300},\n",
       "  {'max_depth': 1, 'n_estimators': 350},\n",
       "  {'max_depth': 1, 'n_estimators': 400},\n",
       "  {'max_depth': 1, 'n_estimators': 450},\n",
       "  {'max_depth': 5, 'n_estimators': 100},\n",
       "  {'max_depth': 5, 'n_estimators': 150},\n",
       "  {'max_depth': 5, 'n_estimators': 200},\n",
       "  {'max_depth': 5, 'n_estimators': 250},\n",
       "  {'max_depth': 5, 'n_estimators': 300},\n",
       "  {'max_depth': 5, 'n_estimators': 350},\n",
       "  {'max_depth': 5, 'n_estimators': 400},\n",
       "  {'max_depth': 5, 'n_estimators': 450},\n",
       "  {'max_depth': 10, 'n_estimators': 100},\n",
       "  {'max_depth': 10, 'n_estimators': 150},\n",
       "  {'max_depth': 10, 'n_estimators': 200},\n",
       "  {'max_depth': 10, 'n_estimators': 250},\n",
       "  {'max_depth': 10, 'n_estimators': 300},\n",
       "  {'max_depth': 10, 'n_estimators': 350},\n",
       "  {'max_depth': 10, 'n_estimators': 400},\n",
       "  {'max_depth': 10, 'n_estimators': 450}],\n",
       " 'split0_test_score': array([-2150.67522256, -2149.9034945 , -2150.96388273, -2149.25457205,\n",
       "        -2151.21307541, -2150.39699988, -2151.38488446, -2151.81741406,\n",
       "        -2182.61142609, -2194.01401762, -2209.89479149, -2226.87540403,\n",
       "        -2233.94196382, -2271.73198701, -2240.61324235, -2291.38251123,\n",
       "        -2293.35053875, -2273.32169669, -2266.04404287, -2362.25419163,\n",
       "        -2391.21713002, -2306.79216494, -2381.91798935, -2354.23291555]),\n",
       " 'split1_test_score': array([-3277.15500382, -3279.82110127, -3277.90833043, -3279.10507361,\n",
       "        -3278.85105299, -3278.47176299, -3279.8476778 , -3279.60494713,\n",
       "        -3330.5768209 , -3357.49990162, -3349.96572952, -3379.23846952,\n",
       "        -3390.0307512 , -3386.55672617, -3368.84702738, -3399.05931532,\n",
       "        -3371.61020407, -3364.15786254, -3408.23783198, -3448.05327952,\n",
       "        -3387.39164426, -3436.52800225, -3416.52269379, -3406.04664911]),\n",
       " 'split2_test_score': array([-2168.82431947, -2172.05047649, -2174.02855541, -2174.83010567,\n",
       "        -2176.52415524, -2177.63570823, -2178.09927644, -2178.66837987,\n",
       "        -2278.24657054, -2279.26652504, -2312.96437683, -2362.919714  ,\n",
       "        -2405.72260644, -2377.0194968 , -2442.05403729, -2463.81427196,\n",
       "        -2317.83414183, -2284.05822246, -2361.8524791 , -2350.19144837,\n",
       "        -2376.52603107, -2478.42265066, -2392.65552755, -2472.87092914]),\n",
       " 'split3_test_score': array([-1952.76331311, -1952.68211095, -1956.39213399, -1957.2423067 ,\n",
       "        -1959.10122218, -1961.18100214, -1962.68996876, -1962.54982054,\n",
       "        -2028.13293115, -2082.08145402, -1999.98994022, -2058.28888618,\n",
       "        -2044.67614778, -2152.31155166, -2113.97522108, -2124.32168881,\n",
       "        -2041.9109102 , -2181.16460983, -2182.86144899, -2191.4983031 ,\n",
       "        -2286.87624389, -2251.72944736, -2310.48570922, -2277.28861622]),\n",
       " 'split4_test_score': array([-1880.94071433, -1877.92370372, -1876.70323848, -1877.46350575,\n",
       "        -1878.55285812, -1878.16417583, -1878.44300253, -1878.64637698,\n",
       "        -1985.67990432, -2022.40616426, -2106.02682276, -2076.26629872,\n",
       "        -2067.00080344, -2116.51536842, -2186.33927054, -2186.36369632,\n",
       "        -2142.22759184, -2110.45191579, -2090.0240505 , -2144.11977347,\n",
       "        -2199.45748902, -2230.77642232, -2264.5415739 , -2190.63776486]),\n",
       " 'mean_test_score': array([-2286.07171466, -2286.47617738, -2287.19922821, -2287.57911276,\n",
       "        -2288.84847279, -2289.16992981, -2290.092962  , -2290.25738772,\n",
       "        -2361.0495306 , -2387.05361251, -2395.76833216, -2420.71775449,\n",
       "        -2428.27445454, -2460.82702601, -2470.36575973, -2492.98829673,\n",
       "        -2433.38667734, -2442.63086146, -2461.80397069, -2499.22339922,\n",
       "        -2528.29370765, -2540.8497375 , -2553.22469876, -2540.21537498]),\n",
       " 'std_test_score': array([507.84857306, 509.27656122, 508.096937  , 508.38705034,\n",
       "        507.68909865, 507.32995028, 507.55203141, 507.39377214,\n",
       "        496.06763097, 493.27966113, 488.36232842, 491.86968222,\n",
       "        498.17972438, 471.9085566 , 462.28597724, 467.41724842,\n",
       "        479.84430475, 465.13016275, 481.68008954, 482.08765754,\n",
       "        435.03754573, 456.21390714, 434.20549036, 442.74677432]),\n",
       " 'rank_test_score': array([ 1,  2,  3,  4,  5,  6,  7,  8,  9, 10, 11, 12, 13, 16, 18, 19, 14,\n",
       "        15, 17, 20, 21, 23, 24, 22], dtype=int32)}"
      ]
     },
     "execution_count": 77,
     "metadata": {},
     "output_type": "execute_result"
    }
   ],
   "source": [
    "gbm_model_cv.cv_results_"
   ]
  },
  {
   "cell_type": "code",
   "execution_count": 78,
   "id": "ef5f8d95",
   "metadata": {},
   "outputs": [
    {
     "data": {
      "text/plain": [
       "GradientBoostingRegressor(max_depth=1, max_features=10, min_samples_split=20)"
      ]
     },
     "execution_count": 78,
     "metadata": {},
     "output_type": "execute_result"
    }
   ],
   "source": [
    "gbm_model_cv.best_estimator_"
   ]
  },
  {
   "cell_type": "code",
   "execution_count": 79,
   "id": "dde95cda",
   "metadata": {
    "scrolled": false
   },
   "outputs": [
    {
     "data": {
      "text/plain": [
       "2286.071714658638"
      ]
     },
     "execution_count": 79,
     "metadata": {},
     "output_type": "execute_result"
    }
   ],
   "source": [
    "gbm_rmse = gbm_model_cv.best_score_*-1\n",
    "gbm_rmse"
   ]
  },
  {
   "cell_type": "markdown",
   "id": "26e2f3cc",
   "metadata": {},
   "source": [
    "Comparing model results on CV RMSE."
   ]
  },
  {
   "cell_type": "code",
   "execution_count": 80,
   "id": "01a43753",
   "metadata": {},
   "outputs": [
    {
     "data": {
      "text/html": [
       "<div>\n",
       "<style scoped>\n",
       "    .dataframe tbody tr th:only-of-type {\n",
       "        vertical-align: middle;\n",
       "    }\n",
       "\n",
       "    .dataframe tbody tr th {\n",
       "        vertical-align: top;\n",
       "    }\n",
       "\n",
       "    .dataframe thead th {\n",
       "        text-align: right;\n",
       "    }\n",
       "</style>\n",
       "<table border=\"1\" class=\"dataframe\">\n",
       "  <thead>\n",
       "    <tr style=\"text-align: right;\">\n",
       "      <th></th>\n",
       "      <th>model</th>\n",
       "      <th>CV RMSE</th>\n",
       "    </tr>\n",
       "  </thead>\n",
       "  <tbody>\n",
       "    <tr>\n",
       "      <th>0</th>\n",
       "      <td>OLS</td>\n",
       "      <td>2316.540192</td>\n",
       "    </tr>\n",
       "    <tr>\n",
       "      <th>1</th>\n",
       "      <td>LASSO</td>\n",
       "      <td>2304.678268</td>\n",
       "    </tr>\n",
       "    <tr>\n",
       "      <th>2</th>\n",
       "      <td>CART</td>\n",
       "      <td>3179.267903</td>\n",
       "    </tr>\n",
       "    <tr>\n",
       "      <th>3</th>\n",
       "      <td>Random Forest</td>\n",
       "      <td>2273.784075</td>\n",
       "    </tr>\n",
       "    <tr>\n",
       "      <th>4</th>\n",
       "      <td>GBM</td>\n",
       "      <td>2286.071715</td>\n",
       "    </tr>\n",
       "  </tbody>\n",
       "</table>\n",
       "</div>"
      ],
      "text/plain": [
       "           model      CV RMSE\n",
       "0            OLS  2316.540192\n",
       "1          LASSO  2304.678268\n",
       "2           CART  3179.267903\n",
       "3  Random Forest  2273.784075\n",
       "4            GBM  2286.071715"
      ]
     },
     "execution_count": 80,
     "metadata": {},
     "output_type": "execute_result"
    }
   ],
   "source": [
    "pd.DataFrame({'model': ['OLS', 'LASSO', 'CART', 'Random Forest', 'GBM'],\n",
    "              'CV RMSE': [ols_rmse, lasso_rmse, cart_rmse, rf_model_rmse, gbm_rmse]})"
   ]
  },
  {
   "cell_type": "markdown",
   "id": "3c2a135c",
   "metadata": {},
   "source": [
    "## Part 4: Model Diagnostics for Random Forest"
   ]
  },
  {
   "cell_type": "markdown",
   "id": "f91691f2",
   "metadata": {},
   "source": [
    "### Variable Importance"
   ]
  },
  {
   "cell_type": "code",
   "execution_count": 81,
   "id": "cc279568",
   "metadata": {},
   "outputs": [],
   "source": [
    "rf_model_var_imp_df = (\n",
    "    pd.DataFrame(\n",
    "        rf_model.best_estimator_.feature_importances_, X.design_info.column_names\n",
    "    )\n",
    "    .reset_index()\n",
    "    .rename({\"index\": \"varname\", 0: \"imp\"}, axis=1)\n",
    "    .assign(\n",
    "        imp_percentage=lambda x: x[\"imp\"] / x[\"imp\"].sum(),\n",
    "        varname=lambda x: x.varname.str.replace(\n",
    "            \"f_room_type[T.\", \"Room type:\", regex=False\n",
    "        )\n",
    "        .str.replace(\"f_neighbourhood_cleansed[T.\", \"Borough:\", regex=False)\n",
    "        .str.replace(\"]\", \"\", regex=False),\n",
    "    )\n",
    "    .sort_values(by=[\"imp\"], ascending=False)\n",
    ")"
   ]
  },
  {
   "cell_type": "markdown",
   "id": "5982b5b5",
   "metadata": {},
   "source": [
    "1. ***full variable importance plot, above a cutoff***"
   ]
  },
  {
   "cell_type": "code",
   "execution_count": 84,
   "id": "3400390e",
   "metadata": {},
   "outputs": [
    {
     "data": {
      "image/png": "[encoded data removed]",
      "text/plain": [
       "<Figure size 640x480 with 1 Axes>"
      ]
     },
     "metadata": {},
     "output_type": "display_data"
    },
    {
     "data": {
      "text/plain": [
       "<ggplot: (8773054837357)>"
      ]
     },
     "execution_count": 84,
     "metadata": {},
     "output_type": "execute_result"
    }
   ],
   "source": [
    "cutoff = 0.013\n",
    "\n",
    "color_palette = [\"blue\"]\n",
    "\n",
    "rf_model_var_imp_plot = (\n",
    "    ggplot(\n",
    "        rf_model_var_imp_df.loc[lambda x: x.imp > cutoff],\n",
    "        aes(x=\"reorder(varname, imp)\", y=\"imp_percentage\"),\n",
    "    )\n",
    "    + geom_point(color=color_palette[0], size=2.5)\n",
    "    + geom_segment(\n",
    "        aes(x=\"varname\", xend=\"varname\", y=0, yend=\"imp_percentage\"),\n",
    "        color=color_palette[0],\n",
    "        size=2,\n",
    "    )\n",
    "    + ylab(\"Importance (Percent)\")\n",
    "    + xlab(\"Variable Name\")\n",
    "    + coord_flip()\n",
    "    + scale_y_continuous(labels=percent_format())\n",
    "    + theme_bw()\n",
    ")\n",
    "rf_model_var_imp_plot"
   ]
  },
  {
   "cell_type": "markdown",
   "id": "84018e1d",
   "metadata": {},
   "source": [
    "2. ***full variable importance plot, top 10 only***"
   ]
  },
  {
   "cell_type": "code",
   "execution_count": 85,
   "id": "66ec0fdb",
   "metadata": {},
   "outputs": [
    {
     "data": {
      "image/png": "[encoded data removed]",
      "text/plain": [
       "<Figure size 640x480 with 1 Axes>"
      ]
     },
     "metadata": {},
     "output_type": "display_data"
    },
    {
     "data": {
      "text/plain": [
       "<ggplot: (8772999866393)>"
      ]
     },
     "execution_count": 85,
     "metadata": {},
     "output_type": "execute_result"
    }
   ],
   "source": [
    "(\n",
    "    ggplot(\n",
    "        rf_model_var_imp_df.iloc[:10, :],\n",
    "        aes(x=\"reorder(varname, imp)\", y=\"imp_percentage\"),\n",
    "    )\n",
    "    + geom_point(color=color_palette[0], size=2.5)\n",
    "    + geom_segment(\n",
    "        aes(x=\"varname\", xend=\"varname\", y=0, yend=\"imp_percentage\"),\n",
    "        color=color_palette[0],\n",
    "        size=2,\n",
    "    )\n",
    "    + ylab(\"Importance (Percent)\")\n",
    "    + xlab(\"Variable Name\")\n",
    "    + coord_flip()\n",
    "    + scale_y_continuous(labels=percent_format())\n",
    "    + theme_bw()\n",
    ")"
   ]
  },
  {
   "cell_type": "markdown",
   "id": "96f58e8e",
   "metadata": {},
   "source": [
    "3. ***grouped variable importance - keep binaries created off factors together***"
   ]
  },
  {
   "cell_type": "code",
   "execution_count": 86,
   "id": "b0c70206",
   "metadata": {},
   "outputs": [],
   "source": [
    "categorical_columns = [col for col in predictors_2 if col.startswith(\"f_\")]\n",
    "numerical_columns = [col for col in predictors_2 if col not in categorical_columns]"
   ]
  },
  {
   "cell_type": "code",
   "execution_count": 87,
   "id": "3193e631",
   "metadata": {},
   "outputs": [],
   "source": [
    "categorical_encoder = OneHotEncoder(handle_unknown=\"ignore\")\n",
    "\n",
    "preprocessing = ColumnTransformer(\n",
    "    [\n",
    "        (\"cat\", categorical_encoder, categorical_columns),\n",
    "        (\"num\", \"passthrough\", numerical_columns),\n",
    "    ]\n",
    ")\n",
    "\n",
    "rf_best_pipeline = Pipeline(\n",
    "    [\n",
    "        (\"preprocess\", preprocessing),\n",
    "        (\"regressor\", rf_model.best_estimator_),  # put best model to pipeline\n",
    "    ]\n",
    ")"
   ]
  },
  {
   "cell_type": "code",
   "execution_count": 88,
   "id": "96ed870a",
   "metadata": {},
   "outputs": [
    {
     "data": {
      "text/plain": [
       "Pipeline(steps=[('preprocess',\n",
       "                 ColumnTransformer(transformers=[('cat',\n",
       "                                                  OneHotEncoder(handle_unknown='ignore'),\n",
       "                                                  ['f_property_type',\n",
       "                                                   'f_bathroom',\n",
       "                                                   'f_neighbourhood_cleansed']),\n",
       "                                                 ('num', 'passthrough',\n",
       "                                                  ['n_accommodates', 'n_beds',\n",
       "                                                   'n_days_since',\n",
       "                                                   'n_number_of_reviews',\n",
       "                                                   'flag_n_number_of_reviews',\n",
       "                                                   'n_review_scores_rating',\n",
       "                                                   'flag_review_scores_rating',\n",
       "                                                   'd_airconditioni...\n",
       "                                                   'd_hotwater', 'd_kitchen',\n",
       "                                                   'd_tv', 'd_smokealarm',\n",
       "                                                   'd_fireextinguisher',\n",
       "                                                   'd_dedicatedworkspace',\n",
       "                                                   'd_elevator',\n",
       "                                                   'd_refrigerator',\n",
       "                                                   'd_privateentrance',\n",
       "                                                   'd_carbonmonoxidealarm',\n",
       "                                                   'd_heating',\n",
       "                                                   'd_dishesandsilverware',\n",
       "                                                   'd_paidparkingoffpremises',\n",
       "                                                   'd_iron', 'd_hotwaterkettle', ...])])),\n",
       "                ('regressor',\n",
       "                 RandomForestRegressor(max_features=8, min_samples_leaf=5,\n",
       "                                       random_state=42))])"
      ]
     },
     "execution_count": 88,
     "metadata": {},
     "output_type": "execute_result"
    }
   ],
   "source": [
    "rf_best_pipeline.fit(data_train[predictors_2], data_train.price)"
   ]
  },
  {
   "cell_type": "markdown",
   "id": "838a964b",
   "metadata": {},
   "source": [
    "Permutation feature importance overcomes limitations of the impurity-based feature importance: they do not have a bias toward high-cardinality features and can be computed on a left-out test set."
   ]
  },
  {
   "cell_type": "code",
   "execution_count": 89,
   "id": "0b0174c9",
   "metadata": {},
   "outputs": [
    {
     "name": "stdout",
     "output_type": "stream",
     "text": [
      "[CV 4/5; 24/24] START max_depth=10, n_estimators=450............................\n",
      "[CV 4/5; 24/24] END max_depth=10, n_estimators=450;, score=-2277.289 total time=   2.0s\n",
      "[CV 2/5; 22/24] START max_depth=10, n_estimators=350............................\n",
      "[CV 2/5; 22/24] END max_depth=10, n_estimators=350;, score=-3436.528 total time=   2.2s\n",
      "[CV 2/5; 24/24] START max_depth=10, n_estimators=450............................\n",
      "[CV 2/5; 24/24] END max_depth=10, n_estimators=450;, score=-3406.047 total time=   2.5s\n",
      "[CV 2/5; 23/24] START max_depth=10, n_estimators=400............................\n",
      "[CV 2/5; 23/24] END max_depth=10, n_estimators=400;, score=-3416.523 total time=   2.4s\n",
      "[CV 3/5; 21/24] START max_depth=10, n_estimators=300............................\n",
      "[CV 3/5; 21/24] END max_depth=10, n_estimators=300;, score=-2376.526 total time=   1.9s\n",
      "[CV 4/5; 23/24] START max_depth=10, n_estimators=400............................\n",
      "[CV 4/5; 23/24] END max_depth=10, n_estimators=400;, score=-2310.486 total time=   2.5s\n",
      "[CV 5/5; 24/24] START max_depth=10, n_estimators=450............................\n",
      "[CV 5/5; 24/24] END max_depth=10, n_estimators=450;, score=-2190.638 total time=   2.2s\n",
      "[CV 3/5; 24/24] START max_depth=10, n_estimators=450............................\n",
      "[CV 3/5; 24/24] END max_depth=10, n_estimators=450;, score=-2472.871 total time=   2.0s\n",
      "[CV 1/5; 24/24] START max_depth=10, n_estimators=450............................\n",
      "[CV 1/5; 24/24] END max_depth=10, n_estimators=450;, score=-2354.233 total time=   2.3s\n"
     ]
    }
   ],
   "source": [
    "result = permutation_importance(\n",
    "    rf_best_pipeline,\n",
    "    data_train[predictors_2],\n",
    "    data_train.price,\n",
    "    n_repeats=10,\n",
    "    random_state=45,\n",
    "    n_jobs=-1,\n",
    ")"
   ]
  },
  {
   "cell_type": "code",
   "execution_count": 90,
   "id": "6f8710d8",
   "metadata": {},
   "outputs": [],
   "source": [
    "grouped = [\n",
    "    \"f_property_type\",\n",
    "    \"f_bathroom\",\n",
    "    \"n_days_since\",\n",
    "    \"n_accommodates\",\n",
    "    \"n_beds\",\n",
    "    \"f_neighbourhood_cleansed\",\n",
    "]\n",
    "grouped_imp = (\n",
    "    pd.DataFrame(result.importances_mean, data_train[predictors_2].columns)\n",
    "    .loc[grouped]\n",
    "    .reset_index()\n",
    "    .rename({\"index\": \"varname\", 0: \"imp\"}, axis=1)\n",
    "    .assign(imp_percentage=lambda x: x[\"imp\"] / x[\"imp\"].sum())\n",
    "    .sort_values(by=[\"imp\"], ascending=False)\n",
    ")"
   ]
  },
  {
   "cell_type": "code",
   "execution_count": 91,
   "id": "3a38a46d",
   "metadata": {
    "scrolled": false
   },
   "outputs": [
    {
     "data": {
      "image/png": "[encoded data removed]",
      "text/plain": [
       "<Figure size 640x480 with 1 Axes>"
      ]
     },
     "metadata": {},
     "output_type": "display_data"
    },
    {
     "data": {
      "text/plain": [
       "<ggplot: (8773055236994)>"
      ]
     },
     "execution_count": 91,
     "metadata": {},
     "output_type": "execute_result"
    }
   ],
   "source": [
    "(\n",
    "    ggplot(\n",
    "        grouped_imp,\n",
    "        aes(x=\"reorder(varname, imp)\", y=\"imp_percentage\"),\n",
    "    )\n",
    "    + geom_point(color=color_palette[0], size=2.5)\n",
    "    + geom_segment(\n",
    "        aes(x=\"varname\", xend=\"varname\", y=0, yend=\"imp_percentage\"),\n",
    "        color=color_palette[0],\n",
    "        size=2,\n",
    "    )\n",
    "    + ylab(\"Importance (Percent)\")\n",
    "    + xlab(\"Variable Name\")\n",
    "    + coord_flip()\n",
    "    + scale_y_continuous(labels=percent_format())\n",
    "    + theme_bw()\n",
    ")"
   ]
  },
  {
   "cell_type": "markdown",
   "id": "7d550c9e",
   "metadata": {},
   "source": [
    "### Partial Dependence Plots"
   ]
  },
  {
   "cell_type": "markdown",
   "id": "968ad2d0",
   "metadata": {},
   "source": [
    "Do this on holdout set!\n",
    "\n",
    "Partial Dependence Plots show how average y differs for different values of x when all the other x values are the same."
   ]
  },
  {
   "cell_type": "code",
   "execution_count": 92,
   "id": "db5229df",
   "metadata": {},
   "outputs": [
    {
     "data": {
      "image/png": "[encoded data removed]",
      "text/plain": [
       "<Figure size 640x480 with 2 Axes>"
      ]
     },
     "metadata": {},
     "output_type": "display_data"
    }
   ],
   "source": [
    "plot_partial_dependence(\n",
    "    rf_best_pipeline,\n",
    "    data_holdout[predictors_2],\n",
    "    [\"n_accommodates\"],\n",
    "    feature_names=data_holdout[predictors_2].columns,\n",
    "    line_kw={\"marker\": \"o\", \"color\": color_palette[0]},\n",
    ")\n",
    "plt.grid()\n",
    "plt.ylim(600, 800)\n",
    "plt.show()"
   ]
  },
  {
   "cell_type": "code",
   "execution_count": 93,
   "id": "fa8a505f",
   "metadata": {},
   "outputs": [
    {
     "data": {
      "image/png": "[encoded data removed]",
      "text/plain": [
       "<Figure size 640x480 with 1 Axes>"
      ]
     },
     "metadata": {},
     "output_type": "display_data"
    },
    {
     "data": {
      "text/plain": [
       "<ggplot: (8773017585297)>"
      ]
     },
     "execution_count": 93,
     "metadata": {},
     "output_type": "execute_result"
    }
   ],
   "source": [
    "# replicate the figure with plotnine\n",
    "accom_pdp = partial_dependence(\n",
    "    rf_best_pipeline, data_holdout[predictors_2], [\"n_accommodates\"], kind=\"average\"\n",
    ")\n",
    "\n",
    "accom_pdp = (\n",
    "    pd.DataFrame(accom_pdp[\"average\"], columns=accom_pdp[\"values\"][0].tolist())\n",
    "    .T.reset_index()\n",
    "    .rename({0: \"Predicted price\", \"index\": \"Accomodates (person)\"}, axis=1)\n",
    ")\n",
    "\n",
    "(\n",
    "    ggplot(accom_pdp, aes(x=\"Accomodates (person)\", y=\"Predicted price\"))\n",
    "    + geom_point(color=color_palette[0], size=2)\n",
    "    + geom_line(color=color_palette[0], size=1)\n",
    "    + scale_y_continuous(limits=[600, 800], breaks=np.arange(600, 810, 50))\n",
    "    + scale_x_continuous(breaks=range(1, 8))\n",
    "    + theme_bw()\n",
    ")"
   ]
  },
  {
   "cell_type": "markdown",
   "id": "5bf189e1",
   "metadata": {},
   "source": [
    "Partial Dependence Plots can also be used to study the heterogeneity if the predictor is category variable."
   ]
  },
  {
   "cell_type": "code",
   "execution_count": 94,
   "id": "07b64609",
   "metadata": {},
   "outputs": [
    {
     "data": {
      "image/png": "[encoded data removed]",
      "text/plain": [
       "<Figure size 640x480 with 1 Axes>"
      ]
     },
     "metadata": {},
     "output_type": "display_data"
    },
    {
     "data": {
      "text/plain": [
       "<ggplot: (8773017586210)>"
      ]
     },
     "execution_count": 94,
     "metadata": {},
     "output_type": "execute_result"
    }
   ],
   "source": [
    "protype_pdp = partial_dependence(\n",
    "    rf_best_pipeline, data_holdout[predictors_2], [\"f_property_type\"], kind=\"average\"\n",
    ")\n",
    "\n",
    "protype_pdp = (\n",
    "    pd.DataFrame(protype_pdp[\"average\"], columns=protype_pdp[\"values\"][0].tolist())\n",
    "    .T.reset_index()\n",
    "    .rename({0: \"Predicted price\", \"index\": \"Property type\"}, axis=1)\n",
    ")\n",
    "\n",
    "(\n",
    "    ggplot(protype_pdp, aes(x=\"Property type\", y=\"Predicted price\"))\n",
    "    + geom_point(color=color_palette[0], size=3)\n",
    "    + scale_y_continuous(limits=[600, 700], breaks=np.arange(600, 710, 10))\n",
    "    + theme(axis_text_x=element_text(size=6, angle=45))\n",
    "    + theme_bw()\n",
    ")"
   ]
  },
  {
   "cell_type": "markdown",
   "id": "50eb3ef7",
   "metadata": {},
   "source": [
    "### Subsample performance: RMSE / mean(y) "
   ]
  },
  {
   "cell_type": "markdown",
   "id": "082f09b8",
   "metadata": {},
   "source": [
    "NOTE we also do this on the holdout set."
   ]
  },
  {
   "cell_type": "code",
   "execution_count": 95,
   "id": "0e3b0ab1",
   "metadata": {},
   "outputs": [],
   "source": [
    "data_holdout_w_prediction = data_holdout.assign(\n",
    "    predicted_price=rf_best_pipeline.predict(data_holdout[predictors_2])\n",
    ")"
   ]
  },
  {
   "cell_type": "markdown",
   "id": "49ce7771",
   "metadata": {},
   "source": [
    "create nice summary table of heterogeneity"
   ]
  },
  {
   "cell_type": "code",
   "execution_count": 96,
   "id": "68750f57",
   "metadata": {},
   "outputs": [],
   "source": [
    "def calculate_rmse(groupby_obj):\n",
    "    return (\n",
    "        groupby_obj.apply(\n",
    "            lambda x: mean_squared_error(x.predicted_price, x.price, squared=False),\n",
    "        )\n",
    "        .to_frame(name=\"rmse\")\n",
    "        .assign(mean_price=groupby_obj.apply(lambda x: np.mean(x.price)).values)\n",
    "        .assign(rmse_norm=lambda x: x.rmse / x.mean_price)\n",
    "        .round(2)\n",
    "    )"
   ]
  },
  {
   "cell_type": "code",
   "execution_count": 97,
   "id": "af4c8411",
   "metadata": {},
   "outputs": [],
   "source": [
    "# cheaper or more expensive flats - not used in book\n",
    "grouped_object = data_holdout_w_prediction.assign(\n",
    "    is_low_size=lambda x: np.where(x.n_accommodates <= 3, \"small apt\", \"large apt\")\n",
    ").groupby(\"is_low_size\")\n",
    "accom_subset = calculate_rmse(grouped_object)"
   ]
  },
  {
   "cell_type": "code",
   "execution_count": 98,
   "id": "7b4add0a",
   "metadata": {},
   "outputs": [],
   "source": [
    "grouped_object = data_holdout_w_prediction.loc[\n",
    "    lambda x: x.f_property_type.isin([\"Entire rental unit\",\n",
    "                                      \"Entire condominium (condo)\",\n",
    "                                      \"Entire loft\",\n",
    "                                      \"Entire serviced apartment\"])\n",
    "].groupby(\"f_property_type\")\n",
    "proptype_subset = calculate_rmse(grouped_object)"
   ]
  },
  {
   "cell_type": "code",
   "execution_count": 99,
   "id": "e3ea1c34",
   "metadata": {},
   "outputs": [],
   "source": [
    "all_holdout = (\n",
    "    pd.DataFrame(\n",
    "        [\n",
    "            mean_squared_error(\n",
    "                data_holdout_w_prediction.price,\n",
    "                data_holdout_w_prediction.predicted_price,\n",
    "                squared=False,\n",
    "            ),\n",
    "            data_holdout_w_prediction.price.mean(),\n",
    "        ],\n",
    "        index=[\"rmse\", \"mean_price\"],\n",
    "    )\n",
    "    .T.assign(rmse_norm=lambda x: x.rmse / x.mean_price)\n",
    "    .round(2)\n",
    ")\n",
    "all_holdout.index = [\"All\"]"
   ]
  },
  {
   "cell_type": "code",
   "execution_count": 100,
   "id": "7d10030a",
   "metadata": {},
   "outputs": [],
   "source": [
    "type_rows = pd.DataFrame(\n",
    "    None,\n",
    "    index=[\"Apartment size\", \"Type\"],\n",
    "    columns=[\"rmse\", \"mean_price\", \"rmse_norm\"],\n",
    ").fillna(\"\")"
   ]
  },
  {
   "cell_type": "code",
   "execution_count": 101,
   "id": "cc3b99d2",
   "metadata": {
    "scrolled": true
   },
   "outputs": [
    {
     "data": {
      "text/html": [
       "<div>\n",
       "<style scoped>\n",
       "    .dataframe tbody tr th:only-of-type {\n",
       "        vertical-align: middle;\n",
       "    }\n",
       "\n",
       "    .dataframe tbody tr th {\n",
       "        vertical-align: top;\n",
       "    }\n",
       "\n",
       "    .dataframe thead th {\n",
       "        text-align: right;\n",
       "    }\n",
       "</style>\n",
       "<table border=\"1\" class=\"dataframe\">\n",
       "  <thead>\n",
       "    <tr style=\"text-align: right;\">\n",
       "      <th></th>\n",
       "      <th>rmse</th>\n",
       "      <th>mean_price</th>\n",
       "      <th>rmse_norm</th>\n",
       "    </tr>\n",
       "  </thead>\n",
       "  <tbody>\n",
       "    <tr>\n",
       "      <th>Apartment size</th>\n",
       "      <td></td>\n",
       "      <td></td>\n",
       "      <td></td>\n",
       "    </tr>\n",
       "    <tr>\n",
       "      <th>large apt</th>\n",
       "      <td>3793.78</td>\n",
       "      <td>934.97</td>\n",
       "      <td>4.06</td>\n",
       "    </tr>\n",
       "    <tr>\n",
       "      <th>small apt</th>\n",
       "      <td>1183.06</td>\n",
       "      <td>485.88</td>\n",
       "      <td>2.43</td>\n",
       "    </tr>\n",
       "    <tr>\n",
       "      <th>Type</th>\n",
       "      <td></td>\n",
       "      <td></td>\n",
       "      <td></td>\n",
       "    </tr>\n",
       "    <tr>\n",
       "      <th>Entire condominium (condo)</th>\n",
       "      <td>733.99</td>\n",
       "      <td>479.53</td>\n",
       "      <td>1.53</td>\n",
       "    </tr>\n",
       "    <tr>\n",
       "      <th>Entire loft</th>\n",
       "      <td>2136.82</td>\n",
       "      <td>618.01</td>\n",
       "      <td>3.46</td>\n",
       "    </tr>\n",
       "    <tr>\n",
       "      <th>Entire rental unit</th>\n",
       "      <td>2827.72</td>\n",
       "      <td>678.52</td>\n",
       "      <td>4.17</td>\n",
       "    </tr>\n",
       "    <tr>\n",
       "      <th>Entire serviced apartment</th>\n",
       "      <td>1779.85</td>\n",
       "      <td>686.03</td>\n",
       "      <td>2.59</td>\n",
       "    </tr>\n",
       "    <tr>\n",
       "      <th>All</th>\n",
       "      <td>2445.64</td>\n",
       "      <td>644.24</td>\n",
       "      <td>3.8</td>\n",
       "    </tr>\n",
       "  </tbody>\n",
       "</table>\n",
       "</div>"
      ],
      "text/plain": [
       "                               rmse mean_price rmse_norm\n",
       "Apartment size                                          \n",
       "large apt                   3793.78     934.97      4.06\n",
       "small apt                   1183.06     485.88      2.43\n",
       "Type                                                    \n",
       "Entire condominium (condo)   733.99     479.53      1.53\n",
       "Entire loft                 2136.82     618.01      3.46\n",
       "Entire rental unit          2827.72     678.52      4.17\n",
       "Entire serviced apartment   1779.85     686.03      2.59\n",
       "All                         2445.64     644.24       3.8"
      ]
     },
     "execution_count": 101,
     "metadata": {},
     "output_type": "execute_result"
    }
   ],
   "source": [
    "pd.concat(\n",
    "    [\n",
    "        type_rows.iloc[[0]],\n",
    "        accom_subset,\n",
    "        type_rows.iloc[[1]],\n",
    "        proptype_subset,\n",
    "        all_holdout,\n",
    "    ]\n",
    ")"
   ]
  },
  {
   "cell_type": "markdown",
   "id": "f7b2687b",
   "metadata": {},
   "source": [
    "This diagnostic work concludes that price prediction is better for small condominiums than for large condominiums, and among the different property types, the Entire condominium has the best price prediction."
   ]
  }
 ],
 "metadata": {
  "kernelspec": {
   "display_name": "Python 3 (ipykernel)",
   "language": "python",
   "name": "python3"
  },
  "language_info": {
   "codemirror_mode": {
    "name": "ipython",
    "version": 3
   },
   "file_extension": ".py",
   "mimetype": "text/x-python",
   "name": "python",
   "nbconvert_exporter": "python",
   "pygments_lexer": "ipython3",
   "version": "3.9.7"
  }
 },
 "nbformat": 4,
 "nbformat_minor": 5
}
